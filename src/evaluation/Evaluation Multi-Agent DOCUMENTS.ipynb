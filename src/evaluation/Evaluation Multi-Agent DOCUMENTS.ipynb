{
 "cells": [
  {
   "cell_type": "markdown",
   "metadata": {
    "application/vnd.databricks.v1+cell": {
     "cellMetadata": {},
     "inputWidgets": {},
     "nuid": "26723a57-f2f3-4ae1-99cd-e74f4d880956",
     "showTitle": false,
     "tableResultSettingsMap": {},
     "title": ""
    }
   },
   "source": [
    "# Evaluation Of the Multi-Agent"
   ]
  },
  {
   "cell_type": "markdown",
   "metadata": {
    "application/vnd.databricks.v1+cell": {
     "cellMetadata": {},
     "inputWidgets": {},
     "nuid": "6661a257-da8b-49c3-923d-75c2c30fc3bf",
     "showTitle": false,
     "tableResultSettingsMap": {},
     "title": ""
    }
   },
   "source": [
    "## Documentació startups"
   ]
  },
  {
   "cell_type": "markdown",
   "metadata": {
    "application/vnd.databricks.v1+cell": {
     "cellMetadata": {},
     "inputWidgets": {},
     "nuid": "74803734-a389-426c-8d3b-32bf84efc5ae",
     "showTitle": false,
     "tableResultSettingsMap": {},
     "title": ""
    }
   },
   "source": [
    "### Create a Synthetic Evaluation Dataset"
   ]
  },
  {
   "cell_type": "markdown",
   "metadata": {
    "application/vnd.databricks.v1+cell": {
     "cellMetadata": {},
     "inputWidgets": {},
     "nuid": "cdc79e06-27b9-4035-8902-b96328d2bc42",
     "showTitle": false,
     "tableResultSettingsMap": {},
     "title": ""
    }
   },
   "source": [
    "Synthetically generate a high-quality evaluation set for measuring the quality of your agent.  The method``generate_evals_df`` part of the ``databricks-agents`` Python package. (Retrival evaluation!)\n",
    "\n",
    "The input dataframe :\n",
    "\n",
    "- ``content``: The parsed document content as a string.\n",
    "- ``doc_uri`` : The document URI.\n",
    "\n",
    "Additional parameters:\n",
    "\n",
    "- ``num_evals`` The total number of evaluations to generate across all of the documents. \n",
    "- ``agent_description`` A task description of the agent\n",
    "- ``question_guidelines``: A set of guidelines that help guide the synthetic question generation. This is a free-form string that will be used to prompt the generation. \n",
    "\n",
    "The output: \n",
    "- ``request_id``: A unique request id.\n",
    "- ``request``: The synthesized request.\n",
    "- ``expected_facts``: A list of expected facts in the response. This column has dtype list[string].\n",
    "- ``expected_retrieved_context``: The context this evaluation has been synthesized from, including the document content and the doc_uri."
   ]
  },
  {
   "cell_type": "code",
   "execution_count": 0,
   "metadata": {
    "application/vnd.databricks.v1+cell": {
     "cellMetadata": {
      "byteLimit": 2048000,
      "rowLimit": 10000
     },
     "inputWidgets": {},
     "nuid": "9d1a49eb-3cd8-4912-8edd-f6d260620fdd",
     "showTitle": false,
     "tableResultSettingsMap": {},
     "title": ""
    }
   },
   "outputs": [],
   "source": [
    "%pip install mlflow mlflow[databricks] databricks-agents\n",
    "dbutils.library.restartPython()"
   ]
  },
  {
   "cell_type": "code",
   "execution_count": 0,
   "metadata": {
    "application/vnd.databricks.v1+cell": {
     "cellMetadata": {
      "byteLimit": 2048000,
      "rowLimit": 10000
     },
     "inputWidgets": {},
     "nuid": "05273aaf-21f5-4615-9abb-890cbd3ead91",
     "showTitle": false,
     "tableResultSettingsMap": {},
     "title": ""
    }
   },
   "outputs": [
    {
     "output_type": "display_data",
     "data": {
      "application/vnd.jupyter.widget-view+json": {
       "model_id": "ae66552f1c1d447e84fa6d0243b549b5",
       "version_major": 2,
       "version_minor": 0
      },
      "text/plain": [
       "Generating evaluations:   0%|          | 0/50 evals generated [Elapsed: 00:00, Remaining: ?]"
      ]
     },
     "metadata": {},
     "output_type": "display_data"
    },
    {
     "output_type": "display_data",
     "data": {
      "text/html": [
       "<style scoped>\n",
       "  .table-result-container {\n",
       "    max-height: 300px;\n",
       "    overflow: auto;\n",
       "  }\n",
       "  table, th, td {\n",
       "    border: 1px solid black;\n",
       "    border-collapse: collapse;\n",
       "  }\n",
       "  th, td {\n",
       "    padding: 5px;\n",
       "  }\n",
       "  th {\n",
       "    text-align: left;\n",
       "  }\n",
       "</style><div class='table-result-container'><table class='table-result'><thead style='background-color: white'><tr><th>request_id</th><th>request</th><th>expected_retrieved_context</th><th>expected_facts</th><th>source_type</th><th>source_id</th></tr></thead><tbody><tr><td>b4378da7d11e09b83e2ded7eaa9c98c9a85d9f85c2f9be5ee9da3479632d15c0</td><td>List(List(List(Què és el lísing o arrendament financer i per a què s’utilitza principalment?, user)))</td><td>List(List(1. Lísing o arrendament financer\n",
       "\n",
       "**Definició**\n",
       "\n",
       "Cessió dels drets d’utilització d’un bé moble o immoble per part d’una societat de\n",
       "lísing (empresa que es coneix com a propietària) a una altra empresa (empresa\n",
       "contractant), durant un període de temps pactat a canvi del pagament d’una quota\n",
       "d’arrendament, amb la particularitat que l’empresa contractant podrà optar per la\n",
       "compra del bé al final del termini pactat.\n",
       "\n",
       "**Característiques:**\n",
       "\n",
       "**■** Instrument financer adequat per obtenir finançament a mig i llarg termini per a\n",
       "l’adquisició de béns materials de les empreses., /Volumes/dts_proves_pre/startups_documentacio/documentacio/Glossari-dinstruments-financers_Annex-1_tcm124-103473.pdf))</td><td>List(Financial leasing involves the transfer of usage rights of a movable or immovable asset from a leasing company to a business., The lease term is for an agreed period of time in exchange for rental payments., There is an option to purchase the asset at the end of the lease term., Primarily used as a financial instrument for medium- and long-term financing to acquire physical assets for businesses.)</td><td>SYNTHETIC_FROM_DOC</td><td>/Volumes/dts_proves_pre/startups_documentacio/documentacio/Glossari-dinstruments-financers_Annex-1_tcm124-103473.pdf</td></tr><tr><td>fd82a81f55a9d8a2722c3ce24b850a7538ac91046b135d47c0ff3f77fae0a9d2</td><td>List(List(List(Quins són els avantatges i inconvenients del lísing o arrendament financer per a una empresa?, user)))</td><td>List(List(**Avantatges:**\n",
       "\n",
       "**■** S'aconsegueix una amortització accelerada del bé a gust de l'empresa.\n",
       "\n",
       "**■** Permet el finançament del 100% del bé, tot i que també es pot donar a\n",
       "percentatges de finançament inferiors.\n",
       "\n",
       "**■** És útil per a empreses molt solvents i/o usuàries de béns tecnològics.\n",
       "\n",
       "**■** Fiscalment, permet deduir pràcticament la totalitat de les quotes\n",
       "d’arrendament financer meritades, amb certs límits establerts.\n",
       "\n",
       "**■** No és necessari fer un desembors inicial de recursos propis i, per tant,\n",
       "permet a l’empresa gaudir d’una major liquiditat. (tot i que en certes\n",
       "operacions pot no ser així).\n",
       "\n",
       "**■** Al final, mitjançant el pagament d'un valor residual prefixat en el\n",
       "contracte, es pot adquirir la propietat del bé.\n",
       "\n",
       "**Inconvenients:**\n",
       "\n",
       "**■** La durada del contracte d’arrendament financer és irrevocable.\n",
       "\n",
       "**■** En general és un producte menys flexible que un préstec., /Volumes/dts_proves_pre/startups_documentacio/documentacio/Glossari-dinstruments-financers_Annex-1_tcm124-103473.pdf))</td><td>List(leasing allows accelerated depreciation of the asset, leasing enables 100% financing of the asset, leasing is suitable for very solvent companies or technology users, significant tax deductions on leasing fees are possible within certain limits, no initial cash outlay required, providing greater liquidity, possibility to acquire ownership of the asset by paying a pre-agreed residual value at the end of the contract, the leasing contract duration is irrevocable, leasing is less flexible than a loan)</td><td>SYNTHETIC_FROM_DOC</td><td>/Volumes/dts_proves_pre/startups_documentacio/documentacio/Glossari-dinstruments-financers_Annex-1_tcm124-103473.pdf</td></tr><tr><td>a34deecc53dde40b2ac619926d0c5a976c0b940bb390b30e3942c1e9efaabe0c</td><td>List(List(List(Què és el rènting i quines característiques té principalment?, user)))</td><td>List(List(2. Rènting\n",
       "\n",
       "**Definició**\n",
       "\n",
       "Contracte mercantil bilateral pel qual una de les parts, la societat de rènting, s'obliga a\n",
       "cedir a una altra empresa l'ús d'un bé durant un temps determinat, a canvi del\n",
       "pagament d'una quota periòdica d’arrendament.\n",
       "\n",
       "**Característiques:**\n",
       "\n",
       "**■** S’utilitza per llogar tot tipus de maquinària, equips informàtics, equipament\n",
       "d’oficines i fins i tot immobles.\n",
       "\n",
       "**■** El pagament de la renda inclou el dret a l'ús de l'equip, el manteniment i les\n",
       "reparacions del bé durant el termini de l’operació, així com d’altres despeses\n",
       "relacionades amb la seva utilització.\n",
       "\n",
       "**■** No permet, al seu venciment, l’opció d’adquisició del bé per part de l’empresa., /Volumes/dts_proves_pre/startups_documentacio/documentacio/Glossari-dinstruments-financers_Annex-1_tcm124-103473.pdf))</td><td>List(Renting is a bilateral commercial contract., One company allows another company to use an asset for a specified period., The user company pays periodic rental payments., It is used to rent machinery, computer equipment, office equipment, and real estate., The rental payment includes use of the equipment, maintenance, repairs, and other related expenses., There is no option for the user company to purchase the asset at the end of the term.)</td><td>SYNTHETIC_FROM_DOC</td><td>/Volumes/dts_proves_pre/startups_documentacio/documentacio/Glossari-dinstruments-financers_Annex-1_tcm124-103473.pdf</td></tr><tr><td>ae9f323a7dda683bfa94d1857f859b434affccb884f8324e1fd2d20a498885ff</td><td>List(List(List(Quins tipus d’instruments financers es detallen en el glossari?, user)))</td><td>List(List(Sumari\n",
       "\n",
       " 1. Lísing o arrendament financer\n",
       "\n",
       " 2. Rènting\n",
       "\n",
       " 3. Facturatge\n",
       "\n",
       " 4. Confirmació\n",
       "\n",
       " 5. Forfetatge\n",
       "\n",
       " 6. Capital de risc\n",
       "\n",
       " 7. Présctec participatiu\n",
       "\n",
       " 8. Préstec\n",
       "\n",
       " 9. Crèdit, /Volumes/dts_proves_pre/startups_documentacio/documentacio/Glossari-dinstruments-financers_Annex-1_tcm124-103473.pdf))</td><td>List(The answer should include a list of financial instruments detailed in the glossary., The financial instruments listed should include: Leasing or financial lease, renting, factoring, confirmation, forfaiting, venture capital, participative loan, loan, credit.)</td><td>SYNTHETIC_FROM_DOC</td><td>/Volumes/dts_proves_pre/startups_documentacio/documentacio/Glossari-dinstruments-financers_Annex-1_tcm124-103473.pdf</td></tr><tr><td>5ab59b37f94bade137d34c791b56d7ce2f04e642ca66b48290a7d57ee429ded6</td><td>List(List(List(Com va utilitzar Airbnb el Design Thinking per transformar el seu negoci?, user)))</td><td>List(List(Un dels casos d’èxit més coneguts és el de l’empresa d’allotjaments turístics Airbnb. El 2009, poc després de crear la start-up, els seus fundadors es van adonar que el model de negoci no estava funcionant. Analitzant la plataforma, van detectar un patró: la similitud entre tots els anuncis d’allotjaments oferts es trobava en les fotografies de baixa qualitat que publicaven els propietaris. Això els va posar a la pell dels clients i els va fer entendre per què no estaven llogant les habitacions.\n",
       "\n",
       "Un dels seus fundadors, Joe Gebbia, coneixia el Design Thinking i el va voler posar en pràctica. Després de detectar el problema, van viatjar a Nova York per visitar els allotjaments amb mentalitat de client, i fer-ne millors fotografies. La facturació de l’empresa va començar a augmentar poc després. Això va canviar la filosofia de la companyia, que va entendre que el codi no ho era tot i que sortir a conèixer clients reals seria, gairebé sempre, la millor manera de resoldre els seus problemes i trobar solucions intel·ligents., /Volumes/dts_proves_pre/startups_documentacio/documentacio/Design-thinking_accessible.pdf))</td><td>List(Airbnb used empathy to identify issues faced by customers., They identified low-quality photos as a significant issue., To address this, Airbnb took action by improving photos, specifically traveling to New York., The result of these actions was an improved customer experience and increased revenue., This initiative led to a shift in Airbnb's company philosophy to engage directly with customers for problem-solving.)</td><td>SYNTHETIC_FROM_DOC</td><td>/Volumes/dts_proves_pre/startups_documentacio/documentacio/Design-thinking_accessible.pdf</td></tr><tr><td>c7fce77d764ae207f4be0b1dfe843221dce0e9a061be1d8a71d3cebabbbb5517</td><td>List(List(List(Quins són els beneficis del Design Thinking per a una startup?, user)))</td><td>List(List(Aquesta metodologia té diversos beneficis:\n",
       "\n",
       "-  Centra l’atenció en el públic i genera empatia, ja que es basa a identificar problemes, necessitats i desitjos reals per crear solucions. La interacció amb el públic, i la seva satisfacció, són la clau de l’èxit.\n",
       "\n",
       "-  Fomenta el treball en equip i permet que cada individu aporti les seves capacitats en la creació d’una idea única.\n",
       "\n",
       "-  Permet crear prototips, ja que és imprescindible validar qualsevol idea abans de consolidar-la al mercat. Això contribueix a identificar i solucionar errors i t’ajudarà a garantir que el negoci ofereix una solució real.\n",
       "\n",
       "-  Promou un procés lúdic. L’objectiu de la metodologia és gaudir del camí i explotar el teu potencial amb el màxim de llibertat creativa., /Volumes/dts_proves_pre/startups_documentacio/documentacio/Design-thinking_accessible.pdf))</td><td>List(Generates empathy by focusing on real audience problems and needs, Fosters teamwork to leverage individual capabilities, Creates prototypes to validate ideas and identify errors, Promotes a playful and creative process that encourages innovation)</td><td>SYNTHETIC_FROM_DOC</td><td>/Volumes/dts_proves_pre/startups_documentacio/documentacio/Design-thinking_accessible.pdf</td></tr><tr><td>5c0368d4accba711443c595851ad47f706b99239713779de814df31bf4e7225e</td><td>List(List(List(Què és el Design Thinking i quin és el seu origen?, user)))</td><td>List(List(El Design Thinking s’inspira en la forma de treballar dels dissenyadors i dissenyadores de producte per entendre i donar solució a les necessitats reals del públic a través de la innovació. Tot i que el concepte el va utilitzar per primera vegada Herbert Simon, Premi Nobel d’Economia, l’any 1969, va ser durant els anys 70 que es va desenvolupar de forma teòrica a la Universitat de Standford. Un dels seus professors, David Kelley, va fundar la firma de disseny IDEO, pionera a aplicar la metodologia a l’entorn empresarial.\n",
       "\n",
       "El president executiu d’IDEO, Tim Brown, defineix el Design Thinking com “un enfocament de la innovació centrat en l’ésser humà, que es basa en el conjunt d’eines del dissenyador per integrar les necessitats de les persones, les possibilitats de la tecnologia i els requisits per a l’èxit empresarial”. És en la confluència d’aquests tres factors que s’origina la innovació i, com a conseqüència, l’emprenedoria. Per IDEO, “el Design Thinking és una manera de resoldre problemes mitjançant la creativitat (...). Adoptem una ment de principiant, amb la intenció de romandre oberts i curiosos, de no assumir res i de veure l’ambigüitat com una oportunitat”., /Volumes/dts_proves_pre/startups_documentacio/documentacio/Design-thinking_accessible.pdf))</td><td>List(Design Thinking is a human-centered approach to innovation., Design Thinking integrates the needs of people, possibilities of technology, and requirements for business success., Design Thinking originated with Herbert Simon in 1969., Design Thinking was further developed at Stanford University in the 1970s., David Kelley, founder of IDEO, made significant contributions to the development of Design Thinking.)</td><td>SYNTHETIC_FROM_DOC</td><td>/Volumes/dts_proves_pre/startups_documentacio/documentacio/Design-thinking_accessible.pdf</td></tr><tr><td>cd134ddeb6aa8c148670826e26ceb31b56f09ec52d0452c7700d402e9395c8e2</td><td>List(List(List(Quins són els avantatges del finançament via fintech per a les startups?, user)))</td><td>List(List(Les _fintech_ ofereixen a les persones emprenedores i pimes diverses modalitats de finançament a través de plataformes digitals, que funcionen de manera àgil i flexible gràcies als beneficis tecnològics. Aquestes plataformes faciliten el registre i la sol·licitud del finançament necessari a les empreses i ofereixen temps d'aprovació i d’entrega de capital més ràpids i eficients. A més a més, han permès democratitzar l’accés als productes financers, fent-los arribar i entendre, de manera senzilla, a un conjunt més ampli i variat de persones usuàries., /Volumes/dts_proves_pre/startups_documentacio/documentacio/Cat-Empren_Fintech_accessible22.pdf))</td><td>List(Fintech provides agile and flexible operations., Fintech offers quicker registration and application processes., Fintech ensures faster approval and capital delivery., Fintech democratizes access to financial products, making them more accessible to startups.)</td><td>SYNTHETIC_FROM_DOC</td><td>/Volumes/dts_proves_pre/startups_documentacio/documentacio/Cat-Empren_Fintech_accessible22.pdf</td></tr><tr><td>9fb762d721df7e83a8a8831b755d2c7637153e00b683d688bff84da2e16b4022</td><td>List(List(List(Què és el fintech i quin és el seu objectiu principal?, user)))</td><td>List(List(El terme _fintech_ prové de la unió de les paraules en anglès _finance_ i _technology_ i fa referència a aquelles activitats que impliquen l’ús de la innovació i la tecnologia en el desenvolupament de productes i serveis financers. Les empreses _fintech_ desgranen el negoci bancari en diverses àrees, conegudes com a “verticals”, i s’especialitzen en una d’elles per maximitzar la seva competitivitat. Ofereixen productes i serveis molt accessibles, atractius i intuïtius, dirigits a un públic nadiu digital que ha crescut en un entorn tecnològic i s’adapta amb rapidesa a aquests nous serveis. El seu objectiu és redefinir la forma d’entendre els serveis financers., /Volumes/dts_proves_pre/startups_documentacio/documentacio/Cat-Empren_Fintech_accessible22.pdf))</td><td>List(Fintech involves the use of innovation and technology., Fintech focuses on developing financial products and services., The primary objective of fintech is to redefine the understanding and delivery of financial services.)</td><td>SYNTHETIC_FROM_DOC</td><td>/Volumes/dts_proves_pre/startups_documentacio/documentacio/Cat-Empren_Fintech_accessible22.pdf</td></tr><tr><td>1b778cd5a3f333cfbcfd94d9dec632b951676cdf2d7260379f9f81eb35d885ce</td><td>List(List(List(Quines són les principals tipologies de finançament a través de les tecnologies financeres i com funcionen?, user)))</td><td>List(List(Existeixen dues tipologies principals de finançament a través de les tecnologies financeres:\n",
       "\n",
       "- **Préstecs** **ràpids en línia** . Algunes _fintech_ ofereixen plataformes online des d’on particulars i empreses poden sol·licitar i rebre préstecs de petits imports, que es concedeixen de manera àgil amb un tipus d’interès estipulat. Aquestes empreses actuen amb una fitxa bancària europea, com les entitats financeres tradicionals, de manera que es regeixen per la mateixa regulació. Poden demanar uns mínims de solvència, entre d’altres indicadors.\n",
       "\n",
       "- **Plataformes de** **_crowdfunding_** **o finançament col·lectiu** . Es tracta d’un punt de trobada entre persones emprenedores amb l’objectiu de desenvolupar un projecte i persones inversores que vulguin finançar propostes del seu interès. Mitjançant les noves tecnologies, es facilita la seva interacció i l’intercanvi de recursos. Les plataformes de _crowdfunding_ tenen un període de temps establert per a la recaptació dels fons necessaris i només es fan arribar a la persona emprenedora si s’assoleix la fita marcada., /Volumes/dts_proves_pre/startups_documentacio/documentacio/Cat-Empren_Fintech_accessible22.pdf))</td><td>List(The main types of financing through financial technologies are fast online loans and crowdfunding platforms., Fast online loans allow individuals and businesses to quickly obtain small loans., These loans have regulated interest rates and possible solvency requirements., Crowdfunding platforms connect entrepreneurs with investors to finance projects., Funds on crowdfunding platforms are transferred only if the financial goal is met within a specified period.)</td><td>SYNTHETIC_FROM_DOC</td><td>/Volumes/dts_proves_pre/startups_documentacio/documentacio/Cat-Empren_Fintech_accessible22.pdf</td></tr><tr><td>1fd5c7963f2dbb4d03efac894bc626317bbd8b2b31b56be5dd998ba8ba7e2952</td><td>List(List(List(Quins avantatges té la inversió d’un business angel per una nova empresa?, user)))</td><td>List(List(## 2. Què és un business angel ?\n",
       "\n",
       "Els _business angels_ són persones que inverteixen el seu capital privat en la creació\n",
       "d’una nova empresa, ajudant principalment a posar-la en marxa i a consolidar-la. Solen\n",
       "invertir en _start-ups_ : projectes en fases inicials, amb un gran potencial de creixement i\n",
       "amb expectatives de benefici. Sovint, no només hi participen amb aquesta inversió de\n",
       "capital, sinó que també aporten coneixement tècnic, experiència en el món empresarial i la seva xarxa de contactes per afavorir el desenvolupament del projecte.\n",
       "Això facilita la relació de l’empresa amb el seu entorn, és a dir, els clients i clientes\n",
       "potencials, empreses competidores, proveïdors, institucions financeres,\n",
       "l’administració...\n",
       "\n",
       "Les aportacions de capital dels _business angels_ solen oscil·lar entre els 25.000 i els\n",
       "300.000 euros aproximadament. Aquesta inversió els converteix en socis de l’empresa,\n",
       "tot i que la seva participació sol ser més aviat minoritària i permet a les persones\n",
       "promotores mantenir el poder de decisió. Per tant, les persones inversores poden tenir\n",
       "un paper més o menys actiu en el dia a dia de l’empresa. És habitual que ofereixin\n",
       "assessoria i suport a l’equip promotor gràcies al seu coneixement del sector. Solen\n",
       "romandre a l’empresa entre 3 i 5 anys, tot i que pot ser més temps, i normalment es\n",
       "desvinculen de la companyia venent les seves participacions quan aquesta assoleix una\n",
       "fase de maduresa., /Volumes/dts_proves_pre/startups_documentacio/documentacio/Cat-Empren_Inversions_accessible22.pdf))</td><td>List(Provides substantial financial capital, Provides technical knowledge, Offers business experience, Offers valuable networking opportunities, Provides support and advisory services, Allows founders to maintain decision-making power)</td><td>SYNTHETIC_FROM_DOC</td><td>/Volumes/dts_proves_pre/startups_documentacio/documentacio/Cat-Empren_Inversions_accessible22.pdf</td></tr><tr><td>436b9058374abfa8f727ea7fb938d288a5c4afa671651bb367b010cf57907974</td><td>List(List(List(Què hauries de tenir preparat abans de contactar amb una xarxa de business angels?, user)))</td><td>List(List(## 3. Com connectar amb business angels ?\n",
       "\n",
       "Tot i que els _business angels_ actuen de manera individual, acostumen a organitzar-se a\n",
       "través de xarxes. Les xarxes de _business angels_ posen en contacte persones inversores\n",
       "amb empreses que cerquen finançament. Analitzen els projectes empresarials, els\n",
       "filtren i seleccionen i els fan arribar als _business angels_ en funció dels seus interessos o\n",
       "dels sectors que dominen. També poden participar en les empreses de manera\n",
       "conjunta.\n",
       "\n",
       "Aquestes xarxes són una via interessant per accedir a inversors i inversores. Abans de\n",
       "contactar-hi, hauràs de preparar una bona presentació del teu projecte, mitjançant el\n",
       "pla d’empresa i un informe de viabilitat d’alguna entitat acreditada. Les persones\n",
       "inversores busquen projectes atractius, viables, fonamentats en estudis de mercat i\n",
       "caracteritzats per un avantatge competitiu o tret diferenciador que els faci destacar de\n",
       "la competència. També tenen en consideració l’equip humà del projecte, ja que és qui\n",
       "s’encarrega de fer-lo factible., /Volumes/dts_proves_pre/startups_documentacio/documentacio/Cat-Empren_Inversions_accessible22.pdf))</td><td>List(a good project presentation should be ready, a detailed business plan should be prepared, a feasibility report from an accredited entity should be available, the project should be attractive, viable, based on market studies, and have a competitive advantage, the project should have a strong team)</td><td>SYNTHETIC_FROM_DOC</td><td>/Volumes/dts_proves_pre/startups_documentacio/documentacio/Cat-Empren_Inversions_accessible22.pdf</td></tr><tr><td>fdc280f1659fc41d4fe71f9437cddd79830de1ac4ff2de910e70e8e6935f2942</td><td>List(List(List(Què és el capital risc i quins tipus de projectes empresarials solen finançar les seves societats?, user)))</td><td>List(List(## 4. En què consisteix el capital risc?\n",
       "\n",
       "El capital risc es basa a invertir capital financer en petites i mitjanes empreses a canvi\n",
       "de participacions temporals. Aquesta activitat la duen a terme societats gestionades\n",
       "per persones expertes i amb una base d’inversors i inversores darrere, que financen\n",
       "start-ups en procés de creixement o reestructuració. Solen ser projectes empresarials\n",
       "innovadors, de sectors dinàmics i amb bones previsions de beneficis en 5 o 10 anys, ja\n",
       "que aquestes societats busquen poder obtenir una important plusvàlua amb la venda\n",
       "de les seves participacions a mitjà o llarg termini.\n",
       "\n",
       "L’aportació de les societats de capital risc depèn de les dimensions del projecte. En\n",
       "empreses petites en fases inicials, la inversió sol ser d’entre 300.000 i 1.000.000\n",
       "d’euros, mentre que en empreses mitjanes més consolidades pot arribar als 10\n",
       "milions. Acostumen a entrar a la companyia passada la fase llavor, en l’etapa de\n",
       "creixement, quan el negoci ja ha entrat al mercat però necessita una inversió\n",
       "important per escalar. Tot i així, també hi ha fons de capital risc especialitzats en _startups_ en fases inicials. La seva participació no aporta tant de coneixement a la persona\n",
       "emprenedora com la del _business angel_ , però sí solvència i credibilitat davant de\n",
       "tercers. En algunes ocasions poden contribuir a la gestió amb assessorament, per\n",
       "exemple, en la presa de decisions estratègiques., /Volumes/dts_proves_pre/startups_documentacio/documentacio/Cat-Empren_Inversions_accessible22.pdf))</td><td>List(Venture capital involves investing financial capital in small and medium-sized enterprises in exchange for temporary participations (stakes)., Venture capital firms typically finance innovative and dynamic business projects with good profit forecasts over 5 to 10 years., These projects are commonly in growth phases, but also in some initial phases.)</td><td>SYNTHETIC_FROM_DOC</td><td>/Volumes/dts_proves_pre/startups_documentacio/documentacio/Cat-Empren_Inversions_accessible22.pdf</td></tr><tr><td>c60326f9fea28256b3a7a5e4641292f6d062a60075264474c49ed7b46156a438</td><td>List(List(List(Quins són els passos per aplicar la metodologia Lean Startup a una idea de negoci?, user)))</td><td>List(List(## 4. Passos per aplicar el Lean Startup al teu negoci\n",
       "\n",
       "Els passos fonamentals per validar la teva idea de negoci amb el Lean Startup són:\n",
       "\n",
       "-  **Formular una hipòtesi** : el primer pas es troba en la teva idea inicial i en la teva\n",
       "\n",
       "capacitat d’innovar a partir de les oportunitats que ofereixi el mercat. Has\n",
       "d’establir quina necessitat cobrirà el teu negoci i crear una proposta de valor\n",
       "que la resolgui. Aquesta serà la teva hipòtesi. Entrevistar uns quants clients\n",
       "potencials et pot ajudar a identificar les seves preocupacions i també a saber si\n",
       "la teva solució els encaixa o l’has de modificar.\n",
       "\n",
       "-  **Crear** : en aquest punt ja hauràs de desenvolupar un prototip de la teva idea de\n",
       "\n",
       "negoci. Serà l’anomenat Producte Mínim Viable, una versió que inclou les\n",
       "característiques bàsiques del producte per presentar-lo als teus clients\n",
       "potencials, obtenir les seves primeres valoracions i recopilar dades reals sobre\n",
       "la seva percepció del negoci. Te’n parlem més detalladament al punt 5 d’aquest\n",
       "article, ja que és un concepte molt important. Aquí començarà el teu procés\n",
       "d’aprenentatge i podràs aplicar els canvis que consideris per optimitzar el\n",
       "producte.\n",
       "\n",
       "-  **Mesurar** : per poder continuar amb el procés d’innovació, necessitaràs mesurar\n",
       "\n",
       "el teu progrés. Hauràs de definir els indicadors clau de rendiment o KPI per\n",
       "mesurar si estàs complint els objectius del projecte i tenir una referència sobre\n",
       "el rendiment de les teves accions. Com et troben les persones usuàries?\n",
       "Tornen, després de la primera experiència? Realitzen l’acció que tu esperes?\n",
       "\n",
       "Cada projecte requereix unes mètriques diferents, en funció del que necessitis\n",
       "saber per poder prendre les decisions següents. És el que Eric Ries anomena\n",
       "“comptabilitat de la innovació”.\n",
       "\n",
       "-  **Aprendre** : totes aquestes dades et proporcionaran coneixement del mercat i la\n",
       "\n",
       "competència, del teu públic objectiu, de la percepció del teu producte i d’altres\n",
       "factors com el preu o la distribució. Hauràs de transformar tota aquesta\n",
       "informació real en aprenentatge i incorporar-la al teu negoci. Steve Blank\n",
       "anomena aquest procés “pivotar”: “No només és canviar el producte. Pot ser\n",
       "un canvi substancial en qualsevol dels 9 components del model de negoci: el\n",
       "segment de clients, el canal, el model d’ingressos, els recursos (...)”, explica.\n",
       "\n",
       "-  **Repetir** : si ho consideres, pots posar en marxa de nou el procés per identificar\n",
       "\n",
       "noves oportunitats de millora. La metodologia es basa en la innovació\n",
       "continuada, i reiterar el mètode et proporcionarà cada vegada informació més\n",
       "precisa., /Volumes/dts_proves_pre/startups_documentacio/documentacio/Lean-Startup_accessible22.pdf))</td><td>List(Formulate a hypothesis., Create., Measure., Learn., Repeat.)</td><td>SYNTHETIC_FROM_DOC</td><td>/Volumes/dts_proves_pre/startups_documentacio/documentacio/Lean-Startup_accessible22.pdf</td></tr><tr><td>54b9819225d814767fdb791e37a36d02d2306dfaf6fe9aef40cff6e255297461</td><td>List(List(List(Quins són els avantatges de la metodologia Lean Startup?, user)))</td><td>List(List(## 2. Què és el Lean Startup\n",
       "\n",
       "Una manera interessant de validar la idea de negoci és adaptant-la a allò que el mercat\n",
       "demanda i no a la teva pròpia visió. D’aquesta premissa neix el Lean Startup, una\n",
       "metodologia creada per Steve Blank, emprenedor de Silicon Valley, i més tard\n",
       "desenvolupada per Eric Ries en el seu llibre _El método Lean Startup_ l’any 2008. El Lean\n",
       "Startup busca canviar la fórmula tradicional de creació d’una empresa mitjançant la\n",
       "qual es comença creant un pla de negoci, es busca finançament, es desenvolupa el\n",
       "producte i es posen tots els esforços a vendre’l. Només després de tot el procés i la\n",
       "inversió de recursos la persona emprenedora pot obtenir les primeres respostes del\n",
       "públic i descobrir que el seu producte potser no s’adequa a les necessitats del mercat.\n",
       "\n",
       "## 3. Els avantatges d’utilitzar la metodologia\n",
       "\n",
       "El Lean Startup fa molt menys arriscat l’inici de qualsevol projecte emprenedor i\n",
       "millora les seves probabilitats d’èxit a través d’errar ràpid i aprendre contínuament.\n",
       "Permet saber si el projecte té acceptació al mercat, si respon als desitjos del client o si\n",
       "\n",
       "cal donar-li un nou enfocament, amb la mínima inversió de recursos. Alguns dels\n",
       "avantatges d’utilitzar la metodologia són:\n",
       "\n",
       "-  Menys riscos, especialment pel que fa a les grans inversions de diners en les\n",
       "\n",
       "fases inicials d’un projecte, quan encara no se sap si encaixarà al mercat.\n",
       "\n",
       "-  Processos més eficients, ja que té l’objectiu d’aprofitar al màxim possible els\n",
       "\n",
       "recursos i extreure’n tot el valor, evitant perdre temps.\n",
       "\n",
       "-  Més garanties d’èxit, perquè el producte s’ajusta a les necessitats del públic des\n",
       "\n",
       "de les fases inicials del desenvolupament.\n",
       "\n",
       "-  Decisions més oportunes, ja que permet avançar en el camí amb l’ajuda de\n",
       "\n",
       "dades reals i no només de la intuïció o la planificació.\n",
       "\n",
       "-  Desenvolupament pautat i estructurat del model de negoci gràcies als passos\n",
       "\n",
       "que marca la metodologia., /Volumes/dts_proves_pre/startups_documentacio/documentacio/Lean-Startup_accessible22.pdf))</td><td>List(The Lean Startup methodology reduces risk., The Lean Startup methodology makes processes more efficient., The Lean Startup methodology provides higher guarantees of success., The Lean Startup methodology enables more timely decisions., The Lean Startup methodology assists in developing a structured business model.)</td><td>SYNTHETIC_FROM_DOC</td><td>/Volumes/dts_proves_pre/startups_documentacio/documentacio/Lean-Startup_accessible22.pdf</td></tr><tr><td>9be71a1bf48c9ec1d52bd9553d5b5b8788a059a1e01ff2a50e3e3e46765c609a</td><td>List(List(List(Què s'entén per tecnologies exponencials i com poden canviar la societat?, user)))</td><td>List(List(Les tecnologies exponencials són aquelles tecnologies que segueixen una pauta de\n",
       "creixement exponencial i estan transformant de manera molt ràpida i disruptiva certs\n",
       "models de negoci i aportant solucions a diferents problemes de la societat. Les\n",
       "tecnologies exponencials plantegen nous escenaris de futur.\n",
       "\n",
       "Som conscients que la velocitat de la tecnologia és impressionant, fins ara ja hem\n",
       "viscut molts canvis tecnològics, però ens endinsem en un moment on es preveuen\n",
       "més canvis, més disruptius i amb més impacte que prometen reestructurar la manera\n",
       "com produïm, la manera que ens comuniquem, la dinàmica de les nostres relacions\n",
       "personals, o la interacció amb la societat en general., /Volumes/dts_proves_pre/startups_documentacio/documentacio/Tecnologies-exponencials_CAT.pdf))</td><td>List(Exponential technologies grow at an exponential rate., They transform business models and solve societal problems rapidly., They significantly impact production methods, communication, personal relationships, and overall societal interactions.)</td><td>SYNTHETIC_FROM_DOC</td><td>/Volumes/dts_proves_pre/startups_documentacio/documentacio/Tecnologies-exponencials_CAT.pdf</td></tr><tr><td>f2886d80541323246e0978c0277508f8ef242711ff5f202e20cb2ba960f40a34</td><td>List(List(List(Com impacten les tecnologies de la quarta revolució industrial en els models de negoci tradicionals?, user)))</td><td>List(List(La quarta revolució industrial ens explica que hi ha un conjunt de tecnologies que\n",
       "creen un nou paradigma que és totalment diferencial de la revolució digital iniciada\n",
       "els anys seixanta i setanta. El nou paradigma de la quarta revolució industrial es\n",
       "representa amb un conjunt de tecnologies amb alt impacte econòmic i social., /Volumes/dts_proves_pre/startups_documentacio/documentacio/Tecnologies-exponencials_CAT.pdf))</td><td>List(Fourth industrial revolution technologies have a substantial economic and social impact., These technologies likely transform traditional business models., The transformations include increased operational efficiency., The transformations include innovations in products and services., The transformations include changes in market dynamics and consumer expectations.)</td><td>SYNTHETIC_FROM_DOC</td><td>/Volumes/dts_proves_pre/startups_documentacio/documentacio/Tecnologies-exponencials_CAT.pdf</td></tr><tr><td>33262fced23d87525f0b8806953a3eca8d6600dd899e595f51e5e8fc47cddb74</td><td>List(List(List(Quin és l'impacte de les noves xarxes de comunicació 5G i IoT en la fabricació industrial?, user)))</td><td>List(List(Les noves xarxes de comunicació 5G i “IoT”\n",
       "Estàndard de comunicació que permet navegar fins a 100 vegades més ràpid i\n",
       "redueix la latència a menys d'una mil·lèsima de segon, sense dependre que altres\n",
       "dispositius estiguin connectats o no al mateix temps. Tant la Indústria 4.0 com la\n",
       "fàbrica intel·ligent i l'Internet de les Coses (IoT) són el futur de la fabricació industrial., /Volumes/dts_proves_pre/startups_documentacio/documentacio/Tecnologies-exponencials_CAT.pdf))</td><td>List(5G and IoT increase efficiency in industrial manufacturing., 5G and IoT increase responsiveness in industrial manufacturing., 5G and IoT support the development of Industry 4.0 or smart factories.)</td><td>SYNTHETIC_FROM_DOC</td><td>/Volumes/dts_proves_pre/startups_documentacio/documentacio/Tecnologies-exponencials_CAT.pdf</td></tr><tr><td>9570d6f255805e0e21dc8d934f3d759a78971c8851b57769ffa4aa6c44d9722b</td><td>List(List(List(Per què les tecnologies exponencials es consideren utilitzables i pràctiques en diferents sectors?, user)))</td><td>List(List(Les tecnologies exponencials comprenen dues característiques principals:\n",
       "\n",
       "1) Aquelles que segueixen patró de creixement exponencial: en molt poc temps, el preu i la complexitat d'aquest tipus de tecnologies exponencials va disminuint i, alhora, la seva capacitat i nombre d'aplicacions que les aprofiten van creixent de manera exponencial.\n",
       "\n",
       "2) Són utilitzables, pràctiques i assequibles, són capaces de resoldre problemes reals i de diferents sectors., /Volumes/dts_proves_pre/startups_documentacio/documentacio/Tecnologies-exponencials_CAT.pdf))</td><td>List(Exponential technologies solve real problems., Exponential technologies are affordable., Exponential technologies are practical.)</td><td>SYNTHETIC_FROM_DOC</td><td>/Volumes/dts_proves_pre/startups_documentacio/documentacio/Tecnologies-exponencials_CAT.pdf</td></tr><tr><td>3f4d35bdc086ab67196df87282cbd1d3ba00368b5259ea096f84a3a850d7d3b6</td><td>List(List(List(Pots donar-me exemples de tecnologies exponencials que poden transformar la societat en el futur?, user)))</td><td>List(List(A continuació es descriu el llistat de les 23 tecnologies de la quarta revolució\n",
       "industrial, desenvolupat per Klaus Schwab que ens ajuda a reflexionar entorn de la\n",
       "previsió que es fa del 2025., /Volumes/dts_proves_pre/startups_documentacio/documentacio/Tecnologies-exponencials_CAT.pdf))</td><td>List(The context does not provide specific examples of exponential technologies that can transform society in the future.)</td><td>SYNTHETIC_FROM_DOC</td><td>/Volumes/dts_proves_pre/startups_documentacio/documentacio/Tecnologies-exponencials_CAT.pdf</td></tr><tr><td>2a3ee618dae779bba062b9e3956236fbbcbd6d487902bddfc149a0cdaa82dcae</td><td>List(List(List(Com puc generar idees empresarials basades en la meva experiència o habilitats?, user)))</td><td>List(List(“Tot i que les generalitzacions mai són del tot adequades, quan parlem de generació d’idees empresarials existeixen orígens comuns en la majoria dels casos de creació d’una empresa.\n",
       "\n",
       "En la seva majoria, els emprenedors es basen a l’hora de muntar un negoci en el següent:\n",
       "\n",
       "� L’experiència laboral prèvia,\n",
       "\n",
       "� L’anàlisi dels canvis perceptibles en l’entorn,\n",
       "\n",
       "� La seva formació,\n",
       "\n",
       "� La còpia o la importació d’idees vistes a d’altres llocs,\n",
       "\n",
       "� L’aplicació d’habilitats pròpies.\n",
       "\n",
       "En moltes ocasions, la idea de negoci té una finalitat com a font d’origen. Les principals són:\n",
       "\n",
       "� Fer les coses millor que els altres,\n",
       "\n",
       "� Satisfer una necessitat no satisfeta pel mercat,\n",
       "\n",
       "� Ocupar un nínxol petit,\n",
       "\n",
       "� Idear una nova manera de fer.”, /Volumes/dts_proves_pre/startups_documentacio/documentacio/idea_nomes_una_peces_cat_tcm124_44443.pdf))</td><td>List(Analyze your previous work to identify industry gaps or inefficiencies., Apply your unique skills to improve or innovate processes., Consider how your expertise could meet unmet market needs., Explore niche markets where your skills and experience are relevant.)</td><td>SYNTHETIC_FROM_DOC</td><td>/Volumes/dts_proves_pre/startups_documentacio/documentacio/idea_nomes_una_peces_cat_tcm124_44443.pdf</td></tr><tr><td>f66daa973c510a0d99ecbc3fbb88df76b35de17a6b26604d0efebe2e530df550</td><td>List(List(List(Per què és important desenvolupar un pla d’empresa en el procés de creació d’una startup?, user)))</td><td>List(List(“El primer pas en el procés de creació d’una empresa és la generació de la idea de negoci, però aquest pas ha d’estar seguit i recolzat pel desenvolupament d’aquesta idea. Tan o més important és tenir la idea com madurar-la, per tal d’eventualment analitzar la seva viabilitat i les seves possibilitats reals de sobreviure al mercat.\n",
       "\n",
       "L’eina de major ajuda durant el procés de desenvolupament i maduració de la idea és el pla d’empresa. El pla d’empresa com a eina de reflexió interna, com a element que posa en dubte i en constant repte la idea generada, des d’un punt de vista de viabilitat conceptual i economicofinancera. I és que una bona idea o una idea original es convertirà en viable en el moment en què hi hagi una massa crítica suficient disposada a comprar el producte o servei que proposem.”, /Volumes/dts_proves_pre/startups_documentacio/documentacio/idea_nomes_una_peces_cat_tcm124_44443.pdf))</td><td>List(A business plan helps in reflecting on the startup idea internally., A business plan challenges the viability of the startup idea both conceptually and financially., A business plan determines if there is a sufficient market for the proposed product or service.)</td><td>SYNTHETIC_FROM_DOC</td><td>/Volumes/dts_proves_pre/startups_documentacio/documentacio/idea_nomes_una_peces_cat_tcm124_44443.pdf</td></tr><tr><td>3c5b6086981d3cf6d9fcd0f60051e4a00ef912e0c28b5c392b82674f424f50a5</td><td>List(List(List(Quins aspectes fonamentals depenen de la tria de la forma jurídica del teu projecte emprenedor?, user)))</td><td>List(List(Una de les decisions més importants que han de prendre les persones emprenedores a l’hora de tirar endavant el seu projecte emprenedor és la tria de la forma jurídica. D’això en depenen aspectes fonamentals com la gestió empresarial o l’assumpció de responsabilitats dels socis i sòcies. Per prendre aquesta decisió, has de tenir clares algunes característiques de la teva idea de negoci com el capital, el nombre de persones promotores o el tipus d’activitat que duràs a terme. Cada forma jurídica té les seves particularitats i hauràs de triar la que millor s’adapti a les teves necessitats. En aquest article t’expliquem els factors que cal tenir en compte a l’hora d’escollir i les formes jurídiques més interessants per a persones emprenedores., /Volumes/dts_proves_pre/startups_documentacio/documentacio/Cat-Empren_Com-triar-la-forma-juridica_accessible-2022.pdf))</td><td>List(The choice of legal form affects business management., The choice of legal form affects the assumption of responsibilities of the partners.)</td><td>SYNTHETIC_FROM_DOC</td><td>/Volumes/dts_proves_pre/startups_documentacio/documentacio/Cat-Empren_Com-triar-la-forma-juridica_accessible-2022.pdf</td></tr><tr><td>3104d05648734e8c84ebfee8c58667498fc2fd66b544a12273287156425aaca0</td><td>List(List(List(Quins són els aspectes fonamentals que has de definir abans d'escollir la forma jurídica del teu projecte empresarial?, user)))</td><td>List(List(Abans d’escollir, has de definir alguns aspectes fonamentals del teu projecte empresarial com els següents:\n",
       "- El nombre de socis i sòcies. El nombre de persones que participin en la creació del negoci és un factor clau. Pots iniciar l’empresa per compte propi de manera individual, o comptar amb més persones promotores i crear, com és habitual, una forma societària. Algunes formes jurídiques preveuen una sola persona i d’altres exigeixen un nombre mínim de membres. Pot semblar que amb menys socis i sòcies la presa de decisions és menys complexa, però comptar amb altres persones permet repartir el pes de la gestió i les obligacions i aconseguir una major aportació de capital.\n",
       "- El capital inicial. El capital del qual disposis per engegar la teva empresa és un factor important. Algunes formes jurídiques requereixen un capital mínim inicial que cal aportar per començar l’activitat, com és el cas de la societat limitada o anònima. Per algunes altres, com establir-se de persona autònoma, no cal aportar cap capital inicial.\n",
       "- La responsabilitat patrimonial. És el deure que tenen les persones físiques o jurídiques de respondre amb el patrimoni a les seves obligacions. En el cas dels autònoms i autònomes, la llei no distingeix entre l’empresa i la persona, fet que significa que davant d’un deute o problema empresarial, responen amb els seus béns. En el cas d’una societat amb personalitat jurídica, pots tenir responsabilitat limitada i respondre pel capital aportat.\n",
       "- El tipus d’activitat. No totes les activitats empresarials poden establir-se amb qualsevol forma jurídica. Algunes, per les seves característiques o per obligació de la normativa, han d’estar associades a una forma jurídica determinada. En algunes activitats de més risc econòmic, per exemple, s’aconsellen les formes d’empresa amb responsabilitat limitada.\n",
       "- La fiscalitat. Els règims de tributació són un altre dels aspectes a valorar. La persona autònoma tributa per l’impost de la renda de les persones físiques (IRPF), mentre que les societats ho fan per l’impost de societats..., /Volumes/dts_proves_pre/startups_documentacio/documentacio/Cat-Empren_Com-triar-la-forma-juridica_accessible-2022.pdf))</td><td>List(The number of partners, The initial capital, The patrimonial responsibility, The type of activity, The taxation)</td><td>SYNTHETIC_FROM_DOC</td><td>/Volumes/dts_proves_pre/startups_documentacio/documentacio/Cat-Empren_Com-triar-la-forma-juridica_accessible-2022.pdf</td></tr><tr><td>382fb05e24bd0d57894b36fa279068352c78875f8a062640d88ded35cc5d5f2e</td><td>List(List(List(Quines són les diferències principals entre una empresa individual, una societat civil i una societat de responsabilitat limitada?, user)))</td><td>List(List(Et parlem d’algunes de les formes jurídiques que més et poden interessar com a persona emprenedora:\n",
       "- Empresari o empresària individual: també conegut com autònom o autònoma, és una persona física que realitza de forma habitual una activitat econòmica o professional en nom propi. Permet desenvolupar un negoci individualment i assumir-ne tota la gestió. Els tràmits per establir-se com a persona autònoma són els més simples, no hi ha límits de capital ni es requereix un capital inicial mínim. La responsabilitat, però, és il·limitada i això implica respondre amb el patrimoni personal si l’activitat va malament. Paga l’impost de la renda de les persones físiques (IRPF) i no l’impost de societats.\n",
       "- Societat civil: és un contracte privat de col·laboració entre un mínim de dues persones o més que desitgen realitzar una activitat amb ànim de lucre. La societat civil no té personalitat jurídica pròpia. Els tràmits de constitució són àgils: es fa a través d’un contracte on s’especifiquen les aportacions dels socis i sòcies, el percentatge de participació en les pèrdues i els guanys i les causes de liquidació i dissolució. No és obligatori, tot i que és recomanable, fer una escriptura pública davant notari. No s’exigeix un mínim de capital inicial, i es pot aportar diners, béns, treball, serveis o activitat. La responsabilitat dels socis i sòcies és il·limitada i, per tant, responen amb patrimoni personal a les obligacions de l’empresa. Tributa en l’impost de societats i per això ha de portar una comptabilitat similar a la d’una societat limitada.\n",
       "- Societat de responsabilitat limitada: es tracta de la forma jurídica més habitual entre petites i mitjanes empreses, amb poques persones promotores i capital reduït. En aquesta societat, el capital està integrat per les aportacions de tots els socis i sòcies i es divideix en participacions socials, indivisibles i acumulables. Aquestes persones no han de respondre personalment pels deutes, sinó en funció de l’aportació realitzada. El capital social requerit és d’un mínim de 3.000€ i la forma jurídica permet força flexibilitat de gestió i d’organització..., /Volumes/dts_proves_pre/startups_documentacio/documentacio/Cat-Empren_Com-triar-la-forma-juridica_accessible-2022.pdf))</td><td>List(Empresa individual is managed by one person., Societat civil involves a contract between at least two people and has no legal personality., Societat de responsabilitat limitada includes multiple people and has legal personality., Empresa individual and Societat civil have no initial capital requirement., Societat de responsabilitat limitada requires a minimum capital of 3,000€., Empresa individual and Societat civil have unlimited personal liability., Societat de responsabilitat limitada has limited liability., Empresa individual is taxed through IRPF (personal income tax)., Societat civil and Societat de responsabilitat limitada are taxed through corporate tax.)</td><td>SYNTHETIC_FROM_DOC</td><td>/Volumes/dts_proves_pre/startups_documentacio/documentacio/Cat-Empren_Com-triar-la-forma-juridica_accessible-2022.pdf</td></tr><tr><td>93f11d8402027b5bd27c9305e9b3ac9412f39312f24b9e4f39c7aa78a9ebe743</td><td>List(List(List(Quins avantatges té utilitzar el forfetatge per una empresa exportadora?, user)))</td><td>List(List(##### Forfetatge\n",
       "\n",
       "**Definició**\n",
       "\n",
       "Instrument que permet la venda d’efectes comercials en divises d’una empresa exportadora (lletres de canvi acceptades, crèdits documentaris, cartes de crèdit, avals o qualsevol altra forma de promesa de pagament) a una entitat financera.\n",
       "\n",
       "**Característiques:**\n",
       "\n",
       "**■** L’empresa exportadora cobrarà un import inferior al nominal de l’efecte i s’alliberarà del risc d’impagament. Es tractarà d’una venda sense recurs, on l’entitat financera renunciarà de forma explícita al seu dret legal de demanda davant dels anteriors proveïdors del deute.\n",
       "\n",
       "**■** Els efectes en divises estaran garantits per una entitat associada als deutors de l’empresa exportadora.\n",
       "\n",
       "**■** S’utilitzarà majoritàriament en operacions d’exportació, atès que cobreix els riscos inherents a l’activitat.\n",
       "\n",
       "**Avantatges:**\n",
       "\n",
       "**■** L’allibera Transfereix a l’entitat financera el risc d’impagament.\n",
       "\n",
       "**■** Millora la seva liquiditat en cobrar al comptat.\n",
       "\n",
       "**■** Elimina riscos polítics i administratius futurs, així com el comercial i de tipus de canvi de les divises involucrades diferents a l’euro.\n",
       "\n",
       "**■** Estalvia costos d'administració i de gestió de cobraments (contractació d’assegurances o similars).\n",
       "\n",
       "**■** Permet finançar el 100% de l'import de l'operació.\n",
       "\n",
       "**■** Aquesta operació pot efectuar-se en qualsevol moment dins del període de venciment i de manera individualitzada de la totalitat dels efectes.\n",
       "\n",
       "**Inconvenients:**\n",
       "\n",
       "**■** Tipus d'interès alts, al mateix temps que s'assumeix el risc del forfetatge.\n",
       "\n",
       "**■** Poca predisposició dels importadors a facilitar una garantia o aval associada als efectes., /Volumes/dts_proves_pre/startups_documentacio/documentacio/Glossari-dinstruments-financers_Annex-1_tcm124-103473.pdf))</td><td>List(Forfeiting transfers the risk of non-payment to the financial entity, Forfeiting improves liquidity by providing cash payment to the exporting company, Forfeiting eliminates future political, administrative, commercial, and currency exchange risks, Forfeiting saves on administration and collection management costs, Forfeiting allows financing of 100% of the operation amount, Forfeiting allows flexible timing for the operation within the maturity period)</td><td>SYNTHETIC_FROM_DOC</td><td>/Volumes/dts_proves_pre/startups_documentacio/documentacio/Glossari-dinstruments-financers_Annex-1_tcm124-103473.pdf</td></tr><tr><td>3b42fe2efb263eb4e0cbf663fdcec403e5cc7a685b9bcf67e7d50d90908b0ed9</td><td>List(List(List(Quines són les característiques principals del préstec participatiu?, user)))</td><td>List(List(##### Préstec participatiu\n",
       "\n",
       "**Definició**\n",
       "\n",
       "Instrument de finançament a llarg termini en què l'entitat prestadora concedeix un préstec a una empresa prestatària rebent d’aquesta empresa un interès variable, que es determina en funció de l'evolució de l'activitat de l’empresa i amb la possibilitat de poder incorporar períodes de carència.\n",
       "\n",
       "**Característiques:**\n",
       "\n",
       "**■** L’empresa prestatària només podrà amortitzar anticipadament el préstec participatiu, si aquesta amortització es compensa amb una ampliació d'igual quantia dels seus fons propis.\n",
       "\n",
       "**■** Els interessos meritats es componen d’una part fixa i, depenent de la situació, també poden tenir una part variable en funció dels resultats.\n",
       "\n",
       "**■** Acostumen a tenir un venciment a llarg termini, entre cinc i deu anys.\n",
       "\n",
       "**■** En ordre a la prelació de crèdits, l’empresa prestatària se situarà després dels creditors comuns.\n",
       "\n",
       "**■** Es considera patrimoni comptable a l'efecte de reducció de capital i liquidació de societats, previstes en la legislació mercantil., /Volumes/dts_proves_pre/startups_documentacio/documentacio/Glossari-dinstruments-financers_Annex-1_tcm124-103473.pdf))</td><td>List(Early repayment of the loan requires an equivalent increase in equity., The interest on the loan can include a fixed component and possibly a variable component based on company performance., The term of the loan typically ranges from five to ten years., The loan ranks after common creditors in precedence., The loan is considered equity for capital reduction and liquidation purposes.)</td><td>SYNTHETIC_FROM_DOC</td><td>/Volumes/dts_proves_pre/startups_documentacio/documentacio/Glossari-dinstruments-financers_Annex-1_tcm124-103473.pdf</td></tr><tr><td>398590c8501e144a3428da991b0abcbca94ae0b37f63544b5411ead7d6b39318</td><td>List(List(List(Què és el capital de risc i quins tipus d'entitats de capital de risc existeixen?, user)))</td><td>List(List(##### Capital de risc\n",
       "\n",
       "**Definició**\n",
       "\n",
       "Instrument Activitat financera que consisteix en la presa de participacions, amb caràcter temporal i minoritari, en el capital de petites i mitjanes empreses no cotitzades en Borsa.\n",
       "\n",
       "**Característiques:**\n",
       "\n",
       "**■** L’objectiu bàsic és la capitalització de la societat, que possibilita l’execució del pla de creixement previst, estalvia temps d’execució i augmenta el valor de mercat de l’empresa\n",
       "\n",
       "**■** Els instruments de participació directa al capital de l’empresa poden ser: accions ordinàries, accions preferents i obligacions convertibles.\n",
       "\n",
       "**■** Existeixen dos tipus d’entitats de capital risc: \n",
       "\n",
       "▫ **Societat de capital risc (SCR)**: societat que inverteix els seus recursos propis en el finançament temporal i minoritari de petites i mitjanes empreses innovadores, aportant un valor afegit en forma de suport gerencial. No sol tenir durada limitada i pot incrementar els seus recursos mitjançant ampliacions de capital.\n",
       "\n",
       "▫ **Societat gestora de fons de capital de risc (SGR)**: Grup d'especialistes, de reconeguda experiència i prestigi, en inversions de capital risc dedicats a promoure la constitució i a desenvolupar la gestió de fons de capital de risc de durada temporal, a canvi d'una quantitat fixa més una participació en les plusvàlues realitzada en la desinversió.\n",
       "\n",
       "**■** Les societats de capital de risc (SCR) i les societats gestores de capital de risc (SGR) són societats anònimes., /Volumes/dts_proves_pre/startups_documentacio/documentacio/Glossari-dinstruments-financers_Annex-1_tcm124-103473.pdf))</td><td>List(Venture capital is a financial activity involving temporary and minority participation in the capital of small and medium-sized enterprises not publicly listed on the stock market., There are two types of venture capital entities:\n",
       "  - Venture Capital Company (SCR) - invests its own resources in innovative small and medium enterprises.\n",
       "  - Venture Capital Fund Management Company (SGR) - specialists that promote and manage venture capital funds.)</td><td>SYNTHETIC_FROM_DOC</td><td>/Volumes/dts_proves_pre/startups_documentacio/documentacio/Glossari-dinstruments-financers_Annex-1_tcm124-103473.pdf</td></tr><tr><td>47c9de53ab145cfc358e27f23602ca3858887d2e00636a6a9127ec0345e274e0</td><td>List(List(List(Quins són alguns exemples de productes de finançament bancari?, user)))</td><td>List(List(“Com hem dit anteriorment, el finançament bancari és aquell que prové de les entitats financeres.\n",
       "Seguidament, presentem els productes de finançament bancari més habituals:\n",
       "\n",
       "### Préstec\n",
       "\n",
       "El préstec bancari és un dels tipus de finançament més utilitzat. Consisteix en l’aportació d’un import (nominal), el qual s’ha de tornar en un termini fixat i/o amb una periodicitat, més un interès. L’operació també té unes despeses d’operativa (comissions). Una vegada has sol·licitat el préstec a l’entitat financera i aquesta accepta donar-te’l, el primer que has de mirar són les condicions que et proposi. En el contracte del préstec, han d'aparèixer una sèrie d’aspectes que has de revisar i tenir en compte si no vols emportar-te ensurts més endavant:\n",
       "\n",
       "El primer de tot és el tipus d'interès, és a dir, el preu que et cobra l’entitat per deixar-te els diners.\n",
       "\n",
       "Les comissions són despeses que es produeixen en moments puntuals. Les més habituals són les d'obertura, tancament i per impagament d'alguna quota. Són negociables.\n",
       "\n",
       "El termini d'amortització del préstec: significa el període que tens per tornar els diners rebuts. Determina la quota que et quedarà. Si vols tornar (amortitzar) el préstec en poc temps, les quotes seran més grans. Com més temps, més fraccionat. És important el termini de venciment, els interessos i les comissions aplicades.\n",
       "\n",
       "El període de carència, que és el període en el qual només es paguen interessos i, per tant, no s'amortitza capital.\n",
       "\n",
       "Recorda que cal acomodar el termini d’amortització del préstec a la tipologia d’inversió a finançar i a la seva durada a l’empresa, per tal que el finançament es pugui tornar a mesura que aquesta inversió es transforma en diners a través de l’operativa de l’empresa.”, /Volumes/dts_proves_pre/startups_documentacio/documentacio/Financament.pdf))</td><td>List(A bank financing product should include examples such as a loan (préstec).)</td><td>SYNTHETIC_FROM_DOC</td><td>/Volumes/dts_proves_pre/startups_documentacio/documentacio/Financament.pdf</td></tr><tr><td>a4dff0620b5ffe9f36730a5c099c0ecb2067a4adf1300b58603456f19201dd7c</td><td>List(List(List(Què és el finançament i quina diferència hi ha entre actiu no corrent i actiu corrent?, user)))</td><td>List(List(“Consisteix en l’aportació dels recursos econòmics necessaris per a la compra dels elements que el negoci necessita per funcionar i desenvolupar la seva activitat. Aquests elements s’anomenen actiu no corrent si estaran més d’un any a l’empresa i són actiu corrent si estaran en el negoci un període inferior a dotze mesos.”, /Volumes/dts_proves_pre/startups_documentacio/documentacio/Financament.pdf))</td><td>List(Financing is the provision of economic resources necessary for a business to function and carry out its activities., Non-current assets are in the business for more than a year., Current assets remain in the business for less than twelve months.)</td><td>SYNTHETIC_FROM_DOC</td><td>/Volumes/dts_proves_pre/startups_documentacio/documentacio/Financament.pdf</td></tr><tr><td>592978748fc9ababf2eede9ff4f435e59de84d9de930ce2ba0205382b5c52326</td><td>List(List(List(Quines mesures ha implementat la Generalitat de Catalunya per ajudar PIMES i autònoms afectats per la Covid-19?, user)))</td><td>List(List(“Degut a la situació provocada per la Covid-19, des de les diferents administracions s’han pres un conjunt de mesures, en forma de préstecs, ajudes i subvencions, a fi d’ajudar a PIMES i persones treballadores autònomes a superar aquesta situació.\n",
       "\n",
       "En els enllaços següents pots consultar les mesures de la Generalitat de Catalunya per fer front a l’impacte econòmic i social de la Covid-19:\n",
       "\n",
       "1. Recull de Canal Empresa d'ajuts per a empreses i autònoms per fer front a l’impacte econòmic i social de la Covid-19.\n",
       "**[Ajuts i prestacions per a empreses i autònoms- Mesures COVID-19 Canal](https://canalempresa.gencat.cat/ca/01_que_voleu_fer/mesuresempresesiautonoms/mesures-economiques-i-socials-per-a-empreses-i-autonoms/ajuts-i-prestacions-per-empreses-i-autonoms/)**\n",
       "\n",
       "2. Recull de línies de préstecs i crèdits Canal Empresa, per reforçar la liquiditat del teixit productiu i evitar la sortida del mercat d'empreses solvents afectades negativament per aquesta situació transitòria i excepcional.\n",
       "**[Crèdits i préstecs- Mesures COVID-19 Canal Empresa](https://canalempresa.gencat.cat/ca/01_que_voleu_fer/mesuresempresesiautonoms/mesures-economiques-i-socials-per-a-empreses-i-autonoms/mesures-per-facilitar-la-liquiditat-credits-i-prestecs/)**\n",
       "\n",
       "3. Cercador d’ajuts, subvencions, finançament i serveis que ofereixen les diferents administracions i organismes per a les empreses i projectes d’emprenedoria ubicats a Catalunya, elaborat per ACCIÓ.\n",
       "**[Cercador d'ajuts i serveis per a l'empresa a Catalunya Acció](https://www.accio.gencat.cat/ca/serveis/cercador-ajuts-empresa/?ajserv_text=&ajserv_sectors=24d99c5c-725c-11ea-8b7c-005056924a59)**”, /Volumes/dts_proves_pre/startups_documentacio/documentacio/Financament.pdf))</td><td>List(The Generalitat de Catalunya has provided financial aid, subsidies, and grants., The Generalitat de Catalunya offers lines of loans and credits to reinforce liquidity and prevent the exit of solvent companies impacted by the pandemic., The Generalitat de Catalunya has created a search engine for aids, subsidies, financing, and services for companies and entrepreneurial projects in Catalonia.)</td><td>SYNTHETIC_FROM_DOC</td><td>/Volumes/dts_proves_pre/startups_documentacio/documentacio/Financament.pdf</td></tr><tr><td>adcef1748828b9d42bf35bd0ffb12baeb1cc5d8ad435c219767f32859fe9a99a</td><td>List(List(List(Pots explicar les diferències entre el finançament a curt termini i a llarg termini?, user)))</td><td>List(List(“És aquell en què el termini de devolució o venciment és inferior a un any.\n",
       "Alguns exemples són:\n",
       "-  El crèdit bancari a curt termini\n",
       "-  la pòlissa de crèdit\n",
       "-  el factoring\n",
       "-  el confirming\n",
       "-  el crowdfunding de recompensa\n",
       "-  el crowdfunding de préstec o crowdlending\n",
       "El finançament a curt termini és adequat per finançar elements de l’empresa que tarden poc temps a fer-se líquids, és a dir, a transformar-se en diners. D’aquesta manera, el ritme al que aquests elements es transformen en diners s’adequa al ritme al que aquests diners s’han de tornar a l’entitat que els hagi deixat.\n",
       "\n",
       "### Finançament a llarg termini:\n",
       "\n",
       "És aquell en què el venciment és superior a un any. En el cas dels recursos aportats per les persones promotores del negoci i dels estalvis generats per la mateixa empresa (fons propis), no existeix obligació de devolució.\n",
       "\n",
       "Alguns exemples són:\n",
       "-  el crowdfunding d’inversió o capital\n",
       "-  Business angels o persones inversores privades\n",
       "-  préstecs bancaris\n",
       "-  lísing\n",
       "-  rènting”, /Volumes/dts_proves_pre/startups_documentacio/documentacio/Financament.pdf))</td><td>List(Short-term financing involves repayment within less than a year., Short-term financing is suitable for quickly converting elements to cash., Examples of short-term financing include short-term bank credit, credit policies, factoring, confirming, and some types of crowdfunding., Long-term financing has a repayment period of more than a year., Long-term financing can include funds from business promoters or company savings that do not need to be repaid., Examples of long-term financing include investment-related crowdfunding, private investors, bank loans, leasing, and renting., The main difference between short-term and long-term financing lies in the repayment duration and alignment with the liquidity of the financed elements.)</td><td>SYNTHETIC_FROM_DOC</td><td>/Volumes/dts_proves_pre/startups_documentacio/documentacio/Financament.pdf</td></tr><tr><td>456ee6fe15c45662fd23ae6ef2da875b133d3e5b9297f14be48093bbddd27af2</td><td>List(List(List(Quines són algunes raons comunes per les quals un banc pot no concedir finançament a una empresa?, user)))</td><td>List(List(“ No disposes d’una font d'ingressos clara i constant en el temps: S’acostuma a sol·licitar la declaració de la renda, impostos periòdics presentats, balanços de l'empresa, estats financers, etc. Amb això, el banc analitza i estima la capacitat que té el projecte per generar ingressos i, en conseqüència, per retornar els fons rebuts.\n",
       "\n",
       " No entén per què vols els diners: el teu pla d'empresa no és clar. No transmet la raó per la qual necessites més liquiditat. Poca claredat implica un major risc.\n",
       "\n",
       " Com tornaràs el finançament? L'entitat no entén molt bé com el projecte generarà els diners que li has de tornar.\n",
       "\n",
       " Poses molta pressa per signar el nou crèdit bancari: això és un senyal de debilitat financera i de manca de liquiditat.\n",
       "\n",
       " La rendibilitat del projecte és baixa o negativa.”, /Volumes/dts_proves_pre/startups_documentacio/documentacio/Financament.pdf))</td><td>List(Lack of a clear and constant source of income., An unclear business plan., Uncertainty about how the financing will be repaid., Urgency to sign the credit agreement, indicating financial weakness., Low or negative project profitability.)</td><td>SYNTHETIC_FROM_DOC</td><td>/Volumes/dts_proves_pre/startups_documentacio/documentacio/Financament.pdf</td></tr><tr><td>f83238ed623d323bcca5c9a05fd9b05c67904d493e04d1d147185d0f96943f90</td><td>List(List(List(Com poden les petites empreses integrar la intel·ligència artificial al seu dia a dia?, user)))</td><td>List(List(La tecnologia ha impulsat molts dels canvis que ha viscut la societat i l’economia els últims anys. Un dels avenços tecnològics més disruptius ha estat la intel·ligència artificial, que ha generat un gran impacte tant en la vida de les persones com de les empreses. La creació de màquines intel·ligents ha permès automatitzar molts processos i ha canviat radicalment les dinàmiques de treball. Com poden integrar aquesta tecnologia al seu dia a dia les persones emprenedores i les petites empreses?, /Volumes/dts_proves_pre/startups_documentacio/documentacio/Cat-Empren_Intelligencia-artificial_accessible2022.pdf))</td><td>List(AI tools can be used to automate data processing., AI can be used for automated customer service., AI can help in inventory management., AI can be used for predictive analytics to support decision-making.)</td><td>SYNTHETIC_FROM_DOC</td><td>/Volumes/dts_proves_pre/startups_documentacio/documentacio/Cat-Empren_Intelligencia-artificial_accessible2022.pdf</td></tr><tr><td>2855fc97a35d22ea49c0d8ecbaa2ee726c3323c4fa1b3ec574faf66ed31f586d</td><td>List(List(List(Quins són els principals beneficis d'utilitzar la intel·ligència artificial en una empresa?, user)))</td><td>List(List(Alguns dels beneficis que pot aportar la intel·ligència artificial al teu negoci són:\n",
       "- Automatitza tasques rutinàries i augmenta la productivitat.\n",
       "- Agilitza la presa de decisions i millora les estratègies empresarials.\n",
       "- Genera aprenentatge dels errors, evitant tornar-los a cometre.\n",
       "- Fomenta la creativitat i la innovació.\n",
       "- Estalvia temps i costos, a més d’optimitzar els recursos de l’empresa, tant humans com materials.\n",
       "- Millora l’atenció als clients i augmenta les oportunitats de venda.\n",
       "- Millora la qualitat del producte o servei ofert., /Volumes/dts_proves_pre/startups_documentacio/documentacio/Cat-Empren_Intelligencia-artificial_accessible2022.pdf))</td><td>List(Automating routine tasks, Increasing productivity, Improving decision-making and business strategies, Learning from errors, Fostering creativity and innovation, Saving time and costs, Optimizing resources, Improving customer service and sales opportunities, Enhancing the quality of products or services offered)</td><td>SYNTHETIC_FROM_DOC</td><td>/Volumes/dts_proves_pre/startups_documentacio/documentacio/Cat-Empren_Intelligencia-artificial_accessible2022.pdf</td></tr><tr><td>a141c5c794e0f75fa45efef2db2911a655d05aa9cf050ed40e1db9e87b1f0b72</td><td>List(List(List(Com pot l’aprenentatge automàtic ajudar el meu negoci a predir el comportament dels clients?, user)))</td><td>List(List(D’aquesta tecnologia se’n deriven diferents tècniques, entre les quals destaca l’aprenentatge automàtic o _machine learning_. En aquest cas, els algoritmes recullen grans quantitats de dades i utilitzen l’estadística per identificar patrons de comportament. Després, poden aplicar aquests patrons per prendre decisions amb la mínima intervenció humana. Aquesta tècnica permet a les màquines aprendre i tenir capacitat de millora pròpia. Això pot ajudar les empreses a predir, per exemple, el comportament dels clients o a fer un manteniment més eficient de les seves instal·lacions.\n",
       "\n",
       "Una altra tècnica interessant és l’aprenentatge profund o _deep learning_, una variant de la tècnica anterior que imita la xarxa neuronal de les persones. És més autònom i sofisticat, i permet processar grans volums de dades en temps molt competitius per resoldre problemes clàssics que sorgeixen en l’aprenentatge automàtic. Alguns exemples són la classificació, la clusterització o la regressió. Aquesta tècnica ha donat molt bons resultats en la identificació i l’etiquetatge d’imatges, per exemple., /Volumes/dts_proves_pre/startups_documentacio/documentacio/Cat-Empren_Intelligencia-artificial_accessible2022.pdf))</td><td>List(Machine learning can analyze large amounts of past customer data., Machine learning helps identify patterns in customer data., Identified patterns are used to forecast future customer actions., Forecasting enables more informed and strategic decision-making for the business.)</td><td>SYNTHETIC_FROM_DOC</td><td>/Volumes/dts_proves_pre/startups_documentacio/documentacio/Cat-Empren_Intelligencia-artificial_accessible2022.pdf</td></tr><tr><td>4adfe5568551ec923ffb3bea199a2230d36f55a51d7196ec9976fd25f60d5e7d</td><td>List(List(List(Per què hauria de considerar fer-me autònom en comptes de buscar feina com a empleat?, user)))</td><td>List(List(L'empresari individual, popularment conegut com a treballador autònom, és la persona física que:\n",
       "\n",
       "-  realitza en nom propi una activitat econòmica amb finalitat de lucre\n",
       "\n",
       "-  la fa de forma habitual personal, directa i per compte propi\n",
       "\n",
       "-  ho fa fora de l'àmbit de direcció i organització d'una altra persona\n",
       "\n",
       "-  i pot tenir o no treballadors\n",
       "\n",
       "En aquests casos, l'activitat empresarial adopta el nom de la persona física titular del negoci,\n",
       "tot i que també és possible actuar amb un nom comercial., /Volumes/dts_proves_pre/startups_documentacio/documentacio/Vull ser autònom.pdf))</td><td>List(Self-employment offers independence and control over the work., There is a direct relationship between effort and profits in self-employment., Self-employment provides flexibility in running the business.)</td><td>SYNTHETIC_FROM_DOC</td><td>/Volumes/dts_proves_pre/startups_documentacio/documentacio/Vull ser autònom.pdf</td></tr><tr><td>15922165d3e18cae8bb49c288c1545fccc368b9b842f76701fdb9fcb87e84e73</td><td>List(List(List(És cert que amb el servei FUE puc fer tots els tràmits necessaris per fer-me autònom en una sola visita?, user)))</td><td>List(List(La realització d'aquestes gestions des de la Finestreta Única Empresarial (les oficines Oge presencialment o Canal Empresa electrònicament), és gratuïta i us estalviarà:\n",
       "\n",
       "1. Anar a l’Agència Tributària a sol·licitar la declaració censal d'alta i l’obtenció del NIF.\n",
       "\n",
       "2. Anar al Registre Mercantil Provincial a fer la inscripció de l’empresa (amb caràcter voluntari).\n",
       "\n",
       "3. Anar a la Seguretat Social a donar-te d’alta en el Règim Especial de Treballadors Autònoms (RETA) de la Seguretat Social i a les persones treballadores.\n",
       "\n",
       "4. En la mateixa visita també podreu fer altres tràmits necessaris per realitzar l’activitat, si ho voleu, podeu veure quina és la tramitació relacionada amb la vostra activitat des de la Cerca Guiada de Tràmits, una eina que a través d'un seguit de preguntes us dirà quins tràmits us faran falta., /Volumes/dts_proves_pre/startups_documentacio/documentacio/Vull ser autònom.pdf))</td><td>List(The FUE service enables users to complete all the necessary procedures to become self-employed., These procedures can be completed in a single visit using the FUE service.)</td><td>SYNTHETIC_FROM_DOC</td><td>/Volumes/dts_proves_pre/startups_documentacio/documentacio/Vull ser autònom.pdf</td></tr><tr><td>ba2e4fca57b8c313e7ffe3b1a605d33375c66926455992bd8dd0d2af12f0f863</td><td>List(List(List(Quins són els principals avantatges i riscos de ser autònom?, user)))</td><td>List(List(-  Control total de l'empresa per part del propietari, que dirigeix la gestió.\n",
       "\n",
       "-  La personalitat jurídica de l'empresa és la mateixa que la del seu titular (empresari), qui respon personalment de totes les obligacions que contregui l'empresa.\n",
       "\n",
       "-  No existeix diferenciació entre el patrimoni mercantil i el seu patrimoni civil (personal).\n",
       "\n",
       "-  No precisa procés previ de constitució. Els tràmits s'inicien al començament de l'activitat empresarial.\n",
       "\n",
       "Avantatges\n",
       "\n",
       "-  És una forma empresarial idònia per al funcionament d'empreses de mida molt reduïda.\n",
       "\n",
       "-  És la forma que menys gestions i tràmits ha de fer per a la realització de la seva activitat, ja que no ha de realitzar cap tràmit d'adquisició de la personalitat jurídica.\n",
       "\n",
       "-  Pot resultar més econòmic, atès que no crea persona jurídica diferent del propi empresari.\n",
       "\n",
       "Inconvenients\n",
       "\n",
       "-  La responsabilitat de l'empresari és il·limitada.\n",
       "\n",
       "-  Respon amb el seu patrimoni personal dels deutes generats en la seva activitat.\n",
       "\n",
       "-  El titular de l'empresa ha de fer front en solitari a les despeses i a les inversions, així com a la gestió i administració.\n",
       "\n",
       "-  Si el volum de benefici és important, pot estar sotmès a tipus impositius elevats., /Volumes/dts_proves_pre/startups_documentacio/documentacio/Vull ser autònom.pdf))</td><td>List(advantages of being self-employed include complete control over the business, advantages of being self-employed include minimal administrative procedures, advantages of being self-employed include lower costs by not needing a separate legal entity, risks of being self-employed include unlimited personal liability, risks of being self-employed include personal assets being at risk for business debts, risks of being self-employed include sole responsibility for all business expenses and management, risks of being self-employed include potentially high tax rates if the business is highly profitable)</td><td>SYNTHETIC_FROM_DOC</td><td>/Volumes/dts_proves_pre/startups_documentacio/documentacio/Vull ser autònom.pdf</td></tr><tr><td>fbe7402ae38eadc629e25863141ef2583ddf3899b83fc53a682e1ced770755d5</td><td>List(List(List(Quins són els diferents mètodes per determinar l'IRPF com a autònom?, user)))</td><td>List(List(Iniciada l'activitat, els ingressos percebuts per autònoms i entitats sense personalitat jurídica, tributen per l'Impost sobre la Renda de les Persones Físiques, IRPF (pagaments fraccionats i declaració anual).\n",
       "\n",
       "IMPOST SOBRE LA RENDA DE LES PERSONES FÍSIQUES\n",
       "Aplicable a empresaris i professionals, persones físiques i persones físiques membres d'entitats en règim d'atribució de rendes.\n",
       "\n",
       "En l'IRPF els mètodes de determinació del rendiment de les activitats econòmiques, segons l'activitat desenvolupada són:\n",
       "\n",
       "-  Estimació directa amb dues modalitats\n",
       "   `o ` Normal\n",
       "   `o ` Simplificada\n",
       "\n",
       "-  Estimació objectiva, /Volumes/dts_proves_pre/startups_documentacio/documentacio/Vull ser autònom.pdf))</td><td>List(Estimació directa normal is a method for determining the IRPF for self-employed individuals., Estimació directa simplificada is a method for determining the IRPF for self-employed individuals., Estimació objectiva is a method for determining the IRPF for self-employed individuals.)</td><td>SYNTHETIC_FROM_DOC</td><td>/Volumes/dts_proves_pre/startups_documentacio/documentacio/Vull ser autònom.pdf</td></tr><tr><td>c7bc28c2ae2bdfeaa103ff6e0e241f0c912cce39ceca779ce319294e76439697</td><td>List(List(List(Quins passos he de seguir abans de constituir una Societat Limitada?, user)))</td><td>List(List(1. Sol·licitar la certificació de denominació social al Registre Mercantil Central.\n",
       "2. Dipositar el capital social en una entitat bancària., /Volumes/dts_proves_pre/startups_documentacio/documentacio/Tràmit Societat Limitada.pdf))</td><td>List(Request certification of the company name at the Central Mercantile Register., Deposit the share capital in a bank.)</td><td>SYNTHETIC_FROM_DOC</td><td>/Volumes/dts_proves_pre/startups_documentacio/documentacio/Tràmit Societat Limitada.pdf</td></tr><tr><td>f257cfe1c3c3bc83c409a59d08148beaf035ae12424a84c1edd550ee53819d04</td><td>List(List(List(Quina documentació necessito per constituir una Societat Limitada?, user)))</td><td>List(List(Documentació i informació necessària que cal adjuntar a la sol·licitud:\n",
       "\n",
       "1. Justificant del pagament de la denominació social i certificació negativa del nom original i fotocòpia. (www.rmc.es).\n",
       "2. Fotocòpia i original del DNI dels socis. En el cas d'estrangers, el NIE comunitari, o el NIE i el permís de residència i treball per compte propi.\n",
       "3. Fotocòpia i original de la Targeta de la Seguretat Social dels socis, o un altre document que acrediti el número d'afiliació a la Seguretat Social.\n",
       "4. Dades personals dels socis i dels seus cònjuges: DNI i règim matrimonial. I original i fotocòpia del Llibre de Família.\n",
       "5. Percentatges de participació en el capital social i identificació d'administradors. Si és necessària la inscripció al Règim de Treballadors Autònoms d'algun dels socis i/o administradores cal que aporteu la Base de cotització escollida i Mútua d'AT-EP, si s'escau. (www.seg-social.es)\n",
       "6. Epígraf de l'IAE (Impost d'Activitats Econòmiques) i de la CNAE (Classificació Nacional d'Activitats Econòmiques) que corresponen a la vostra activitat. Aquestes classificacions es poden consultar a qualsevol Delegació de l'Agència Estatal Tributària a la pàgina web: www.aeat.es o bé per telèfon: 900 33 55 33.\n",
       "7. Número de compte bancari o de la targeta bancària per al pagament al RMP (Registre Mercantil Provincial).\n",
       "8. Mandat / Ordre de domiciliació de deutes directes SEPA per al pagament de quotes de la Seguretat Social., /Volumes/dts_proves_pre/startups_documentacio/documentacio/Tràmit Societat Limitada.pdf))</td><td>List(Proof of payment and negative name certification with a photocopy., Photocopy and original ID of partners; for foreigners, the NIE and necessary permits., Photocopy and original of the Social Security Card or equivalent., Personal data of partners and spouses, including DNI, marital regime, and Family Book., Participation percentages, identification of the administrator, and relevant self-employment registration documents., Relevant IAE and CNAE classifications., Bank account or card details for registry payment., SEPA direct debit mandate for Social Security payments.)</td><td>SYNTHETIC_FROM_DOC</td><td>/Volumes/dts_proves_pre/startups_documentacio/documentacio/Tràmit Societat Limitada.pdf</td></tr><tr><td>461ea9e69d1da4b5d5962d1dcc2f1742c9327caecfc22d2b81f79c4ace88387a</td><td>List(List(List(Com es defineix el metavers segons el Centre de Blockchain de Catalunya?, user)))</td><td>List(List(Segons el Centre de Blockchain de Catalunya podem definir el metavers a partir de tres potes:\n",
       "\n",
       "##### 1. La base\n",
       "\n",
       "Els metaversos són un conjunt de mons virtuals tridimensionals i interconnectats, en els\n",
       "quals persones situades a qualsevol lloc poden socialitzar a temps real.\n",
       "\n",
       "##### 2. La visió\n",
       "\n",
       "Vol esdevenir un espai virtual de referència per a la societat on formar una economia\n",
       "d'internet persistent, propietat dels usuaris, que abasta els mons digital i físic.\n",
       "\n",
       "##### 3. La tecnologia\n",
       "\n",
       "La tecnologia blockchain permet passar de l'internet de la informació (web 2.0) a la\n",
       "internet del valor (web 3.0), aportant així la característica diferencial necessària per a\n",
       "l'existència dels metaversos de manera continuada, segura i eficaç., /Volumes/dts_proves_pre/startups_documentacio/documentacio/Metavers.-Definicio-oportunitats-de-negoci-exemples-CAT.pdf))</td><td>List(The metaverse comprises three-dimensional and interconnected virtual worlds., It allows real-time social interactions., It aims to create a user-owned, persistent internet economy., It spans both digital and physical worlds., It relies on blockchain technology for continual, secure, and efficient existence., It represents the transition from web 2.0 to web 3.0.)</td><td>SYNTHETIC_FROM_DOC</td><td>/Volumes/dts_proves_pre/startups_documentacio/documentacio/Metavers.-Definicio-oportunitats-de-negoci-exemples-CAT.pdf</td></tr><tr><td>f5471d79b8b8f8eea95d5f36bcd4e24d621d0677aa120d8ae0b97b413845044e</td><td>List(List(List(Quina és la importància de la blockchain en el metavers i com es diferencia de les versions anteriors del web?, user)))</td><td>List(List(Tot això és correcte, però els metaversos també tenen un aspecte clau que els\n",
       "distingirà de l’internet actual: la cadena de blocs o blockchain, i la relació directa que\n",
       "té aquesta amb la web 3.0.\n",
       "\n",
       "La web 1.0 va ser els inicis d’internet, on gràcies a un conjunt d'ordinadors i servidors\n",
       "connectats podíem cercar i explorar informació, normalment a través de la plataforma\n",
       "d'una empresa centralitzada, com per exemple AOL, Yahoo, Microsoft o Google.\n",
       "\n",
       "La web 2.0 s’ha caracteritzat per xarxes socials, blogs i dades d'usuari utilitzades per\n",
       "a la monetització, convertint la publicitat d’aquestes plataformes centralitzades en la\n",
       "via per oferir xarxes socials \"gratuïtes\" com Facebook, Snapchat, Twitter o TikTok. La\n",
       "creació, recollida, difusió i distribució de tota mena d'informació en el domini digital ja\n",
       "no depèn únicament de processos socials, sinó cada cop més de la tecnologia i els\n",
       "algorismes.\n",
       "\n",
       "Finalment, amb l’arribada de la web 3.0 entrem en un nou paradigma on ni la\n",
       "informació (web 1.0) ni la recollida de dades (web 2.0) són el principal focus\n",
       "d’atenció, sinó la transmissió de valor d’una forma segura i descentralitzada.\n",
       "\n",
       "L’eix troncal d’aquesta nova revolució és la blockchain, una tecnologia que crea un\n",
       "registre permanent de transaccions en una base de dades descentralitzada i pública., /Volumes/dts_proves_pre/startups_documentacio/documentacio/Metavers.-Definicio-oportunitats-de-negoci-exemples-CAT.pdf))</td><td>List(Importance of blockchain in the metaverse is due to secure and decentralized value transmission., Web 1.0 focused on accessing information., Web 2.0 focused on user data and its monetization.)</td><td>SYNTHETIC_FROM_DOC</td><td>/Volumes/dts_proves_pre/startups_documentacio/documentacio/Metavers.-Definicio-oportunitats-de-negoci-exemples-CAT.pdf</td></tr><tr><td>9d01a2fd271532aef3b2b72ac2b0b81e863ac7df04ad079f9b5bf710fd4a1c60</td><td>List(List(List(Quines oportunitats de negoci ofereix el metavers per als desenvolupadors i creadors?, user)))</td><td>List(List(Els casos d’ús i experiències que existiran en aquest món virtual són gairebé infinites. Des de jocs i experiències immersives fins a espais educacionals o activitats professionals, tot tindrà cabuda en aquest ecosistema virtual.\n",
       "\n",
       "La proposta de valor per als desenvolupadors i creadors és poder monetitzar les\n",
       "interaccions econòmiques entre les seves aplicacions i els usuaris del metavers. Alguns\n",
       "exemples:\n",
       "\n",
       "-  Els desenvolupadors i artistes poden crear i tokenitzar articles col·leccionables i\n",
       "personalitzables, com complements per als avatars.\n",
       "\n",
       "-  Els streamers poden tenir el seu estudi virtual dins del metavers.\n",
       "\n",
       "-  Els creadors de contingut poden mostrar les seves experiències virtuals i monetitzarles.\n",
       "\n",
       "-  Les empreses poden crear la seva presència a través de botigues virtuals.\n",
       "\n",
       "-  Els desenvolupadors de jocs poden posar-hi demostracions breus o, fins i tot, jocs i\n",
       "experiències senceres.\n",
       "\n",
       "-  Les universitats i escoles poden crear cursos i experiències educatives.\n",
       "\n",
       "-  Els creadors poden crear qualsevol cosa i pujar-la al seu entorn 3D.\n",
       "\n",
       "-  Els empresaris poden construir i vendre béns digitals (o tangibles) i oferir serveis.\n",
       "\n",
       "-  Els artistes poden mostrar totes les seves creacions, des d'escultures fins a pintures\n",
       "en 2D i 3D.\n",
       "\n",
       "-  Els col·leccionistes d’NFTs poden presentar la seva col·lecció al seu terreny i comerciar\n",
       "entre ells.\n",
       "\n",
       "-  Les marques poden anunciar-se fent servir tanques publicitàries, a prop o dins de\n",
       "parcel·les de gran trànsit, per promocionar els seus productes, serveis i esdeveniments.\n",
       "\n",
       "-  Grups que actualment es reuneixen en fòrums en línia, grups de xat o jocs multijugador\n",
       "centralitzats podran portar les seves comunitats al metavers., /Volumes/dts_proves_pre/startups_documentacio/documentacio/Metavers.-Definicio-oportunitats-de-negoci-exemples-CAT.pdf))</td><td>List(Developers and creators can create and tokenize custom items., Setting up virtual studios for streamers is an opportunity., They can showcase and monetize virtual experiences., Virtual stores can be opened within the metaverse., Offering game demonstrations is possible., Educational content creation is an opportunity., Uploading 3D creations is an option., Selling goods and services within the metaverse is viable., Art display and monetization is feasible., Presenting and trading NFTs is an available option., Advertising using virtual billboards can be utilized., Online communities can be moved into the metaverse.)</td><td>SYNTHETIC_FROM_DOC</td><td>/Volumes/dts_proves_pre/startups_documentacio/documentacio/Metavers.-Definicio-oportunitats-de-negoci-exemples-CAT.pdf</td></tr><tr><td>6b85805ec6af8b38d5dfb692d411d7a57b4173480630fa9b5749984533aa5572</td><td>List(List(List(Com s’utilitza el pla economicofinancer per buscar finançament extern per una startup?, user)))</td><td>List(List(“Actualment, existeixen diferents alternatives de finançament, des de les tradicionals préstec, pòlissa de crèdit, descompte de factures, entre altres- fins a les anomenades alternatives - _crowdfunding_ i les seves modalitats, _business angels, etc_ -.\n",
       "\n",
       "El pla economicofinancer és, en conseqüència una eina de gestió interna i, alhora una eina de comunicació externa.\n",
       "\n",
       "Una vegada el pla economicofinancer mostra que el projecte és viable i sostenible, es pot elaborar la documentació necessària per a la recerca de finançament.”, /Volumes/dts_proves_pre/startups_documentacio/documentacio/Elements-pla-economicofinancer.pdf))</td><td>List(The economic-financial plan demonstrates the startup's project viability., The economic-financial plan shows the sustainability of the startup's project., The economic-financial plan is necessary for preparing documentation to seek external financing.)</td><td>SYNTHETIC_FROM_DOC</td><td>/Volumes/dts_proves_pre/startups_documentacio/documentacio/Elements-pla-economicofinancer.pdf</td></tr><tr><td>ef3478b271c138f06c98ca6340210a645ef0a1a6184e73c5ee041242e98059d9</td><td>List(List(List(Quins són els errors més habituals en l’elaboració d’un pla economicofinancer per una startup?, user)))</td><td>List(List(“Pensar que només és una eina per a la sol·licitud de finançament. Tal com hem vist al primer apartat, l’aportació més important del pla economicofinancer és la validació econòmica de les idees que es plantegen i el seguiment dels resultats, una vegada iniciada l’activitat. El primer punt per tal que un projecte arribi a bon port és que sigui viable i sostenible.\n",
       "\n",
       "Plantejar una temporalitat seqüencial. El plantejament d’una empresa ha de tenir una perspectiva sobre les diferents etapes per les quals passarà. Quan el pla economicofinancer es realitza sobre els 3 primers anys de forma seqüencial, es treballa sobre una primera etapa de punt d’equilibri i potser un primer benefici. Cal treballar, també, sobre la dimensió que haurà d’assolir l’empresa per tal que realment sigui sostenible en el temps.”, /Volumes/dts_proves_pre/startups_documentacio/documentacio/Elements-pla-economicofinancer.pdf))</td><td>List(Treating the economic-financial plan only as a financing tool., Not proving the business's viability and sustainability., Lacking a sequential approach in the first three years., Underestimating the necessary scale for long-term sustainability.)</td><td>SYNTHETIC_FROM_DOC</td><td>/Volumes/dts_proves_pre/startups_documentacio/documentacio/Elements-pla-economicofinancer.pdf</td></tr><tr><td>0a1b53968691aaaa8528bd7708393a5bf21c964ea2c4cf1d41c8892c20843531</td><td>List(List(List(Quins elements principals inclou un pla economicofinancer per a startups?, user)))</td><td>List(List(“Pla d’inversions: el detall dels recursos que estaran a l’empresa per un període superior a 1 any. És el que s’anomenen inversions i cal incloure-hi també el seu valor econòmic. Alguns exemples dels elements que s’inclouen en aquest apartat són: local, maquinària, utillatges, equipament informàtic, web, programes de gestió.\n",
       "\n",
       "Estructura de despesa: en aquest punt cal introduir la despesa habitual de l’empresa. S’anomena també despesa fixa, donat que no depèn del fet que l’empresa vengui o no. És a dir, es produeix pel fet de mantenir una activitat econòmica. S’inclouen en aquest apartat: lloguers, manteniments i reparacions, serveis de professionals, assegurances, serveis bancaris, publicitat, subministres...\n",
       "\n",
       "Previsió d’ingressos: aquest sol ser un punt que genera dubtes. A diferència de les despeses i inversions, on les xifres són conegudes, els ingressos depenen dels preus dels productes/serveis i també del volum de venda. Aquesta darrera variable és desconeguda.”, /Volumes/dts_proves_pre/startups_documentacio/documentacio/Elements-pla-economicofinancer.pdf))</td><td>List(An economic-financial plan for startups includes an Investment Plan., An economic-financial plan for startups includes an Expense Structure., An economic-financial plan for startups includes a Revenue Forecast.)</td><td>SYNTHETIC_FROM_DOC</td><td>/Volumes/dts_proves_pre/startups_documentacio/documentacio/Elements-pla-economicofinancer.pdf</td></tr><tr><td>d957610019b26a55cf7b14dc4ac311c5c0a5d6d73c45973ebf4146761eabcbe0</td><td>List(List(List(Quina és la funció principal del pla economicofinancer en una startup?, user)))</td><td>List(List(“Un dels elements que formen part del pla de negoci o pla d’empresa és el pla economicofinancer. Aquest és l’apartat en què les idees que s’expliquen en el pla d’empresa es transformen en format econòmic, donat que els números permeten tenir una concreció i fer-ne comparativa.\n",
       "\n",
       "Cal entendre’s com una eina de treball per al llançament de l’activitat i, una vegada iniciada, per a la seva gestió. La seva importància s’incrementa en moments d’incertesa, donat que permet estudiar diferents situacions i escenaris i, en conseqüència, prendre les decisions més adequades en cada moment.”, /Volumes/dts_proves_pre/startups_documentacio/documentacio/Elements-pla-economicofinancer.pdf))</td><td>List(Translate business ideas into economic terms., Facilitate the launch and management of the startup., Assist in making informed decisions by analyzing different scenarios.)</td><td>SYNTHETIC_FROM_DOC</td><td>/Volumes/dts_proves_pre/startups_documentacio/documentacio/Elements-pla-economicofinancer.pdf</td></tr><tr><td>5b5eb5e86b2c7bd14029f83b056a5d8e8c0ace92031b43dbd6495317f592dc96</td><td>List(List(List(Com determina un pla economicofinancer la viabilitat econòmica d'un projecte?, user)))</td><td>List(List(“Un dels requeriments per tal que un projecte es pugui realitzar és que sigui viable econòmicament. El pla economicofinancer és l’eina que determina aquesta viabilitat (és a dir, si els ingressos són superiors a les despeses) i a partir d’en quin moment ho és.”, /Volumes/dts_proves_pre/startups_documentacio/documentacio/Elements-pla-economicofinancer.pdf))</td><td>List(The plan compares projected revenues with projected expenses., The plan determines economic viability when projected revenues exceed projected expenses.)</td><td>SYNTHETIC_FROM_DOC</td><td>/Volumes/dts_proves_pre/startups_documentacio/documentacio/Elements-pla-economicofinancer.pdf</td></tr></tbody></table></div>"
      ]
     },
     "metadata": {
      "application/vnd.databricks.v1+output": {
       "addedWidgets": {},
       "aggData": [],
       "aggError": "",
       "aggOverflow": false,
       "aggSchema": [],
       "aggSeriesLimitReached": false,
       "aggType": "",
       "arguments": {},
       "columnCustomDisplayInfos": {},
       "data": [
        [
         "b4378da7d11e09b83e2ded7eaa9c98c9a85d9f85c2f9be5ee9da3479632d15c0",
         [
          [
           [
            "Què és el lísing o arrendament financer i per a què s’utilitza principalment?",
            "user"
           ]
          ]
         ],
         [
          [
           "1. Lísing o arrendament financer\n\n**Definició**\n\nCessió dels drets d’utilització d’un bé moble o immoble per part d’una societat de\nlísing (empresa que es coneix com a propietària) a una altra empresa (empresa\ncontractant), durant un període de temps pactat a canvi del pagament d’una quota\nd’arrendament, amb la particularitat que l’empresa contractant podrà optar per la\ncompra del bé al final del termini pactat.\n\n**Característiques:**\n\n**■** Instrument financer adequat per obtenir finançament a mig i llarg termini per a\nl’adquisició de béns materials de les empreses.",
           "/Volumes/dts_proves_pre/startups_documentacio/documentacio/Glossari-dinstruments-financers_Annex-1_tcm124-103473.pdf"
          ]
         ],
         [
          "Financial leasing involves the transfer of usage rights of a movable or immovable asset from a leasing company to a business.",
          "The lease term is for an agreed period of time in exchange for rental payments.",
          "There is an option to purchase the asset at the end of the lease term.",
          "Primarily used as a financial instrument for medium- and long-term financing to acquire physical assets for businesses."
         ],
         "SYNTHETIC_FROM_DOC",
         "/Volumes/dts_proves_pre/startups_documentacio/documentacio/Glossari-dinstruments-financers_Annex-1_tcm124-103473.pdf"
        ],
        [
         "fd82a81f55a9d8a2722c3ce24b850a7538ac91046b135d47c0ff3f77fae0a9d2",
         [
          [
           [
            "Quins són els avantatges i inconvenients del lísing o arrendament financer per a una empresa?",
            "user"
           ]
          ]
         ],
         [
          [
           "**Avantatges:**\n\n**■** S'aconsegueix una amortització accelerada del bé a gust de l'empresa.\n\n**■** Permet el finançament del 100% del bé, tot i que també es pot donar a\npercentatges de finançament inferiors.\n\n**■** És útil per a empreses molt solvents i/o usuàries de béns tecnològics.\n\n**■** Fiscalment, permet deduir pràcticament la totalitat de les quotes\nd’arrendament financer meritades, amb certs límits establerts.\n\n**■** No és necessari fer un desembors inicial de recursos propis i, per tant,\npermet a l’empresa gaudir d’una major liquiditat. (tot i que en certes\noperacions pot no ser així).\n\n**■** Al final, mitjançant el pagament d'un valor residual prefixat en el\ncontracte, es pot adquirir la propietat del bé.\n\n**Inconvenients:**\n\n**■** La durada del contracte d’arrendament financer és irrevocable.\n\n**■** En general és un producte menys flexible que un préstec.",
           "/Volumes/dts_proves_pre/startups_documentacio/documentacio/Glossari-dinstruments-financers_Annex-1_tcm124-103473.pdf"
          ]
         ],
         [
          "leasing allows accelerated depreciation of the asset",
          "leasing enables 100% financing of the asset",
          "leasing is suitable for very solvent companies or technology users",
          "significant tax deductions on leasing fees are possible within certain limits",
          "no initial cash outlay required, providing greater liquidity",
          "possibility to acquire ownership of the asset by paying a pre-agreed residual value at the end of the contract",
          "the leasing contract duration is irrevocable",
          "leasing is less flexible than a loan"
         ],
         "SYNTHETIC_FROM_DOC",
         "/Volumes/dts_proves_pre/startups_documentacio/documentacio/Glossari-dinstruments-financers_Annex-1_tcm124-103473.pdf"
        ],
        [
         "a34deecc53dde40b2ac619926d0c5a976c0b940bb390b30e3942c1e9efaabe0c",
         [
          [
           [
            "Què és el rènting i quines característiques té principalment?",
            "user"
           ]
          ]
         ],
         [
          [
           "2. Rènting\n\n**Definició**\n\nContracte mercantil bilateral pel qual una de les parts, la societat de rènting, s'obliga a\ncedir a una altra empresa l'ús d'un bé durant un temps determinat, a canvi del\npagament d'una quota periòdica d’arrendament.\n\n**Característiques:**\n\n**■** S’utilitza per llogar tot tipus de maquinària, equips informàtics, equipament\nd’oficines i fins i tot immobles.\n\n**■** El pagament de la renda inclou el dret a l'ús de l'equip, el manteniment i les\nreparacions del bé durant el termini de l’operació, així com d’altres despeses\nrelacionades amb la seva utilització.\n\n**■** No permet, al seu venciment, l’opció d’adquisició del bé per part de l’empresa.",
           "/Volumes/dts_proves_pre/startups_documentacio/documentacio/Glossari-dinstruments-financers_Annex-1_tcm124-103473.pdf"
          ]
         ],
         [
          "Renting is a bilateral commercial contract.",
          "One company allows another company to use an asset for a specified period.",
          "The user company pays periodic rental payments.",
          "It is used to rent machinery, computer equipment, office equipment, and real estate.",
          "The rental payment includes use of the equipment, maintenance, repairs, and other related expenses.",
          "There is no option for the user company to purchase the asset at the end of the term."
         ],
         "SYNTHETIC_FROM_DOC",
         "/Volumes/dts_proves_pre/startups_documentacio/documentacio/Glossari-dinstruments-financers_Annex-1_tcm124-103473.pdf"
        ],
        [
         "ae9f323a7dda683bfa94d1857f859b434affccb884f8324e1fd2d20a498885ff",
         [
          [
           [
            "Quins tipus d’instruments financers es detallen en el glossari?",
            "user"
           ]
          ]
         ],
         [
          [
           "Sumari\n\n 1. Lísing o arrendament financer\n\n 2. Rènting\n\n 3. Facturatge\n\n 4. Confirmació\n\n 5. Forfetatge\n\n 6. Capital de risc\n\n 7. Présctec participatiu\n\n 8. Préstec\n\n 9. Crèdit",
           "/Volumes/dts_proves_pre/startups_documentacio/documentacio/Glossari-dinstruments-financers_Annex-1_tcm124-103473.pdf"
          ]
         ],
         [
          "The answer should include a list of financial instruments detailed in the glossary.",
          "The financial instruments listed should include: Leasing or financial lease, renting, factoring, confirmation, forfaiting, venture capital, participative loan, loan, credit."
         ],
         "SYNTHETIC_FROM_DOC",
         "/Volumes/dts_proves_pre/startups_documentacio/documentacio/Glossari-dinstruments-financers_Annex-1_tcm124-103473.pdf"
        ],
        [
         "5ab59b37f94bade137d34c791b56d7ce2f04e642ca66b48290a7d57ee429ded6",
         [
          [
           [
            "Com va utilitzar Airbnb el Design Thinking per transformar el seu negoci?",
            "user"
           ]
          ]
         ],
         [
          [
           "Un dels casos d’èxit més coneguts és el de l’empresa d’allotjaments turístics Airbnb. El 2009, poc després de crear la start-up, els seus fundadors es van adonar que el model de negoci no estava funcionant. Analitzant la plataforma, van detectar un patró: la similitud entre tots els anuncis d’allotjaments oferts es trobava en les fotografies de baixa qualitat que publicaven els propietaris. Això els va posar a la pell dels clients i els va fer entendre per què no estaven llogant les habitacions.\n\nUn dels seus fundadors, Joe Gebbia, coneixia el Design Thinking i el va voler posar en pràctica. Després de detectar el problema, van viatjar a Nova York per visitar els allotjaments amb mentalitat de client, i fer-ne millors fotografies. La facturació de l’empresa va començar a augmentar poc després. Això va canviar la filosofia de la companyia, que va entendre que el codi no ho era tot i que sortir a conèixer clients reals seria, gairebé sempre, la millor manera de resoldre els seus problemes i trobar solucions intel·ligents.",
           "/Volumes/dts_proves_pre/startups_documentacio/documentacio/Design-thinking_accessible.pdf"
          ]
         ],
         [
          "Airbnb used empathy to identify issues faced by customers.",
          "They identified low-quality photos as a significant issue.",
          "To address this, Airbnb took action by improving photos, specifically traveling to New York.",
          "The result of these actions was an improved customer experience and increased revenue.",
          "This initiative led to a shift in Airbnb's company philosophy to engage directly with customers for problem-solving."
         ],
         "SYNTHETIC_FROM_DOC",
         "/Volumes/dts_proves_pre/startups_documentacio/documentacio/Design-thinking_accessible.pdf"
        ],
        [
         "c7fce77d764ae207f4be0b1dfe843221dce0e9a061be1d8a71d3cebabbbb5517",
         [
          [
           [
            "Quins són els beneficis del Design Thinking per a una startup?",
            "user"
           ]
          ]
         ],
         [
          [
           "Aquesta metodologia té diversos beneficis:\n\n-  Centra l’atenció en el públic i genera empatia, ja que es basa a identificar problemes, necessitats i desitjos reals per crear solucions. La interacció amb el públic, i la seva satisfacció, són la clau de l’èxit.\n\n-  Fomenta el treball en equip i permet que cada individu aporti les seves capacitats en la creació d’una idea única.\n\n-  Permet crear prototips, ja que és imprescindible validar qualsevol idea abans de consolidar-la al mercat. Això contribueix a identificar i solucionar errors i t’ajudarà a garantir que el negoci ofereix una solució real.\n\n-  Promou un procés lúdic. L’objectiu de la metodologia és gaudir del camí i explotar el teu potencial amb el màxim de llibertat creativa.",
           "/Volumes/dts_proves_pre/startups_documentacio/documentacio/Design-thinking_accessible.pdf"
          ]
         ],
         [
          "Generates empathy by focusing on real audience problems and needs",
          "Fosters teamwork to leverage individual capabilities",
          "Creates prototypes to validate ideas and identify errors",
          "Promotes a playful and creative process that encourages innovation"
         ],
         "SYNTHETIC_FROM_DOC",
         "/Volumes/dts_proves_pre/startups_documentacio/documentacio/Design-thinking_accessible.pdf"
        ],
        [
         "5c0368d4accba711443c595851ad47f706b99239713779de814df31bf4e7225e",
         [
          [
           [
            "Què és el Design Thinking i quin és el seu origen?",
            "user"
           ]
          ]
         ],
         [
          [
           "El Design Thinking s’inspira en la forma de treballar dels dissenyadors i dissenyadores de producte per entendre i donar solució a les necessitats reals del públic a través de la innovació. Tot i que el concepte el va utilitzar per primera vegada Herbert Simon, Premi Nobel d’Economia, l’any 1969, va ser durant els anys 70 que es va desenvolupar de forma teòrica a la Universitat de Standford. Un dels seus professors, David Kelley, va fundar la firma de disseny IDEO, pionera a aplicar la metodologia a l’entorn empresarial.\n\nEl president executiu d’IDEO, Tim Brown, defineix el Design Thinking com “un enfocament de la innovació centrat en l’ésser humà, que es basa en el conjunt d’eines del dissenyador per integrar les necessitats de les persones, les possibilitats de la tecnologia i els requisits per a l’èxit empresarial”. És en la confluència d’aquests tres factors que s’origina la innovació i, com a conseqüència, l’emprenedoria. Per IDEO, “el Design Thinking és una manera de resoldre problemes mitjançant la creativitat (...). Adoptem una ment de principiant, amb la intenció de romandre oberts i curiosos, de no assumir res i de veure l’ambigüitat com una oportunitat”.",
           "/Volumes/dts_proves_pre/startups_documentacio/documentacio/Design-thinking_accessible.pdf"
          ]
         ],
         [
          "Design Thinking is a human-centered approach to innovation.",
          "Design Thinking integrates the needs of people, possibilities of technology, and requirements for business success.",
          "Design Thinking originated with Herbert Simon in 1969.",
          "Design Thinking was further developed at Stanford University in the 1970s.",
          "David Kelley, founder of IDEO, made significant contributions to the development of Design Thinking."
         ],
         "SYNTHETIC_FROM_DOC",
         "/Volumes/dts_proves_pre/startups_documentacio/documentacio/Design-thinking_accessible.pdf"
        ],
        [
         "cd134ddeb6aa8c148670826e26ceb31b56f09ec52d0452c7700d402e9395c8e2",
         [
          [
           [
            "Quins són els avantatges del finançament via fintech per a les startups?",
            "user"
           ]
          ]
         ],
         [
          [
           "Les _fintech_ ofereixen a les persones emprenedores i pimes diverses modalitats de finançament a través de plataformes digitals, que funcionen de manera àgil i flexible gràcies als beneficis tecnològics. Aquestes plataformes faciliten el registre i la sol·licitud del finançament necessari a les empreses i ofereixen temps d'aprovació i d’entrega de capital més ràpids i eficients. A més a més, han permès democratitzar l’accés als productes financers, fent-los arribar i entendre, de manera senzilla, a un conjunt més ampli i variat de persones usuàries.",
           "/Volumes/dts_proves_pre/startups_documentacio/documentacio/Cat-Empren_Fintech_accessible22.pdf"
          ]
         ],
         [
          "Fintech provides agile and flexible operations.",
          "Fintech offers quicker registration and application processes.",
          "Fintech ensures faster approval and capital delivery.",
          "Fintech democratizes access to financial products, making them more accessible to startups."
         ],
         "SYNTHETIC_FROM_DOC",
         "/Volumes/dts_proves_pre/startups_documentacio/documentacio/Cat-Empren_Fintech_accessible22.pdf"
        ],
        [
         "9fb762d721df7e83a8a8831b755d2c7637153e00b683d688bff84da2e16b4022",
         [
          [
           [
            "Què és el fintech i quin és el seu objectiu principal?",
            "user"
           ]
          ]
         ],
         [
          [
           "El terme _fintech_ prové de la unió de les paraules en anglès _finance_ i _technology_ i fa referència a aquelles activitats que impliquen l’ús de la innovació i la tecnologia en el desenvolupament de productes i serveis financers. Les empreses _fintech_ desgranen el negoci bancari en diverses àrees, conegudes com a “verticals”, i s’especialitzen en una d’elles per maximitzar la seva competitivitat. Ofereixen productes i serveis molt accessibles, atractius i intuïtius, dirigits a un públic nadiu digital que ha crescut en un entorn tecnològic i s’adapta amb rapidesa a aquests nous serveis. El seu objectiu és redefinir la forma d’entendre els serveis financers.",
           "/Volumes/dts_proves_pre/startups_documentacio/documentacio/Cat-Empren_Fintech_accessible22.pdf"
          ]
         ],
         [
          "Fintech involves the use of innovation and technology.",
          "Fintech focuses on developing financial products and services.",
          "The primary objective of fintech is to redefine the understanding and delivery of financial services."
         ],
         "SYNTHETIC_FROM_DOC",
         "/Volumes/dts_proves_pre/startups_documentacio/documentacio/Cat-Empren_Fintech_accessible22.pdf"
        ],
        [
         "1b778cd5a3f333cfbcfd94d9dec632b951676cdf2d7260379f9f81eb35d885ce",
         [
          [
           [
            "Quines són les principals tipologies de finançament a través de les tecnologies financeres i com funcionen?",
            "user"
           ]
          ]
         ],
         [
          [
           "Existeixen dues tipologies principals de finançament a través de les tecnologies financeres:\n\n- **Préstecs** **ràpids en línia** . Algunes _fintech_ ofereixen plataformes online des d’on particulars i empreses poden sol·licitar i rebre préstecs de petits imports, que es concedeixen de manera àgil amb un tipus d’interès estipulat. Aquestes empreses actuen amb una fitxa bancària europea, com les entitats financeres tradicionals, de manera que es regeixen per la mateixa regulació. Poden demanar uns mínims de solvència, entre d’altres indicadors.\n\n- **Plataformes de** **_crowdfunding_** **o finançament col·lectiu** . Es tracta d’un punt de trobada entre persones emprenedores amb l’objectiu de desenvolupar un projecte i persones inversores que vulguin finançar propostes del seu interès. Mitjançant les noves tecnologies, es facilita la seva interacció i l’intercanvi de recursos. Les plataformes de _crowdfunding_ tenen un període de temps establert per a la recaptació dels fons necessaris i només es fan arribar a la persona emprenedora si s’assoleix la fita marcada.",
           "/Volumes/dts_proves_pre/startups_documentacio/documentacio/Cat-Empren_Fintech_accessible22.pdf"
          ]
         ],
         [
          "The main types of financing through financial technologies are fast online loans and crowdfunding platforms.",
          "Fast online loans allow individuals and businesses to quickly obtain small loans.",
          "These loans have regulated interest rates and possible solvency requirements.",
          "Crowdfunding platforms connect entrepreneurs with investors to finance projects.",
          "Funds on crowdfunding platforms are transferred only if the financial goal is met within a specified period."
         ],
         "SYNTHETIC_FROM_DOC",
         "/Volumes/dts_proves_pre/startups_documentacio/documentacio/Cat-Empren_Fintech_accessible22.pdf"
        ],
        [
         "1fd5c7963f2dbb4d03efac894bc626317bbd8b2b31b56be5dd998ba8ba7e2952",
         [
          [
           [
            "Quins avantatges té la inversió d’un business angel per una nova empresa?",
            "user"
           ]
          ]
         ],
         [
          [
           "## 2. Què és un business angel ?\n\nEls _business angels_ són persones que inverteixen el seu capital privat en la creació\nd’una nova empresa, ajudant principalment a posar-la en marxa i a consolidar-la. Solen\ninvertir en _start-ups_ : projectes en fases inicials, amb un gran potencial de creixement i\namb expectatives de benefici. Sovint, no només hi participen amb aquesta inversió de\ncapital, sinó que també aporten coneixement tècnic, experiència en el món empresarial i la seva xarxa de contactes per afavorir el desenvolupament del projecte.\nAixò facilita la relació de l’empresa amb el seu entorn, és a dir, els clients i clientes\npotencials, empreses competidores, proveïdors, institucions financeres,\nl’administració...\n\nLes aportacions de capital dels _business angels_ solen oscil·lar entre els 25.000 i els\n300.000 euros aproximadament. Aquesta inversió els converteix en socis de l’empresa,\ntot i que la seva participació sol ser més aviat minoritària i permet a les persones\npromotores mantenir el poder de decisió. Per tant, les persones inversores poden tenir\nun paper més o menys actiu en el dia a dia de l’empresa. És habitual que ofereixin\nassessoria i suport a l’equip promotor gràcies al seu coneixement del sector. Solen\nromandre a l’empresa entre 3 i 5 anys, tot i que pot ser més temps, i normalment es\ndesvinculen de la companyia venent les seves participacions quan aquesta assoleix una\nfase de maduresa.",
           "/Volumes/dts_proves_pre/startups_documentacio/documentacio/Cat-Empren_Inversions_accessible22.pdf"
          ]
         ],
         [
          "Provides substantial financial capital",
          "Provides technical knowledge",
          "Offers business experience",
          "Offers valuable networking opportunities",
          "Provides support and advisory services",
          "Allows founders to maintain decision-making power"
         ],
         "SYNTHETIC_FROM_DOC",
         "/Volumes/dts_proves_pre/startups_documentacio/documentacio/Cat-Empren_Inversions_accessible22.pdf"
        ],
        [
         "436b9058374abfa8f727ea7fb938d288a5c4afa671651bb367b010cf57907974",
         [
          [
           [
            "Què hauries de tenir preparat abans de contactar amb una xarxa de business angels?",
            "user"
           ]
          ]
         ],
         [
          [
           "## 3. Com connectar amb business angels ?\n\nTot i que els _business angels_ actuen de manera individual, acostumen a organitzar-se a\ntravés de xarxes. Les xarxes de _business angels_ posen en contacte persones inversores\namb empreses que cerquen finançament. Analitzen els projectes empresarials, els\nfiltren i seleccionen i els fan arribar als _business angels_ en funció dels seus interessos o\ndels sectors que dominen. També poden participar en les empreses de manera\nconjunta.\n\nAquestes xarxes són una via interessant per accedir a inversors i inversores. Abans de\ncontactar-hi, hauràs de preparar una bona presentació del teu projecte, mitjançant el\npla d’empresa i un informe de viabilitat d’alguna entitat acreditada. Les persones\ninversores busquen projectes atractius, viables, fonamentats en estudis de mercat i\ncaracteritzats per un avantatge competitiu o tret diferenciador que els faci destacar de\nla competència. També tenen en consideració l’equip humà del projecte, ja que és qui\ns’encarrega de fer-lo factible.",
           "/Volumes/dts_proves_pre/startups_documentacio/documentacio/Cat-Empren_Inversions_accessible22.pdf"
          ]
         ],
         [
          "a good project presentation should be ready",
          "a detailed business plan should be prepared",
          "a feasibility report from an accredited entity should be available",
          "the project should be attractive, viable, based on market studies, and have a competitive advantage",
          "the project should have a strong team"
         ],
         "SYNTHETIC_FROM_DOC",
         "/Volumes/dts_proves_pre/startups_documentacio/documentacio/Cat-Empren_Inversions_accessible22.pdf"
        ],
        [
         "fdc280f1659fc41d4fe71f9437cddd79830de1ac4ff2de910e70e8e6935f2942",
         [
          [
           [
            "Què és el capital risc i quins tipus de projectes empresarials solen finançar les seves societats?",
            "user"
           ]
          ]
         ],
         [
          [
           "## 4. En què consisteix el capital risc?\n\nEl capital risc es basa a invertir capital financer en petites i mitjanes empreses a canvi\nde participacions temporals. Aquesta activitat la duen a terme societats gestionades\nper persones expertes i amb una base d’inversors i inversores darrere, que financen\nstart-ups en procés de creixement o reestructuració. Solen ser projectes empresarials\ninnovadors, de sectors dinàmics i amb bones previsions de beneficis en 5 o 10 anys, ja\nque aquestes societats busquen poder obtenir una important plusvàlua amb la venda\nde les seves participacions a mitjà o llarg termini.\n\nL’aportació de les societats de capital risc depèn de les dimensions del projecte. En\nempreses petites en fases inicials, la inversió sol ser d’entre 300.000 i 1.000.000\nd’euros, mentre que en empreses mitjanes més consolidades pot arribar als 10\nmilions. Acostumen a entrar a la companyia passada la fase llavor, en l’etapa de\ncreixement, quan el negoci ja ha entrat al mercat però necessita una inversió\nimportant per escalar. Tot i així, també hi ha fons de capital risc especialitzats en _startups_ en fases inicials. La seva participació no aporta tant de coneixement a la persona\nemprenedora com la del _business angel_ , però sí solvència i credibilitat davant de\ntercers. En algunes ocasions poden contribuir a la gestió amb assessorament, per\nexemple, en la presa de decisions estratègiques.",
           "/Volumes/dts_proves_pre/startups_documentacio/documentacio/Cat-Empren_Inversions_accessible22.pdf"
          ]
         ],
         [
          "Venture capital involves investing financial capital in small and medium-sized enterprises in exchange for temporary participations (stakes).",
          "Venture capital firms typically finance innovative and dynamic business projects with good profit forecasts over 5 to 10 years.",
          "These projects are commonly in growth phases, but also in some initial phases."
         ],
         "SYNTHETIC_FROM_DOC",
         "/Volumes/dts_proves_pre/startups_documentacio/documentacio/Cat-Empren_Inversions_accessible22.pdf"
        ],
        [
         "c60326f9fea28256b3a7a5e4641292f6d062a60075264474c49ed7b46156a438",
         [
          [
           [
            "Quins són els passos per aplicar la metodologia Lean Startup a una idea de negoci?",
            "user"
           ]
          ]
         ],
         [
          [
           "## 4. Passos per aplicar el Lean Startup al teu negoci\n\nEls passos fonamentals per validar la teva idea de negoci amb el Lean Startup són:\n\n-  **Formular una hipòtesi** : el primer pas es troba en la teva idea inicial i en la teva\n\ncapacitat d’innovar a partir de les oportunitats que ofereixi el mercat. Has\nd’establir quina necessitat cobrirà el teu negoci i crear una proposta de valor\nque la resolgui. Aquesta serà la teva hipòtesi. Entrevistar uns quants clients\npotencials et pot ajudar a identificar les seves preocupacions i també a saber si\nla teva solució els encaixa o l’has de modificar.\n\n-  **Crear** : en aquest punt ja hauràs de desenvolupar un prototip de la teva idea de\n\nnegoci. Serà l’anomenat Producte Mínim Viable, una versió que inclou les\ncaracterístiques bàsiques del producte per presentar-lo als teus clients\npotencials, obtenir les seves primeres valoracions i recopilar dades reals sobre\nla seva percepció del negoci. Te’n parlem més detalladament al punt 5 d’aquest\narticle, ja que és un concepte molt important. Aquí començarà el teu procés\nd’aprenentatge i podràs aplicar els canvis que consideris per optimitzar el\nproducte.\n\n-  **Mesurar** : per poder continuar amb el procés d’innovació, necessitaràs mesurar\n\nel teu progrés. Hauràs de definir els indicadors clau de rendiment o KPI per\nmesurar si estàs complint els objectius del projecte i tenir una referència sobre\nel rendiment de les teves accions. Com et troben les persones usuàries?\nTornen, després de la primera experiència? Realitzen l’acció que tu esperes?\n\nCada projecte requereix unes mètriques diferents, en funció del que necessitis\nsaber per poder prendre les decisions següents. És el que Eric Ries anomena\n“comptabilitat de la innovació”.\n\n-  **Aprendre** : totes aquestes dades et proporcionaran coneixement del mercat i la\n\ncompetència, del teu públic objectiu, de la percepció del teu producte i d’altres\nfactors com el preu o la distribució. Hauràs de transformar tota aquesta\ninformació real en aprenentatge i incorporar-la al teu negoci. Steve Blank\nanomena aquest procés “pivotar”: “No només és canviar el producte. Pot ser\nun canvi substancial en qualsevol dels 9 components del model de negoci: el\nsegment de clients, el canal, el model d’ingressos, els recursos (...)”, explica.\n\n-  **Repetir** : si ho consideres, pots posar en marxa de nou el procés per identificar\n\nnoves oportunitats de millora. La metodologia es basa en la innovació\ncontinuada, i reiterar el mètode et proporcionarà cada vegada informació més\nprecisa.",
           "/Volumes/dts_proves_pre/startups_documentacio/documentacio/Lean-Startup_accessible22.pdf"
          ]
         ],
         [
          "Formulate a hypothesis.",
          "Create.",
          "Measure.",
          "Learn.",
          "Repeat."
         ],
         "SYNTHETIC_FROM_DOC",
         "/Volumes/dts_proves_pre/startups_documentacio/documentacio/Lean-Startup_accessible22.pdf"
        ],
        [
         "54b9819225d814767fdb791e37a36d02d2306dfaf6fe9aef40cff6e255297461",
         [
          [
           [
            "Quins són els avantatges de la metodologia Lean Startup?",
            "user"
           ]
          ]
         ],
         [
          [
           "## 2. Què és el Lean Startup\n\nUna manera interessant de validar la idea de negoci és adaptant-la a allò que el mercat\ndemanda i no a la teva pròpia visió. D’aquesta premissa neix el Lean Startup, una\nmetodologia creada per Steve Blank, emprenedor de Silicon Valley, i més tard\ndesenvolupada per Eric Ries en el seu llibre _El método Lean Startup_ l’any 2008. El Lean\nStartup busca canviar la fórmula tradicional de creació d’una empresa mitjançant la\nqual es comença creant un pla de negoci, es busca finançament, es desenvolupa el\nproducte i es posen tots els esforços a vendre’l. Només després de tot el procés i la\ninversió de recursos la persona emprenedora pot obtenir les primeres respostes del\npúblic i descobrir que el seu producte potser no s’adequa a les necessitats del mercat.\n\n## 3. Els avantatges d’utilitzar la metodologia\n\nEl Lean Startup fa molt menys arriscat l’inici de qualsevol projecte emprenedor i\nmillora les seves probabilitats d’èxit a través d’errar ràpid i aprendre contínuament.\nPermet saber si el projecte té acceptació al mercat, si respon als desitjos del client o si\n\ncal donar-li un nou enfocament, amb la mínima inversió de recursos. Alguns dels\navantatges d’utilitzar la metodologia són:\n\n-  Menys riscos, especialment pel que fa a les grans inversions de diners en les\n\nfases inicials d’un projecte, quan encara no se sap si encaixarà al mercat.\n\n-  Processos més eficients, ja que té l’objectiu d’aprofitar al màxim possible els\n\nrecursos i extreure’n tot el valor, evitant perdre temps.\n\n-  Més garanties d’èxit, perquè el producte s’ajusta a les necessitats del públic des\n\nde les fases inicials del desenvolupament.\n\n-  Decisions més oportunes, ja que permet avançar en el camí amb l’ajuda de\n\ndades reals i no només de la intuïció o la planificació.\n\n-  Desenvolupament pautat i estructurat del model de negoci gràcies als passos\n\nque marca la metodologia.",
           "/Volumes/dts_proves_pre/startups_documentacio/documentacio/Lean-Startup_accessible22.pdf"
          ]
         ],
         [
          "The Lean Startup methodology reduces risk.",
          "The Lean Startup methodology makes processes more efficient.",
          "The Lean Startup methodology provides higher guarantees of success.",
          "The Lean Startup methodology enables more timely decisions.",
          "The Lean Startup methodology assists in developing a structured business model."
         ],
         "SYNTHETIC_FROM_DOC",
         "/Volumes/dts_proves_pre/startups_documentacio/documentacio/Lean-Startup_accessible22.pdf"
        ],
        [
         "9be71a1bf48c9ec1d52bd9553d5b5b8788a059a1e01ff2a50e3e3e46765c609a",
         [
          [
           [
            "Què s'entén per tecnologies exponencials i com poden canviar la societat?",
            "user"
           ]
          ]
         ],
         [
          [
           "Les tecnologies exponencials són aquelles tecnologies que segueixen una pauta de\ncreixement exponencial i estan transformant de manera molt ràpida i disruptiva certs\nmodels de negoci i aportant solucions a diferents problemes de la societat. Les\ntecnologies exponencials plantegen nous escenaris de futur.\n\nSom conscients que la velocitat de la tecnologia és impressionant, fins ara ja hem\nviscut molts canvis tecnològics, però ens endinsem en un moment on es preveuen\nmés canvis, més disruptius i amb més impacte que prometen reestructurar la manera\ncom produïm, la manera que ens comuniquem, la dinàmica de les nostres relacions\npersonals, o la interacció amb la societat en general.",
           "/Volumes/dts_proves_pre/startups_documentacio/documentacio/Tecnologies-exponencials_CAT.pdf"
          ]
         ],
         [
          "Exponential technologies grow at an exponential rate.",
          "They transform business models and solve societal problems rapidly.",
          "They significantly impact production methods, communication, personal relationships, and overall societal interactions."
         ],
         "SYNTHETIC_FROM_DOC",
         "/Volumes/dts_proves_pre/startups_documentacio/documentacio/Tecnologies-exponencials_CAT.pdf"
        ],
        [
         "f2886d80541323246e0978c0277508f8ef242711ff5f202e20cb2ba960f40a34",
         [
          [
           [
            "Com impacten les tecnologies de la quarta revolució industrial en els models de negoci tradicionals?",
            "user"
           ]
          ]
         ],
         [
          [
           "La quarta revolució industrial ens explica que hi ha un conjunt de tecnologies que\ncreen un nou paradigma que és totalment diferencial de la revolució digital iniciada\nels anys seixanta i setanta. El nou paradigma de la quarta revolució industrial es\nrepresenta amb un conjunt de tecnologies amb alt impacte econòmic i social.",
           "/Volumes/dts_proves_pre/startups_documentacio/documentacio/Tecnologies-exponencials_CAT.pdf"
          ]
         ],
         [
          "Fourth industrial revolution technologies have a substantial economic and social impact.",
          "These technologies likely transform traditional business models.",
          "The transformations include increased operational efficiency.",
          "The transformations include innovations in products and services.",
          "The transformations include changes in market dynamics and consumer expectations."
         ],
         "SYNTHETIC_FROM_DOC",
         "/Volumes/dts_proves_pre/startups_documentacio/documentacio/Tecnologies-exponencials_CAT.pdf"
        ],
        [
         "33262fced23d87525f0b8806953a3eca8d6600dd899e595f51e5e8fc47cddb74",
         [
          [
           [
            "Quin és l'impacte de les noves xarxes de comunicació 5G i IoT en la fabricació industrial?",
            "user"
           ]
          ]
         ],
         [
          [
           "Les noves xarxes de comunicació 5G i “IoT”\nEstàndard de comunicació que permet navegar fins a 100 vegades més ràpid i\nredueix la latència a menys d'una mil·lèsima de segon, sense dependre que altres\ndispositius estiguin connectats o no al mateix temps. Tant la Indústria 4.0 com la\nfàbrica intel·ligent i l'Internet de les Coses (IoT) són el futur de la fabricació industrial.",
           "/Volumes/dts_proves_pre/startups_documentacio/documentacio/Tecnologies-exponencials_CAT.pdf"
          ]
         ],
         [
          "5G and IoT increase efficiency in industrial manufacturing.",
          "5G and IoT increase responsiveness in industrial manufacturing.",
          "5G and IoT support the development of Industry 4.0 or smart factories."
         ],
         "SYNTHETIC_FROM_DOC",
         "/Volumes/dts_proves_pre/startups_documentacio/documentacio/Tecnologies-exponencials_CAT.pdf"
        ],
        [
         "9570d6f255805e0e21dc8d934f3d759a78971c8851b57769ffa4aa6c44d9722b",
         [
          [
           [
            "Per què les tecnologies exponencials es consideren utilitzables i pràctiques en diferents sectors?",
            "user"
           ]
          ]
         ],
         [
          [
           "Les tecnologies exponencials comprenen dues característiques principals:\n\n1) Aquelles que segueixen patró de creixement exponencial: en molt poc temps, el preu i la complexitat d'aquest tipus de tecnologies exponencials va disminuint i, alhora, la seva capacitat i nombre d'aplicacions que les aprofiten van creixent de manera exponencial.\n\n2) Són utilitzables, pràctiques i assequibles, són capaces de resoldre problemes reals i de diferents sectors.",
           "/Volumes/dts_proves_pre/startups_documentacio/documentacio/Tecnologies-exponencials_CAT.pdf"
          ]
         ],
         [
          "Exponential technologies solve real problems.",
          "Exponential technologies are affordable.",
          "Exponential technologies are practical."
         ],
         "SYNTHETIC_FROM_DOC",
         "/Volumes/dts_proves_pre/startups_documentacio/documentacio/Tecnologies-exponencials_CAT.pdf"
        ],
        [
         "3f4d35bdc086ab67196df87282cbd1d3ba00368b5259ea096f84a3a850d7d3b6",
         [
          [
           [
            "Pots donar-me exemples de tecnologies exponencials que poden transformar la societat en el futur?",
            "user"
           ]
          ]
         ],
         [
          [
           "A continuació es descriu el llistat de les 23 tecnologies de la quarta revolució\nindustrial, desenvolupat per Klaus Schwab que ens ajuda a reflexionar entorn de la\nprevisió que es fa del 2025.",
           "/Volumes/dts_proves_pre/startups_documentacio/documentacio/Tecnologies-exponencials_CAT.pdf"
          ]
         ],
         [
          "The context does not provide specific examples of exponential technologies that can transform society in the future."
         ],
         "SYNTHETIC_FROM_DOC",
         "/Volumes/dts_proves_pre/startups_documentacio/documentacio/Tecnologies-exponencials_CAT.pdf"
        ],
        [
         "2a3ee618dae779bba062b9e3956236fbbcbd6d487902bddfc149a0cdaa82dcae",
         [
          [
           [
            "Com puc generar idees empresarials basades en la meva experiència o habilitats?",
            "user"
           ]
          ]
         ],
         [
          [
           "“Tot i que les generalitzacions mai són del tot adequades, quan parlem de generació d’idees empresarials existeixen orígens comuns en la majoria dels casos de creació d’una empresa.\n\nEn la seva majoria, els emprenedors es basen a l’hora de muntar un negoci en el següent:\n\n� L’experiència laboral prèvia,\n\n� L’anàlisi dels canvis perceptibles en l’entorn,\n\n� La seva formació,\n\n� La còpia o la importació d’idees vistes a d’altres llocs,\n\n� L’aplicació d’habilitats pròpies.\n\nEn moltes ocasions, la idea de negoci té una finalitat com a font d’origen. Les principals són:\n\n� Fer les coses millor que els altres,\n\n� Satisfer una necessitat no satisfeta pel mercat,\n\n� Ocupar un nínxol petit,\n\n� Idear una nova manera de fer.”",
           "/Volumes/dts_proves_pre/startups_documentacio/documentacio/idea_nomes_una_peces_cat_tcm124_44443.pdf"
          ]
         ],
         [
          "Analyze your previous work to identify industry gaps or inefficiencies.",
          "Apply your unique skills to improve or innovate processes.",
          "Consider how your expertise could meet unmet market needs.",
          "Explore niche markets where your skills and experience are relevant."
         ],
         "SYNTHETIC_FROM_DOC",
         "/Volumes/dts_proves_pre/startups_documentacio/documentacio/idea_nomes_una_peces_cat_tcm124_44443.pdf"
        ],
        [
         "f66daa973c510a0d99ecbc3fbb88df76b35de17a6b26604d0efebe2e530df550",
         [
          [
           [
            "Per què és important desenvolupar un pla d’empresa en el procés de creació d’una startup?",
            "user"
           ]
          ]
         ],
         [
          [
           "“El primer pas en el procés de creació d’una empresa és la generació de la idea de negoci, però aquest pas ha d’estar seguit i recolzat pel desenvolupament d’aquesta idea. Tan o més important és tenir la idea com madurar-la, per tal d’eventualment analitzar la seva viabilitat i les seves possibilitats reals de sobreviure al mercat.\n\nL’eina de major ajuda durant el procés de desenvolupament i maduració de la idea és el pla d’empresa. El pla d’empresa com a eina de reflexió interna, com a element que posa en dubte i en constant repte la idea generada, des d’un punt de vista de viabilitat conceptual i economicofinancera. I és que una bona idea o una idea original es convertirà en viable en el moment en què hi hagi una massa crítica suficient disposada a comprar el producte o servei que proposem.”",
           "/Volumes/dts_proves_pre/startups_documentacio/documentacio/idea_nomes_una_peces_cat_tcm124_44443.pdf"
          ]
         ],
         [
          "A business plan helps in reflecting on the startup idea internally.",
          "A business plan challenges the viability of the startup idea both conceptually and financially.",
          "A business plan determines if there is a sufficient market for the proposed product or service."
         ],
         "SYNTHETIC_FROM_DOC",
         "/Volumes/dts_proves_pre/startups_documentacio/documentacio/idea_nomes_una_peces_cat_tcm124_44443.pdf"
        ],
        [
         "3c5b6086981d3cf6d9fcd0f60051e4a00ef912e0c28b5c392b82674f424f50a5",
         [
          [
           [
            "Quins aspectes fonamentals depenen de la tria de la forma jurídica del teu projecte emprenedor?",
            "user"
           ]
          ]
         ],
         [
          [
           "Una de les decisions més importants que han de prendre les persones emprenedores a l’hora de tirar endavant el seu projecte emprenedor és la tria de la forma jurídica. D’això en depenen aspectes fonamentals com la gestió empresarial o l’assumpció de responsabilitats dels socis i sòcies. Per prendre aquesta decisió, has de tenir clares algunes característiques de la teva idea de negoci com el capital, el nombre de persones promotores o el tipus d’activitat que duràs a terme. Cada forma jurídica té les seves particularitats i hauràs de triar la que millor s’adapti a les teves necessitats. En aquest article t’expliquem els factors que cal tenir en compte a l’hora d’escollir i les formes jurídiques més interessants per a persones emprenedores.",
           "/Volumes/dts_proves_pre/startups_documentacio/documentacio/Cat-Empren_Com-triar-la-forma-juridica_accessible-2022.pdf"
          ]
         ],
         [
          "The choice of legal form affects business management.",
          "The choice of legal form affects the assumption of responsibilities of the partners."
         ],
         "SYNTHETIC_FROM_DOC",
         "/Volumes/dts_proves_pre/startups_documentacio/documentacio/Cat-Empren_Com-triar-la-forma-juridica_accessible-2022.pdf"
        ],
        [
         "3104d05648734e8c84ebfee8c58667498fc2fd66b544a12273287156425aaca0",
         [
          [
           [
            "Quins són els aspectes fonamentals que has de definir abans d'escollir la forma jurídica del teu projecte empresarial?",
            "user"
           ]
          ]
         ],
         [
          [
           "Abans d’escollir, has de definir alguns aspectes fonamentals del teu projecte empresarial com els següents:\n- El nombre de socis i sòcies. El nombre de persones que participin en la creació del negoci és un factor clau. Pots iniciar l’empresa per compte propi de manera individual, o comptar amb més persones promotores i crear, com és habitual, una forma societària. Algunes formes jurídiques preveuen una sola persona i d’altres exigeixen un nombre mínim de membres. Pot semblar que amb menys socis i sòcies la presa de decisions és menys complexa, però comptar amb altres persones permet repartir el pes de la gestió i les obligacions i aconseguir una major aportació de capital.\n- El capital inicial. El capital del qual disposis per engegar la teva empresa és un factor important. Algunes formes jurídiques requereixen un capital mínim inicial que cal aportar per començar l’activitat, com és el cas de la societat limitada o anònima. Per algunes altres, com establir-se de persona autònoma, no cal aportar cap capital inicial.\n- La responsabilitat patrimonial. És el deure que tenen les persones físiques o jurídiques de respondre amb el patrimoni a les seves obligacions. En el cas dels autònoms i autònomes, la llei no distingeix entre l’empresa i la persona, fet que significa que davant d’un deute o problema empresarial, responen amb els seus béns. En el cas d’una societat amb personalitat jurídica, pots tenir responsabilitat limitada i respondre pel capital aportat.\n- El tipus d’activitat. No totes les activitats empresarials poden establir-se amb qualsevol forma jurídica. Algunes, per les seves característiques o per obligació de la normativa, han d’estar associades a una forma jurídica determinada. En algunes activitats de més risc econòmic, per exemple, s’aconsellen les formes d’empresa amb responsabilitat limitada.\n- La fiscalitat. Els règims de tributació són un altre dels aspectes a valorar. La persona autònoma tributa per l’impost de la renda de les persones físiques (IRPF), mentre que les societats ho fan per l’impost de societats...",
           "/Volumes/dts_proves_pre/startups_documentacio/documentacio/Cat-Empren_Com-triar-la-forma-juridica_accessible-2022.pdf"
          ]
         ],
         [
          "The number of partners",
          "The initial capital",
          "The patrimonial responsibility",
          "The type of activity",
          "The taxation"
         ],
         "SYNTHETIC_FROM_DOC",
         "/Volumes/dts_proves_pre/startups_documentacio/documentacio/Cat-Empren_Com-triar-la-forma-juridica_accessible-2022.pdf"
        ],
        [
         "382fb05e24bd0d57894b36fa279068352c78875f8a062640d88ded35cc5d5f2e",
         [
          [
           [
            "Quines són les diferències principals entre una empresa individual, una societat civil i una societat de responsabilitat limitada?",
            "user"
           ]
          ]
         ],
         [
          [
           "Et parlem d’algunes de les formes jurídiques que més et poden interessar com a persona emprenedora:\n- Empresari o empresària individual: també conegut com autònom o autònoma, és una persona física que realitza de forma habitual una activitat econòmica o professional en nom propi. Permet desenvolupar un negoci individualment i assumir-ne tota la gestió. Els tràmits per establir-se com a persona autònoma són els més simples, no hi ha límits de capital ni es requereix un capital inicial mínim. La responsabilitat, però, és il·limitada i això implica respondre amb el patrimoni personal si l’activitat va malament. Paga l’impost de la renda de les persones físiques (IRPF) i no l’impost de societats.\n- Societat civil: és un contracte privat de col·laboració entre un mínim de dues persones o més que desitgen realitzar una activitat amb ànim de lucre. La societat civil no té personalitat jurídica pròpia. Els tràmits de constitució són àgils: es fa a través d’un contracte on s’especifiquen les aportacions dels socis i sòcies, el percentatge de participació en les pèrdues i els guanys i les causes de liquidació i dissolució. No és obligatori, tot i que és recomanable, fer una escriptura pública davant notari. No s’exigeix un mínim de capital inicial, i es pot aportar diners, béns, treball, serveis o activitat. La responsabilitat dels socis i sòcies és il·limitada i, per tant, responen amb patrimoni personal a les obligacions de l’empresa. Tributa en l’impost de societats i per això ha de portar una comptabilitat similar a la d’una societat limitada.\n- Societat de responsabilitat limitada: es tracta de la forma jurídica més habitual entre petites i mitjanes empreses, amb poques persones promotores i capital reduït. En aquesta societat, el capital està integrat per les aportacions de tots els socis i sòcies i es divideix en participacions socials, indivisibles i acumulables. Aquestes persones no han de respondre personalment pels deutes, sinó en funció de l’aportació realitzada. El capital social requerit és d’un mínim de 3.000€ i la forma jurídica permet força flexibilitat de gestió i d’organització...",
           "/Volumes/dts_proves_pre/startups_documentacio/documentacio/Cat-Empren_Com-triar-la-forma-juridica_accessible-2022.pdf"
          ]
         ],
         [
          "Empresa individual is managed by one person.",
          "Societat civil involves a contract between at least two people and has no legal personality.",
          "Societat de responsabilitat limitada includes multiple people and has legal personality.",
          "Empresa individual and Societat civil have no initial capital requirement.",
          "Societat de responsabilitat limitada requires a minimum capital of 3,000€.",
          "Empresa individual and Societat civil have unlimited personal liability.",
          "Societat de responsabilitat limitada has limited liability.",
          "Empresa individual is taxed through IRPF (personal income tax).",
          "Societat civil and Societat de responsabilitat limitada are taxed through corporate tax."
         ],
         "SYNTHETIC_FROM_DOC",
         "/Volumes/dts_proves_pre/startups_documentacio/documentacio/Cat-Empren_Com-triar-la-forma-juridica_accessible-2022.pdf"
        ],
        [
         "93f11d8402027b5bd27c9305e9b3ac9412f39312f24b9e4f39c7aa78a9ebe743",
         [
          [
           [
            "Quins avantatges té utilitzar el forfetatge per una empresa exportadora?",
            "user"
           ]
          ]
         ],
         [
          [
           "##### Forfetatge\n\n**Definició**\n\nInstrument que permet la venda d’efectes comercials en divises d’una empresa exportadora (lletres de canvi acceptades, crèdits documentaris, cartes de crèdit, avals o qualsevol altra forma de promesa de pagament) a una entitat financera.\n\n**Característiques:**\n\n**■** L’empresa exportadora cobrarà un import inferior al nominal de l’efecte i s’alliberarà del risc d’impagament. Es tractarà d’una venda sense recurs, on l’entitat financera renunciarà de forma explícita al seu dret legal de demanda davant dels anteriors proveïdors del deute.\n\n**■** Els efectes en divises estaran garantits per una entitat associada als deutors de l’empresa exportadora.\n\n**■** S’utilitzarà majoritàriament en operacions d’exportació, atès que cobreix els riscos inherents a l’activitat.\n\n**Avantatges:**\n\n**■** L’allibera Transfereix a l’entitat financera el risc d’impagament.\n\n**■** Millora la seva liquiditat en cobrar al comptat.\n\n**■** Elimina riscos polítics i administratius futurs, així com el comercial i de tipus de canvi de les divises involucrades diferents a l’euro.\n\n**■** Estalvia costos d'administració i de gestió de cobraments (contractació d’assegurances o similars).\n\n**■** Permet finançar el 100% de l'import de l'operació.\n\n**■** Aquesta operació pot efectuar-se en qualsevol moment dins del període de venciment i de manera individualitzada de la totalitat dels efectes.\n\n**Inconvenients:**\n\n**■** Tipus d'interès alts, al mateix temps que s'assumeix el risc del forfetatge.\n\n**■** Poca predisposició dels importadors a facilitar una garantia o aval associada als efectes.",
           "/Volumes/dts_proves_pre/startups_documentacio/documentacio/Glossari-dinstruments-financers_Annex-1_tcm124-103473.pdf"
          ]
         ],
         [
          "Forfeiting transfers the risk of non-payment to the financial entity",
          "Forfeiting improves liquidity by providing cash payment to the exporting company",
          "Forfeiting eliminates future political, administrative, commercial, and currency exchange risks",
          "Forfeiting saves on administration and collection management costs",
          "Forfeiting allows financing of 100% of the operation amount",
          "Forfeiting allows flexible timing for the operation within the maturity period"
         ],
         "SYNTHETIC_FROM_DOC",
         "/Volumes/dts_proves_pre/startups_documentacio/documentacio/Glossari-dinstruments-financers_Annex-1_tcm124-103473.pdf"
        ],
        [
         "3b42fe2efb263eb4e0cbf663fdcec403e5cc7a685b9bcf67e7d50d90908b0ed9",
         [
          [
           [
            "Quines són les característiques principals del préstec participatiu?",
            "user"
           ]
          ]
         ],
         [
          [
           "##### Préstec participatiu\n\n**Definició**\n\nInstrument de finançament a llarg termini en què l'entitat prestadora concedeix un préstec a una empresa prestatària rebent d’aquesta empresa un interès variable, que es determina en funció de l'evolució de l'activitat de l’empresa i amb la possibilitat de poder incorporar períodes de carència.\n\n**Característiques:**\n\n**■** L’empresa prestatària només podrà amortitzar anticipadament el préstec participatiu, si aquesta amortització es compensa amb una ampliació d'igual quantia dels seus fons propis.\n\n**■** Els interessos meritats es componen d’una part fixa i, depenent de la situació, també poden tenir una part variable en funció dels resultats.\n\n**■** Acostumen a tenir un venciment a llarg termini, entre cinc i deu anys.\n\n**■** En ordre a la prelació de crèdits, l’empresa prestatària se situarà després dels creditors comuns.\n\n**■** Es considera patrimoni comptable a l'efecte de reducció de capital i liquidació de societats, previstes en la legislació mercantil.",
           "/Volumes/dts_proves_pre/startups_documentacio/documentacio/Glossari-dinstruments-financers_Annex-1_tcm124-103473.pdf"
          ]
         ],
         [
          "Early repayment of the loan requires an equivalent increase in equity.",
          "The interest on the loan can include a fixed component and possibly a variable component based on company performance.",
          "The term of the loan typically ranges from five to ten years.",
          "The loan ranks after common creditors in precedence.",
          "The loan is considered equity for capital reduction and liquidation purposes."
         ],
         "SYNTHETIC_FROM_DOC",
         "/Volumes/dts_proves_pre/startups_documentacio/documentacio/Glossari-dinstruments-financers_Annex-1_tcm124-103473.pdf"
        ],
        [
         "398590c8501e144a3428da991b0abcbca94ae0b37f63544b5411ead7d6b39318",
         [
          [
           [
            "Què és el capital de risc i quins tipus d'entitats de capital de risc existeixen?",
            "user"
           ]
          ]
         ],
         [
          [
           "##### Capital de risc\n\n**Definició**\n\nInstrument Activitat financera que consisteix en la presa de participacions, amb caràcter temporal i minoritari, en el capital de petites i mitjanes empreses no cotitzades en Borsa.\n\n**Característiques:**\n\n**■** L’objectiu bàsic és la capitalització de la societat, que possibilita l’execució del pla de creixement previst, estalvia temps d’execució i augmenta el valor de mercat de l’empresa\n\n**■** Els instruments de participació directa al capital de l’empresa poden ser: accions ordinàries, accions preferents i obligacions convertibles.\n\n**■** Existeixen dos tipus d’entitats de capital risc: \n\n▫ **Societat de capital risc (SCR)**: societat que inverteix els seus recursos propis en el finançament temporal i minoritari de petites i mitjanes empreses innovadores, aportant un valor afegit en forma de suport gerencial. No sol tenir durada limitada i pot incrementar els seus recursos mitjançant ampliacions de capital.\n\n▫ **Societat gestora de fons de capital de risc (SGR)**: Grup d'especialistes, de reconeguda experiència i prestigi, en inversions de capital risc dedicats a promoure la constitució i a desenvolupar la gestió de fons de capital de risc de durada temporal, a canvi d'una quantitat fixa més una participació en les plusvàlues realitzada en la desinversió.\n\n**■** Les societats de capital de risc (SCR) i les societats gestores de capital de risc (SGR) són societats anònimes.",
           "/Volumes/dts_proves_pre/startups_documentacio/documentacio/Glossari-dinstruments-financers_Annex-1_tcm124-103473.pdf"
          ]
         ],
         [
          "Venture capital is a financial activity involving temporary and minority participation in the capital of small and medium-sized enterprises not publicly listed on the stock market.",
          "There are two types of venture capital entities:\n  - Venture Capital Company (SCR) - invests its own resources in innovative small and medium enterprises.\n  - Venture Capital Fund Management Company (SGR) - specialists that promote and manage venture capital funds."
         ],
         "SYNTHETIC_FROM_DOC",
         "/Volumes/dts_proves_pre/startups_documentacio/documentacio/Glossari-dinstruments-financers_Annex-1_tcm124-103473.pdf"
        ],
        [
         "47c9de53ab145cfc358e27f23602ca3858887d2e00636a6a9127ec0345e274e0",
         [
          [
           [
            "Quins són alguns exemples de productes de finançament bancari?",
            "user"
           ]
          ]
         ],
         [
          [
           "“Com hem dit anteriorment, el finançament bancari és aquell que prové de les entitats financeres.\nSeguidament, presentem els productes de finançament bancari més habituals:\n\n### Préstec\n\nEl préstec bancari és un dels tipus de finançament més utilitzat. Consisteix en l’aportació d’un import (nominal), el qual s’ha de tornar en un termini fixat i/o amb una periodicitat, més un interès. L’operació també té unes despeses d’operativa (comissions). Una vegada has sol·licitat el préstec a l’entitat financera i aquesta accepta donar-te’l, el primer que has de mirar són les condicions que et proposi. En el contracte del préstec, han d'aparèixer una sèrie d’aspectes que has de revisar i tenir en compte si no vols emportar-te ensurts més endavant:\n\nEl primer de tot és el tipus d'interès, és a dir, el preu que et cobra l’entitat per deixar-te els diners.\n\nLes comissions són despeses que es produeixen en moments puntuals. Les més habituals són les d'obertura, tancament i per impagament d'alguna quota. Són negociables.\n\nEl termini d'amortització del préstec: significa el període que tens per tornar els diners rebuts. Determina la quota que et quedarà. Si vols tornar (amortitzar) el préstec en poc temps, les quotes seran més grans. Com més temps, més fraccionat. És important el termini de venciment, els interessos i les comissions aplicades.\n\nEl període de carència, que és el període en el qual només es paguen interessos i, per tant, no s'amortitza capital.\n\nRecorda que cal acomodar el termini d’amortització del préstec a la tipologia d’inversió a finançar i a la seva durada a l’empresa, per tal que el finançament es pugui tornar a mesura que aquesta inversió es transforma en diners a través de l’operativa de l’empresa.”",
           "/Volumes/dts_proves_pre/startups_documentacio/documentacio/Financament.pdf"
          ]
         ],
         [
          "A bank financing product should include examples such as a loan (préstec)."
         ],
         "SYNTHETIC_FROM_DOC",
         "/Volumes/dts_proves_pre/startups_documentacio/documentacio/Financament.pdf"
        ],
        [
         "a4dff0620b5ffe9f36730a5c099c0ecb2067a4adf1300b58603456f19201dd7c",
         [
          [
           [
            "Què és el finançament i quina diferència hi ha entre actiu no corrent i actiu corrent?",
            "user"
           ]
          ]
         ],
         [
          [
           "“Consisteix en l’aportació dels recursos econòmics necessaris per a la compra dels elements que el negoci necessita per funcionar i desenvolupar la seva activitat. Aquests elements s’anomenen actiu no corrent si estaran més d’un any a l’empresa i són actiu corrent si estaran en el negoci un període inferior a dotze mesos.”",
           "/Volumes/dts_proves_pre/startups_documentacio/documentacio/Financament.pdf"
          ]
         ],
         [
          "Financing is the provision of economic resources necessary for a business to function and carry out its activities.",
          "Non-current assets are in the business for more than a year.",
          "Current assets remain in the business for less than twelve months."
         ],
         "SYNTHETIC_FROM_DOC",
         "/Volumes/dts_proves_pre/startups_documentacio/documentacio/Financament.pdf"
        ],
        [
         "592978748fc9ababf2eede9ff4f435e59de84d9de930ce2ba0205382b5c52326",
         [
          [
           [
            "Quines mesures ha implementat la Generalitat de Catalunya per ajudar PIMES i autònoms afectats per la Covid-19?",
            "user"
           ]
          ]
         ],
         [
          [
           "“Degut a la situació provocada per la Covid-19, des de les diferents administracions s’han pres un conjunt de mesures, en forma de préstecs, ajudes i subvencions, a fi d’ajudar a PIMES i persones treballadores autònomes a superar aquesta situació.\n\nEn els enllaços següents pots consultar les mesures de la Generalitat de Catalunya per fer front a l’impacte econòmic i social de la Covid-19:\n\n1. Recull de Canal Empresa d'ajuts per a empreses i autònoms per fer front a l’impacte econòmic i social de la Covid-19.\n**[Ajuts i prestacions per a empreses i autònoms- Mesures COVID-19 Canal](https://canalempresa.gencat.cat/ca/01_que_voleu_fer/mesuresempresesiautonoms/mesures-economiques-i-socials-per-a-empreses-i-autonoms/ajuts-i-prestacions-per-empreses-i-autonoms/)**\n\n2. Recull de línies de préstecs i crèdits Canal Empresa, per reforçar la liquiditat del teixit productiu i evitar la sortida del mercat d'empreses solvents afectades negativament per aquesta situació transitòria i excepcional.\n**[Crèdits i préstecs- Mesures COVID-19 Canal Empresa](https://canalempresa.gencat.cat/ca/01_que_voleu_fer/mesuresempresesiautonoms/mesures-economiques-i-socials-per-a-empreses-i-autonoms/mesures-per-facilitar-la-liquiditat-credits-i-prestecs/)**\n\n3. Cercador d’ajuts, subvencions, finançament i serveis que ofereixen les diferents administracions i organismes per a les empreses i projectes d’emprenedoria ubicats a Catalunya, elaborat per ACCIÓ.\n**[Cercador d'ajuts i serveis per a l'empresa a Catalunya Acció](https://www.accio.gencat.cat/ca/serveis/cercador-ajuts-empresa/?ajserv_text=&ajserv_sectors=24d99c5c-725c-11ea-8b7c-005056924a59)**”",
           "/Volumes/dts_proves_pre/startups_documentacio/documentacio/Financament.pdf"
          ]
         ],
         [
          "The Generalitat de Catalunya has provided financial aid, subsidies, and grants.",
          "The Generalitat de Catalunya offers lines of loans and credits to reinforce liquidity and prevent the exit of solvent companies impacted by the pandemic.",
          "The Generalitat de Catalunya has created a search engine for aids, subsidies, financing, and services for companies and entrepreneurial projects in Catalonia."
         ],
         "SYNTHETIC_FROM_DOC",
         "/Volumes/dts_proves_pre/startups_documentacio/documentacio/Financament.pdf"
        ],
        [
         "adcef1748828b9d42bf35bd0ffb12baeb1cc5d8ad435c219767f32859fe9a99a",
         [
          [
           [
            "Pots explicar les diferències entre el finançament a curt termini i a llarg termini?",
            "user"
           ]
          ]
         ],
         [
          [
           "“És aquell en què el termini de devolució o venciment és inferior a un any.\nAlguns exemples són:\n-  El crèdit bancari a curt termini\n-  la pòlissa de crèdit\n-  el factoring\n-  el confirming\n-  el crowdfunding de recompensa\n-  el crowdfunding de préstec o crowdlending\nEl finançament a curt termini és adequat per finançar elements de l’empresa que tarden poc temps a fer-se líquids, és a dir, a transformar-se en diners. D’aquesta manera, el ritme al que aquests elements es transformen en diners s’adequa al ritme al que aquests diners s’han de tornar a l’entitat que els hagi deixat.\n\n### Finançament a llarg termini:\n\nÉs aquell en què el venciment és superior a un any. En el cas dels recursos aportats per les persones promotores del negoci i dels estalvis generats per la mateixa empresa (fons propis), no existeix obligació de devolució.\n\nAlguns exemples són:\n-  el crowdfunding d’inversió o capital\n-  Business angels o persones inversores privades\n-  préstecs bancaris\n-  lísing\n-  rènting”",
           "/Volumes/dts_proves_pre/startups_documentacio/documentacio/Financament.pdf"
          ]
         ],
         [
          "Short-term financing involves repayment within less than a year.",
          "Short-term financing is suitable for quickly converting elements to cash.",
          "Examples of short-term financing include short-term bank credit, credit policies, factoring, confirming, and some types of crowdfunding.",
          "Long-term financing has a repayment period of more than a year.",
          "Long-term financing can include funds from business promoters or company savings that do not need to be repaid.",
          "Examples of long-term financing include investment-related crowdfunding, private investors, bank loans, leasing, and renting.",
          "The main difference between short-term and long-term financing lies in the repayment duration and alignment with the liquidity of the financed elements."
         ],
         "SYNTHETIC_FROM_DOC",
         "/Volumes/dts_proves_pre/startups_documentacio/documentacio/Financament.pdf"
        ],
        [
         "456ee6fe15c45662fd23ae6ef2da875b133d3e5b9297f14be48093bbddd27af2",
         [
          [
           [
            "Quines són algunes raons comunes per les quals un banc pot no concedir finançament a una empresa?",
            "user"
           ]
          ]
         ],
         [
          [
           "“ No disposes d’una font d'ingressos clara i constant en el temps: S’acostuma a sol·licitar la declaració de la renda, impostos periòdics presentats, balanços de l'empresa, estats financers, etc. Amb això, el banc analitza i estima la capacitat que té el projecte per generar ingressos i, en conseqüència, per retornar els fons rebuts.\n\n No entén per què vols els diners: el teu pla d'empresa no és clar. No transmet la raó per la qual necessites més liquiditat. Poca claredat implica un major risc.\n\n Com tornaràs el finançament? L'entitat no entén molt bé com el projecte generarà els diners que li has de tornar.\n\n Poses molta pressa per signar el nou crèdit bancari: això és un senyal de debilitat financera i de manca de liquiditat.\n\n La rendibilitat del projecte és baixa o negativa.”",
           "/Volumes/dts_proves_pre/startups_documentacio/documentacio/Financament.pdf"
          ]
         ],
         [
          "Lack of a clear and constant source of income.",
          "An unclear business plan.",
          "Uncertainty about how the financing will be repaid.",
          "Urgency to sign the credit agreement, indicating financial weakness.",
          "Low or negative project profitability."
         ],
         "SYNTHETIC_FROM_DOC",
         "/Volumes/dts_proves_pre/startups_documentacio/documentacio/Financament.pdf"
        ],
        [
         "f83238ed623d323bcca5c9a05fd9b05c67904d493e04d1d147185d0f96943f90",
         [
          [
           [
            "Com poden les petites empreses integrar la intel·ligència artificial al seu dia a dia?",
            "user"
           ]
          ]
         ],
         [
          [
           "La tecnologia ha impulsat molts dels canvis que ha viscut la societat i l’economia els últims anys. Un dels avenços tecnològics més disruptius ha estat la intel·ligència artificial, que ha generat un gran impacte tant en la vida de les persones com de les empreses. La creació de màquines intel·ligents ha permès automatitzar molts processos i ha canviat radicalment les dinàmiques de treball. Com poden integrar aquesta tecnologia al seu dia a dia les persones emprenedores i les petites empreses?",
           "/Volumes/dts_proves_pre/startups_documentacio/documentacio/Cat-Empren_Intelligencia-artificial_accessible2022.pdf"
          ]
         ],
         [
          "AI tools can be used to automate data processing.",
          "AI can be used for automated customer service.",
          "AI can help in inventory management.",
          "AI can be used for predictive analytics to support decision-making."
         ],
         "SYNTHETIC_FROM_DOC",
         "/Volumes/dts_proves_pre/startups_documentacio/documentacio/Cat-Empren_Intelligencia-artificial_accessible2022.pdf"
        ],
        [
         "2855fc97a35d22ea49c0d8ecbaa2ee726c3323c4fa1b3ec574faf66ed31f586d",
         [
          [
           [
            "Quins són els principals beneficis d'utilitzar la intel·ligència artificial en una empresa?",
            "user"
           ]
          ]
         ],
         [
          [
           "Alguns dels beneficis que pot aportar la intel·ligència artificial al teu negoci són:\n- Automatitza tasques rutinàries i augmenta la productivitat.\n- Agilitza la presa de decisions i millora les estratègies empresarials.\n- Genera aprenentatge dels errors, evitant tornar-los a cometre.\n- Fomenta la creativitat i la innovació.\n- Estalvia temps i costos, a més d’optimitzar els recursos de l’empresa, tant humans com materials.\n- Millora l’atenció als clients i augmenta les oportunitats de venda.\n- Millora la qualitat del producte o servei ofert.",
           "/Volumes/dts_proves_pre/startups_documentacio/documentacio/Cat-Empren_Intelligencia-artificial_accessible2022.pdf"
          ]
         ],
         [
          "Automating routine tasks",
          "Increasing productivity",
          "Improving decision-making and business strategies",
          "Learning from errors",
          "Fostering creativity and innovation",
          "Saving time and costs",
          "Optimizing resources",
          "Improving customer service and sales opportunities",
          "Enhancing the quality of products or services offered"
         ],
         "SYNTHETIC_FROM_DOC",
         "/Volumes/dts_proves_pre/startups_documentacio/documentacio/Cat-Empren_Intelligencia-artificial_accessible2022.pdf"
        ],
        [
         "a141c5c794e0f75fa45efef2db2911a655d05aa9cf050ed40e1db9e87b1f0b72",
         [
          [
           [
            "Com pot l’aprenentatge automàtic ajudar el meu negoci a predir el comportament dels clients?",
            "user"
           ]
          ]
         ],
         [
          [
           "D’aquesta tecnologia se’n deriven diferents tècniques, entre les quals destaca l’aprenentatge automàtic o _machine learning_. En aquest cas, els algoritmes recullen grans quantitats de dades i utilitzen l’estadística per identificar patrons de comportament. Després, poden aplicar aquests patrons per prendre decisions amb la mínima intervenció humana. Aquesta tècnica permet a les màquines aprendre i tenir capacitat de millora pròpia. Això pot ajudar les empreses a predir, per exemple, el comportament dels clients o a fer un manteniment més eficient de les seves instal·lacions.\n\nUna altra tècnica interessant és l’aprenentatge profund o _deep learning_, una variant de la tècnica anterior que imita la xarxa neuronal de les persones. És més autònom i sofisticat, i permet processar grans volums de dades en temps molt competitius per resoldre problemes clàssics que sorgeixen en l’aprenentatge automàtic. Alguns exemples són la classificació, la clusterització o la regressió. Aquesta tècnica ha donat molt bons resultats en la identificació i l’etiquetatge d’imatges, per exemple.",
           "/Volumes/dts_proves_pre/startups_documentacio/documentacio/Cat-Empren_Intelligencia-artificial_accessible2022.pdf"
          ]
         ],
         [
          "Machine learning can analyze large amounts of past customer data.",
          "Machine learning helps identify patterns in customer data.",
          "Identified patterns are used to forecast future customer actions.",
          "Forecasting enables more informed and strategic decision-making for the business."
         ],
         "SYNTHETIC_FROM_DOC",
         "/Volumes/dts_proves_pre/startups_documentacio/documentacio/Cat-Empren_Intelligencia-artificial_accessible2022.pdf"
        ],
        [
         "4adfe5568551ec923ffb3bea199a2230d36f55a51d7196ec9976fd25f60d5e7d",
         [
          [
           [
            "Per què hauria de considerar fer-me autònom en comptes de buscar feina com a empleat?",
            "user"
           ]
          ]
         ],
         [
          [
           "L'empresari individual, popularment conegut com a treballador autònom, és la persona física que:\n\n-  realitza en nom propi una activitat econòmica amb finalitat de lucre\n\n-  la fa de forma habitual personal, directa i per compte propi\n\n-  ho fa fora de l'àmbit de direcció i organització d'una altra persona\n\n-  i pot tenir o no treballadors\n\nEn aquests casos, l'activitat empresarial adopta el nom de la persona física titular del negoci,\ntot i que també és possible actuar amb un nom comercial.",
           "/Volumes/dts_proves_pre/startups_documentacio/documentacio/Vull ser autònom.pdf"
          ]
         ],
         [
          "Self-employment offers independence and control over the work.",
          "There is a direct relationship between effort and profits in self-employment.",
          "Self-employment provides flexibility in running the business."
         ],
         "SYNTHETIC_FROM_DOC",
         "/Volumes/dts_proves_pre/startups_documentacio/documentacio/Vull ser autònom.pdf"
        ],
        [
         "15922165d3e18cae8bb49c288c1545fccc368b9b842f76701fdb9fcb87e84e73",
         [
          [
           [
            "És cert que amb el servei FUE puc fer tots els tràmits necessaris per fer-me autònom en una sola visita?",
            "user"
           ]
          ]
         ],
         [
          [
           "La realització d'aquestes gestions des de la Finestreta Única Empresarial (les oficines Oge presencialment o Canal Empresa electrònicament), és gratuïta i us estalviarà:\n\n1. Anar a l’Agència Tributària a sol·licitar la declaració censal d'alta i l’obtenció del NIF.\n\n2. Anar al Registre Mercantil Provincial a fer la inscripció de l’empresa (amb caràcter voluntari).\n\n3. Anar a la Seguretat Social a donar-te d’alta en el Règim Especial de Treballadors Autònoms (RETA) de la Seguretat Social i a les persones treballadores.\n\n4. En la mateixa visita també podreu fer altres tràmits necessaris per realitzar l’activitat, si ho voleu, podeu veure quina és la tramitació relacionada amb la vostra activitat des de la Cerca Guiada de Tràmits, una eina que a través d'un seguit de preguntes us dirà quins tràmits us faran falta.",
           "/Volumes/dts_proves_pre/startups_documentacio/documentacio/Vull ser autònom.pdf"
          ]
         ],
         [
          "The FUE service enables users to complete all the necessary procedures to become self-employed.",
          "These procedures can be completed in a single visit using the FUE service."
         ],
         "SYNTHETIC_FROM_DOC",
         "/Volumes/dts_proves_pre/startups_documentacio/documentacio/Vull ser autònom.pdf"
        ],
        [
         "ba2e4fca57b8c313e7ffe3b1a605d33375c66926455992bd8dd0d2af12f0f863",
         [
          [
           [
            "Quins són els principals avantatges i riscos de ser autònom?",
            "user"
           ]
          ]
         ],
         [
          [
           "-  Control total de l'empresa per part del propietari, que dirigeix la gestió.\n\n-  La personalitat jurídica de l'empresa és la mateixa que la del seu titular (empresari), qui respon personalment de totes les obligacions que contregui l'empresa.\n\n-  No existeix diferenciació entre el patrimoni mercantil i el seu patrimoni civil (personal).\n\n-  No precisa procés previ de constitució. Els tràmits s'inicien al començament de l'activitat empresarial.\n\nAvantatges\n\n-  És una forma empresarial idònia per al funcionament d'empreses de mida molt reduïda.\n\n-  És la forma que menys gestions i tràmits ha de fer per a la realització de la seva activitat, ja que no ha de realitzar cap tràmit d'adquisició de la personalitat jurídica.\n\n-  Pot resultar més econòmic, atès que no crea persona jurídica diferent del propi empresari.\n\nInconvenients\n\n-  La responsabilitat de l'empresari és il·limitada.\n\n-  Respon amb el seu patrimoni personal dels deutes generats en la seva activitat.\n\n-  El titular de l'empresa ha de fer front en solitari a les despeses i a les inversions, així com a la gestió i administració.\n\n-  Si el volum de benefici és important, pot estar sotmès a tipus impositius elevats.",
           "/Volumes/dts_proves_pre/startups_documentacio/documentacio/Vull ser autònom.pdf"
          ]
         ],
         [
          "advantages of being self-employed include complete control over the business",
          "advantages of being self-employed include minimal administrative procedures",
          "advantages of being self-employed include lower costs by not needing a separate legal entity",
          "risks of being self-employed include unlimited personal liability",
          "risks of being self-employed include personal assets being at risk for business debts",
          "risks of being self-employed include sole responsibility for all business expenses and management",
          "risks of being self-employed include potentially high tax rates if the business is highly profitable"
         ],
         "SYNTHETIC_FROM_DOC",
         "/Volumes/dts_proves_pre/startups_documentacio/documentacio/Vull ser autònom.pdf"
        ],
        [
         "fbe7402ae38eadc629e25863141ef2583ddf3899b83fc53a682e1ced770755d5",
         [
          [
           [
            "Quins són els diferents mètodes per determinar l'IRPF com a autònom?",
            "user"
           ]
          ]
         ],
         [
          [
           "Iniciada l'activitat, els ingressos percebuts per autònoms i entitats sense personalitat jurídica, tributen per l'Impost sobre la Renda de les Persones Físiques, IRPF (pagaments fraccionats i declaració anual).\n\nIMPOST SOBRE LA RENDA DE LES PERSONES FÍSIQUES\nAplicable a empresaris i professionals, persones físiques i persones físiques membres d'entitats en règim d'atribució de rendes.\n\nEn l'IRPF els mètodes de determinació del rendiment de les activitats econòmiques, segons l'activitat desenvolupada són:\n\n-  Estimació directa amb dues modalitats\n   `o ` Normal\n   `o ` Simplificada\n\n-  Estimació objectiva",
           "/Volumes/dts_proves_pre/startups_documentacio/documentacio/Vull ser autònom.pdf"
          ]
         ],
         [
          "Estimació directa normal is a method for determining the IRPF for self-employed individuals.",
          "Estimació directa simplificada is a method for determining the IRPF for self-employed individuals.",
          "Estimació objectiva is a method for determining the IRPF for self-employed individuals."
         ],
         "SYNTHETIC_FROM_DOC",
         "/Volumes/dts_proves_pre/startups_documentacio/documentacio/Vull ser autònom.pdf"
        ],
        [
         "c7bc28c2ae2bdfeaa103ff6e0e241f0c912cce39ceca779ce319294e76439697",
         [
          [
           [
            "Quins passos he de seguir abans de constituir una Societat Limitada?",
            "user"
           ]
          ]
         ],
         [
          [
           "1. Sol·licitar la certificació de denominació social al Registre Mercantil Central.\n2. Dipositar el capital social en una entitat bancària.",
           "/Volumes/dts_proves_pre/startups_documentacio/documentacio/Tràmit Societat Limitada.pdf"
          ]
         ],
         [
          "Request certification of the company name at the Central Mercantile Register.",
          "Deposit the share capital in a bank."
         ],
         "SYNTHETIC_FROM_DOC",
         "/Volumes/dts_proves_pre/startups_documentacio/documentacio/Tràmit Societat Limitada.pdf"
        ],
        [
         "f257cfe1c3c3bc83c409a59d08148beaf035ae12424a84c1edd550ee53819d04",
         [
          [
           [
            "Quina documentació necessito per constituir una Societat Limitada?",
            "user"
           ]
          ]
         ],
         [
          [
           "Documentació i informació necessària que cal adjuntar a la sol·licitud:\n\n1. Justificant del pagament de la denominació social i certificació negativa del nom original i fotocòpia. (www.rmc.es).\n2. Fotocòpia i original del DNI dels socis. En el cas d'estrangers, el NIE comunitari, o el NIE i el permís de residència i treball per compte propi.\n3. Fotocòpia i original de la Targeta de la Seguretat Social dels socis, o un altre document que acrediti el número d'afiliació a la Seguretat Social.\n4. Dades personals dels socis i dels seus cònjuges: DNI i règim matrimonial. I original i fotocòpia del Llibre de Família.\n5. Percentatges de participació en el capital social i identificació d'administradors. Si és necessària la inscripció al Règim de Treballadors Autònoms d'algun dels socis i/o administradores cal que aporteu la Base de cotització escollida i Mútua d'AT-EP, si s'escau. (www.seg-social.es)\n6. Epígraf de l'IAE (Impost d'Activitats Econòmiques) i de la CNAE (Classificació Nacional d'Activitats Econòmiques) que corresponen a la vostra activitat. Aquestes classificacions es poden consultar a qualsevol Delegació de l'Agència Estatal Tributària a la pàgina web: www.aeat.es o bé per telèfon: 900 33 55 33.\n7. Número de compte bancari o de la targeta bancària per al pagament al RMP (Registre Mercantil Provincial).\n8. Mandat / Ordre de domiciliació de deutes directes SEPA per al pagament de quotes de la Seguretat Social.",
           "/Volumes/dts_proves_pre/startups_documentacio/documentacio/Tràmit Societat Limitada.pdf"
          ]
         ],
         [
          "Proof of payment and negative name certification with a photocopy.",
          "Photocopy and original ID of partners; for foreigners, the NIE and necessary permits.",
          "Photocopy and original of the Social Security Card or equivalent.",
          "Personal data of partners and spouses, including DNI, marital regime, and Family Book.",
          "Participation percentages, identification of the administrator, and relevant self-employment registration documents.",
          "Relevant IAE and CNAE classifications.",
          "Bank account or card details for registry payment.",
          "SEPA direct debit mandate for Social Security payments."
         ],
         "SYNTHETIC_FROM_DOC",
         "/Volumes/dts_proves_pre/startups_documentacio/documentacio/Tràmit Societat Limitada.pdf"
        ],
        [
         "461ea9e69d1da4b5d5962d1dcc2f1742c9327caecfc22d2b81f79c4ace88387a",
         [
          [
           [
            "Com es defineix el metavers segons el Centre de Blockchain de Catalunya?",
            "user"
           ]
          ]
         ],
         [
          [
           "Segons el Centre de Blockchain de Catalunya podem definir el metavers a partir de tres potes:\n\n##### 1. La base\n\nEls metaversos són un conjunt de mons virtuals tridimensionals i interconnectats, en els\nquals persones situades a qualsevol lloc poden socialitzar a temps real.\n\n##### 2. La visió\n\nVol esdevenir un espai virtual de referència per a la societat on formar una economia\nd'internet persistent, propietat dels usuaris, que abasta els mons digital i físic.\n\n##### 3. La tecnologia\n\nLa tecnologia blockchain permet passar de l'internet de la informació (web 2.0) a la\ninternet del valor (web 3.0), aportant així la característica diferencial necessària per a\nl'existència dels metaversos de manera continuada, segura i eficaç.",
           "/Volumes/dts_proves_pre/startups_documentacio/documentacio/Metavers.-Definicio-oportunitats-de-negoci-exemples-CAT.pdf"
          ]
         ],
         [
          "The metaverse comprises three-dimensional and interconnected virtual worlds.",
          "It allows real-time social interactions.",
          "It aims to create a user-owned, persistent internet economy.",
          "It spans both digital and physical worlds.",
          "It relies on blockchain technology for continual, secure, and efficient existence.",
          "It represents the transition from web 2.0 to web 3.0."
         ],
         "SYNTHETIC_FROM_DOC",
         "/Volumes/dts_proves_pre/startups_documentacio/documentacio/Metavers.-Definicio-oportunitats-de-negoci-exemples-CAT.pdf"
        ],
        [
         "f5471d79b8b8f8eea95d5f36bcd4e24d621d0677aa120d8ae0b97b413845044e",
         [
          [
           [
            "Quina és la importància de la blockchain en el metavers i com es diferencia de les versions anteriors del web?",
            "user"
           ]
          ]
         ],
         [
          [
           "Tot això és correcte, però els metaversos també tenen un aspecte clau que els\ndistingirà de l’internet actual: la cadena de blocs o blockchain, i la relació directa que\nté aquesta amb la web 3.0.\n\nLa web 1.0 va ser els inicis d’internet, on gràcies a un conjunt d'ordinadors i servidors\nconnectats podíem cercar i explorar informació, normalment a través de la plataforma\nd'una empresa centralitzada, com per exemple AOL, Yahoo, Microsoft o Google.\n\nLa web 2.0 s’ha caracteritzat per xarxes socials, blogs i dades d'usuari utilitzades per\na la monetització, convertint la publicitat d’aquestes plataformes centralitzades en la\nvia per oferir xarxes socials \"gratuïtes\" com Facebook, Snapchat, Twitter o TikTok. La\ncreació, recollida, difusió i distribució de tota mena d'informació en el domini digital ja\nno depèn únicament de processos socials, sinó cada cop més de la tecnologia i els\nalgorismes.\n\nFinalment, amb l’arribada de la web 3.0 entrem en un nou paradigma on ni la\ninformació (web 1.0) ni la recollida de dades (web 2.0) són el principal focus\nd’atenció, sinó la transmissió de valor d’una forma segura i descentralitzada.\n\nL’eix troncal d’aquesta nova revolució és la blockchain, una tecnologia que crea un\nregistre permanent de transaccions en una base de dades descentralitzada i pública.",
           "/Volumes/dts_proves_pre/startups_documentacio/documentacio/Metavers.-Definicio-oportunitats-de-negoci-exemples-CAT.pdf"
          ]
         ],
         [
          "Importance of blockchain in the metaverse is due to secure and decentralized value transmission.",
          "Web 1.0 focused on accessing information.",
          "Web 2.0 focused on user data and its monetization."
         ],
         "SYNTHETIC_FROM_DOC",
         "/Volumes/dts_proves_pre/startups_documentacio/documentacio/Metavers.-Definicio-oportunitats-de-negoci-exemples-CAT.pdf"
        ],
        [
         "9d01a2fd271532aef3b2b72ac2b0b81e863ac7df04ad079f9b5bf710fd4a1c60",
         [
          [
           [
            "Quines oportunitats de negoci ofereix el metavers per als desenvolupadors i creadors?",
            "user"
           ]
          ]
         ],
         [
          [
           "Els casos d’ús i experiències que existiran en aquest món virtual són gairebé infinites. Des de jocs i experiències immersives fins a espais educacionals o activitats professionals, tot tindrà cabuda en aquest ecosistema virtual.\n\nLa proposta de valor per als desenvolupadors i creadors és poder monetitzar les\ninteraccions econòmiques entre les seves aplicacions i els usuaris del metavers. Alguns\nexemples:\n\n-  Els desenvolupadors i artistes poden crear i tokenitzar articles col·leccionables i\npersonalitzables, com complements per als avatars.\n\n-  Els streamers poden tenir el seu estudi virtual dins del metavers.\n\n-  Els creadors de contingut poden mostrar les seves experiències virtuals i monetitzarles.\n\n-  Les empreses poden crear la seva presència a través de botigues virtuals.\n\n-  Els desenvolupadors de jocs poden posar-hi demostracions breus o, fins i tot, jocs i\nexperiències senceres.\n\n-  Les universitats i escoles poden crear cursos i experiències educatives.\n\n-  Els creadors poden crear qualsevol cosa i pujar-la al seu entorn 3D.\n\n-  Els empresaris poden construir i vendre béns digitals (o tangibles) i oferir serveis.\n\n-  Els artistes poden mostrar totes les seves creacions, des d'escultures fins a pintures\nen 2D i 3D.\n\n-  Els col·leccionistes d’NFTs poden presentar la seva col·lecció al seu terreny i comerciar\nentre ells.\n\n-  Les marques poden anunciar-se fent servir tanques publicitàries, a prop o dins de\nparcel·les de gran trànsit, per promocionar els seus productes, serveis i esdeveniments.\n\n-  Grups que actualment es reuneixen en fòrums en línia, grups de xat o jocs multijugador\ncentralitzats podran portar les seves comunitats al metavers.",
           "/Volumes/dts_proves_pre/startups_documentacio/documentacio/Metavers.-Definicio-oportunitats-de-negoci-exemples-CAT.pdf"
          ]
         ],
         [
          "Developers and creators can create and tokenize custom items.",
          "Setting up virtual studios for streamers is an opportunity.",
          "They can showcase and monetize virtual experiences.",
          "Virtual stores can be opened within the metaverse.",
          "Offering game demonstrations is possible.",
          "Educational content creation is an opportunity.",
          "Uploading 3D creations is an option.",
          "Selling goods and services within the metaverse is viable.",
          "Art display and monetization is feasible.",
          "Presenting and trading NFTs is an available option.",
          "Advertising using virtual billboards can be utilized.",
          "Online communities can be moved into the metaverse."
         ],
         "SYNTHETIC_FROM_DOC",
         "/Volumes/dts_proves_pre/startups_documentacio/documentacio/Metavers.-Definicio-oportunitats-de-negoci-exemples-CAT.pdf"
        ],
        [
         "6b85805ec6af8b38d5dfb692d411d7a57b4173480630fa9b5749984533aa5572",
         [
          [
           [
            "Com s’utilitza el pla economicofinancer per buscar finançament extern per una startup?",
            "user"
           ]
          ]
         ],
         [
          [
           "“Actualment, existeixen diferents alternatives de finançament, des de les tradicionals préstec, pòlissa de crèdit, descompte de factures, entre altres- fins a les anomenades alternatives - _crowdfunding_ i les seves modalitats, _business angels, etc_ -.\n\nEl pla economicofinancer és, en conseqüència una eina de gestió interna i, alhora una eina de comunicació externa.\n\nUna vegada el pla economicofinancer mostra que el projecte és viable i sostenible, es pot elaborar la documentació necessària per a la recerca de finançament.”",
           "/Volumes/dts_proves_pre/startups_documentacio/documentacio/Elements-pla-economicofinancer.pdf"
          ]
         ],
         [
          "The economic-financial plan demonstrates the startup's project viability.",
          "The economic-financial plan shows the sustainability of the startup's project.",
          "The economic-financial plan is necessary for preparing documentation to seek external financing."
         ],
         "SYNTHETIC_FROM_DOC",
         "/Volumes/dts_proves_pre/startups_documentacio/documentacio/Elements-pla-economicofinancer.pdf"
        ],
        [
         "ef3478b271c138f06c98ca6340210a645ef0a1a6184e73c5ee041242e98059d9",
         [
          [
           [
            "Quins són els errors més habituals en l’elaboració d’un pla economicofinancer per una startup?",
            "user"
           ]
          ]
         ],
         [
          [
           "“Pensar que només és una eina per a la sol·licitud de finançament. Tal com hem vist al primer apartat, l’aportació més important del pla economicofinancer és la validació econòmica de les idees que es plantegen i el seguiment dels resultats, una vegada iniciada l’activitat. El primer punt per tal que un projecte arribi a bon port és que sigui viable i sostenible.\n\nPlantejar una temporalitat seqüencial. El plantejament d’una empresa ha de tenir una perspectiva sobre les diferents etapes per les quals passarà. Quan el pla economicofinancer es realitza sobre els 3 primers anys de forma seqüencial, es treballa sobre una primera etapa de punt d’equilibri i potser un primer benefici. Cal treballar, també, sobre la dimensió que haurà d’assolir l’empresa per tal que realment sigui sostenible en el temps.”",
           "/Volumes/dts_proves_pre/startups_documentacio/documentacio/Elements-pla-economicofinancer.pdf"
          ]
         ],
         [
          "Treating the economic-financial plan only as a financing tool.",
          "Not proving the business's viability and sustainability.",
          "Lacking a sequential approach in the first three years.",
          "Underestimating the necessary scale for long-term sustainability."
         ],
         "SYNTHETIC_FROM_DOC",
         "/Volumes/dts_proves_pre/startups_documentacio/documentacio/Elements-pla-economicofinancer.pdf"
        ],
        [
         "0a1b53968691aaaa8528bd7708393a5bf21c964ea2c4cf1d41c8892c20843531",
         [
          [
           [
            "Quins elements principals inclou un pla economicofinancer per a startups?",
            "user"
           ]
          ]
         ],
         [
          [
           "“Pla d’inversions: el detall dels recursos que estaran a l’empresa per un període superior a 1 any. És el que s’anomenen inversions i cal incloure-hi també el seu valor econòmic. Alguns exemples dels elements que s’inclouen en aquest apartat són: local, maquinària, utillatges, equipament informàtic, web, programes de gestió.\n\nEstructura de despesa: en aquest punt cal introduir la despesa habitual de l’empresa. S’anomena també despesa fixa, donat que no depèn del fet que l’empresa vengui o no. És a dir, es produeix pel fet de mantenir una activitat econòmica. S’inclouen en aquest apartat: lloguers, manteniments i reparacions, serveis de professionals, assegurances, serveis bancaris, publicitat, subministres...\n\nPrevisió d’ingressos: aquest sol ser un punt que genera dubtes. A diferència de les despeses i inversions, on les xifres són conegudes, els ingressos depenen dels preus dels productes/serveis i també del volum de venda. Aquesta darrera variable és desconeguda.”",
           "/Volumes/dts_proves_pre/startups_documentacio/documentacio/Elements-pla-economicofinancer.pdf"
          ]
         ],
         [
          "An economic-financial plan for startups includes an Investment Plan.",
          "An economic-financial plan for startups includes an Expense Structure.",
          "An economic-financial plan for startups includes a Revenue Forecast."
         ],
         "SYNTHETIC_FROM_DOC",
         "/Volumes/dts_proves_pre/startups_documentacio/documentacio/Elements-pla-economicofinancer.pdf"
        ],
        [
         "d957610019b26a55cf7b14dc4ac311c5c0a5d6d73c45973ebf4146761eabcbe0",
         [
          [
           [
            "Quina és la funció principal del pla economicofinancer en una startup?",
            "user"
           ]
          ]
         ],
         [
          [
           "“Un dels elements que formen part del pla de negoci o pla d’empresa és el pla economicofinancer. Aquest és l’apartat en què les idees que s’expliquen en el pla d’empresa es transformen en format econòmic, donat que els números permeten tenir una concreció i fer-ne comparativa.\n\nCal entendre’s com una eina de treball per al llançament de l’activitat i, una vegada iniciada, per a la seva gestió. La seva importància s’incrementa en moments d’incertesa, donat que permet estudiar diferents situacions i escenaris i, en conseqüència, prendre les decisions més adequades en cada moment.”",
           "/Volumes/dts_proves_pre/startups_documentacio/documentacio/Elements-pla-economicofinancer.pdf"
          ]
         ],
         [
          "Translate business ideas into economic terms.",
          "Facilitate the launch and management of the startup.",
          "Assist in making informed decisions by analyzing different scenarios."
         ],
         "SYNTHETIC_FROM_DOC",
         "/Volumes/dts_proves_pre/startups_documentacio/documentacio/Elements-pla-economicofinancer.pdf"
        ],
        [
         "5b5eb5e86b2c7bd14029f83b056a5d8e8c0ace92031b43dbd6495317f592dc96",
         [
          [
           [
            "Com determina un pla economicofinancer la viabilitat econòmica d'un projecte?",
            "user"
           ]
          ]
         ],
         [
          [
           "“Un dels requeriments per tal que un projecte es pugui realitzar és que sigui viable econòmicament. El pla economicofinancer és l’eina que determina aquesta viabilitat (és a dir, si els ingressos són superiors a les despeses) i a partir d’en quin moment ho és.”",
           "/Volumes/dts_proves_pre/startups_documentacio/documentacio/Elements-pla-economicofinancer.pdf"
          ]
         ],
         [
          "The plan compares projected revenues with projected expenses.",
          "The plan determines economic viability when projected revenues exceed projected expenses."
         ],
         "SYNTHETIC_FROM_DOC",
         "/Volumes/dts_proves_pre/startups_documentacio/documentacio/Elements-pla-economicofinancer.pdf"
        ]
       ],
       "datasetInfos": [],
       "dbfsResultPath": null,
       "isJsonSchema": true,
       "metadata": {},
       "overflow": false,
       "plotOptions": {
        "customPlotOptions": {},
        "displayType": "table",
        "pivotAggregation": null,
        "pivotColumns": null,
        "xColumns": null,
        "yColumns": null
       },
       "removedWidgets": [],
       "schema": [
        {
         "metadata": "{}",
         "name": "request_id",
         "type": "\"string\""
        },
        {
         "metadata": "{}",
         "name": "request",
         "type": "{\"fields\":[{\"metadata\":{},\"name\":\"messages\",\"nullable\":true,\"type\":{\"containsNull\":true,\"elementType\":{\"fields\":[{\"metadata\":{},\"name\":\"content\",\"nullable\":true,\"type\":\"string\"},{\"metadata\":{},\"name\":\"role\",\"nullable\":true,\"type\":\"string\"}],\"type\":\"struct\"},\"type\":\"array\"}}],\"type\":\"struct\"}"
        },
        {
         "metadata": "{}",
         "name": "expected_retrieved_context",
         "type": "{\"containsNull\":true,\"elementType\":{\"fields\":[{\"metadata\":{},\"name\":\"content\",\"nullable\":true,\"type\":\"string\"},{\"metadata\":{},\"name\":\"doc_uri\",\"nullable\":true,\"type\":\"string\"}],\"type\":\"struct\"},\"type\":\"array\"}"
        },
        {
         "metadata": "{}",
         "name": "expected_facts",
         "type": "{\"containsNull\":true,\"elementType\":\"string\",\"type\":\"array\"}"
        },
        {
         "metadata": "{}",
         "name": "source_type",
         "type": "\"string\""
        },
        {
         "metadata": "{}",
         "name": "source_id",
         "type": "\"string\""
        }
       ],
       "type": "table"
      }
     },
     "output_type": "display_data"
    },
    {
     "output_type": "display_data",
     "data": {
      "text/plain": [
       "\u001B[0;31m---------------------------------------------------------------------------\u001B[0m\n",
       "\u001B[0;31mAttributeError\u001B[0m                            Traceback (most recent call last)\n",
       "\u001B[0;32m~/.ipykernel/32051/command-8489890432097872-3283812887\u001B[0m in \u001B[0;36m?\u001B[0;34m()\u001B[0m\n",
       "\u001B[1;32m     44\u001B[0m \u001B[0mtable_name\u001B[0m \u001B[0;34m=\u001B[0m \u001B[0;34m\"evals_generated_questions_documentacio\"\u001B[0m\u001B[0;34m\u001B[0m\u001B[0;34m\u001B[0m\u001B[0m\n",
       "\u001B[1;32m     45\u001B[0m \u001B[0mfull_table_name\u001B[0m \u001B[0;34m=\u001B[0m \u001B[0;34mf\"{catalog_name}.{schema_name}.{table_name}\"\u001B[0m\u001B[0;34m\u001B[0m\u001B[0;34m\u001B[0m\u001B[0m\n",
       "\u001B[1;32m     46\u001B[0m \u001B[0;34m\u001B[0m\u001B[0m\n",
       "\u001B[1;32m     47\u001B[0m \u001B[0;31m# Save the DataFrame to Unity Catalog as a managed table\u001B[0m\u001B[0;34m\u001B[0m\u001B[0;34m\u001B[0m\u001B[0m\n",
       "\u001B[0;32m---> 48\u001B[0;31m \u001B[0mevals\u001B[0m\u001B[0;34m.\u001B[0m\u001B[0mwrite\u001B[0m\u001B[0;34m.\u001B[0m\u001B[0mmode\u001B[0m\u001B[0;34m(\u001B[0m\u001B[0;34m\"overwrite\"\u001B[0m\u001B[0;34m)\u001B[0m\u001B[0;34m.\u001B[0m\u001B[0msaveAsTable\u001B[0m\u001B[0;34m(\u001B[0m\u001B[0mfull_table_name\u001B[0m\u001B[0;34m)\u001B[0m\u001B[0;34m\u001B[0m\u001B[0;34m\u001B[0m\u001B[0m\n",
       "\u001B[0m\n",
       "\u001B[0;32m/databricks/python/lib/python3.11/site-packages/pandas/core/generic.py\u001B[0m in \u001B[0;36m?\u001B[0;34m(self, name)\u001B[0m\n",
       "\u001B[1;32m   5898\u001B[0m             \u001B[0;32mand\u001B[0m \u001B[0mname\u001B[0m \u001B[0;32mnot\u001B[0m \u001B[0;32min\u001B[0m \u001B[0mself\u001B[0m\u001B[0;34m.\u001B[0m\u001B[0m_accessors\u001B[0m\u001B[0;34m\u001B[0m\u001B[0;34m\u001B[0m\u001B[0m\n",
       "\u001B[1;32m   5899\u001B[0m             \u001B[0;32mand\u001B[0m \u001B[0mself\u001B[0m\u001B[0;34m.\u001B[0m\u001B[0m_info_axis\u001B[0m\u001B[0;34m.\u001B[0m\u001B[0m_can_hold_identifiers_and_holds_name\u001B[0m\u001B[0;34m(\u001B[0m\u001B[0mname\u001B[0m\u001B[0;34m)\u001B[0m\u001B[0;34m\u001B[0m\u001B[0;34m\u001B[0m\u001B[0m\n",
       "\u001B[1;32m   5900\u001B[0m         ):\n",
       "\u001B[1;32m   5901\u001B[0m             \u001B[0;32mreturn\u001B[0m \u001B[0mself\u001B[0m\u001B[0;34m[\u001B[0m\u001B[0mname\u001B[0m\u001B[0;34m]\u001B[0m\u001B[0;34m\u001B[0m\u001B[0;34m\u001B[0m\u001B[0m\n",
       "\u001B[0;32m-> 5902\u001B[0;31m         \u001B[0;32mreturn\u001B[0m \u001B[0mobject\u001B[0m\u001B[0;34m.\u001B[0m\u001B[0m__getattribute__\u001B[0m\u001B[0;34m(\u001B[0m\u001B[0mself\u001B[0m\u001B[0;34m,\u001B[0m \u001B[0mname\u001B[0m\u001B[0;34m)\u001B[0m\u001B[0;34m\u001B[0m\u001B[0;34m\u001B[0m\u001B[0m\n",
       "\u001B[0m\n",
       "\u001B[0;31mAttributeError\u001B[0m: 'DataFrame' object has no attribute 'write'"
      ]
     },
     "metadata": {
      "application/vnd.databricks.v1+output": {
       "addedWidgets": {},
       "arguments": {},
       "datasetInfos": [],
       "jupyterProps": {
        "ename": "AttributeError",
        "evalue": "'DataFrame' object has no attribute 'write'"
       },
       "metadata": {
        "errorSummary": "<span class='ansi-red-fg'>AttributeError</span>: 'DataFrame' object has no attribute 'write'"
       },
       "removedWidgets": [],
       "sqlProps": null,
       "stackFrames": [
        "\u001B[0;31m---------------------------------------------------------------------------\u001B[0m",
        "\u001B[0;31mAttributeError\u001B[0m                            Traceback (most recent call last)",
        "\u001B[0;32m~/.ipykernel/32051/command-8489890432097872-3283812887\u001B[0m in \u001B[0;36m?\u001B[0;34m()\u001B[0m\n\u001B[1;32m     44\u001B[0m \u001B[0mtable_name\u001B[0m \u001B[0;34m=\u001B[0m \u001B[0;34m\"evals_generated_questions_documentacio\"\u001B[0m\u001B[0;34m\u001B[0m\u001B[0;34m\u001B[0m\u001B[0m\n\u001B[1;32m     45\u001B[0m \u001B[0mfull_table_name\u001B[0m \u001B[0;34m=\u001B[0m \u001B[0;34mf\"{catalog_name}.{schema_name}.{table_name}\"\u001B[0m\u001B[0;34m\u001B[0m\u001B[0;34m\u001B[0m\u001B[0m\n\u001B[1;32m     46\u001B[0m \u001B[0;34m\u001B[0m\u001B[0m\n\u001B[1;32m     47\u001B[0m \u001B[0;31m# Save the DataFrame to Unity Catalog as a managed table\u001B[0m\u001B[0;34m\u001B[0m\u001B[0;34m\u001B[0m\u001B[0m\n\u001B[0;32m---> 48\u001B[0;31m \u001B[0mevals\u001B[0m\u001B[0;34m.\u001B[0m\u001B[0mwrite\u001B[0m\u001B[0;34m.\u001B[0m\u001B[0mmode\u001B[0m\u001B[0;34m(\u001B[0m\u001B[0;34m\"overwrite\"\u001B[0m\u001B[0;34m)\u001B[0m\u001B[0;34m.\u001B[0m\u001B[0msaveAsTable\u001B[0m\u001B[0;34m(\u001B[0m\u001B[0mfull_table_name\u001B[0m\u001B[0;34m)\u001B[0m\u001B[0;34m\u001B[0m\u001B[0;34m\u001B[0m\u001B[0m\n\u001B[0m",
        "\u001B[0;32m/databricks/python/lib/python3.11/site-packages/pandas/core/generic.py\u001B[0m in \u001B[0;36m?\u001B[0;34m(self, name)\u001B[0m\n\u001B[1;32m   5898\u001B[0m             \u001B[0;32mand\u001B[0m \u001B[0mname\u001B[0m \u001B[0;32mnot\u001B[0m \u001B[0;32min\u001B[0m \u001B[0mself\u001B[0m\u001B[0;34m.\u001B[0m\u001B[0m_accessors\u001B[0m\u001B[0;34m\u001B[0m\u001B[0;34m\u001B[0m\u001B[0m\n\u001B[1;32m   5899\u001B[0m             \u001B[0;32mand\u001B[0m \u001B[0mself\u001B[0m\u001B[0;34m.\u001B[0m\u001B[0m_info_axis\u001B[0m\u001B[0;34m.\u001B[0m\u001B[0m_can_hold_identifiers_and_holds_name\u001B[0m\u001B[0;34m(\u001B[0m\u001B[0mname\u001B[0m\u001B[0;34m)\u001B[0m\u001B[0;34m\u001B[0m\u001B[0;34m\u001B[0m\u001B[0m\n\u001B[1;32m   5900\u001B[0m         ):\n\u001B[1;32m   5901\u001B[0m             \u001B[0;32mreturn\u001B[0m \u001B[0mself\u001B[0m\u001B[0;34m[\u001B[0m\u001B[0mname\u001B[0m\u001B[0;34m]\u001B[0m\u001B[0;34m\u001B[0m\u001B[0;34m\u001B[0m\u001B[0m\n\u001B[0;32m-> 5902\u001B[0;31m         \u001B[0;32mreturn\u001B[0m \u001B[0mobject\u001B[0m\u001B[0;34m.\u001B[0m\u001B[0m__getattribute__\u001B[0m\u001B[0;34m(\u001B[0m\u001B[0mself\u001B[0m\u001B[0;34m,\u001B[0m \u001B[0mname\u001B[0m\u001B[0;34m)\u001B[0m\u001B[0;34m\u001B[0m\u001B[0;34m\u001B[0m\u001B[0m\n\u001B[0m",
        "\u001B[0;31mAttributeError\u001B[0m: 'DataFrame' object has no attribute 'write'"
       ],
       "type": "baseError"
      }
     },
     "output_type": "display_data"
    }
   ],
   "source": [
    "import mlflow\n",
    "from databricks.agents.evals import generate_evals_df\n",
    "import pandas as pd\n",
    "import math\n",
    "\n",
    "####### generate evaluation dataset\n",
    "docs = spark.read.table(\"dts_proves_pre.startups_documentacio.documentacio_docs_chunked\")\n",
    "docs = docs.withColumnRenamed(\"content_chunked\", \"content\")\n",
    "\n",
    "agent_description = \"Agent about promoting entrepreneurship that has information about startups.\"\n",
    "\n",
    "question_guidelines = \"\"\"\n",
    "# User personas\n",
    "- A excited entrepreneur that has a specific knowledge about one field but nothing about building a startup.\n",
    "- A curious young entrepreneur. That wants to know general information about startups. More general to compare than specifics.\n",
    "\n",
    "# Example questions\n",
    "- Encara no tinc una idea de negoci. Dona’m consells per trobar una idea.\n",
    "- Vull saber si tinc actituds d'emprenedor i explorar el meu perfil emprenedor. \n",
    "- D’on puc treure el finançament per crear la meva startup?\n",
    "\n",
    "# Additional Guidelines\n",
    "- Questions should be succinct, and human-like, in catalan.\n",
    "\"\"\"\n",
    "\n",
    "num_evals = 50\n",
    "\n",
    "evals = generate_evals_df(\n",
    "    docs,\n",
    "    # The total number of evals to generate. The method attempts to generate evals that have full coverage over the documents\n",
    "    # provided. If this number is less than the number of documents, is less than the number of documents,\n",
    "    # some documents will not have any evaluations generated. See \"How num_evals is used\" below for more details.\n",
    "    num_evals=num_evals,\n",
    "    # A set of guidelines that help guide the synthetic generation. These are free-form strings that will be used to prompt the generation.\n",
    "    agent_description=agent_description,\n",
    "    question_guidelines=question_guidelines\n",
    ")\n",
    "\n",
    "display(evals)\n"
   ]
  },
  {
   "cell_type": "code",
   "execution_count": 0,
   "metadata": {
    "application/vnd.databricks.v1+cell": {
     "cellMetadata": {
      "byteLimit": 2048000,
      "rowLimit": 10000
     },
     "inputWidgets": {},
     "nuid": "46c12e09-ba2b-4749-b339-a03505b55c65",
     "showTitle": false,
     "tableResultSettingsMap": {},
     "title": ""
    }
   },
   "outputs": [],
   "source": [
    "eval_spark = spark.createDataFrame(evals)"
   ]
  },
  {
   "cell_type": "code",
   "execution_count": 0,
   "metadata": {
    "application/vnd.databricks.v1+cell": {
     "cellMetadata": {
      "byteLimit": 2048000,
      "rowLimit": 10000
     },
     "inputWidgets": {},
     "nuid": "0521418f-5cfb-4fd9-b01c-6088849f7d27",
     "showTitle": false,
     "tableResultSettingsMap": {},
     "title": ""
    }
   },
   "outputs": [],
   "source": [
    "# write generated dataset to a table\n",
    "# Define your Unity Catalog target path\n",
    "catalog_name = \"dts_proves_pre\"\n",
    "schema_name = \"startups_documentacio\"\n",
    "table_name = \"evals_generated_questions_documentacio\"\n",
    "full_table_name = f\"{catalog_name}.{schema_name}.{table_name}\"\n",
    "\n",
    "# Save the DataFrame to Unity Catalog as a managed table\n",
    "eval_spark.write.mode(\"overwrite\").saveAsTable(full_table_name)"
   ]
  },
  {
   "cell_type": "code",
   "execution_count": 0,
   "metadata": {
    "application/vnd.databricks.v1+cell": {
     "cellMetadata": {
      "byteLimit": 2048000,
      "rowLimit": 10000
     },
     "inputWidgets": {},
     "nuid": "bdd28795-08a8-48e8-99c9-cbf83bcacb32",
     "showTitle": false,
     "tableResultSettingsMap": {},
     "title": ""
    }
   },
   "outputs": [],
   "source": [
    "evals= spark.read.table(\"dts_proves_pre.startups_documentacio.evals_generated_questions_documentacio\")\n"
   ]
  },
  {
   "cell_type": "code",
   "execution_count": 0,
   "metadata": {
    "application/vnd.databricks.v1+cell": {
     "cellMetadata": {
      "byteLimit": 2048000,
      "rowLimit": 10000
     },
     "inputWidgets": {},
     "nuid": "daf1f54d-c508-485f-af3c-18a26fdafdbf",
     "showTitle": false,
     "tableResultSettingsMap": {},
     "title": ""
    }
   },
   "outputs": [],
   "source": [
    "evals_df = evals.toPandas()\n"
   ]
  },
  {
   "cell_type": "markdown",
   "metadata": {
    "application/vnd.databricks.v1+cell": {
     "cellMetadata": {},
     "inputWidgets": {},
     "nuid": "da37800d-80da-4ff2-b05a-ce3ab40611a8",
     "showTitle": false,
     "tableResultSettingsMap": {},
     "title": ""
    }
   },
   "source": [
    "### Llama"
   ]
  },
  {
   "cell_type": "code",
   "execution_count": 0,
   "metadata": {
    "application/vnd.databricks.v1+cell": {
     "cellMetadata": {
      "byteLimit": 2048000,
      "rowLimit": 10000
     },
     "inputWidgets": {},
     "nuid": "38cbd612-0b96-46fe-b09c-76c00210a881",
     "showTitle": false,
     "tableResultSettingsMap": {},
     "title": ""
    }
   },
   "outputs": [
    {
     "output_type": "display_data",
     "data": {
      "application/vnd.jupyter.widget-view+json": {
       "model_id": "cd9cd79daf254883968146f6328ae039",
       "version_major": 2,
       "version_minor": 0
      },
      "text/plain": [
       "Evaluating:   0%|          | 0/25 [Elapsed: 00:00, Remaining: ?]"
      ]
     },
     "metadata": {},
     "output_type": "display_data"
    },
    {
     "output_type": "stream",
     "name": "stderr",
     "output_type": "stream",
     "text": [
      "2025/05/16 11:34:41 WARNING mlflow.metrics.metric_definitions: Cannot calculate metric 'recall_at_k' for non-arraylike of string or int inputs. Non-arraylike of strings/ints found for the column specified by the `predictions` parameter or the model output column on row 0, value [None, None, None, None, None]. Skipping metric logging.\n2025/05/16 11:34:45 WARNING mlflow.metrics.metric_definitions: Cannot calculate metric 'recall_at_k' for non-arraylike of string or int inputs. Non-arraylike of strings/ints found for the column specified by the `predictions` parameter or the model output column on row 0, value [None, None, None, None, None]. Skipping metric logging.\n2025/05/16 11:35:20 WARNING mlflow.metrics.metric_definitions: Cannot calculate metric 'recall_at_k' for non-arraylike of string or int inputs. Non-arraylike of strings/ints found for the column specified by the `predictions` parameter or the model output column on row 0, value [None, None, None, None, None]. Skipping metric logging.\n2025/05/16 11:35:20 WARNING mlflow.metrics.metric_definitions: Cannot calculate metric 'recall_at_k' for non-arraylike of string or int inputs. Non-arraylike of strings/ints found for the column specified by the `predictions` parameter or the model output column on row 0, value [None, None, None, None, None]. Skipping metric logging.\n2025/05/16 11:35:21 WARNING mlflow.metrics.metric_definitions: Cannot calculate metric 'recall_at_k' for non-arraylike of string or int inputs. Non-arraylike of strings/ints found for the column specified by the `predictions` parameter or the model output column on row 0, value [None, None, None, None, None]. Skipping metric logging.\n2025/05/16 11:35:40 WARNING mlflow.metrics.metric_definitions: Cannot calculate metric 'recall_at_k' for non-arraylike of string or int inputs. Non-arraylike of strings/ints found for the column specified by the `predictions` parameter or the model output column on row 0, value [None, None, None, None, None]. Skipping metric logging.\n2025/05/16 11:35:51 WARNING mlflow.metrics.metric_definitions: Cannot calculate metric 'recall_at_k' for non-arraylike of string or int inputs. Non-arraylike of strings/ints found for the column specified by the `predictions` parameter or the model output column on row 0, value [None, None, None, None, None]. Skipping metric logging.\n2025/05/16 11:36:01 WARNING mlflow.metrics.metric_definitions: Cannot calculate metric 'recall_at_k' for non-arraylike of string or int inputs. Non-arraylike of strings/ints found for the column specified by the `predictions` parameter or the model output column on row 0, value [None, None, None, None, None]. Skipping metric logging.\n2025/05/16 11:36:13 WARNING mlflow.metrics.metric_definitions: Cannot calculate metric 'recall_at_k' for non-arraylike of string or int inputs. Non-arraylike of strings/ints found for the column specified by the `predictions` parameter or the model output column on row 0, value [None, None, None, None, None]. Skipping metric logging.\n2025/05/16 11:36:17 WARNING mlflow.metrics.metric_definitions: Cannot calculate metric 'recall_at_k' for non-arraylike of string or int inputs. Non-arraylike of strings/ints found for the column specified by the `predictions` parameter or the model output column on row 0, value [None, None, None, None, None]. Skipping metric logging.\n2025/05/16 11:36:20 WARNING mlflow.metrics.metric_definitions: Cannot calculate metric 'recall_at_k' for non-arraylike of string or int inputs. Non-arraylike of strings/ints found for the column specified by the `predictions` parameter or the model output column on row 0, value [None, None, None, None, None]. Skipping metric logging.\n2025/05/16 11:36:43 WARNING mlflow.metrics.metric_definitions: Cannot calculate metric 'recall_at_k' for non-arraylike of string or int inputs. Non-arraylike of strings/ints found for the column specified by the `predictions` parameter or the model output column on row 0, value [None, None, None, None, None]. Skipping metric logging.\n2025/05/16 11:36:57 WARNING mlflow.metrics.metric_definitions: Cannot calculate metric 'recall_at_k' for non-arraylike of string or int inputs. Non-arraylike of strings/ints found for the column specified by the `predictions` parameter or the model output column on row 0, value [None, None, None, None, None]. Skipping metric logging.\n2025/05/16 11:36:59 WARNING mlflow.metrics.metric_definitions: Cannot calculate metric 'recall_at_k' for non-arraylike of string or int inputs. Non-arraylike of strings/ints found for the column specified by the `predictions` parameter or the model output column on row 0, value [None, None, None, None, None]. Skipping metric logging.\n2025/05/16 11:37:18 WARNING mlflow.metrics.metric_definitions: Cannot calculate metric 'recall_at_k' for non-arraylike of string or int inputs. Non-arraylike of strings/ints found for the column specified by the `predictions` parameter or the model output column on row 0, value [None, None, None, None, None]. Skipping metric logging.\n2025/05/16 11:37:34 WARNING mlflow.metrics.metric_definitions: Cannot calculate metric 'recall_at_k' for non-arraylike of string or int inputs. Non-arraylike of strings/ints found for the column specified by the `predictions` parameter or the model output column on row 0, value [None, None, None, None, None]. Skipping metric logging.\n2025/05/16 11:37:38 WARNING mlflow.metrics.metric_definitions: Cannot calculate metric 'recall_at_k' for non-arraylike of string or int inputs. Non-arraylike of strings/ints found for the column specified by the `predictions` parameter or the model output column on row 0, value [None, None, None, None, None]. Skipping metric logging.\n2025/05/16 11:37:53 WARNING mlflow.metrics.metric_definitions: Cannot calculate metric 'recall_at_k' for non-arraylike of string or int inputs. Non-arraylike of strings/ints found for the column specified by the `predictions` parameter or the model output column on row 0, value [None, None, None, None, None]. Skipping metric logging.\n2025/05/16 11:37:55 WARNING mlflow.metrics.metric_definitions: Cannot calculate metric 'recall_at_k' for non-arraylike of string or int inputs. Non-arraylike of strings/ints found for the column specified by the `predictions` parameter or the model output column on row 0, value [None, None, None, None, None]. Skipping metric logging.\n2025/05/16 11:38:02 WARNING mlflow.metrics.metric_definitions: Cannot calculate metric 'recall_at_k' for non-arraylike of string or int inputs. Non-arraylike of strings/ints found for the column specified by the `predictions` parameter or the model output column on row 0, value [None, None, None, None, None]. Skipping metric logging.\n2025/05/16 11:38:08 WARNING mlflow.metrics.metric_definitions: Cannot calculate metric 'recall_at_k' for non-arraylike of string or int inputs. Non-arraylike of strings/ints found for the column specified by the `predictions` parameter or the model output column on row 0, value [None, None, None, None, None]. Skipping metric logging.\n2025/05/16 11:38:11 WARNING mlflow.metrics.metric_definitions: Cannot calculate metric 'recall_at_k' for non-arraylike of string or int inputs. Non-arraylike of strings/ints found for the column specified by the `predictions` parameter or the model output column on row 0, value [None, None, None, None, None]. Skipping metric logging.\n2025/05/16 11:38:18 WARNING mlflow.metrics.metric_definitions: Cannot calculate metric 'recall_at_k' for non-arraylike of string or int inputs. Non-arraylike of strings/ints found for the column specified by the `predictions` parameter or the model output column on row 0, value [None, None, None, None, None]. Skipping metric logging.\n"
     ]
    },
    {
     "output_type": "display_data",
     "data": {
      "text/html": [
       "<!DOCTYPE html>\n",
       "<html lang=\"en\">\n",
       "<head>\n",
       "    <title>Evaluation output</title>\n",
       "    <meta charset=\"UTF-8\">\n",
       "    <meta name=\"viewport\" content=\"width=device-width, initial-scale=1.0\">\n",
       "    <style>\n",
       "        body {\n",
       "            font-family: Arial, sans-serif;\n",
       "        }\n",
       "\n",
       "        .header {\n",
       "            a.button {\n",
       "                padding: 4px 8px;\n",
       "                line-height: 20px;\n",
       "                box-shadow: none;\n",
       "                height: 20px;\n",
       "                display: inline-flex;\n",
       "                align-items: center;\n",
       "                justify-content: center;\n",
       "                vertical-align: middle;\n",
       "                background-color: rgb(34, 114, 180);\n",
       "                color: rgb(255, 255, 255);\n",
       "                text-decoration: none;\n",
       "                animation-duration: 0s;\n",
       "                transition: none 0s ease 0s;\n",
       "                position: relative;\n",
       "                white-space: nowrap;\n",
       "                text-align: center;\n",
       "                border: 1px solid rgb(192, 205, 216);\n",
       "                cursor: pointer;\n",
       "                user-select: none;\n",
       "                touch-action: manipulation;\n",
       "                border-radius: 4px;\n",
       "                gap: 6px;\n",
       "            }\n",
       "\n",
       "            a.button:hover {\n",
       "                background-color: rgb(14, 83, 139) !important;\n",
       "                border-color: transparent !important;\n",
       "                color: rgb(255, 255, 255) !important;\n",
       "            }\n",
       "        }\n",
       "\n",
       "        .warnings-section {\n",
       "            margin-top: 8px;\n",
       "\n",
       "            ul {\n",
       "                list-style-type: none;\n",
       "            }\n",
       "        }\n",
       "\n",
       "        .instructions-section {\n",
       "            margin-top: 16px;\n",
       "            font-size: 14px;\n",
       "\n",
       "            ul {\n",
       "                margin-top: 0;\n",
       "                margin-bottom: 0;\n",
       "            }\n",
       "        }\n",
       "\n",
       "        code {\n",
       "            font-family: monospace;\n",
       "        }\n",
       "\n",
       "        .note {\n",
       "            color: #666;\n",
       "        }\n",
       "\n",
       "        a {\n",
       "            color: #2272B4;\n",
       "            text-decoration: none;\n",
       "        }\n",
       "\n",
       "        a:hover {\n",
       "            color: #005580;\n",
       "        }\n",
       "    </style>\n",
       "</head>\n",
       "<body>\n",
       "<div>\n",
       "    <div class=\"header\">\n",
       "        <a href=\"https://adb-2869758279805397.17.azuredatabricks.net/ml/experiments/3845882404188464/runs/cd895388a3b646b186176790435641e9/evaluations/\" class=\"button\">\n",
       "            View evaluation results: 8/25 pass\n",
       "            <svg xmlns=\"http://www.w3.org/2000/svg\" width=\"1em\" height=\"1em\" fill=\"none\" viewBox=\"0 0 16 16\" aria-hidden=\"true\" focusable=\"false\" class=\"\">\n",
       "                <path fill=\"currentColor\" d=\"M10 1h5v5h-1.5V3.56L8.53 8.53 7.47 7.47l4.97-4.97H10z\"></path>\n",
       "                <path fill=\"currentColor\" d=\"M1 2.75A.75.75 0 0 1 1.75 2H8v1.5H2.5v10h10V8H14v6.25a.75.75 0 0 1-.75.75H1.75a.75.75 0 0 1-.75-.75z\"></path>\n",
       "            </svg>\n",
       "        </a>\n",
       "    </div>\n",
       "</div>\n",
       "</body>\n",
       "</html>"
      ]
     },
     "metadata": {},
     "output_type": "display_data"
    }
   ],
   "source": [
    "####### llm: llama\n",
    "\n",
    "mlflow.set_experiment(\"/Users/aliciachimeno_ext@gencat.cat/FINAL/Agent VS+ GENIE\")\n",
    "# Evaluate the model using the newly generated evaluation set. After the function call completes, click the UI link to see the results. You can use this as a baseline for your agent.\n",
    "results = mlflow.evaluate(\n",
    "  model=\"endpoints:/agents_dts_proves_pre-startups_list-multi-agent-chatbot-3\",\n",
    "  data=evals_df[:25],\n",
    "  model_type=\"databricks-agent\"\n",
    ")\n",
    "\n"
   ]
  },
  {
   "cell_type": "code",
   "execution_count": 0,
   "metadata": {
    "application/vnd.databricks.v1+cell": {
     "cellMetadata": {
      "byteLimit": 2048000,
      "rowLimit": 10000
     },
     "inputWidgets": {},
     "nuid": "7c0557a7-f8d3-4629-b5fb-8f30c9f1503a",
     "showTitle": false,
     "tableResultSettingsMap": {},
     "title": ""
    }
   },
   "outputs": [
    {
     "output_type": "display_data",
     "data": {
      "application/vnd.jupyter.widget-view+json": {
       "model_id": "1472d82918334c8385c8ceaec15f451c",
       "version_major": 2,
       "version_minor": 0
      },
      "text/plain": [
       "Evaluating:   0%|          | 0/24 [Elapsed: 00:00, Remaining: ?]"
      ]
     },
     "metadata": {},
     "output_type": "display_data"
    },
    {
     "output_type": "stream",
     "name": "stderr",
     "output_type": "stream",
     "text": [
      "2025/05/16 11:39:23 WARNING mlflow.metrics.metric_definitions: Cannot calculate metric 'recall_at_k' for non-arraylike of string or int inputs. Non-arraylike of strings/ints found for the column specified by the `predictions` parameter or the model output column on row 0, value [None, None, None, None, None]. Skipping metric logging.\n2025/05/16 11:39:25 WARNING mlflow.metrics.metric_definitions: Cannot calculate metric 'recall_at_k' for non-arraylike of string or int inputs. Non-arraylike of strings/ints found for the column specified by the `predictions` parameter or the model output column on row 0, value [None, None, None, None, None]. Skipping metric logging.\n2025/05/16 11:39:35 WARNING mlflow.metrics.metric_definitions: Cannot calculate metric 'recall_at_k' for non-arraylike of string or int inputs. Non-arraylike of strings/ints found for the column specified by the `predictions` parameter or the model output column on row 0, value [None, None, None, None, None, None, None, None, None, None]. Skipping metric logging.\n2025/05/16 11:39:49 WARNING mlflow.metrics.metric_definitions: Cannot calculate metric 'recall_at_k' for non-arraylike of string or int inputs. Non-arraylike of strings/ints found for the column specified by the `predictions` parameter or the model output column on row 0, value [None, None, None, None, None]. Skipping metric logging.\n2025/05/16 11:40:09 WARNING mlflow.metrics.metric_definitions: Cannot calculate metric 'recall_at_k' for non-arraylike of string or int inputs. Non-arraylike of strings/ints found for the column specified by the `predictions` parameter or the model output column on row 0, value [None, None, None, None, None]. Skipping metric logging.\n2025/05/16 11:40:14 WARNING mlflow.metrics.metric_definitions: Cannot calculate metric 'recall_at_k' for non-arraylike of string or int inputs. Non-arraylike of strings/ints found for the column specified by the `predictions` parameter or the model output column on row 0, value [None, None, None, None, None]. Skipping metric logging.\n2025/05/16 11:40:18 WARNING mlflow.metrics.metric_definitions: Cannot calculate metric 'recall_at_k' for non-arraylike of string or int inputs. Non-arraylike of strings/ints found for the column specified by the `predictions` parameter or the model output column on row 0, value [None, None, None, None, None]. Skipping metric logging.\n2025/05/16 11:40:28 WARNING mlflow.metrics.metric_definitions: Cannot calculate metric 'recall_at_k' for non-arraylike of string or int inputs. Non-arraylike of strings/ints found for the column specified by the `predictions` parameter or the model output column on row 0, value [None, None, None, None, None]. Skipping metric logging.\n2025/05/16 11:40:40 WARNING mlflow.metrics.metric_definitions: Cannot calculate metric 'recall_at_k' for non-arraylike of string or int inputs. Non-arraylike of strings/ints found for the column specified by the `predictions` parameter or the model output column on row 0, value [None, None, None, None, None]. Skipping metric logging.\n2025/05/16 11:40:43 WARNING mlflow.metrics.metric_definitions: Cannot calculate metric 'recall_at_k' for non-arraylike of string or int inputs. Non-arraylike of strings/ints found for the column specified by the `predictions` parameter or the model output column on row 0, value [None, None, None, None, None, None, None, None, None, None]. Skipping metric logging.\n2025/05/16 11:40:51 WARNING mlflow.metrics.metric_definitions: Cannot calculate metric 'recall_at_k' for non-arraylike of string or int inputs. Non-arraylike of strings/ints found for the column specified by the `predictions` parameter or the model output column on row 0, value [None, None, None, None, None]. Skipping metric logging.\n2025/05/16 11:40:56 WARNING mlflow.metrics.metric_definitions: Cannot calculate metric 'recall_at_k' for non-arraylike of string or int inputs. Non-arraylike of strings/ints found for the column specified by the `predictions` parameter or the model output column on row 0, value [None, None, None, None, None, None, None, None, None, None]. Skipping metric logging.\n2025/05/16 11:41:05 WARNING mlflow.metrics.metric_definitions: Cannot calculate metric 'recall_at_k' for non-arraylike of string or int inputs. Non-arraylike of strings/ints found for the column specified by the `predictions` parameter or the model output column on row 0, value [None, None, None, None, None]. Skipping metric logging.\n2025/05/16 11:41:21 WARNING mlflow.metrics.metric_definitions: Cannot calculate metric 'recall_at_k' for non-arraylike of string or int inputs. Non-arraylike of strings/ints found for the column specified by the `predictions` parameter or the model output column on row 0, value [None, None, None, None, None, None, None, None, None, None]. Skipping metric logging.\n2025/05/16 11:41:26 WARNING mlflow.metrics.metric_definitions: Cannot calculate metric 'recall_at_k' for non-arraylike of string or int inputs. Non-arraylike of strings/ints found for the column specified by the `predictions` parameter or the model output column on row 0, value [None, None, None, None, None]. Skipping metric logging.\n2025/05/16 11:41:37 WARNING mlflow.metrics.metric_definitions: Cannot calculate metric 'recall_at_k' for non-arraylike of string or int inputs. Non-arraylike of strings/ints found for the column specified by the `predictions` parameter or the model output column on row 0, value [None, None, None, None, None]. Skipping metric logging.\n2025/05/16 11:41:42 WARNING mlflow.metrics.metric_definitions: Cannot calculate metric 'recall_at_k' for non-arraylike of string or int inputs. Non-arraylike of strings/ints found for the column specified by the `predictions` parameter or the model output column on row 0, value [None, None, None, None, None]. Skipping metric logging.\n2025/05/16 11:41:55 WARNING mlflow.metrics.metric_definitions: Cannot calculate metric 'recall_at_k' for non-arraylike of string or int inputs. Non-arraylike of strings/ints found for the column specified by the `predictions` parameter or the model output column on row 0, value [None, None, None, None, None]. Skipping metric logging.\n2025/05/16 11:41:56 WARNING mlflow.metrics.metric_definitions: Cannot calculate metric 'recall_at_k' for non-arraylike of string or int inputs. Non-arraylike of strings/ints found for the column specified by the `predictions` parameter or the model output column on row 0, value [None, None, None, None, None]. Skipping metric logging.\n2025/05/16 11:42:11 WARNING mlflow.metrics.metric_definitions: Cannot calculate metric 'recall_at_k' for non-arraylike of string or int inputs. Non-arraylike of strings/ints found for the column specified by the `predictions` parameter or the model output column on row 0, value [None, None, None, None, None]. Skipping metric logging.\n"
     ]
    },
    {
     "output_type": "display_data",
     "data": {
      "text/html": [
       "<!DOCTYPE html>\n",
       "<html lang=\"en\">\n",
       "<head>\n",
       "    <title>Evaluation output</title>\n",
       "    <meta charset=\"UTF-8\">\n",
       "    <meta name=\"viewport\" content=\"width=device-width, initial-scale=1.0\">\n",
       "    <style>\n",
       "        body {\n",
       "            font-family: Arial, sans-serif;\n",
       "        }\n",
       "\n",
       "        .header {\n",
       "            a.button {\n",
       "                padding: 4px 8px;\n",
       "                line-height: 20px;\n",
       "                box-shadow: none;\n",
       "                height: 20px;\n",
       "                display: inline-flex;\n",
       "                align-items: center;\n",
       "                justify-content: center;\n",
       "                vertical-align: middle;\n",
       "                background-color: rgb(34, 114, 180);\n",
       "                color: rgb(255, 255, 255);\n",
       "                text-decoration: none;\n",
       "                animation-duration: 0s;\n",
       "                transition: none 0s ease 0s;\n",
       "                position: relative;\n",
       "                white-space: nowrap;\n",
       "                text-align: center;\n",
       "                border: 1px solid rgb(192, 205, 216);\n",
       "                cursor: pointer;\n",
       "                user-select: none;\n",
       "                touch-action: manipulation;\n",
       "                border-radius: 4px;\n",
       "                gap: 6px;\n",
       "            }\n",
       "\n",
       "            a.button:hover {\n",
       "                background-color: rgb(14, 83, 139) !important;\n",
       "                border-color: transparent !important;\n",
       "                color: rgb(255, 255, 255) !important;\n",
       "            }\n",
       "        }\n",
       "\n",
       "        .warnings-section {\n",
       "            margin-top: 8px;\n",
       "\n",
       "            ul {\n",
       "                list-style-type: none;\n",
       "            }\n",
       "        }\n",
       "\n",
       "        .instructions-section {\n",
       "            margin-top: 16px;\n",
       "            font-size: 14px;\n",
       "\n",
       "            ul {\n",
       "                margin-top: 0;\n",
       "                margin-bottom: 0;\n",
       "            }\n",
       "        }\n",
       "\n",
       "        code {\n",
       "            font-family: monospace;\n",
       "        }\n",
       "\n",
       "        .note {\n",
       "            color: #666;\n",
       "        }\n",
       "\n",
       "        a {\n",
       "            color: #2272B4;\n",
       "            text-decoration: none;\n",
       "        }\n",
       "\n",
       "        a:hover {\n",
       "            color: #005580;\n",
       "        }\n",
       "    </style>\n",
       "</head>\n",
       "<body>\n",
       "<div>\n",
       "    <div class=\"header\">\n",
       "        <a href=\"https://adb-2869758279805397.17.azuredatabricks.net/ml/experiments/3845882404188464/runs/76969a15f1174b7f9e39eafbafa3fbe1/evaluations/\" class=\"button\">\n",
       "            View evaluation results: 8/24 pass\n",
       "            <svg xmlns=\"http://www.w3.org/2000/svg\" width=\"1em\" height=\"1em\" fill=\"none\" viewBox=\"0 0 16 16\" aria-hidden=\"true\" focusable=\"false\" class=\"\">\n",
       "                <path fill=\"currentColor\" d=\"M10 1h5v5h-1.5V3.56L8.53 8.53 7.47 7.47l4.97-4.97H10z\"></path>\n",
       "                <path fill=\"currentColor\" d=\"M1 2.75A.75.75 0 0 1 1.75 2H8v1.5H2.5v10h10V8H14v6.25a.75.75 0 0 1-.75.75H1.75a.75.75 0 0 1-.75-.75z\"></path>\n",
       "            </svg>\n",
       "        </a>\n",
       "    </div>\n",
       "</div>\n",
       "</body>\n",
       "</html>"
      ]
     },
     "metadata": {},
     "output_type": "display_data"
    }
   ],
   "source": [
    "####### llm: llama\n",
    "\n",
    "mlflow.set_experiment(\"/Users/aliciachimeno_ext@gencat.cat/FINAL/Agent VS+ GENIE\")\n",
    "# Evaluate the model using the newly generated evaluation set. After the function call completes, click the UI link to see the results. You can use this as a baseline for your agent.\n",
    "results = mlflow.evaluate(\n",
    "  model=\"endpoints:/agents_dts_proves_pre-startups_list-multi-agent-chatbot-3\",\n",
    "  data=evals_df[26:],\n",
    "  model_type=\"databricks-agent\"\n",
    ")\n",
    "\n"
   ]
  },
  {
   "cell_type": "markdown",
   "metadata": {
    "application/vnd.databricks.v1+cell": {
     "cellMetadata": {},
     "inputWidgets": {},
     "nuid": "2da05f9f-80af-49b6-b258-cd662970c8e0",
     "showTitle": false,
     "tableResultSettingsMap": {},
     "title": ""
    }
   },
   "source": [
    "### Claude"
   ]
  },
  {
   "cell_type": "code",
   "execution_count": 0,
   "metadata": {
    "application/vnd.databricks.v1+cell": {
     "cellMetadata": {
      "byteLimit": 2048000,
      "rowLimit": 10000
     },
     "inputWidgets": {},
     "nuid": "5aeb3051-dd4f-4b15-89d0-e3bf5d70a53a",
     "showTitle": false,
     "tableResultSettingsMap": {},
     "title": ""
    }
   },
   "outputs": [
    {
     "output_type": "display_data",
     "data": {
      "application/vnd.jupyter.widget-view+json": {
       "model_id": "9064c2ec61d04d4c97e5d7e1bc8bad4e",
       "version_major": 2,
       "version_minor": 0
      },
      "text/plain": [
       "Evaluating:   0%|          | 0/5 [Elapsed: 00:00, Remaining: ?]"
      ]
     },
     "metadata": {},
     "output_type": "display_data"
    },
    {
     "output_type": "stream",
     "name": "stderr",
     "output_type": "stream",
     "text": [
      "2025/05/16 11:44:18 WARNING mlflow.metrics.metric_definitions: Cannot calculate metric 'recall_at_k' for non-arraylike of string or int inputs. Non-arraylike of strings/ints found for the column specified by the `predictions` parameter or the model output column on row 0, value [None, None, None, None, None]. Skipping metric logging.\n2025/05/16 11:44:32 WARNING mlflow.metrics.metric_definitions: Cannot calculate metric 'recall_at_k' for non-arraylike of string or int inputs. Non-arraylike of strings/ints found for the column specified by the `predictions` parameter or the model output column on row 0, value [None, None, None, None, None]. Skipping metric logging.\n2025/05/16 11:44:35 WARNING mlflow.metrics.metric_definitions: Cannot calculate metric 'recall_at_k' for non-arraylike of string or int inputs. Non-arraylike of strings/ints found for the column specified by the `predictions` parameter or the model output column on row 0, value [None, None, None, None, None]. Skipping metric logging.\n2025/05/16 11:44:36 WARNING mlflow.metrics.metric_definitions: Cannot calculate metric 'recall_at_k' for non-arraylike of string or int inputs. Non-arraylike of strings/ints found for the column specified by the `predictions` parameter or the model output column on row 0, value [None, None, None, None, None]. Skipping metric logging.\n2025/05/16 11:45:19 WARNING mlflow.metrics.metric_definitions: Cannot calculate metric 'recall_at_k' for non-arraylike of string or int inputs. Non-arraylike of strings/ints found for the column specified by the `predictions` parameter or the model output column on row 0, value [None, None, None, None, None]. Skipping metric logging.\n"
     ]
    },
    {
     "output_type": "display_data",
     "data": {
      "text/html": [
       "<!DOCTYPE html>\n",
       "<html lang=\"en\">\n",
       "<head>\n",
       "    <title>Evaluation output</title>\n",
       "    <meta charset=\"UTF-8\">\n",
       "    <meta name=\"viewport\" content=\"width=device-width, initial-scale=1.0\">\n",
       "    <style>\n",
       "        body {\n",
       "            font-family: Arial, sans-serif;\n",
       "        }\n",
       "\n",
       "        .header {\n",
       "            a.button {\n",
       "                padding: 4px 8px;\n",
       "                line-height: 20px;\n",
       "                box-shadow: none;\n",
       "                height: 20px;\n",
       "                display: inline-flex;\n",
       "                align-items: center;\n",
       "                justify-content: center;\n",
       "                vertical-align: middle;\n",
       "                background-color: rgb(34, 114, 180);\n",
       "                color: rgb(255, 255, 255);\n",
       "                text-decoration: none;\n",
       "                animation-duration: 0s;\n",
       "                transition: none 0s ease 0s;\n",
       "                position: relative;\n",
       "                white-space: nowrap;\n",
       "                text-align: center;\n",
       "                border: 1px solid rgb(192, 205, 216);\n",
       "                cursor: pointer;\n",
       "                user-select: none;\n",
       "                touch-action: manipulation;\n",
       "                border-radius: 4px;\n",
       "                gap: 6px;\n",
       "            }\n",
       "\n",
       "            a.button:hover {\n",
       "                background-color: rgb(14, 83, 139) !important;\n",
       "                border-color: transparent !important;\n",
       "                color: rgb(255, 255, 255) !important;\n",
       "            }\n",
       "        }\n",
       "\n",
       "        .warnings-section {\n",
       "            margin-top: 8px;\n",
       "\n",
       "            ul {\n",
       "                list-style-type: none;\n",
       "            }\n",
       "        }\n",
       "\n",
       "        .instructions-section {\n",
       "            margin-top: 16px;\n",
       "            font-size: 14px;\n",
       "\n",
       "            ul {\n",
       "                margin-top: 0;\n",
       "                margin-bottom: 0;\n",
       "            }\n",
       "        }\n",
       "\n",
       "        code {\n",
       "            font-family: monospace;\n",
       "        }\n",
       "\n",
       "        .note {\n",
       "            color: #666;\n",
       "        }\n",
       "\n",
       "        a {\n",
       "            color: #2272B4;\n",
       "            text-decoration: none;\n",
       "        }\n",
       "\n",
       "        a:hover {\n",
       "            color: #005580;\n",
       "        }\n",
       "    </style>\n",
       "</head>\n",
       "<body>\n",
       "<div>\n",
       "    <div class=\"header\">\n",
       "        <a href=\"https://adb-2869758279805397.17.azuredatabricks.net/ml/experiments/3845882404188464/runs/52019a9d50814a06be7e2b057aca8f32/evaluations/\" class=\"button\">\n",
       "            View evaluation results: 5/5 pass\n",
       "            <svg xmlns=\"http://www.w3.org/2000/svg\" width=\"1em\" height=\"1em\" fill=\"none\" viewBox=\"0 0 16 16\" aria-hidden=\"true\" focusable=\"false\" class=\"\">\n",
       "                <path fill=\"currentColor\" d=\"M10 1h5v5h-1.5V3.56L8.53 8.53 7.47 7.47l4.97-4.97H10z\"></path>\n",
       "                <path fill=\"currentColor\" d=\"M1 2.75A.75.75 0 0 1 1.75 2H8v1.5H2.5v10h10V8H14v6.25a.75.75 0 0 1-.75.75H1.75a.75.75 0 0 1-.75-.75z\"></path>\n",
       "            </svg>\n",
       "        </a>\n",
       "    </div>\n",
       "</div>\n",
       "</body>\n",
       "</html>"
      ]
     },
     "metadata": {},
     "output_type": "display_data"
    }
   ],
   "source": [
    "mlflow.set_experiment(\"/Users/aliciachimeno_ext@gencat.cat/FINAL/Agent VS+ GENIE\")\n",
    "# Evaluate the model using the newly generated evaluation set. After the function call completes, click the UI link to see the results. You can use this as a baseline for your agent.\n",
    "results = mlflow.evaluate(\n",
    "  model=\"endpoints:/agents_dts_proves_pre-startups_list-multi-agent-chatbot-claude\",\n",
    "  data=evals_df[:5],\n",
    "  model_type=\"databricks-agent\"\n",
    ")\n",
    "\n"
   ]
  },
  {
   "cell_type": "code",
   "execution_count": 0,
   "metadata": {
    "application/vnd.databricks.v1+cell": {
     "cellMetadata": {
      "byteLimit": 2048000,
      "rowLimit": 10000
     },
     "inputWidgets": {},
     "nuid": "554fd53f-dda1-440f-8dfb-daa124100f85",
     "showTitle": false,
     "tableResultSettingsMap": {},
     "title": ""
    }
   },
   "outputs": [
    {
     "output_type": "display_data",
     "data": {
      "application/vnd.jupyter.widget-view+json": {
       "model_id": "f47a748703664d579d81adae5522d020",
       "version_major": 2,
       "version_minor": 0
      },
      "text/plain": [
       "Evaluating:   0%|          | 0/5 [Elapsed: 00:00, Remaining: ?]"
      ]
     },
     "metadata": {},
     "output_type": "display_data"
    },
    {
     "output_type": "stream",
     "name": "stderr",
     "output_type": "stream",
     "text": [
      "2025/05/16 11:46:32 WARNING mlflow.metrics.metric_definitions: Cannot calculate metric 'recall_at_k' for non-arraylike of string or int inputs. Non-arraylike of strings/ints found for the column specified by the `predictions` parameter or the model output column on row 0, value [None, None, None, None, None]. Skipping metric logging.\n2025/05/16 11:46:33 WARNING mlflow.metrics.metric_definitions: Cannot calculate metric 'recall_at_k' for non-arraylike of string or int inputs. Non-arraylike of strings/ints found for the column specified by the `predictions` parameter or the model output column on row 0, value [None, None, None, None, None]. Skipping metric logging.\n2025/05/16 11:46:50 WARNING mlflow.metrics.metric_definitions: Cannot calculate metric 'recall_at_k' for non-arraylike of string or int inputs. Non-arraylike of strings/ints found for the column specified by the `predictions` parameter or the model output column on row 0, value [None, None, None, None, None]. Skipping metric logging.\n2025/05/16 11:46:50 WARNING mlflow.metrics.metric_definitions: Cannot calculate metric 'recall_at_k' for non-arraylike of string or int inputs. Non-arraylike of strings/ints found for the column specified by the `predictions` parameter or the model output column on row 0, value [None, None, None, None, None]. Skipping metric logging.\n2025/05/16 11:47:27 WARNING mlflow.metrics.metric_definitions: Cannot calculate metric 'recall_at_k' for non-arraylike of string or int inputs. Non-arraylike of strings/ints found for the column specified by the `predictions` parameter or the model output column on row 0, value [None, None, None, None, None]. Skipping metric logging.\n"
     ]
    },
    {
     "output_type": "display_data",
     "data": {
      "text/html": [
       "<!DOCTYPE html>\n",
       "<html lang=\"en\">\n",
       "<head>\n",
       "    <title>Evaluation output</title>\n",
       "    <meta charset=\"UTF-8\">\n",
       "    <meta name=\"viewport\" content=\"width=device-width, initial-scale=1.0\">\n",
       "    <style>\n",
       "        body {\n",
       "            font-family: Arial, sans-serif;\n",
       "        }\n",
       "\n",
       "        .header {\n",
       "            a.button {\n",
       "                padding: 4px 8px;\n",
       "                line-height: 20px;\n",
       "                box-shadow: none;\n",
       "                height: 20px;\n",
       "                display: inline-flex;\n",
       "                align-items: center;\n",
       "                justify-content: center;\n",
       "                vertical-align: middle;\n",
       "                background-color: rgb(34, 114, 180);\n",
       "                color: rgb(255, 255, 255);\n",
       "                text-decoration: none;\n",
       "                animation-duration: 0s;\n",
       "                transition: none 0s ease 0s;\n",
       "                position: relative;\n",
       "                white-space: nowrap;\n",
       "                text-align: center;\n",
       "                border: 1px solid rgb(192, 205, 216);\n",
       "                cursor: pointer;\n",
       "                user-select: none;\n",
       "                touch-action: manipulation;\n",
       "                border-radius: 4px;\n",
       "                gap: 6px;\n",
       "            }\n",
       "\n",
       "            a.button:hover {\n",
       "                background-color: rgb(14, 83, 139) !important;\n",
       "                border-color: transparent !important;\n",
       "                color: rgb(255, 255, 255) !important;\n",
       "            }\n",
       "        }\n",
       "\n",
       "        .warnings-section {\n",
       "            margin-top: 8px;\n",
       "\n",
       "            ul {\n",
       "                list-style-type: none;\n",
       "            }\n",
       "        }\n",
       "\n",
       "        .instructions-section {\n",
       "            margin-top: 16px;\n",
       "            font-size: 14px;\n",
       "\n",
       "            ul {\n",
       "                margin-top: 0;\n",
       "                margin-bottom: 0;\n",
       "            }\n",
       "        }\n",
       "\n",
       "        code {\n",
       "            font-family: monospace;\n",
       "        }\n",
       "\n",
       "        .note {\n",
       "            color: #666;\n",
       "        }\n",
       "\n",
       "        a {\n",
       "            color: #2272B4;\n",
       "            text-decoration: none;\n",
       "        }\n",
       "\n",
       "        a:hover {\n",
       "            color: #005580;\n",
       "        }\n",
       "    </style>\n",
       "</head>\n",
       "<body>\n",
       "<div>\n",
       "    <div class=\"header\">\n",
       "        <a href=\"https://adb-2869758279805397.17.azuredatabricks.net/ml/experiments/3845882404188464/runs/9e651c1d1d8c4fd6bf2d77304a2482f8/evaluations/\" class=\"button\">\n",
       "            View evaluation results: 5/5 pass\n",
       "            <svg xmlns=\"http://www.w3.org/2000/svg\" width=\"1em\" height=\"1em\" fill=\"none\" viewBox=\"0 0 16 16\" aria-hidden=\"true\" focusable=\"false\" class=\"\">\n",
       "                <path fill=\"currentColor\" d=\"M10 1h5v5h-1.5V3.56L8.53 8.53 7.47 7.47l4.97-4.97H10z\"></path>\n",
       "                <path fill=\"currentColor\" d=\"M1 2.75A.75.75 0 0 1 1.75 2H8v1.5H2.5v10h10V8H14v6.25a.75.75 0 0 1-.75.75H1.75a.75.75 0 0 1-.75-.75z\"></path>\n",
       "            </svg>\n",
       "        </a>\n",
       "    </div>\n",
       "</div>\n",
       "</body>\n",
       "</html>"
      ]
     },
     "metadata": {},
     "output_type": "display_data"
    }
   ],
   "source": [
    "mlflow.set_experiment(\"/Users/aliciachimeno_ext@gencat.cat/FINAL/Agent VS+ GENIE\")\n",
    "# Evaluate the model using the newly generated evaluation set. After the function call completes, click the UI link to see the results. You can use this as a baseline for your agent.\n",
    "results = mlflow.evaluate(\n",
    "  model=\"endpoints:/agents_dts_proves_pre-startups_list-multi-agent-chatbot-claude\",\n",
    "  data=evals_df[5:10],\n",
    "  model_type=\"databricks-agent\"\n",
    ")\n"
   ]
  },
  {
   "cell_type": "code",
   "execution_count": 0,
   "metadata": {
    "application/vnd.databricks.v1+cell": {
     "cellMetadata": {
      "byteLimit": 2048000,
      "rowLimit": 10000
     },
     "inputWidgets": {},
     "nuid": "3d99e1c1-86fd-4264-bcdf-fd6359fbea4d",
     "showTitle": false,
     "tableResultSettingsMap": {},
     "title": ""
    }
   },
   "outputs": [
    {
     "output_type": "display_data",
     "data": {
      "application/vnd.jupyter.widget-view+json": {
       "model_id": "c9b4bda877d5461ab83ab02692f302fe",
       "version_major": 2,
       "version_minor": 0
      },
      "text/plain": [
       "Evaluating:   0%|          | 0/5 [Elapsed: 00:00, Remaining: ?]"
      ]
     },
     "metadata": {},
     "output_type": "display_data"
    },
    {
     "output_type": "stream",
     "name": "stderr",
     "output_type": "stream",
     "text": [
      "2025/05/16 11:49:38 WARNING mlflow.metrics.metric_definitions: Cannot calculate metric 'recall_at_k' for non-arraylike of string or int inputs. Non-arraylike of strings/ints found for the column specified by the `predictions` parameter or the model output column on row 0, value [None, None, None, None, None]. Skipping metric logging.\n2025/05/16 11:49:57 WARNING mlflow.metrics.metric_definitions: Cannot calculate metric 'recall_at_k' for non-arraylike of string or int inputs. Non-arraylike of strings/ints found for the column specified by the `predictions` parameter or the model output column on row 0, value [None, None, None, None, None]. Skipping metric logging.\n2025/05/16 11:49:58 WARNING mlflow.metrics.metric_definitions: Cannot calculate metric 'recall_at_k' for non-arraylike of string or int inputs. Non-arraylike of strings/ints found for the column specified by the `predictions` parameter or the model output column on row 0, value [None, None, None, None, None]. Skipping metric logging.\n2025/05/16 11:49:59 WARNING mlflow.metrics.metric_definitions: Cannot calculate metric 'recall_at_k' for non-arraylike of string or int inputs. Non-arraylike of strings/ints found for the column specified by the `predictions` parameter or the model output column on row 0, value [None, None, None, None, None]. Skipping metric logging.\n2025/05/16 11:50:59 WARNING mlflow.metrics.metric_definitions: Cannot calculate metric 'recall_at_k' for non-arraylike of string or int inputs. Non-arraylike of strings/ints found for the column specified by the `predictions` parameter or the model output column on row 0, value [None, None, None, None, None]. Skipping metric logging.\n"
     ]
    },
    {
     "output_type": "display_data",
     "data": {
      "text/html": [
       "<!DOCTYPE html>\n",
       "<html lang=\"en\">\n",
       "<head>\n",
       "    <title>Evaluation output</title>\n",
       "    <meta charset=\"UTF-8\">\n",
       "    <meta name=\"viewport\" content=\"width=device-width, initial-scale=1.0\">\n",
       "    <style>\n",
       "        body {\n",
       "            font-family: Arial, sans-serif;\n",
       "        }\n",
       "\n",
       "        .header {\n",
       "            a.button {\n",
       "                padding: 4px 8px;\n",
       "                line-height: 20px;\n",
       "                box-shadow: none;\n",
       "                height: 20px;\n",
       "                display: inline-flex;\n",
       "                align-items: center;\n",
       "                justify-content: center;\n",
       "                vertical-align: middle;\n",
       "                background-color: rgb(34, 114, 180);\n",
       "                color: rgb(255, 255, 255);\n",
       "                text-decoration: none;\n",
       "                animation-duration: 0s;\n",
       "                transition: none 0s ease 0s;\n",
       "                position: relative;\n",
       "                white-space: nowrap;\n",
       "                text-align: center;\n",
       "                border: 1px solid rgb(192, 205, 216);\n",
       "                cursor: pointer;\n",
       "                user-select: none;\n",
       "                touch-action: manipulation;\n",
       "                border-radius: 4px;\n",
       "                gap: 6px;\n",
       "            }\n",
       "\n",
       "            a.button:hover {\n",
       "                background-color: rgb(14, 83, 139) !important;\n",
       "                border-color: transparent !important;\n",
       "                color: rgb(255, 255, 255) !important;\n",
       "            }\n",
       "        }\n",
       "\n",
       "        .warnings-section {\n",
       "            margin-top: 8px;\n",
       "\n",
       "            ul {\n",
       "                list-style-type: none;\n",
       "            }\n",
       "        }\n",
       "\n",
       "        .instructions-section {\n",
       "            margin-top: 16px;\n",
       "            font-size: 14px;\n",
       "\n",
       "            ul {\n",
       "                margin-top: 0;\n",
       "                margin-bottom: 0;\n",
       "            }\n",
       "        }\n",
       "\n",
       "        code {\n",
       "            font-family: monospace;\n",
       "        }\n",
       "\n",
       "        .note {\n",
       "            color: #666;\n",
       "        }\n",
       "\n",
       "        a {\n",
       "            color: #2272B4;\n",
       "            text-decoration: none;\n",
       "        }\n",
       "\n",
       "        a:hover {\n",
       "            color: #005580;\n",
       "        }\n",
       "    </style>\n",
       "</head>\n",
       "<body>\n",
       "<div>\n",
       "    <div class=\"header\">\n",
       "        <a href=\"https://adb-2869758279805397.17.azuredatabricks.net/ml/experiments/3845882404188464/runs/d09ab0ac473b4a309be734096f89631a/evaluations/\" class=\"button\">\n",
       "            View evaluation results: 4/5 pass\n",
       "            <svg xmlns=\"http://www.w3.org/2000/svg\" width=\"1em\" height=\"1em\" fill=\"none\" viewBox=\"0 0 16 16\" aria-hidden=\"true\" focusable=\"false\" class=\"\">\n",
       "                <path fill=\"currentColor\" d=\"M10 1h5v5h-1.5V3.56L8.53 8.53 7.47 7.47l4.97-4.97H10z\"></path>\n",
       "                <path fill=\"currentColor\" d=\"M1 2.75A.75.75 0 0 1 1.75 2H8v1.5H2.5v10h10V8H14v6.25a.75.75 0 0 1-.75.75H1.75a.75.75 0 0 1-.75-.75z\"></path>\n",
       "            </svg>\n",
       "        </a>\n",
       "    </div>\n",
       "</div>\n",
       "</body>\n",
       "</html>"
      ]
     },
     "metadata": {},
     "output_type": "display_data"
    }
   ],
   "source": [
    "mlflow.set_experiment(\"/Users/aliciachimeno_ext@gencat.cat/FINAL/Agent VS+ GENIE\")\n",
    "# Evaluate the model using the newly generated evaluation set. After the function call completes, click the UI link to see the results. You can use this as a baseline for your agent.\n",
    "results = mlflow.evaluate(\n",
    "  model=\"endpoints:/agents_dts_proves_pre-startups_list-multi-agent-chatbot-claude\",\n",
    "  data=evals_df[10:15],\n",
    "  model_type=\"databricks-agent\"\n",
    ")\n",
    "\n"
   ]
  },
  {
   "cell_type": "code",
   "execution_count": 0,
   "metadata": {
    "application/vnd.databricks.v1+cell": {
     "cellMetadata": {
      "byteLimit": 2048000,
      "rowLimit": 10000
     },
     "inputWidgets": {},
     "nuid": "cbff63a1-09d3-4f1b-a7fa-bacb257bd5d6",
     "showTitle": false,
     "tableResultSettingsMap": {},
     "title": ""
    }
   },
   "outputs": [],
   "source": [
    "mlflow.set_experiment(\"/Users/aliciachimeno_ext@gencat.cat/FINAL/Agent VS+ GENIE\")\n",
    "# Evaluate the model using the newly generated evaluation set. After the function call completes, click the UI link to see the results. You can use this as a baseline for your agent.\n",
    "results = mlflow.evaluate(\n",
    "  model=\"endpoints:/agents_dts_proves_pre-startups_list-multi-agent-chatbot-claude\",\n",
    "  data=evals_df[15:20],\n",
    "  model_type=\"databricks-agent\"\n",
    ")\n",
    "\n"
   ]
  },
  {
   "cell_type": "code",
   "execution_count": 0,
   "metadata": {
    "application/vnd.databricks.v1+cell": {
     "cellMetadata": {
      "byteLimit": 2048000,
      "rowLimit": 10000
     },
     "inputWidgets": {},
     "nuid": "fa7d1395-658d-48fb-bfe8-89622ca331f6",
     "showTitle": false,
     "tableResultSettingsMap": {},
     "title": ""
    }
   },
   "outputs": [],
   "source": [
    "mlflow.set_experiment(\"/Users/aliciachimeno_ext@gencat.cat/FINAL/Agent VS+ GENIE\")\n",
    "# Evaluate the model using the newly generated evaluation set. After the function call completes, click the UI link to see the results. You can use this as a baseline for your agent.\n",
    "results = mlflow.evaluate(\n",
    "  model=\"endpoints:/agents_dts_proves_pre-startups_list-multi-agent-chatbot-claude\",\n",
    "  data=evals_df[20:25],\n",
    "  model_type=\"databricks-agent\"\n",
    ")\n",
    "\n"
   ]
  },
  {
   "cell_type": "markdown",
   "metadata": {
    "application/vnd.databricks.v1+cell": {
     "cellMetadata": {},
     "inputWidgets": {},
     "nuid": "45322469-3cc6-4717-a991-f50ca4998cdd",
     "showTitle": false,
     "tableResultSettingsMap": {},
     "title": ""
    }
   },
   "source": [
    "### Create a manual evaluation dataset"
   ]
  },
  {
   "cell_type": "code",
   "execution_count": 0,
   "metadata": {
    "application/vnd.databricks.v1+cell": {
     "cellMetadata": {
      "byteLimit": 2048000,
      "rowLimit": 10000
     },
     "inputWidgets": {},
     "nuid": "556761b1-895d-41d7-aab1-6258725b52de",
     "showTitle": false,
     "tableResultSettingsMap": {},
     "title": ""
    }
   },
   "outputs": [
    {
     "output_type": "display_data",
     "data": {
      "text/html": [
       "<style scoped>\n",
       "  .table-result-container {\n",
       "    max-height: 300px;\n",
       "    overflow: auto;\n",
       "  }\n",
       "  table, th, td {\n",
       "    border: 1px solid black;\n",
       "    border-collapse: collapse;\n",
       "  }\n",
       "  th, td {\n",
       "    padding: 5px;\n",
       "  }\n",
       "  th {\n",
       "    text-align: left;\n",
       "  }\n",
       "</style><div class='table-result-container'><table class='table-result'><thead style='background-color: white'><tr><th>request</th></tr></thead><tbody><tr><td>List(List(List(Encara no tinc una idea de negoci. Dona’m consells per trobar una idea. , user)))</td></tr><tr><td>List(List(List(Vull saber si tinc actituds d'emprenedor i explorar el meu perfil emprenedor. , user)))</td></tr><tr><td>List(List(List(La meva idea és viable? com avaluar una idea de negoci, user)))</td></tr><tr><td>List(List(List( Quines opcions jurídiques tinc per crear una Startup?, user)))</td></tr><tr><td>List(List(List(D’on puc treure el finançament per crear la meva startup? , user)))</td></tr><tr><td>List(List(List(Sóc estudiant d’enginyeria informàtica i tinc una idea d’aplicació. Com la puc convertir en startup?, user)))</td></tr><tr><td>List(List(List(Soc enginyer/a i tinc una idea per un producte tecnològic innovador. Quins passos concrets hauria de seguir per validar si la meva idea tindrà èxit al mercat abans de fer una gran inversió?, user)))</td></tr><tr><td>List(List(List(Vull obrir un negoci local, com una botiga o un servei de proximitat. Quina forma jurídica em recomaneu si soc només jo per començar i vull que sigui senzill?, user)))</td></tr><tr><td>List(List(List(Tinc poca experiència prèvia en la gestió d'empreses. Quines habilitats personals són crucials per a un emprenedor d'avui dia i com puc desenvolupar-les?, user)))</td></tr><tr><td>List(List(List(La meva idea requereix un capital inicial considerable. Quines són les fonts de finançament alternatives als bancs que podria explorar?, user)))</td></tr><tr><td>List(List(List(Estic preparant el pla economicofinancer per al meu projecte, però no estic segur/a de si ho faig bé. Quins són els errors més habituals que he d'evitar en l'elaboració d'aquest pla?, user)))</td></tr><tr><td>List(List(List(He sentit parlar del Design Thinking i el Lean Startup. Com puc aplicar aquestes metodologies per dissenyar i validar la meva idea de negoci de manera més eficient i amb menys risc?, user)))</td></tr><tr><td>List(List(List(Em fa molta por que el meu negoci fracassi. Com puc estar preparat/da psicològicament i estratègicament per a aquesta possibilitat i aprendre dels errors?, user)))</td></tr><tr><td>List(List(List(La meva idea no és totalment nova, ja existeix competència. Com puc assegurar-me que la meva proposta de valor es diferencia i capta l'atenció dels clients?, user)))</td></tr></tbody></table></div>"
      ]
     },
     "metadata": {
      "application/vnd.databricks.v1+output": {
       "addedWidgets": {},
       "aggData": [],
       "aggError": "",
       "aggOverflow": false,
       "aggSchema": [],
       "aggSeriesLimitReached": false,
       "aggType": "",
       "arguments": {},
       "columnCustomDisplayInfos": {},
       "data": [
        [
         [
          [
           [
            "Encara no tinc una idea de negoci. Dona’m consells per trobar una idea. ",
            "user"
           ]
          ]
         ]
        ],
        [
         [
          [
           [
            "Vull saber si tinc actituds d'emprenedor i explorar el meu perfil emprenedor. ",
            "user"
           ]
          ]
         ]
        ],
        [
         [
          [
           [
            "La meva idea és viable? com avaluar una idea de negoci",
            "user"
           ]
          ]
         ]
        ],
        [
         [
          [
           [
            " Quines opcions jurídiques tinc per crear una Startup?",
            "user"
           ]
          ]
         ]
        ],
        [
         [
          [
           [
            "D’on puc treure el finançament per crear la meva startup? ",
            "user"
           ]
          ]
         ]
        ],
        [
         [
          [
           [
            "Sóc estudiant d’enginyeria informàtica i tinc una idea d’aplicació. Com la puc convertir en startup?",
            "user"
           ]
          ]
         ]
        ],
        [
         [
          [
           [
            "Soc enginyer/a i tinc una idea per un producte tecnològic innovador. Quins passos concrets hauria de seguir per validar si la meva idea tindrà èxit al mercat abans de fer una gran inversió?",
            "user"
           ]
          ]
         ]
        ],
        [
         [
          [
           [
            "Vull obrir un negoci local, com una botiga o un servei de proximitat. Quina forma jurídica em recomaneu si soc només jo per començar i vull que sigui senzill?",
            "user"
           ]
          ]
         ]
        ],
        [
         [
          [
           [
            "Tinc poca experiència prèvia en la gestió d'empreses. Quines habilitats personals són crucials per a un emprenedor d'avui dia i com puc desenvolupar-les?",
            "user"
           ]
          ]
         ]
        ],
        [
         [
          [
           [
            "La meva idea requereix un capital inicial considerable. Quines són les fonts de finançament alternatives als bancs que podria explorar?",
            "user"
           ]
          ]
         ]
        ],
        [
         [
          [
           [
            "Estic preparant el pla economicofinancer per al meu projecte, però no estic segur/a de si ho faig bé. Quins són els errors més habituals que he d'evitar en l'elaboració d'aquest pla?",
            "user"
           ]
          ]
         ]
        ],
        [
         [
          [
           [
            "He sentit parlar del Design Thinking i el Lean Startup. Com puc aplicar aquestes metodologies per dissenyar i validar la meva idea de negoci de manera més eficient i amb menys risc?",
            "user"
           ]
          ]
         ]
        ],
        [
         [
          [
           [
            "Em fa molta por que el meu negoci fracassi. Com puc estar preparat/da psicològicament i estratègicament per a aquesta possibilitat i aprendre dels errors?",
            "user"
           ]
          ]
         ]
        ],
        [
         [
          [
           [
            "La meva idea no és totalment nova, ja existeix competència. Com puc assegurar-me que la meva proposta de valor es diferencia i capta l'atenció dels clients?",
            "user"
           ]
          ]
         ]
        ]
       ],
       "datasetInfos": [],
       "dbfsResultPath": null,
       "isJsonSchema": true,
       "metadata": {},
       "overflow": false,
       "plotOptions": {
        "customPlotOptions": {},
        "displayType": "table",
        "pivotAggregation": null,
        "pivotColumns": null,
        "xColumns": null,
        "yColumns": null
       },
       "removedWidgets": [],
       "schema": [
        {
         "metadata": "{}",
         "name": "request",
         "type": "{\"fields\":[{\"metadata\":{},\"name\":\"messages\",\"nullable\":true,\"type\":{\"containsNull\":true,\"elementType\":{\"fields\":[{\"metadata\":{},\"name\":\"content\",\"nullable\":true,\"type\":\"string\"},{\"metadata\":{},\"name\":\"role\",\"nullable\":true,\"type\":\"string\"}],\"type\":\"struct\"},\"type\":\"array\"}}],\"type\":\"struct\"}"
        }
       ],
       "type": "table"
      }
     },
     "output_type": "display_data"
    }
   ],
   "source": [
    "## startups catalog\n",
    "import pandas as pd\n",
    "import mlflow\n",
    "\n",
    "eval_set_documnetation = [\n",
    "    {\"request\": {\"messages\": [{\"role\": \"user\", \"content\": \"Encara no tinc una idea de negoci. Dona’m consells per trobar una idea. \"}]}},\n",
    "    {\"request\": {\"messages\": [{\"role\": \"user\", \"content\": \"Vull saber si tinc actituds d'emprenedor i explorar el meu perfil emprenedor. \"}]}},\n",
    "    {\"request\": {\"messages\": [{\"role\": \"user\", \"content\": \"La meva idea és viable? com avaluar una idea de negoci\"}]}},\n",
    "    {\"request\": {\"messages\": [{\"role\": \"user\", \"content\": \" Quines opcions jurídiques tinc per crear una Startup?\"}]}},\n",
    "    {\"request\": {\"messages\": [{\"role\": \"user\", \"content\": \"D’on puc treure el finançament per crear la meva startup? \"}]}},\n",
    "    {\"request\": {\"messages\": [{\"role\": \"user\", \"content\": \"Sóc estudiant d’enginyeria informàtica i tinc una idea d’aplicació. Com la puc convertir en startup?\"}]}},\n",
    "    {\"request\":{\"messages\":[{\"role\":\"user\",\"content\":\"Soc enginyer/a i tinc una idea per un producte tecnològic innovador. Quins passos concrets hauria de seguir per validar si la meva idea tindrà èxit al mercat abans de fer una gran inversió?\"}]}},\n",
    "    {\"request\":{\"messages\":[{\"role\":\"user\",\"content\":\"Vull obrir un negoci local, com una botiga o un servei de proximitat. Quina forma jurídica em recomaneu si soc només jo per començar i vull que sigui senzill?\"}]}},\n",
    "    {\"request\":{\"messages\":[{\"role\":\"user\",\"content\":\"Tinc poca experiència prèvia en la gestió d'empreses. Quines habilitats personals són crucials per a un emprenedor d'avui dia i com puc desenvolupar-les?\"}]}},\n",
    "    {\"request\":{\"messages\":[{\"role\":\"user\",\"content\":\"La meva idea requereix un capital inicial considerable. Quines són les fonts de finançament alternatives als bancs que podria explorar?\"}]}},\n",
    "    {\"request\":{\"messages\":[{\"role\":\"user\",\"content\":\"Estic preparant el pla economicofinancer per al meu projecte, però no estic segur/a de si ho faig bé. Quins són els errors més habituals que he d'evitar en l'elaboració d'aquest pla?\"}]}},\n",
    "    {\"request\":{\"messages\":[{\"role\":\"user\",\"content\":\"He sentit parlar del Design Thinking i el Lean Startup. Com puc aplicar aquestes metodologies per dissenyar i validar la meva idea de negoci de manera més eficient i amb menys risc?\"}]}},\n",
    "    {\"request\":{\"messages\":[{\"role\":\"user\",\"content\":\"Em fa molta por que el meu negoci fracassi. Com puc estar preparat/da psicològicament i estratègicament per a aquesta possibilitat i aprendre dels errors?\"}]}},\n",
    "    {\"request\":{\"messages\":[{\"role\":\"user\",\"content\":\"La meva idea no és totalment nova, ja existeix competència. Com puc assegurar-me que la meva proposta de valor es diferencia i capta l'atenció dels clients?\"}]}},\n",
    "]\n",
    "\n",
    "eval_dataset = pd.DataFrame(eval_set_documnetation)\n",
    "display(eval_dataset)\n"
   ]
  },
  {
   "cell_type": "markdown",
   "metadata": {
    "application/vnd.databricks.v1+cell": {
     "cellMetadata": {},
     "inputWidgets": {},
     "nuid": "05f34add-2ab2-4f37-86f9-55b57ac452f8",
     "showTitle": false,
     "tableResultSettingsMap": {},
     "title": ""
    }
   },
   "source": [
    "### Llama"
   ]
  },
  {
   "cell_type": "code",
   "execution_count": 0,
   "metadata": {
    "application/vnd.databricks.v1+cell": {
     "cellMetadata": {
      "byteLimit": 2048000,
      "rowLimit": 10000
     },
     "inputWidgets": {},
     "nuid": "5ed6e752-7d01-4450-b1de-0aeebb2d3fa7",
     "showTitle": false,
     "tableResultSettingsMap": {},
     "title": ""
    }
   },
   "outputs": [
    {
     "output_type": "display_data",
     "data": {
      "application/vnd.jupyter.widget-view+json": {
       "model_id": "46d7e41160d748f7ac82b2abad98484d",
       "version_major": 2,
       "version_minor": 0
      },
      "text/plain": [
       "Evaluating:   0%|          | 0/5 [Elapsed: 00:00, Remaining: ?]"
      ]
     },
     "metadata": {},
     "output_type": "display_data"
    },
    {
     "output_type": "display_data",
     "data": {
      "text/html": [
       "<!DOCTYPE html>\n",
       "<html lang=\"en\">\n",
       "<head>\n",
       "    <title>Evaluation output</title>\n",
       "    <meta charset=\"UTF-8\">\n",
       "    <meta name=\"viewport\" content=\"width=device-width, initial-scale=1.0\">\n",
       "    <style>\n",
       "        body {\n",
       "            font-family: Arial, sans-serif;\n",
       "        }\n",
       "\n",
       "        .header {\n",
       "            a.button {\n",
       "                padding: 4px 8px;\n",
       "                line-height: 20px;\n",
       "                box-shadow: none;\n",
       "                height: 20px;\n",
       "                display: inline-flex;\n",
       "                align-items: center;\n",
       "                justify-content: center;\n",
       "                vertical-align: middle;\n",
       "                background-color: rgb(34, 114, 180);\n",
       "                color: rgb(255, 255, 255);\n",
       "                text-decoration: none;\n",
       "                animation-duration: 0s;\n",
       "                transition: none 0s ease 0s;\n",
       "                position: relative;\n",
       "                white-space: nowrap;\n",
       "                text-align: center;\n",
       "                border: 1px solid rgb(192, 205, 216);\n",
       "                cursor: pointer;\n",
       "                user-select: none;\n",
       "                touch-action: manipulation;\n",
       "                border-radius: 4px;\n",
       "                gap: 6px;\n",
       "            }\n",
       "\n",
       "            a.button:hover {\n",
       "                background-color: rgb(14, 83, 139) !important;\n",
       "                border-color: transparent !important;\n",
       "                color: rgb(255, 255, 255) !important;\n",
       "            }\n",
       "        }\n",
       "\n",
       "        .warnings-section {\n",
       "            margin-top: 8px;\n",
       "\n",
       "            ul {\n",
       "                list-style-type: none;\n",
       "            }\n",
       "        }\n",
       "\n",
       "        .instructions-section {\n",
       "            margin-top: 16px;\n",
       "            font-size: 14px;\n",
       "\n",
       "            ul {\n",
       "                margin-top: 0;\n",
       "                margin-bottom: 0;\n",
       "            }\n",
       "        }\n",
       "\n",
       "        code {\n",
       "            font-family: monospace;\n",
       "        }\n",
       "\n",
       "        .note {\n",
       "            color: #666;\n",
       "        }\n",
       "\n",
       "        a {\n",
       "            color: #2272B4;\n",
       "            text-decoration: none;\n",
       "        }\n",
       "\n",
       "        a:hover {\n",
       "            color: #005580;\n",
       "        }\n",
       "    </style>\n",
       "</head>\n",
       "<body>\n",
       "<div>\n",
       "    <div class=\"header\">\n",
       "        <a href=\"https://adb-2869758279805397.17.azuredatabricks.net/ml/experiments/3845882404188464/runs/41c31345d41c4f4f963c05c94364e8c6/evaluations/\" class=\"button\">\n",
       "            View evaluation results: 4/5 pass\n",
       "            <svg xmlns=\"http://www.w3.org/2000/svg\" width=\"1em\" height=\"1em\" fill=\"none\" viewBox=\"0 0 16 16\" aria-hidden=\"true\" focusable=\"false\" class=\"\">\n",
       "                <path fill=\"currentColor\" d=\"M10 1h5v5h-1.5V3.56L8.53 8.53 7.47 7.47l4.97-4.97H10z\"></path>\n",
       "                <path fill=\"currentColor\" d=\"M1 2.75A.75.75 0 0 1 1.75 2H8v1.5H2.5v10h10V8H14v6.25a.75.75 0 0 1-.75.75H1.75a.75.75 0 0 1-.75-.75z\"></path>\n",
       "            </svg>\n",
       "        </a>\n",
       "    </div>\n",
       "</div>\n",
       "</body>\n",
       "</html>"
      ]
     },
     "metadata": {},
     "output_type": "display_data"
    },
    {
     "output_type": "display_data",
     "data": {
      "text/html": [
       "<style scoped>\n",
       "  .table-result-container {\n",
       "    max-height: 300px;\n",
       "    overflow: auto;\n",
       "  }\n",
       "  table, th, td {\n",
       "    border: 1px solid black;\n",
       "    border-collapse: collapse;\n",
       "  }\n",
       "  th, td {\n",
       "    padding: 5px;\n",
       "  }\n",
       "  th {\n",
       "    text-align: left;\n",
       "  }\n",
       "</style><div class='table-result-container'><table class='table-result'><thead style='background-color: white'><tr><th>request_id</th><th>request</th><th>response</th><th>retrieved_context</th><th>trace</th><th>tool_calls</th><th>response/overall_assessment/rating</th><th>response/llm_judged/safety/rating</th><th>response/llm_judged/safety/rationale</th><th>retrieval/llm_judged/chunk_relevance/ratings</th><th>retrieval/llm_judged/chunk_relevance/rationales</th><th>response/llm_judged/relevance_to_query/rating</th><th>response/llm_judged/relevance_to_query/rationale</th><th>response/llm_judged/groundedness/rating</th><th>response/llm_judged/groundedness/rationale</th><th>agent/latency_seconds</th><th>retrieval/llm_judged/chunk_relevance/precision</th><th>response/overall_assessment/rationale</th></tr></thead><tbody></tbody></table>Showing the first 0 rows.</div>"
      ]
     },
     "metadata": {
      "application/vnd.databricks.v1+output": {
       "addedWidgets": {},
       "aggData": [],
       "aggError": "",
       "aggOverflow": false,
       "aggSchema": [],
       "aggSeriesLimitReached": false,
       "aggType": "",
       "arguments": {},
       "columnCustomDisplayInfos": {},
       "data": [],
       "datasetInfos": [],
       "dbfsResultPath": null,
       "isJsonSchema": true,
       "metadata": {},
       "overflow": true,
       "plotOptions": {
        "customPlotOptions": {},
        "displayType": "table",
        "pivotAggregation": null,
        "pivotColumns": null,
        "xColumns": null,
        "yColumns": null
       },
       "removedWidgets": [],
       "schema": [
        {
         "metadata": "{}",
         "name": "request_id",
         "type": "\"string\""
        },
        {
         "metadata": "{}",
         "name": "request",
         "type": "{\"fields\":[{\"metadata\":{},\"name\":\"messages\",\"nullable\":true,\"type\":{\"containsNull\":true,\"elementType\":{\"fields\":[{\"metadata\":{},\"name\":\"content\",\"nullable\":true,\"type\":\"string\"},{\"metadata\":{},\"name\":\"role\",\"nullable\":true,\"type\":\"string\"}],\"type\":\"struct\"},\"type\":\"array\"}}],\"type\":\"struct\"}"
        },
        {
         "metadata": "{}",
         "name": "response",
         "type": "{\"fields\":[{\"metadata\":{},\"name\":\"databricks_output\",\"nullable\":true,\"type\":{\"fields\":[{\"metadata\":{},\"name\":\"databricks_request_id\",\"nullable\":true,\"type\":\"string\"},{\"metadata\":{},\"name\":\"trace\",\"nullable\":true,\"type\":{\"fields\":[{\"metadata\":{},\"name\":\"data\",\"nullable\":true,\"type\":{\"fields\":[{\"metadata\":{},\"name\":\"request\",\"nullable\":true,\"type\":\"string\"},{\"metadata\":{},\"name\":\"response\",\"nullable\":true,\"type\":\"string\"},{\"metadata\":{},\"name\":\"spans\",\"nullable\":true,\"type\":{\"containsNull\":true,\"elementType\":{\"fields\":[{\"metadata\":{},\"name\":\"attributes\",\"nullable\":true,\"type\":{\"fields\":[{\"metadata\":{},\"name\":\"batch_size\",\"nullable\":true,\"type\":\"string\"},{\"metadata\":{},\"name\":\"color\",\"nullable\":true,\"type\":\"string\"},{\"metadata\":{},\"name\":\"invocation_params\",\"nullable\":true,\"type\":\"string\"},{\"metadata\":{},\"name\":\"metadata\",\"nullable\":true,\"type\":\"string\"},{\"metadata\":{},\"name\":\"mlflow.chat.messages\",\"nullable\":true,\"type\":\"string\"},{\"metadata\":{},\"name\":\"mlflow.chat.tools\",\"nullable\":true,\"type\":\"string\"},{\"metadata\":{},\"name\":\"mlflow.spanFunctionName\",\"nullable\":true,\"type\":\"string\"},{\"metadata\":{},\"name\":\"mlflow.spanInputs\",\"nullable\":true,\"type\":\"string\"},{\"metadata\":{},\"name\":\"mlflow.spanOutputs\",\"nullable\":true,\"type\":\"string\"},{\"metadata\":{},\"name\":\"mlflow.spanType\",\"nullable\":true,\"type\":\"string\"},{\"metadata\":{},\"name\":\"mlflow.traceRequestId\",\"nullable\":true,\"type\":\"string\"},{\"metadata\":{},\"name\":\"options\",\"nullable\":true,\"type\":\"string\"}],\"type\":\"struct\"}},{\"metadata\":{},\"name\":\"context\",\"nullable\":true,\"type\":{\"fields\":[{\"metadata\":{},\"name\":\"span_id\",\"nullable\":true,\"type\":\"string\"},{\"metadata\":{},\"name\":\"trace_id\",\"nullable\":true,\"type\":\"string\"}],\"type\":\"struct\"}},{\"metadata\":{},\"name\":\"end_time\",\"nullable\":true,\"type\":\"long\"},{\"metadata\":{},\"name\":\"events\",\"nullable\":true,\"type\":{\"containsNull\":true,\"elementType\":\"void\",\"type\":\"array\"}},{\"metadata\":{},\"name\":\"name\",\"nullable\":true,\"type\":\"string\"},{\"metadata\":{},\"name\":\"parent_id\",\"nullable\":true,\"type\":\"string\"},{\"metadata\":{},\"name\":\"start_time\",\"nullable\":true,\"type\":\"long\"},{\"metadata\":{},\"name\":\"status_code\",\"nullable\":true,\"type\":\"string\"},{\"metadata\":{},\"name\":\"status_message\",\"nullable\":true,\"type\":\"string\"}],\"type\":\"struct\"},\"type\":\"array\"}}],\"type\":\"struct\"}},{\"metadata\":{},\"name\":\"info\",\"nullable\":true,\"type\":{\"fields\":[{\"metadata\":{},\"name\":\"assessments\",\"nullable\":true,\"type\":{\"containsNull\":true,\"elementType\":\"void\",\"type\":\"array\"}},{\"metadata\":{},\"name\":\"execution_time_ms\",\"nullable\":true,\"type\":\"long\"},{\"metadata\":{},\"name\":\"experiment_id\",\"nullable\":true,\"type\":\"void\"},{\"metadata\":{},\"name\":\"request_id\",\"nullable\":true,\"type\":\"string\"},{\"metadata\":{},\"name\":\"request_metadata\",\"nullable\":true,\"type\":{\"fields\":[{\"metadata\":{},\"name\":\"app_version_id\",\"nullable\":true,\"type\":\"string\"},{\"metadata\":{},\"name\":\"is_truncated\",\"nullable\":true,\"type\":\"boolean\"},{\"metadata\":{},\"name\":\"mlflow.trace_schema.version\",\"nullable\":true,\"type\":\"string\"}],\"type\":\"struct\"}},{\"metadata\":{},\"name\":\"status\",\"nullable\":true,\"type\":\"string\"},{\"metadata\":{},\"name\":\"tags\",\"nullable\":true,\"type\":{\"fields\":[],\"type\":\"struct\"}},{\"metadata\":{},\"name\":\"timestamp_ms\",\"nullable\":true,\"type\":\"long\"}],\"type\":\"struct\"}}],\"type\":\"struct\"}}],\"type\":\"struct\"}},{\"metadata\":{},\"name\":\"id\",\"nullable\":true,\"type\":\"string\"},{\"metadata\":{},\"name\":\"messages\",\"nullable\":true,\"type\":{\"containsNull\":true,\"elementType\":{\"fields\":[{\"metadata\":{},\"name\":\"content\",\"nullable\":true,\"type\":\"string\"},{\"metadata\":{},\"name\":\"id\",\"nullable\":true,\"type\":\"string\"},{\"metadata\":{},\"name\":\"name\",\"nullable\":true,\"type\":\"string\"},{\"metadata\":{},\"name\":\"role\",\"nullable\":true,\"type\":\"string\"}],\"type\":\"struct\"},\"type\":\"array\"}}],\"type\":\"struct\"}"
        },
        {
         "metadata": "{}",
         "name": "retrieved_context",
         "type": "{\"containsNull\":true,\"elementType\":{\"fields\":[{\"metadata\":{},\"name\":\"content\",\"nullable\":true,\"type\":\"string\"},{\"metadata\":{},\"name\":\"doc_uri\",\"nullable\":true,\"type\":\"void\"}],\"type\":\"struct\"},\"type\":\"array\"}"
        },
        {
         "metadata": "{}",
         "name": "trace",
         "type": "\"string\""
        },
        {
         "metadata": "{}",
         "name": "tool_calls",
         "type": "{\"containsNull\":true,\"elementType\":{\"fields\":[{\"metadata\":{},\"name\":\"available_tools\",\"nullable\":true,\"type\":{\"containsNull\":true,\"elementType\":{\"fields\":[{\"metadata\":{},\"name\":\"function\",\"nullable\":true,\"type\":{\"fields\":[{\"metadata\":{},\"name\":\"description\",\"nullable\":true,\"type\":\"string\"},{\"metadata\":{},\"name\":\"name\",\"nullable\":true,\"type\":\"string\"},{\"metadata\":{},\"name\":\"parameters\",\"nullable\":true,\"type\":{\"fields\":[{\"metadata\":{},\"name\":\"properties\",\"nullable\":true,\"type\":{\"fields\":[{\"metadata\":{},\"name\":\"next_node\",\"nullable\":true,\"type\":{\"fields\":[{\"metadata\":{},\"name\":\"enum\",\"nullable\":true,\"type\":{\"containsNull\":true,\"elementType\":\"string\",\"type\":\"array\"}},{\"metadata\":{},\"name\":\"type\",\"nullable\":true,\"type\":\"string\"}],\"type\":\"struct\"}},{\"metadata\":{},\"name\":\"query\",\"nullable\":true,\"type\":{\"fields\":[{\"metadata\":{},\"name\":\"description\",\"nullable\":true,\"type\":\"string\"},{\"metadata\":{},\"name\":\"type\",\"nullable\":true,\"type\":\"string\"}],\"type\":\"struct\"}}],\"type\":\"struct\"}},{\"metadata\":{},\"name\":\"required\",\"nullable\":true,\"type\":{\"containsNull\":true,\"elementType\":\"string\",\"type\":\"array\"}},{\"metadata\":{},\"name\":\"type\",\"nullable\":true,\"type\":\"string\"}],\"type\":\"struct\"}}],\"type\":\"struct\"}},{\"metadata\":{},\"name\":\"type\",\"nullable\":true,\"type\":\"string\"}],\"type\":\"struct\"},\"type\":\"array\"}},{\"metadata\":{},\"name\":\"raw_span\",\"nullable\":true,\"type\":{\"fields\":[{\"metadata\":{},\"name\":\"attributes\",\"nullable\":true,\"type\":{\"fields\":[{\"metadata\":{},\"name\":\"batch_size\",\"nullable\":true,\"type\":\"long\"},{\"metadata\":{},\"name\":\"invocation_params\",\"nullable\":true,\"type\":{\"fields\":[{\"metadata\":{},\"name\":\"_type\",\"nullable\":true,\"type\":\"string\"},{\"metadata\":{},\"name\":\"extra_params\",\"nullable\":true,\"type\":{\"fields\":[],\"type\":\"struct\"}},{\"metadata\":{},\"name\":\"model\",\"nullable\":true,\"type\":\"string\"},{\"metadata\":{},\"name\":\"n\",\"nullable\":true,\"type\":\"long\"},{\"metadata\":{},\"name\":\"stop\",\"nullable\":true,\"type\":\"void\"},{\"metadata\":{},\"name\":\"target_uri\",\"nullable\":true,\"type\":\"string\"},{\"metadata\":{},\"name\":\"temperature\",\"nullable\":true,\"type\":\"double\"},{\"metadata\":{},\"name\":\"tool_choice\",\"nullable\":true,\"type\":{\"fields\":[{\"metadata\":{},\"name\":\"function\",\"nullable\":true,\"type\":{\"fields\":[{\"metadata\":{},\"name\":\"name\",\"nullable\":true,\"type\":\"string\"}],\"type\":\"struct\"}},{\"metadata\":{},\"name\":\"type\",\"nullable\":true,\"type\":\"string\"}],\"type\":\"struct\"}},{\"metadata\":{},\"name\":\"tools\",\"nullable\":true,\"type\":{\"containsNull\":true,\"elementType\":{\"fields\":[{\"metadata\":{},\"name\":\"function\",\"nullable\":true,\"type\":{\"fields\":[{\"metadata\":{},\"name\":\"description\",\"nullable\":true,\"type\":\"string\"},{\"metadata\":{},\"name\":\"name\",\"nullable\":true,\"type\":\"string\"},{\"metadata\":{},\"name\":\"parameters\",\"nullable\":true,\"type\":{\"fields\":[{\"metadata\":{},\"name\":\"properties\",\"nullable\":true,\"type\":{\"fields\":[{\"metadata\":{},\"name\":\"next_node\",\"nullable\":true,\"type\":{\"fields\":[{\"metadata\":{},\"name\":\"enum\",\"nullable\":true,\"type\":{\"containsNull\":true,\"elementType\":\"string\",\"type\":\"array\"}},{\"metadata\":{},\"name\":\"type\",\"nullable\":true,\"type\":\"string\"}],\"type\":\"struct\"}},{\"metadata\":{},\"name\":\"query\",\"nullable\":true,\"type\":{\"fields\":[{\"metadata\":{},\"name\":\"description\",\"nullable\":true,\"type\":\"string\"},{\"metadata\":{},\"name\":\"type\",\"nullable\":true,\"type\":\"string\"}],\"type\":\"struct\"}}],\"type\":\"struct\"}},{\"metadata\":{},\"name\":\"required\",\"nullable\":true,\"type\":{\"containsNull\":true,\"elementType\":\"string\",\"type\":\"array\"}},{\"metadata\":{},\"name\":\"type\",\"nullable\":true,\"type\":\"string\"}],\"type\":\"struct\"}}],\"type\":\"struct\"}},{\"metadata\":{},\"name\":\"type\",\"nullable\":true,\"type\":\"string\"}],\"type\":\"struct\"},\"type\":\"array\"}}],\"type\":\"struct\"}},{\"metadata\":{},\"name\":\"metadata\",\"nullable\":true,\"type\":{\"fields\":[{\"metadata\":{},\"name\":\"checkpoint_ns\",\"nullable\":true,\"type\":\"string\"},{\"metadata\":{},\"name\":\"langgraph_checkpoint_ns\",\"nullable\":true,\"type\":\"string\"},{\"metadata\":{},\"name\":\"langgraph_node\",\"nullable\":true,\"type\":\"string\"},{\"metadata\":{},\"name\":\"langgraph_path\",\"nullable\":true,\"type\":{\"containsNull\":true,\"elementType\":\"string\",\"type\":\"array\"}},{\"metadata\":{},\"name\":\"langgraph_step\",\"nullable\":true,\"type\":\"long\"},{\"metadata\":{},\"name\":\"langgraph_triggers\",\"nullable\":true,\"type\":{\"containsNull\":true,\"elementType\":\"string\",\"type\":\"array\"}},{\"metadata\":{},\"name\":\"ls_model_name\",\"nullable\":true,\"type\":\"string\"},{\"metadata\":{},\"name\":\"ls_model_type\",\"nullable\":true,\"type\":\"string\"},{\"metadata\":{},\"name\":\"ls_provider\",\"nullable\":true,\"type\":\"string\"},{\"metadata\":{},\"name\":\"ls_temperature\",\"nullable\":true,\"type\":\"double\"}],\"type\":\"struct\"}},{\"metadata\":{},\"name\":\"mlflow.chat.messages\",\"nullable\":true,\"type\":{\"containsNull\":true,\"elementType\":{\"fields\":[{\"metadata\":{},\"name\":\"content\",\"nullable\":true,\"type\":\"string\"},{\"metadata\":{},\"name\":\"role\",\"nullable\":true,\"type\":\"string\"},{\"metadata\":{},\"name\":\"tool_call_id\",\"nullable\":true,\"type\":\"string\"},{\"metadata\":{},\"name\":\"tool_calls\",\"nullable\":true,\"type\":{\"containsNull\":true,\"elementType\":{\"fields\":[{\"metadata\":{},\"name\":\"function\",\"nullable\":true,\"type\":{\"fields\":[{\"metadata\":{},\"name\":\"arguments\",\"nullable\":true,\"type\":\"string\"},{\"metadata\":{},\"name\":\"name\",\"nullable\":true,\"type\":\"string\"}],\"type\":\"struct\"}},{\"metadata\":{},\"name\":\"id\",\"nullable\":true,\"type\":\"string\"},{\"metadata\":{},\"name\":\"type\",\"nullable\":true,\"type\":\"string\"}],\"type\":\"struct\"},\"type\":\"array\"}}],\"type\":\"struct\"},\"type\":\"array\"}},{\"metadata\":{},\"name\":\"mlflow.chat.tools\",\"nullable\":true,\"type\":{\"containsNull\":true,\"elementType\":{\"fields\":[{\"metadata\":{},\"name\":\"function\",\"nullable\":true,\"type\":{\"fields\":[{\"metadata\":{},\"name\":\"description\",\"nullable\":true,\"type\":\"string\"},{\"metadata\":{},\"name\":\"name\",\"nullable\":true,\"type\":\"string\"},{\"metadata\":{},\"name\":\"parameters\",\"nullable\":true,\"type\":{\"fields\":[{\"metadata\":{},\"name\":\"properties\",\"nullable\":true,\"type\":{\"fields\":[{\"metadata\":{},\"name\":\"next_node\",\"nullable\":true,\"type\":{\"fields\":[{\"metadata\":{},\"name\":\"enum\",\"nullable\":true,\"type\":{\"containsNull\":true,\"elementType\":\"string\",\"type\":\"array\"}},{\"metadata\":{},\"name\":\"type\",\"nullable\":true,\"type\":\"string\"}],\"type\":\"struct\"}},{\"metadata\":{},\"name\":\"query\",\"nullable\":true,\"type\":{\"fields\":[{\"metadata\":{},\"name\":\"description\",\"nullable\":true,\"type\":\"string\"},{\"metadata\":{},\"name\":\"type\",\"nullable\":true,\"type\":\"string\"}],\"type\":\"struct\"}}],\"type\":\"struct\"}},{\"metadata\":{},\"name\":\"required\",\"nullable\":true,\"type\":{\"containsNull\":true,\"elementType\":\"string\",\"type\":\"array\"}},{\"metadata\":{},\"name\":\"type\",\"nullable\":true,\"type\":\"string\"}],\"type\":\"struct\"}}],\"type\":\"struct\"}},{\"metadata\":{},\"name\":\"type\",\"nullable\":true,\"type\":\"string\"}],\"type\":\"struct\"},\"type\":\"array\"}},{\"metadata\":{},\"name\":\"mlflow.spanInputs\",\"nullable\":true,\"type\":{\"containsNull\":true,\"elementType\":{\"containsNull\":true,\"elementType\":{\"fields\":[{\"metadata\":{},\"name\":\"additional_kwargs\",\"nullable\":true,\"type\":{\"fields\":[{\"metadata\":{},\"name\":\"tool_calls\",\"nullable\":true,\"type\":{\"containsNull\":true,\"elementType\":{\"fields\":[{\"metadata\":{},\"name\":\"function\",\"nullable\":true,\"type\":{\"fields\":[{\"metadata\":{},\"name\":\"arguments\",\"nullable\":true,\"type\":\"string\"},{\"metadata\":{},\"name\":\"name\",\"nullable\":true,\"type\":\"string\"}],\"type\":\"struct\"}},{\"metadata\":{},\"name\":\"id\",\"nullable\":true,\"type\":\"string\"},{\"metadata\":{},\"name\":\"type\",\"nullable\":true,\"type\":\"string\"}],\"type\":\"struct\"},\"type\":\"array\"}}],\"type\":\"struct\"}},{\"metadata\":{},\"name\":\"artifact\",\"nullable\":true,\"type\":\"void\"},{\"metadata\":{},\"name\":\"content\",\"nullable\":true,\"type\":\"string\"},{\"metadata\":{},\"name\":\"example\",\"nullable\":true,\"type\":\"boolean\"},{\"metadata\":{},\"name\":\"id\",\"nullable\":true,\"type\":\"string\"},{\"metadata\":{},\"name\":\"invalid_tool_calls\",\"nullable\":true,\"type\":{\"containsNull\":true,\"elementType\":\"void\",\"type\":\"array\"}},{\"metadata\":{},\"name\":\"name\",\"nullable\":true,\"type\":\"string\"},{\"metadata\":{},\"name\":\"response_metadata\",\"nullable\":true,\"type\":{\"fields\":[{\"metadata\":{},\"name\":\"created\",\"nullable\":true,\"type\":\"long\"},{\"metadata\":{},\"name\":\"id\",\"nullable\":true,\"type\":\"string\"},{\"metadata\":{},\"name\":\"model\",\"nullable\":true,\"type\":\"string\"},{\"metadata\":{},\"name\":\"model_name\",\"nullable\":true,\"type\":\"string\"},{\"metadata\":{},\"name\":\"object\",\"nullable\":true,\"type\":\"string\"},{\"metadata\":{},\"name\":\"usage\",\"nullable\":true,\"type\":{\"fields\":[{\"metadata\":{},\"name\":\"completion_tokens\",\"nullable\":true,\"type\":\"long\"},{\"metadata\":{},\"name\":\"prompt_tokens\",\"nullable\":true,\"type\":\"long\"},{\"metadata\":{},\"name\":\"total_tokens\",\"nullable\":true,\"type\":\"long\"}],\"type\":\"struct\"}}],\"type\":\"struct\"}},{\"metadata\":{},\"name\":\"status\",\"nullable\":true,\"type\":\"string\"},{\"metadata\":{},\"name\":\"tool_call_id\",\"nullable\":true,\"type\":\"string\"},{\"metadata\":{},\"name\":\"tool_calls\",\"nullable\":true,\"type\":{\"containsNull\":true,\"elementType\":{\"fields\":[{\"metadata\":{},\"name\":\"args\",\"nullable\":true,\"type\":{\"fields\":[{\"metadata\":{},\"name\":\"query\",\"nullable\":true,\"type\":\"string\"}],\"type\":\"struct\"}},{\"metadata\":{},\"name\":\"id\",\"nullable\":true,\"type\":\"string\"},{\"metadata\":{},\"name\":\"name\",\"nullable\":true,\"type\":\"string\"},{\"metadata\":{},\"name\":\"type\",\"nullable\":true,\"type\":\"string\"}],\"type\":\"struct\"},\"type\":\"array\"}},{\"metadata\":{},\"name\":\"type\",\"nullable\":true,\"type\":\"string\"},{\"metadata\":{},\"name\":\"usage_metadata\",\"nullable\":true,\"type\":\"void\"}],\"type\":\"struct\"},\"type\":\"array\"},\"type\":\"array\"}},{\"metadata\":{},\"name\":\"mlflow.spanOutputs\",\"nullable\":true,\"type\":{\"fields\":[{\"metadata\":{},\"name\":\"generations\",\"nullable\":true,\"type\":{\"containsNull\":true,\"elementType\":{\"containsNull\":true,\"elementType\":{\"fields\":[{\"metadata\":{},\"name\":\"generation_info\",\"nullable\":true,\"type\":{\"fields\":[],\"type\":\"struct\"}},{\"metadata\":{},\"name\":\"message\",\"nullable\":true,\"type\":{\"fields\":[{\"metadata\":{},\"name\":\"additional_kwargs\",\"nullable\":true,\"type\":{\"fields\":[{\"metadata\":{},\"name\":\"tool_calls\",\"nullable\":true,\"type\":{\"containsNull\":true,\"elementType\":{\"fields\":[{\"metadata\":{},\"name\":\"function\",\"nullable\":true,\"type\":{\"fields\":[{\"metadata\":{},\"name\":\"arguments\",\"nullable\":true,\"type\":\"string\"},{\"metadata\":{},\"name\":\"name\",\"nullable\":true,\"type\":\"string\"}],\"type\":\"struct\"}},{\"metadata\":{},\"name\":\"id\",\"nullable\":true,\"type\":\"string\"},{\"metadata\":{},\"name\":\"type\",\"nullable\":true,\"type\":\"string\"}],\"type\":\"struct\"},\"type\":\"array\"}}],\"type\":\"struct\"}},{\"metadata\":{},\"name\":\"content\",\"nullable\":true,\"type\":\"string\"},{\"metadata\":{},\"name\":\"id\",\"nullable\":true,\"type\":\"string\"},{\"metadata\":{},\"name\":\"name\",\"nullable\":true,\"type\":\"void\"},{\"metadata\":{},\"name\":\"response_metadata\",\"nullable\":true,\"type\":{\"fields\":[{\"metadata\":{},\"name\":\"created\",\"nullable\":true,\"type\":\"long\"},{\"metadata\":{},\"name\":\"id\",\"nullable\":true,\"type\":\"string\"},{\"metadata\":{},\"name\":\"model\",\"nullable\":true,\"type\":\"string\"},{\"metadata\":{},\"name\":\"model_name\",\"nullable\":true,\"type\":\"string\"},{\"metadata\":{},\"name\":\"object\",\"nullable\":true,\"type\":\"string\"},{\"metadata\":{},\"name\":\"usage\",\"nullable\":true,\"type\":{\"fields\":[{\"metadata\":{},\"name\":\"completion_tokens\",\"nullable\":true,\"type\":\"long\"},{\"metadata\":{},\"name\":\"prompt_tokens\",\"nullable\":true,\"type\":\"long\"},{\"metadata\":{},\"name\":\"total_tokens\",\"nullable\":true,\"type\":\"long\"}],\"type\":\"struct\"}}],\"type\":\"struct\"}},{\"metadata\":{},\"name\":\"type\",\"nullable\":true,\"type\":\"string\"}],\"type\":\"struct\"}},{\"metadata\":{},\"name\":\"text\",\"nullable\":true,\"type\":\"string\"},{\"metadata\":{},\"name\":\"type\",\"nullable\":true,\"type\":\"string\"}],\"type\":\"struct\"},\"type\":\"array\"},\"type\":\"array\"}},{\"metadata\":{},\"name\":\"llm_output\",\"nullable\":true,\"type\":{\"fields\":[{\"metadata\":{},\"name\":\"created\",\"nullable\":true,\"type\":\"long\"},{\"metadata\":{},\"name\":\"id\",\"nullable\":true,\"type\":\"string\"},{\"metadata\":{},\"name\":\"model\",\"nullable\":true,\"type\":\"string\"},{\"metadata\":{},\"name\":\"model_name\",\"nullable\":true,\"type\":\"string\"},{\"metadata\":{},\"name\":\"object\",\"nullable\":true,\"type\":\"string\"},{\"metadata\":{},\"name\":\"usage\",\"nullable\":true,\"type\":{\"fields\":[{\"metadata\":{},\"name\":\"completion_tokens\",\"nullable\":true,\"type\":\"long\"},{\"metadata\":{},\"name\":\"prompt_tokens\",\"nullable\":true,\"type\":\"long\"},{\"metadata\":{},\"name\":\"total_tokens\",\"nullable\":true,\"type\":\"long\"}],\"type\":\"struct\"}}],\"type\":\"struct\"}},{\"metadata\":{},\"name\":\"run\",\"nullable\":true,\"type\":\"void\"},{\"metadata\":{},\"name\":\"type\",\"nullable\":true,\"type\":\"string\"}],\"type\":\"struct\"}},{\"metadata\":{},\"name\":\"mlflow.spanType\",\"nullable\":true,\"type\":\"string\"},{\"metadata\":{},\"name\":\"mlflow.traceRequestId\",\"nullable\":true,\"type\":\"string\"},{\"metadata\":{},\"name\":\"options\",\"nullable\":true,\"type\":{\"fields\":[{\"metadata\":{},\"name\":\"stop\",\"nullable\":true,\"type\":\"void\"}],\"type\":\"struct\"}}],\"type\":\"struct\"}},{\"metadata\":{},\"name\":\"end_time_ns\",\"nullable\":true,\"type\":\"long\"},{\"metadata\":{},\"name\":\"events\",\"nullable\":true,\"type\":{\"containsNull\":true,\"elementType\":\"void\",\"type\":\"array\"}},{\"metadata\":{},\"name\":\"inputs\",\"nullable\":true,\"type\":{\"containsNull\":true,\"elementType\":{\"containsNull\":true,\"elementType\":{\"fields\":[{\"metadata\":{},\"name\":\"additional_kwargs\",\"nullable\":true,\"type\":{\"fields\":[{\"metadata\":{},\"name\":\"tool_calls\",\"nullable\":true,\"type\":{\"containsNull\":true,\"elementType\":{\"fields\":[{\"metadata\":{},\"name\":\"function\",\"nullable\":true,\"type\":{\"fields\":[{\"metadata\":{},\"name\":\"arguments\",\"nullable\":true,\"type\":\"string\"},{\"metadata\":{},\"name\":\"name\",\"nullable\":true,\"type\":\"string\"}],\"type\":\"struct\"}},{\"metadata\":{},\"name\":\"id\",\"nullable\":true,\"type\":\"string\"},{\"metadata\":{},\"name\":\"type\",\"nullable\":true,\"type\":\"string\"}],\"type\":\"struct\"},\"type\":\"array\"}}],\"type\":\"struct\"}},{\"metadata\":{},\"name\":\"artifact\",\"nullable\":true,\"type\":\"void\"},{\"metadata\":{},\"name\":\"content\",\"nullable\":true,\"type\":\"string\"},{\"metadata\":{},\"name\":\"example\",\"nullable\":true,\"type\":\"boolean\"},{\"metadata\":{},\"name\":\"id\",\"nullable\":true,\"type\":\"string\"},{\"metadata\":{},\"name\":\"invalid_tool_calls\",\"nullable\":true,\"type\":{\"containsNull\":true,\"elementType\":\"void\",\"type\":\"array\"}},{\"metadata\":{},\"name\":\"name\",\"nullable\":true,\"type\":\"string\"},{\"metadata\":{},\"name\":\"response_metadata\",\"nullable\":true,\"type\":{\"fields\":[{\"metadata\":{},\"name\":\"created\",\"nullable\":true,\"type\":\"long\"},{\"metadata\":{},\"name\":\"id\",\"nullable\":true,\"type\":\"string\"},{\"metadata\":{},\"name\":\"model\",\"nullable\":true,\"type\":\"string\"},{\"metadata\":{},\"name\":\"model_name\",\"nullable\":true,\"type\":\"string\"},{\"metadata\":{},\"name\":\"object\",\"nullable\":true,\"type\":\"string\"},{\"metadata\":{},\"name\":\"usage\",\"nullable\":true,\"type\":{\"fields\":[{\"metadata\":{},\"name\":\"completion_tokens\",\"nullable\":true,\"type\":\"long\"},{\"metadata\":{},\"name\":\"prompt_tokens\",\"nullable\":true,\"type\":\"long\"},{\"metadata\":{},\"name\":\"total_tokens\",\"nullable\":true,\"type\":\"long\"}],\"type\":\"struct\"}}],\"type\":\"struct\"}},{\"metadata\":{},\"name\":\"status\",\"nullable\":true,\"type\":\"string\"},{\"metadata\":{},\"name\":\"tool_call_id\",\"nullable\":true,\"type\":\"string\"},{\"metadata\":{},\"name\":\"tool_calls\",\"nullable\":true,\"type\":{\"containsNull\":true,\"elementType\":{\"fields\":[{\"metadata\":{},\"name\":\"args\",\"nullable\":true,\"type\":{\"fields\":[{\"metadata\":{},\"name\":\"query\",\"nullable\":true,\"type\":\"string\"}],\"type\":\"struct\"}},{\"metadata\":{},\"name\":\"id\",\"nullable\":true,\"type\":\"string\"},{\"metadata\":{},\"name\":\"name\",\"nullable\":true,\"type\":\"string\"},{\"metadata\":{},\"name\":\"type\",\"nullable\":true,\"type\":\"string\"}],\"type\":\"struct\"},\"type\":\"array\"}},{\"metadata\":{},\"name\":\"type\",\"nullable\":true,\"type\":\"string\"},{\"metadata\":{},\"name\":\"usage_metadata\",\"nullable\":true,\"type\":\"void\"}],\"type\":\"struct\"},\"type\":\"array\"},\"type\":\"array\"}},{\"metadata\":{},\"name\":\"name\",\"nullable\":true,\"type\":\"string\"},{\"metadata\":{},\"name\":\"outputs\",\"nullable\":true,\"type\":{\"fields\":[{\"metadata\":{},\"name\":\"generations\",\"nullable\":true,\"type\":{\"containsNull\":true,\"elementType\":{\"containsNull\":true,\"elementType\":{\"fields\":[{\"metadata\":{},\"name\":\"generation_info\",\"nullable\":true,\"type\":{\"fields\":[],\"type\":\"struct\"}},{\"metadata\":{},\"name\":\"message\",\"nullable\":true,\"type\":{\"fields\":[{\"metadata\":{},\"name\":\"additional_kwargs\",\"nullable\":true,\"type\":{\"fields\":[{\"metadata\":{},\"name\":\"tool_calls\",\"nullable\":true,\"type\":{\"containsNull\":true,\"elementType\":{\"fields\":[{\"metadata\":{},\"name\":\"function\",\"nullable\":true,\"type\":{\"fields\":[{\"metadata\":{},\"name\":\"arguments\",\"nullable\":true,\"type\":\"string\"},{\"metadata\":{},\"name\":\"name\",\"nullable\":true,\"type\":\"string\"}],\"type\":\"struct\"}},{\"metadata\":{},\"name\":\"id\",\"nullable\":true,\"type\":\"string\"},{\"metadata\":{},\"name\":\"type\",\"nullable\":true,\"type\":\"string\"}],\"type\":\"struct\"},\"type\":\"array\"}}],\"type\":\"struct\"}},{\"metadata\":{},\"name\":\"content\",\"nullable\":true,\"type\":\"string\"},{\"metadata\":{},\"name\":\"id\",\"nullable\":true,\"type\":\"string\"},{\"metadata\":{},\"name\":\"name\",\"nullable\":true,\"type\":\"void\"},{\"metadata\":{},\"name\":\"response_metadata\",\"nullable\":true,\"type\":{\"fields\":[{\"metadata\":{},\"name\":\"created\",\"nullable\":true,\"type\":\"long\"},{\"metadata\":{},\"name\":\"id\",\"nullable\":true,\"type\":\"string\"},{\"metadata\":{},\"name\":\"model\",\"nullable\":true,\"type\":\"string\"},{\"metadata\":{},\"name\":\"model_name\",\"nullable\":true,\"type\":\"string\"},{\"metadata\":{},\"name\":\"object\",\"nullable\":true,\"type\":\"string\"},{\"metadata\":{},\"name\":\"usage\",\"nullable\":true,\"type\":{\"fields\":[{\"metadata\":{},\"name\":\"completion_tokens\",\"nullable\":true,\"type\":\"long\"},{\"metadata\":{},\"name\":\"prompt_tokens\",\"nullable\":true,\"type\":\"long\"},{\"metadata\":{},\"name\":\"total_tokens\",\"nullable\":true,\"type\":\"long\"}],\"type\":\"struct\"}}],\"type\":\"struct\"}},{\"metadata\":{},\"name\":\"type\",\"nullable\":true,\"type\":\"string\"}],\"type\":\"struct\"}},{\"metadata\":{},\"name\":\"text\",\"nullable\":true,\"type\":\"string\"},{\"metadata\":{},\"name\":\"type\",\"nullable\":true,\"type\":\"string\"}],\"type\":\"struct\"},\"type\":\"array\"},\"type\":\"array\"}},{\"metadata\":{},\"name\":\"llm_output\",\"nullable\":true,\"type\":{\"fields\":[{\"metadata\":{},\"name\":\"created\",\"nullable\":true,\"type\":\"long\"},{\"metadata\":{},\"name\":\"id\",\"nullable\":true,\"type\":\"string\"},{\"metadata\":{},\"name\":\"model\",\"nullable\":true,\"type\":\"string\"},{\"metadata\":{},\"name\":\"model_name\",\"nullable\":true,\"type\":\"string\"},{\"metadata\":{},\"name\":\"object\",\"nullable\":true,\"type\":\"string\"},{\"metadata\":{},\"name\":\"usage\",\"nullable\":true,\"type\":{\"fields\":[{\"metadata\":{},\"name\":\"completion_tokens\",\"nullable\":true,\"type\":\"long\"},{\"metadata\":{},\"name\":\"prompt_tokens\",\"nullable\":true,\"type\":\"long\"},{\"metadata\":{},\"name\":\"total_tokens\",\"nullable\":true,\"type\":\"long\"}],\"type\":\"struct\"}}],\"type\":\"struct\"}},{\"metadata\":{},\"name\":\"run\",\"nullable\":true,\"type\":\"void\"},{\"metadata\":{},\"name\":\"type\",\"nullable\":true,\"type\":\"string\"}],\"type\":\"struct\"}},{\"metadata\":{},\"name\":\"parent_id\",\"nullable\":true,\"type\":\"string\"},{\"metadata\":{},\"name\":\"request_id\",\"nullable\":true,\"type\":\"string\"},{\"metadata\":{},\"name\":\"span_id\",\"nullable\":true,\"type\":\"string\"},{\"metadata\":{},\"name\":\"span_type\",\"nullable\":true,\"type\":\"string\"},{\"metadata\":{},\"name\":\"start_time_ns\",\"nullable\":true,\"type\":\"long\"},{\"metadata\":{},\"name\":\"status\",\"nullable\":true,\"type\":{\"fields\":[{\"metadata\":{},\"name\":\"description\",\"nullable\":true,\"type\":\"string\"},{\"metadata\":{},\"name\":\"status_code\",\"nullable\":true,\"type\":\"string\"}],\"type\":\"struct\"}}],\"type\":\"struct\"}},{\"metadata\":{},\"name\":\"tool_call_args\",\"nullable\":true,\"type\":{\"fields\":[{\"metadata\":{},\"name\":\"next_node\",\"nullable\":true,\"type\":\"string\"},{\"metadata\":{},\"name\":\"query\",\"nullable\":true,\"type\":\"string\"}],\"type\":\"struct\"}},{\"metadata\":{},\"name\":\"tool_call_id\",\"nullable\":true,\"type\":\"string\"},{\"metadata\":{},\"name\":\"tool_call_result\",\"nullable\":true,\"type\":{\"fields\":[{\"metadata\":{},\"name\":\"content\",\"nullable\":true,\"type\":\"string\"},{\"metadata\":{},\"name\":\"role\",\"nullable\":true,\"type\":\"string\"},{\"metadata\":{},\"name\":\"tool_call_id\",\"nullable\":true,\"type\":\"string\"}],\"type\":\"struct\"}},{\"metadata\":{},\"name\":\"tool_name\",\"nullable\":true,\"type\":\"string\"}],\"type\":\"struct\"},\"type\":\"array\"}"
        },
        {
         "metadata": "{}",
         "name": "response/overall_assessment/rating",
         "type": "\"string\""
        },
        {
         "metadata": "{}",
         "name": "response/llm_judged/safety/rating",
         "type": "\"string\""
        },
        {
         "metadata": "{}",
         "name": "response/llm_judged/safety/rationale",
         "type": "\"string\""
        },
        {
         "metadata": "{}",
         "name": "retrieval/llm_judged/chunk_relevance/ratings",
         "type": "{\"containsNull\":true,\"elementType\":\"string\",\"type\":\"array\"}"
        },
        {
         "metadata": "{}",
         "name": "retrieval/llm_judged/chunk_relevance/rationales",
         "type": "{\"containsNull\":true,\"elementType\":\"string\",\"type\":\"array\"}"
        },
        {
         "metadata": "{}",
         "name": "response/llm_judged/relevance_to_query/rating",
         "type": "\"string\""
        },
        {
         "metadata": "{}",
         "name": "response/llm_judged/relevance_to_query/rationale",
         "type": "\"string\""
        },
        {
         "metadata": "{}",
         "name": "response/llm_judged/groundedness/rating",
         "type": "\"string\""
        },
        {
         "metadata": "{}",
         "name": "response/llm_judged/groundedness/rationale",
         "type": "\"string\""
        },
        {
         "metadata": "{}",
         "name": "agent/latency_seconds",
         "type": "\"double\""
        },
        {
         "metadata": "{}",
         "name": "retrieval/llm_judged/chunk_relevance/precision",
         "type": "\"double\""
        },
        {
         "metadata": "{}",
         "name": "response/overall_assessment/rationale",
         "type": "\"string\""
        }
       ],
       "type": "table"
      }
     },
     "output_type": "display_data"
    }
   ],
   "source": [
    "## llm = llama\n",
    "with mlflow.start_run(run_name=\"agent-documentacio-llama-preguntes-personalitzades-1\"):\n",
    "    eval_results = mlflow.evaluate(\n",
    "        \"endpoints:/agents_dts_proves_pre-startups_list-multi-agent-chatbot-3\",  # Aquí pones tu endpoint\n",
    "        data=eval_set_documnetation[:5],  # Tu dataset de evaluación\n",
    "        model_type=\"databricks-agent\",  # Para evaluación de Mosaic AI Agents\n",
    "    )\n",
    "\n",
    "display(eval_results.tables['eval_results'])"
   ]
  },
  {
   "cell_type": "code",
   "execution_count": 0,
   "metadata": {
    "application/vnd.databricks.v1+cell": {
     "cellMetadata": {
      "byteLimit": 2048000,
      "rowLimit": 10000
     },
     "inputWidgets": {},
     "nuid": "1f32dcb5-6ffb-4db4-b0b5-bb643d89d232",
     "showTitle": false,
     "tableResultSettingsMap": {},
     "title": ""
    }
   },
   "outputs": [
    {
     "output_type": "display_data",
     "data": {
      "application/vnd.jupyter.widget-view+json": {
       "model_id": "c049062277c6404698d02a29e5bc4537",
       "version_major": 2,
       "version_minor": 0
      },
      "text/plain": [
       "Evaluating:   0%|          | 0/5 [Elapsed: 00:00, Remaining: ?]"
      ]
     },
     "metadata": {},
     "output_type": "display_data"
    },
    {
     "output_type": "display_data",
     "data": {
      "text/html": [
       "<!DOCTYPE html>\n",
       "<html lang=\"en\">\n",
       "<head>\n",
       "    <title>Evaluation output</title>\n",
       "    <meta charset=\"UTF-8\">\n",
       "    <meta name=\"viewport\" content=\"width=device-width, initial-scale=1.0\">\n",
       "    <style>\n",
       "        body {\n",
       "            font-family: Arial, sans-serif;\n",
       "        }\n",
       "\n",
       "        .header {\n",
       "            a.button {\n",
       "                padding: 4px 8px;\n",
       "                line-height: 20px;\n",
       "                box-shadow: none;\n",
       "                height: 20px;\n",
       "                display: inline-flex;\n",
       "                align-items: center;\n",
       "                justify-content: center;\n",
       "                vertical-align: middle;\n",
       "                background-color: rgb(34, 114, 180);\n",
       "                color: rgb(255, 255, 255);\n",
       "                text-decoration: none;\n",
       "                animation-duration: 0s;\n",
       "                transition: none 0s ease 0s;\n",
       "                position: relative;\n",
       "                white-space: nowrap;\n",
       "                text-align: center;\n",
       "                border: 1px solid rgb(192, 205, 216);\n",
       "                cursor: pointer;\n",
       "                user-select: none;\n",
       "                touch-action: manipulation;\n",
       "                border-radius: 4px;\n",
       "                gap: 6px;\n",
       "            }\n",
       "\n",
       "            a.button:hover {\n",
       "                background-color: rgb(14, 83, 139) !important;\n",
       "                border-color: transparent !important;\n",
       "                color: rgb(255, 255, 255) !important;\n",
       "            }\n",
       "        }\n",
       "\n",
       "        .warnings-section {\n",
       "            margin-top: 8px;\n",
       "\n",
       "            ul {\n",
       "                list-style-type: none;\n",
       "            }\n",
       "        }\n",
       "\n",
       "        .instructions-section {\n",
       "            margin-top: 16px;\n",
       "            font-size: 14px;\n",
       "\n",
       "            ul {\n",
       "                margin-top: 0;\n",
       "                margin-bottom: 0;\n",
       "            }\n",
       "        }\n",
       "\n",
       "        code {\n",
       "            font-family: monospace;\n",
       "        }\n",
       "\n",
       "        .note {\n",
       "            color: #666;\n",
       "        }\n",
       "\n",
       "        a {\n",
       "            color: #2272B4;\n",
       "            text-decoration: none;\n",
       "        }\n",
       "\n",
       "        a:hover {\n",
       "            color: #005580;\n",
       "        }\n",
       "    </style>\n",
       "</head>\n",
       "<body>\n",
       "<div>\n",
       "    <div class=\"header\">\n",
       "        <a href=\"https://adb-2869758279805397.17.azuredatabricks.net/ml/experiments/3845882404188464/runs/fa8918dfa2214d1398e27efa56e05aa1/evaluations/\" class=\"button\">\n",
       "            View evaluation results: 4/5 pass\n",
       "            <svg xmlns=\"http://www.w3.org/2000/svg\" width=\"1em\" height=\"1em\" fill=\"none\" viewBox=\"0 0 16 16\" aria-hidden=\"true\" focusable=\"false\" class=\"\">\n",
       "                <path fill=\"currentColor\" d=\"M10 1h5v5h-1.5V3.56L8.53 8.53 7.47 7.47l4.97-4.97H10z\"></path>\n",
       "                <path fill=\"currentColor\" d=\"M1 2.75A.75.75 0 0 1 1.75 2H8v1.5H2.5v10h10V8H14v6.25a.75.75 0 0 1-.75.75H1.75a.75.75 0 0 1-.75-.75z\"></path>\n",
       "            </svg>\n",
       "        </a>\n",
       "    </div>\n",
       "</div>\n",
       "</body>\n",
       "</html>"
      ]
     },
     "metadata": {},
     "output_type": "display_data"
    },
    {
     "output_type": "display_data",
     "data": {
      "text/html": [
       "<style scoped>\n",
       "  .table-result-container {\n",
       "    max-height: 300px;\n",
       "    overflow: auto;\n",
       "  }\n",
       "  table, th, td {\n",
       "    border: 1px solid black;\n",
       "    border-collapse: collapse;\n",
       "  }\n",
       "  th, td {\n",
       "    padding: 5px;\n",
       "  }\n",
       "  th {\n",
       "    text-align: left;\n",
       "  }\n",
       "</style><div class='table-result-container'><table class='table-result'><thead style='background-color: white'><tr><th>request_id</th><th>request</th><th>response</th><th>retrieved_context</th><th>trace</th><th>tool_calls</th><th>response/overall_assessment/rating</th><th>response/llm_judged/safety/rating</th><th>response/llm_judged/safety/rationale</th><th>response/llm_judged/relevance_to_query/rating</th><th>response/llm_judged/relevance_to_query/rationale</th><th>retrieval/llm_judged/chunk_relevance/ratings</th><th>retrieval/llm_judged/chunk_relevance/rationales</th><th>response/llm_judged/groundedness/rating</th><th>response/llm_judged/groundedness/rationale</th><th>agent/latency_seconds</th><th>retrieval/llm_judged/chunk_relevance/precision</th><th>response/overall_assessment/rationale</th></tr></thead><tbody></tbody></table>Showing the first 0 rows.</div>"
      ]
     },
     "metadata": {
      "application/vnd.databricks.v1+output": {
       "addedWidgets": {},
       "aggData": [],
       "aggError": "",
       "aggOverflow": false,
       "aggSchema": [],
       "aggSeriesLimitReached": false,
       "aggType": "",
       "arguments": {},
       "columnCustomDisplayInfos": {},
       "data": [],
       "datasetInfos": [],
       "dbfsResultPath": null,
       "isJsonSchema": true,
       "metadata": {},
       "overflow": true,
       "plotOptions": {
        "customPlotOptions": {},
        "displayType": "table",
        "pivotAggregation": null,
        "pivotColumns": null,
        "xColumns": null,
        "yColumns": null
       },
       "removedWidgets": [],
       "schema": [
        {
         "metadata": "{}",
         "name": "request_id",
         "type": "\"string\""
        },
        {
         "metadata": "{}",
         "name": "request",
         "type": "{\"fields\":[{\"metadata\":{},\"name\":\"messages\",\"nullable\":true,\"type\":{\"containsNull\":true,\"elementType\":{\"fields\":[{\"metadata\":{},\"name\":\"content\",\"nullable\":true,\"type\":\"string\"},{\"metadata\":{},\"name\":\"role\",\"nullable\":true,\"type\":\"string\"}],\"type\":\"struct\"},\"type\":\"array\"}}],\"type\":\"struct\"}"
        },
        {
         "metadata": "{}",
         "name": "response",
         "type": "{\"fields\":[{\"metadata\":{},\"name\":\"databricks_output\",\"nullable\":true,\"type\":{\"fields\":[{\"metadata\":{},\"name\":\"databricks_request_id\",\"nullable\":true,\"type\":\"string\"},{\"metadata\":{},\"name\":\"trace\",\"nullable\":true,\"type\":{\"fields\":[{\"metadata\":{},\"name\":\"data\",\"nullable\":true,\"type\":{\"fields\":[{\"metadata\":{},\"name\":\"request\",\"nullable\":true,\"type\":\"string\"},{\"metadata\":{},\"name\":\"response\",\"nullable\":true,\"type\":\"string\"},{\"metadata\":{},\"name\":\"spans\",\"nullable\":true,\"type\":{\"containsNull\":true,\"elementType\":{\"fields\":[{\"metadata\":{},\"name\":\"attributes\",\"nullable\":true,\"type\":{\"fields\":[{\"metadata\":{},\"name\":\"batch_size\",\"nullable\":true,\"type\":\"string\"},{\"metadata\":{},\"name\":\"color\",\"nullable\":true,\"type\":\"string\"},{\"metadata\":{},\"name\":\"invocation_params\",\"nullable\":true,\"type\":\"string\"},{\"metadata\":{},\"name\":\"metadata\",\"nullable\":true,\"type\":\"string\"},{\"metadata\":{},\"name\":\"mlflow.chat.messages\",\"nullable\":true,\"type\":\"string\"},{\"metadata\":{},\"name\":\"mlflow.chat.tools\",\"nullable\":true,\"type\":\"string\"},{\"metadata\":{},\"name\":\"mlflow.spanFunctionName\",\"nullable\":true,\"type\":\"string\"},{\"metadata\":{},\"name\":\"mlflow.spanInputs\",\"nullable\":true,\"type\":\"string\"},{\"metadata\":{},\"name\":\"mlflow.spanOutputs\",\"nullable\":true,\"type\":\"string\"},{\"metadata\":{},\"name\":\"mlflow.spanType\",\"nullable\":true,\"type\":\"string\"},{\"metadata\":{},\"name\":\"mlflow.traceRequestId\",\"nullable\":true,\"type\":\"string\"},{\"metadata\":{},\"name\":\"options\",\"nullable\":true,\"type\":\"string\"}],\"type\":\"struct\"}},{\"metadata\":{},\"name\":\"context\",\"nullable\":true,\"type\":{\"fields\":[{\"metadata\":{},\"name\":\"span_id\",\"nullable\":true,\"type\":\"string\"},{\"metadata\":{},\"name\":\"trace_id\",\"nullable\":true,\"type\":\"string\"}],\"type\":\"struct\"}},{\"metadata\":{},\"name\":\"end_time\",\"nullable\":true,\"type\":\"long\"},{\"metadata\":{},\"name\":\"events\",\"nullable\":true,\"type\":{\"containsNull\":true,\"elementType\":\"void\",\"type\":\"array\"}},{\"metadata\":{},\"name\":\"name\",\"nullable\":true,\"type\":\"string\"},{\"metadata\":{},\"name\":\"parent_id\",\"nullable\":true,\"type\":\"string\"},{\"metadata\":{},\"name\":\"start_time\",\"nullable\":true,\"type\":\"long\"},{\"metadata\":{},\"name\":\"status_code\",\"nullable\":true,\"type\":\"string\"},{\"metadata\":{},\"name\":\"status_message\",\"nullable\":true,\"type\":\"string\"}],\"type\":\"struct\"},\"type\":\"array\"}}],\"type\":\"struct\"}},{\"metadata\":{},\"name\":\"info\",\"nullable\":true,\"type\":{\"fields\":[{\"metadata\":{},\"name\":\"assessments\",\"nullable\":true,\"type\":{\"containsNull\":true,\"elementType\":\"void\",\"type\":\"array\"}},{\"metadata\":{},\"name\":\"execution_time_ms\",\"nullable\":true,\"type\":\"long\"},{\"metadata\":{},\"name\":\"experiment_id\",\"nullable\":true,\"type\":\"void\"},{\"metadata\":{},\"name\":\"request_id\",\"nullable\":true,\"type\":\"string\"},{\"metadata\":{},\"name\":\"request_metadata\",\"nullable\":true,\"type\":{\"fields\":[{\"metadata\":{},\"name\":\"app_version_id\",\"nullable\":true,\"type\":\"string\"},{\"metadata\":{},\"name\":\"is_truncated\",\"nullable\":true,\"type\":\"boolean\"},{\"metadata\":{},\"name\":\"mlflow.trace_schema.version\",\"nullable\":true,\"type\":\"string\"}],\"type\":\"struct\"}},{\"metadata\":{},\"name\":\"status\",\"nullable\":true,\"type\":\"string\"},{\"metadata\":{},\"name\":\"tags\",\"nullable\":true,\"type\":{\"fields\":[],\"type\":\"struct\"}},{\"metadata\":{},\"name\":\"timestamp_ms\",\"nullable\":true,\"type\":\"long\"}],\"type\":\"struct\"}}],\"type\":\"struct\"}}],\"type\":\"struct\"}},{\"metadata\":{},\"name\":\"id\",\"nullable\":true,\"type\":\"string\"},{\"metadata\":{},\"name\":\"messages\",\"nullable\":true,\"type\":{\"containsNull\":true,\"elementType\":{\"fields\":[{\"metadata\":{},\"name\":\"content\",\"nullable\":true,\"type\":\"string\"},{\"metadata\":{},\"name\":\"id\",\"nullable\":true,\"type\":\"string\"},{\"metadata\":{},\"name\":\"name\",\"nullable\":true,\"type\":\"string\"},{\"metadata\":{},\"name\":\"role\",\"nullable\":true,\"type\":\"string\"}],\"type\":\"struct\"},\"type\":\"array\"}}],\"type\":\"struct\"}"
        },
        {
         "metadata": "{}",
         "name": "retrieved_context",
         "type": "{\"containsNull\":true,\"elementType\":{\"fields\":[{\"metadata\":{},\"name\":\"content\",\"nullable\":true,\"type\":\"string\"},{\"metadata\":{},\"name\":\"doc_uri\",\"nullable\":true,\"type\":\"void\"}],\"type\":\"struct\"},\"type\":\"array\"}"
        },
        {
         "metadata": "{}",
         "name": "trace",
         "type": "\"string\""
        },
        {
         "metadata": "{}",
         "name": "tool_calls",
         "type": "{\"containsNull\":true,\"elementType\":{\"fields\":[{\"metadata\":{},\"name\":\"available_tools\",\"nullable\":true,\"type\":{\"containsNull\":true,\"elementType\":{\"fields\":[{\"metadata\":{},\"name\":\"function\",\"nullable\":true,\"type\":{\"fields\":[{\"metadata\":{},\"name\":\"description\",\"nullable\":true,\"type\":\"string\"},{\"metadata\":{},\"name\":\"name\",\"nullable\":true,\"type\":\"string\"},{\"metadata\":{},\"name\":\"parameters\",\"nullable\":true,\"type\":{\"fields\":[{\"metadata\":{},\"name\":\"properties\",\"nullable\":true,\"type\":{\"fields\":[{\"metadata\":{},\"name\":\"next_node\",\"nullable\":true,\"type\":{\"fields\":[{\"metadata\":{},\"name\":\"enum\",\"nullable\":true,\"type\":{\"containsNull\":true,\"elementType\":\"string\",\"type\":\"array\"}},{\"metadata\":{},\"name\":\"type\",\"nullable\":true,\"type\":\"string\"}],\"type\":\"struct\"}},{\"metadata\":{},\"name\":\"query\",\"nullable\":true,\"type\":{\"fields\":[{\"metadata\":{},\"name\":\"description\",\"nullable\":true,\"type\":\"string\"},{\"metadata\":{},\"name\":\"type\",\"nullable\":true,\"type\":\"string\"}],\"type\":\"struct\"}}],\"type\":\"struct\"}},{\"metadata\":{},\"name\":\"required\",\"nullable\":true,\"type\":{\"containsNull\":true,\"elementType\":\"string\",\"type\":\"array\"}},{\"metadata\":{},\"name\":\"type\",\"nullable\":true,\"type\":\"string\"}],\"type\":\"struct\"}}],\"type\":\"struct\"}},{\"metadata\":{},\"name\":\"type\",\"nullable\":true,\"type\":\"string\"}],\"type\":\"struct\"},\"type\":\"array\"}},{\"metadata\":{},\"name\":\"raw_span\",\"nullable\":true,\"type\":{\"fields\":[{\"metadata\":{},\"name\":\"attributes\",\"nullable\":true,\"type\":{\"fields\":[{\"metadata\":{},\"name\":\"batch_size\",\"nullable\":true,\"type\":\"long\"},{\"metadata\":{},\"name\":\"invocation_params\",\"nullable\":true,\"type\":{\"fields\":[{\"metadata\":{},\"name\":\"_type\",\"nullable\":true,\"type\":\"string\"},{\"metadata\":{},\"name\":\"extra_params\",\"nullable\":true,\"type\":{\"fields\":[],\"type\":\"struct\"}},{\"metadata\":{},\"name\":\"model\",\"nullable\":true,\"type\":\"string\"},{\"metadata\":{},\"name\":\"n\",\"nullable\":true,\"type\":\"long\"},{\"metadata\":{},\"name\":\"stop\",\"nullable\":true,\"type\":\"void\"},{\"metadata\":{},\"name\":\"target_uri\",\"nullable\":true,\"type\":\"string\"},{\"metadata\":{},\"name\":\"temperature\",\"nullable\":true,\"type\":\"double\"},{\"metadata\":{},\"name\":\"tool_choice\",\"nullable\":true,\"type\":{\"fields\":[{\"metadata\":{},\"name\":\"function\",\"nullable\":true,\"type\":{\"fields\":[{\"metadata\":{},\"name\":\"name\",\"nullable\":true,\"type\":\"string\"}],\"type\":\"struct\"}},{\"metadata\":{},\"name\":\"type\",\"nullable\":true,\"type\":\"string\"}],\"type\":\"struct\"}},{\"metadata\":{},\"name\":\"tools\",\"nullable\":true,\"type\":{\"containsNull\":true,\"elementType\":{\"fields\":[{\"metadata\":{},\"name\":\"function\",\"nullable\":true,\"type\":{\"fields\":[{\"metadata\":{},\"name\":\"description\",\"nullable\":true,\"type\":\"string\"},{\"metadata\":{},\"name\":\"name\",\"nullable\":true,\"type\":\"string\"},{\"metadata\":{},\"name\":\"parameters\",\"nullable\":true,\"type\":{\"fields\":[{\"metadata\":{},\"name\":\"properties\",\"nullable\":true,\"type\":{\"fields\":[{\"metadata\":{},\"name\":\"next_node\",\"nullable\":true,\"type\":{\"fields\":[{\"metadata\":{},\"name\":\"enum\",\"nullable\":true,\"type\":{\"containsNull\":true,\"elementType\":\"string\",\"type\":\"array\"}},{\"metadata\":{},\"name\":\"type\",\"nullable\":true,\"type\":\"string\"}],\"type\":\"struct\"}},{\"metadata\":{},\"name\":\"query\",\"nullable\":true,\"type\":{\"fields\":[{\"metadata\":{},\"name\":\"description\",\"nullable\":true,\"type\":\"string\"},{\"metadata\":{},\"name\":\"type\",\"nullable\":true,\"type\":\"string\"}],\"type\":\"struct\"}}],\"type\":\"struct\"}},{\"metadata\":{},\"name\":\"required\",\"nullable\":true,\"type\":{\"containsNull\":true,\"elementType\":\"string\",\"type\":\"array\"}},{\"metadata\":{},\"name\":\"type\",\"nullable\":true,\"type\":\"string\"}],\"type\":\"struct\"}}],\"type\":\"struct\"}},{\"metadata\":{},\"name\":\"type\",\"nullable\":true,\"type\":\"string\"}],\"type\":\"struct\"},\"type\":\"array\"}}],\"type\":\"struct\"}},{\"metadata\":{},\"name\":\"metadata\",\"nullable\":true,\"type\":{\"fields\":[{\"metadata\":{},\"name\":\"checkpoint_ns\",\"nullable\":true,\"type\":\"string\"},{\"metadata\":{},\"name\":\"langgraph_checkpoint_ns\",\"nullable\":true,\"type\":\"string\"},{\"metadata\":{},\"name\":\"langgraph_node\",\"nullable\":true,\"type\":\"string\"},{\"metadata\":{},\"name\":\"langgraph_path\",\"nullable\":true,\"type\":{\"containsNull\":true,\"elementType\":\"string\",\"type\":\"array\"}},{\"metadata\":{},\"name\":\"langgraph_step\",\"nullable\":true,\"type\":\"long\"},{\"metadata\":{},\"name\":\"langgraph_triggers\",\"nullable\":true,\"type\":{\"containsNull\":true,\"elementType\":\"string\",\"type\":\"array\"}},{\"metadata\":{},\"name\":\"ls_model_name\",\"nullable\":true,\"type\":\"string\"},{\"metadata\":{},\"name\":\"ls_model_type\",\"nullable\":true,\"type\":\"string\"},{\"metadata\":{},\"name\":\"ls_provider\",\"nullable\":true,\"type\":\"string\"},{\"metadata\":{},\"name\":\"ls_temperature\",\"nullable\":true,\"type\":\"double\"}],\"type\":\"struct\"}},{\"metadata\":{},\"name\":\"mlflow.chat.messages\",\"nullable\":true,\"type\":{\"containsNull\":true,\"elementType\":{\"fields\":[{\"metadata\":{},\"name\":\"content\",\"nullable\":true,\"type\":\"string\"},{\"metadata\":{},\"name\":\"role\",\"nullable\":true,\"type\":\"string\"},{\"metadata\":{},\"name\":\"tool_call_id\",\"nullable\":true,\"type\":\"string\"},{\"metadata\":{},\"name\":\"tool_calls\",\"nullable\":true,\"type\":{\"containsNull\":true,\"elementType\":{\"fields\":[{\"metadata\":{},\"name\":\"function\",\"nullable\":true,\"type\":{\"fields\":[{\"metadata\":{},\"name\":\"arguments\",\"nullable\":true,\"type\":\"string\"},{\"metadata\":{},\"name\":\"name\",\"nullable\":true,\"type\":\"string\"}],\"type\":\"struct\"}},{\"metadata\":{},\"name\":\"id\",\"nullable\":true,\"type\":\"string\"},{\"metadata\":{},\"name\":\"type\",\"nullable\":true,\"type\":\"string\"}],\"type\":\"struct\"},\"type\":\"array\"}}],\"type\":\"struct\"},\"type\":\"array\"}},{\"metadata\":{},\"name\":\"mlflow.chat.tools\",\"nullable\":true,\"type\":{\"containsNull\":true,\"elementType\":{\"fields\":[{\"metadata\":{},\"name\":\"function\",\"nullable\":true,\"type\":{\"fields\":[{\"metadata\":{},\"name\":\"description\",\"nullable\":true,\"type\":\"string\"},{\"metadata\":{},\"name\":\"name\",\"nullable\":true,\"type\":\"string\"},{\"metadata\":{},\"name\":\"parameters\",\"nullable\":true,\"type\":{\"fields\":[{\"metadata\":{},\"name\":\"properties\",\"nullable\":true,\"type\":{\"fields\":[{\"metadata\":{},\"name\":\"next_node\",\"nullable\":true,\"type\":{\"fields\":[{\"metadata\":{},\"name\":\"enum\",\"nullable\":true,\"type\":{\"containsNull\":true,\"elementType\":\"string\",\"type\":\"array\"}},{\"metadata\":{},\"name\":\"type\",\"nullable\":true,\"type\":\"string\"}],\"type\":\"struct\"}},{\"metadata\":{},\"name\":\"query\",\"nullable\":true,\"type\":{\"fields\":[{\"metadata\":{},\"name\":\"description\",\"nullable\":true,\"type\":\"string\"},{\"metadata\":{},\"name\":\"type\",\"nullable\":true,\"type\":\"string\"}],\"type\":\"struct\"}}],\"type\":\"struct\"}},{\"metadata\":{},\"name\":\"required\",\"nullable\":true,\"type\":{\"containsNull\":true,\"elementType\":\"string\",\"type\":\"array\"}},{\"metadata\":{},\"name\":\"type\",\"nullable\":true,\"type\":\"string\"}],\"type\":\"struct\"}}],\"type\":\"struct\"}},{\"metadata\":{},\"name\":\"type\",\"nullable\":true,\"type\":\"string\"}],\"type\":\"struct\"},\"type\":\"array\"}},{\"metadata\":{},\"name\":\"mlflow.spanInputs\",\"nullable\":true,\"type\":{\"containsNull\":true,\"elementType\":{\"containsNull\":true,\"elementType\":{\"fields\":[{\"metadata\":{},\"name\":\"additional_kwargs\",\"nullable\":true,\"type\":{\"fields\":[{\"metadata\":{},\"name\":\"tool_calls\",\"nullable\":true,\"type\":{\"containsNull\":true,\"elementType\":{\"fields\":[{\"metadata\":{},\"name\":\"function\",\"nullable\":true,\"type\":{\"fields\":[{\"metadata\":{},\"name\":\"arguments\",\"nullable\":true,\"type\":\"string\"},{\"metadata\":{},\"name\":\"name\",\"nullable\":true,\"type\":\"string\"}],\"type\":\"struct\"}},{\"metadata\":{},\"name\":\"id\",\"nullable\":true,\"type\":\"string\"},{\"metadata\":{},\"name\":\"type\",\"nullable\":true,\"type\":\"string\"}],\"type\":\"struct\"},\"type\":\"array\"}}],\"type\":\"struct\"}},{\"metadata\":{},\"name\":\"artifact\",\"nullable\":true,\"type\":\"void\"},{\"metadata\":{},\"name\":\"content\",\"nullable\":true,\"type\":\"string\"},{\"metadata\":{},\"name\":\"example\",\"nullable\":true,\"type\":\"boolean\"},{\"metadata\":{},\"name\":\"id\",\"nullable\":true,\"type\":\"string\"},{\"metadata\":{},\"name\":\"invalid_tool_calls\",\"nullable\":true,\"type\":{\"containsNull\":true,\"elementType\":\"void\",\"type\":\"array\"}},{\"metadata\":{},\"name\":\"name\",\"nullable\":true,\"type\":\"string\"},{\"metadata\":{},\"name\":\"response_metadata\",\"nullable\":true,\"type\":{\"fields\":[{\"metadata\":{},\"name\":\"created\",\"nullable\":true,\"type\":\"long\"},{\"metadata\":{},\"name\":\"id\",\"nullable\":true,\"type\":\"string\"},{\"metadata\":{},\"name\":\"model\",\"nullable\":true,\"type\":\"string\"},{\"metadata\":{},\"name\":\"model_name\",\"nullable\":true,\"type\":\"string\"},{\"metadata\":{},\"name\":\"object\",\"nullable\":true,\"type\":\"string\"},{\"metadata\":{},\"name\":\"usage\",\"nullable\":true,\"type\":{\"fields\":[{\"metadata\":{},\"name\":\"completion_tokens\",\"nullable\":true,\"type\":\"long\"},{\"metadata\":{},\"name\":\"prompt_tokens\",\"nullable\":true,\"type\":\"long\"},{\"metadata\":{},\"name\":\"total_tokens\",\"nullable\":true,\"type\":\"long\"}],\"type\":\"struct\"}}],\"type\":\"struct\"}},{\"metadata\":{},\"name\":\"status\",\"nullable\":true,\"type\":\"string\"},{\"metadata\":{},\"name\":\"tool_call_id\",\"nullable\":true,\"type\":\"string\"},{\"metadata\":{},\"name\":\"tool_calls\",\"nullable\":true,\"type\":{\"containsNull\":true,\"elementType\":{\"fields\":[{\"metadata\":{},\"name\":\"args\",\"nullable\":true,\"type\":{\"fields\":[{\"metadata\":{},\"name\":\"query\",\"nullable\":true,\"type\":\"string\"}],\"type\":\"struct\"}},{\"metadata\":{},\"name\":\"id\",\"nullable\":true,\"type\":\"string\"},{\"metadata\":{},\"name\":\"name\",\"nullable\":true,\"type\":\"string\"},{\"metadata\":{},\"name\":\"type\",\"nullable\":true,\"type\":\"string\"}],\"type\":\"struct\"},\"type\":\"array\"}},{\"metadata\":{},\"name\":\"type\",\"nullable\":true,\"type\":\"string\"},{\"metadata\":{},\"name\":\"usage_metadata\",\"nullable\":true,\"type\":\"void\"}],\"type\":\"struct\"},\"type\":\"array\"},\"type\":\"array\"}},{\"metadata\":{},\"name\":\"mlflow.spanOutputs\",\"nullable\":true,\"type\":{\"fields\":[{\"metadata\":{},\"name\":\"generations\",\"nullable\":true,\"type\":{\"containsNull\":true,\"elementType\":{\"containsNull\":true,\"elementType\":{\"fields\":[{\"metadata\":{},\"name\":\"generation_info\",\"nullable\":true,\"type\":{\"fields\":[],\"type\":\"struct\"}},{\"metadata\":{},\"name\":\"message\",\"nullable\":true,\"type\":{\"fields\":[{\"metadata\":{},\"name\":\"additional_kwargs\",\"nullable\":true,\"type\":{\"fields\":[{\"metadata\":{},\"name\":\"tool_calls\",\"nullable\":true,\"type\":{\"containsNull\":true,\"elementType\":{\"fields\":[{\"metadata\":{},\"name\":\"function\",\"nullable\":true,\"type\":{\"fields\":[{\"metadata\":{},\"name\":\"arguments\",\"nullable\":true,\"type\":\"string\"},{\"metadata\":{},\"name\":\"name\",\"nullable\":true,\"type\":\"string\"}],\"type\":\"struct\"}},{\"metadata\":{},\"name\":\"id\",\"nullable\":true,\"type\":\"string\"},{\"metadata\":{},\"name\":\"type\",\"nullable\":true,\"type\":\"string\"}],\"type\":\"struct\"},\"type\":\"array\"}}],\"type\":\"struct\"}},{\"metadata\":{},\"name\":\"content\",\"nullable\":true,\"type\":\"string\"},{\"metadata\":{},\"name\":\"id\",\"nullable\":true,\"type\":\"string\"},{\"metadata\":{},\"name\":\"name\",\"nullable\":true,\"type\":\"void\"},{\"metadata\":{},\"name\":\"response_metadata\",\"nullable\":true,\"type\":{\"fields\":[{\"metadata\":{},\"name\":\"created\",\"nullable\":true,\"type\":\"long\"},{\"metadata\":{},\"name\":\"id\",\"nullable\":true,\"type\":\"string\"},{\"metadata\":{},\"name\":\"model\",\"nullable\":true,\"type\":\"string\"},{\"metadata\":{},\"name\":\"model_name\",\"nullable\":true,\"type\":\"string\"},{\"metadata\":{},\"name\":\"object\",\"nullable\":true,\"type\":\"string\"},{\"metadata\":{},\"name\":\"usage\",\"nullable\":true,\"type\":{\"fields\":[{\"metadata\":{},\"name\":\"completion_tokens\",\"nullable\":true,\"type\":\"long\"},{\"metadata\":{},\"name\":\"prompt_tokens\",\"nullable\":true,\"type\":\"long\"},{\"metadata\":{},\"name\":\"total_tokens\",\"nullable\":true,\"type\":\"long\"}],\"type\":\"struct\"}}],\"type\":\"struct\"}},{\"metadata\":{},\"name\":\"type\",\"nullable\":true,\"type\":\"string\"}],\"type\":\"struct\"}},{\"metadata\":{},\"name\":\"text\",\"nullable\":true,\"type\":\"string\"},{\"metadata\":{},\"name\":\"type\",\"nullable\":true,\"type\":\"string\"}],\"type\":\"struct\"},\"type\":\"array\"},\"type\":\"array\"}},{\"metadata\":{},\"name\":\"llm_output\",\"nullable\":true,\"type\":{\"fields\":[{\"metadata\":{},\"name\":\"created\",\"nullable\":true,\"type\":\"long\"},{\"metadata\":{},\"name\":\"id\",\"nullable\":true,\"type\":\"string\"},{\"metadata\":{},\"name\":\"model\",\"nullable\":true,\"type\":\"string\"},{\"metadata\":{},\"name\":\"model_name\",\"nullable\":true,\"type\":\"string\"},{\"metadata\":{},\"name\":\"object\",\"nullable\":true,\"type\":\"string\"},{\"metadata\":{},\"name\":\"usage\",\"nullable\":true,\"type\":{\"fields\":[{\"metadata\":{},\"name\":\"completion_tokens\",\"nullable\":true,\"type\":\"long\"},{\"metadata\":{},\"name\":\"prompt_tokens\",\"nullable\":true,\"type\":\"long\"},{\"metadata\":{},\"name\":\"total_tokens\",\"nullable\":true,\"type\":\"long\"}],\"type\":\"struct\"}}],\"type\":\"struct\"}},{\"metadata\":{},\"name\":\"run\",\"nullable\":true,\"type\":\"void\"},{\"metadata\":{},\"name\":\"type\",\"nullable\":true,\"type\":\"string\"}],\"type\":\"struct\"}},{\"metadata\":{},\"name\":\"mlflow.spanType\",\"nullable\":true,\"type\":\"string\"},{\"metadata\":{},\"name\":\"mlflow.traceRequestId\",\"nullable\":true,\"type\":\"string\"},{\"metadata\":{},\"name\":\"options\",\"nullable\":true,\"type\":{\"fields\":[{\"metadata\":{},\"name\":\"stop\",\"nullable\":true,\"type\":\"void\"}],\"type\":\"struct\"}}],\"type\":\"struct\"}},{\"metadata\":{},\"name\":\"end_time_ns\",\"nullable\":true,\"type\":\"long\"},{\"metadata\":{},\"name\":\"events\",\"nullable\":true,\"type\":{\"containsNull\":true,\"elementType\":\"void\",\"type\":\"array\"}},{\"metadata\":{},\"name\":\"inputs\",\"nullable\":true,\"type\":{\"containsNull\":true,\"elementType\":{\"containsNull\":true,\"elementType\":{\"fields\":[{\"metadata\":{},\"name\":\"additional_kwargs\",\"nullable\":true,\"type\":{\"fields\":[{\"metadata\":{},\"name\":\"tool_calls\",\"nullable\":true,\"type\":{\"containsNull\":true,\"elementType\":{\"fields\":[{\"metadata\":{},\"name\":\"function\",\"nullable\":true,\"type\":{\"fields\":[{\"metadata\":{},\"name\":\"arguments\",\"nullable\":true,\"type\":\"string\"},{\"metadata\":{},\"name\":\"name\",\"nullable\":true,\"type\":\"string\"}],\"type\":\"struct\"}},{\"metadata\":{},\"name\":\"id\",\"nullable\":true,\"type\":\"string\"},{\"metadata\":{},\"name\":\"type\",\"nullable\":true,\"type\":\"string\"}],\"type\":\"struct\"},\"type\":\"array\"}}],\"type\":\"struct\"}},{\"metadata\":{},\"name\":\"artifact\",\"nullable\":true,\"type\":\"void\"},{\"metadata\":{},\"name\":\"content\",\"nullable\":true,\"type\":\"string\"},{\"metadata\":{},\"name\":\"example\",\"nullable\":true,\"type\":\"boolean\"},{\"metadata\":{},\"name\":\"id\",\"nullable\":true,\"type\":\"string\"},{\"metadata\":{},\"name\":\"invalid_tool_calls\",\"nullable\":true,\"type\":{\"containsNull\":true,\"elementType\":\"void\",\"type\":\"array\"}},{\"metadata\":{},\"name\":\"name\",\"nullable\":true,\"type\":\"string\"},{\"metadata\":{},\"name\":\"response_metadata\",\"nullable\":true,\"type\":{\"fields\":[{\"metadata\":{},\"name\":\"created\",\"nullable\":true,\"type\":\"long\"},{\"metadata\":{},\"name\":\"id\",\"nullable\":true,\"type\":\"string\"},{\"metadata\":{},\"name\":\"model\",\"nullable\":true,\"type\":\"string\"},{\"metadata\":{},\"name\":\"model_name\",\"nullable\":true,\"type\":\"string\"},{\"metadata\":{},\"name\":\"object\",\"nullable\":true,\"type\":\"string\"},{\"metadata\":{},\"name\":\"usage\",\"nullable\":true,\"type\":{\"fields\":[{\"metadata\":{},\"name\":\"completion_tokens\",\"nullable\":true,\"type\":\"long\"},{\"metadata\":{},\"name\":\"prompt_tokens\",\"nullable\":true,\"type\":\"long\"},{\"metadata\":{},\"name\":\"total_tokens\",\"nullable\":true,\"type\":\"long\"}],\"type\":\"struct\"}}],\"type\":\"struct\"}},{\"metadata\":{},\"name\":\"status\",\"nullable\":true,\"type\":\"string\"},{\"metadata\":{},\"name\":\"tool_call_id\",\"nullable\":true,\"type\":\"string\"},{\"metadata\":{},\"name\":\"tool_calls\",\"nullable\":true,\"type\":{\"containsNull\":true,\"elementType\":{\"fields\":[{\"metadata\":{},\"name\":\"args\",\"nullable\":true,\"type\":{\"fields\":[{\"metadata\":{},\"name\":\"query\",\"nullable\":true,\"type\":\"string\"}],\"type\":\"struct\"}},{\"metadata\":{},\"name\":\"id\",\"nullable\":true,\"type\":\"string\"},{\"metadata\":{},\"name\":\"name\",\"nullable\":true,\"type\":\"string\"},{\"metadata\":{},\"name\":\"type\",\"nullable\":true,\"type\":\"string\"}],\"type\":\"struct\"},\"type\":\"array\"}},{\"metadata\":{},\"name\":\"type\",\"nullable\":true,\"type\":\"string\"},{\"metadata\":{},\"name\":\"usage_metadata\",\"nullable\":true,\"type\":\"void\"}],\"type\":\"struct\"},\"type\":\"array\"},\"type\":\"array\"}},{\"metadata\":{},\"name\":\"name\",\"nullable\":true,\"type\":\"string\"},{\"metadata\":{},\"name\":\"outputs\",\"nullable\":true,\"type\":{\"fields\":[{\"metadata\":{},\"name\":\"generations\",\"nullable\":true,\"type\":{\"containsNull\":true,\"elementType\":{\"containsNull\":true,\"elementType\":{\"fields\":[{\"metadata\":{},\"name\":\"generation_info\",\"nullable\":true,\"type\":{\"fields\":[],\"type\":\"struct\"}},{\"metadata\":{},\"name\":\"message\",\"nullable\":true,\"type\":{\"fields\":[{\"metadata\":{},\"name\":\"additional_kwargs\",\"nullable\":true,\"type\":{\"fields\":[{\"metadata\":{},\"name\":\"tool_calls\",\"nullable\":true,\"type\":{\"containsNull\":true,\"elementType\":{\"fields\":[{\"metadata\":{},\"name\":\"function\",\"nullable\":true,\"type\":{\"fields\":[{\"metadata\":{},\"name\":\"arguments\",\"nullable\":true,\"type\":\"string\"},{\"metadata\":{},\"name\":\"name\",\"nullable\":true,\"type\":\"string\"}],\"type\":\"struct\"}},{\"metadata\":{},\"name\":\"id\",\"nullable\":true,\"type\":\"string\"},{\"metadata\":{},\"name\":\"type\",\"nullable\":true,\"type\":\"string\"}],\"type\":\"struct\"},\"type\":\"array\"}}],\"type\":\"struct\"}},{\"metadata\":{},\"name\":\"content\",\"nullable\":true,\"type\":\"string\"},{\"metadata\":{},\"name\":\"id\",\"nullable\":true,\"type\":\"string\"},{\"metadata\":{},\"name\":\"name\",\"nullable\":true,\"type\":\"void\"},{\"metadata\":{},\"name\":\"response_metadata\",\"nullable\":true,\"type\":{\"fields\":[{\"metadata\":{},\"name\":\"created\",\"nullable\":true,\"type\":\"long\"},{\"metadata\":{},\"name\":\"id\",\"nullable\":true,\"type\":\"string\"},{\"metadata\":{},\"name\":\"model\",\"nullable\":true,\"type\":\"string\"},{\"metadata\":{},\"name\":\"model_name\",\"nullable\":true,\"type\":\"string\"},{\"metadata\":{},\"name\":\"object\",\"nullable\":true,\"type\":\"string\"},{\"metadata\":{},\"name\":\"usage\",\"nullable\":true,\"type\":{\"fields\":[{\"metadata\":{},\"name\":\"completion_tokens\",\"nullable\":true,\"type\":\"long\"},{\"metadata\":{},\"name\":\"prompt_tokens\",\"nullable\":true,\"type\":\"long\"},{\"metadata\":{},\"name\":\"total_tokens\",\"nullable\":true,\"type\":\"long\"}],\"type\":\"struct\"}}],\"type\":\"struct\"}},{\"metadata\":{},\"name\":\"type\",\"nullable\":true,\"type\":\"string\"}],\"type\":\"struct\"}},{\"metadata\":{},\"name\":\"text\",\"nullable\":true,\"type\":\"string\"},{\"metadata\":{},\"name\":\"type\",\"nullable\":true,\"type\":\"string\"}],\"type\":\"struct\"},\"type\":\"array\"},\"type\":\"array\"}},{\"metadata\":{},\"name\":\"llm_output\",\"nullable\":true,\"type\":{\"fields\":[{\"metadata\":{},\"name\":\"created\",\"nullable\":true,\"type\":\"long\"},{\"metadata\":{},\"name\":\"id\",\"nullable\":true,\"type\":\"string\"},{\"metadata\":{},\"name\":\"model\",\"nullable\":true,\"type\":\"string\"},{\"metadata\":{},\"name\":\"model_name\",\"nullable\":true,\"type\":\"string\"},{\"metadata\":{},\"name\":\"object\",\"nullable\":true,\"type\":\"string\"},{\"metadata\":{},\"name\":\"usage\",\"nullable\":true,\"type\":{\"fields\":[{\"metadata\":{},\"name\":\"completion_tokens\",\"nullable\":true,\"type\":\"long\"},{\"metadata\":{},\"name\":\"prompt_tokens\",\"nullable\":true,\"type\":\"long\"},{\"metadata\":{},\"name\":\"total_tokens\",\"nullable\":true,\"type\":\"long\"}],\"type\":\"struct\"}}],\"type\":\"struct\"}},{\"metadata\":{},\"name\":\"run\",\"nullable\":true,\"type\":\"void\"},{\"metadata\":{},\"name\":\"type\",\"nullable\":true,\"type\":\"string\"}],\"type\":\"struct\"}},{\"metadata\":{},\"name\":\"parent_id\",\"nullable\":true,\"type\":\"string\"},{\"metadata\":{},\"name\":\"request_id\",\"nullable\":true,\"type\":\"string\"},{\"metadata\":{},\"name\":\"span_id\",\"nullable\":true,\"type\":\"string\"},{\"metadata\":{},\"name\":\"span_type\",\"nullable\":true,\"type\":\"string\"},{\"metadata\":{},\"name\":\"start_time_ns\",\"nullable\":true,\"type\":\"long\"},{\"metadata\":{},\"name\":\"status\",\"nullable\":true,\"type\":{\"fields\":[{\"metadata\":{},\"name\":\"description\",\"nullable\":true,\"type\":\"string\"},{\"metadata\":{},\"name\":\"status_code\",\"nullable\":true,\"type\":\"string\"}],\"type\":\"struct\"}}],\"type\":\"struct\"}},{\"metadata\":{},\"name\":\"tool_call_args\",\"nullable\":true,\"type\":{\"fields\":[{\"metadata\":{},\"name\":\"next_node\",\"nullable\":true,\"type\":\"string\"},{\"metadata\":{},\"name\":\"query\",\"nullable\":true,\"type\":\"string\"}],\"type\":\"struct\"}},{\"metadata\":{},\"name\":\"tool_call_id\",\"nullable\":true,\"type\":\"string\"},{\"metadata\":{},\"name\":\"tool_call_result\",\"nullable\":true,\"type\":{\"fields\":[{\"metadata\":{},\"name\":\"content\",\"nullable\":true,\"type\":\"string\"},{\"metadata\":{},\"name\":\"role\",\"nullable\":true,\"type\":\"string\"},{\"metadata\":{},\"name\":\"tool_call_id\",\"nullable\":true,\"type\":\"string\"}],\"type\":\"struct\"}},{\"metadata\":{},\"name\":\"tool_name\",\"nullable\":true,\"type\":\"string\"}],\"type\":\"struct\"},\"type\":\"array\"}"
        },
        {
         "metadata": "{}",
         "name": "response/overall_assessment/rating",
         "type": "\"string\""
        },
        {
         "metadata": "{}",
         "name": "response/llm_judged/safety/rating",
         "type": "\"string\""
        },
        {
         "metadata": "{}",
         "name": "response/llm_judged/safety/rationale",
         "type": "\"string\""
        },
        {
         "metadata": "{}",
         "name": "response/llm_judged/relevance_to_query/rating",
         "type": "\"string\""
        },
        {
         "metadata": "{}",
         "name": "response/llm_judged/relevance_to_query/rationale",
         "type": "\"string\""
        },
        {
         "metadata": "{}",
         "name": "retrieval/llm_judged/chunk_relevance/ratings",
         "type": "{\"containsNull\":true,\"elementType\":\"string\",\"type\":\"array\"}"
        },
        {
         "metadata": "{}",
         "name": "retrieval/llm_judged/chunk_relevance/rationales",
         "type": "{\"containsNull\":true,\"elementType\":\"string\",\"type\":\"array\"}"
        },
        {
         "metadata": "{}",
         "name": "response/llm_judged/groundedness/rating",
         "type": "\"string\""
        },
        {
         "metadata": "{}",
         "name": "response/llm_judged/groundedness/rationale",
         "type": "\"string\""
        },
        {
         "metadata": "{}",
         "name": "agent/latency_seconds",
         "type": "\"double\""
        },
        {
         "metadata": "{}",
         "name": "retrieval/llm_judged/chunk_relevance/precision",
         "type": "\"double\""
        },
        {
         "metadata": "{}",
         "name": "response/overall_assessment/rationale",
         "type": "\"string\""
        }
       ],
       "type": "table"
      }
     },
     "output_type": "display_data"
    }
   ],
   "source": [
    "with mlflow.start_run(run_name=\"agent-documentacio-llama-preguntes-personalitzades-2\"):\n",
    "    eval_results = mlflow.evaluate(\n",
    "        \"endpoints:/agents_dts_proves_pre-startups_list-multi-agent-chatbot-3\",  # Aquí pones tu endpoint\n",
    "        data=eval_set_documnetation[5:10],  # Tu dataset de evaluación\n",
    "        model_type=\"databricks-agent\",  # Para evaluación de Mosaic AI Agents\n",
    "    )\n",
    "\n",
    "display(eval_results.tables['eval_results'])"
   ]
  },
  {
   "cell_type": "code",
   "execution_count": 0,
   "metadata": {
    "application/vnd.databricks.v1+cell": {
     "cellMetadata": {
      "byteLimit": 2048000,
      "rowLimit": 10000
     },
     "inputWidgets": {},
     "nuid": "f849123e-eaa9-45c1-a507-4acd5ecf795a",
     "showTitle": false,
     "tableResultSettingsMap": {},
     "title": ""
    }
   },
   "outputs": [
    {
     "output_type": "display_data",
     "data": {
      "application/vnd.jupyter.widget-view+json": {
       "model_id": "e1cca3a61a69471b8d6a8c34b5a1e75d",
       "version_major": 2,
       "version_minor": 0
      },
      "text/plain": [
       "Evaluating:   0%|          | 0/4 [Elapsed: 00:00, Remaining: ?]"
      ]
     },
     "metadata": {},
     "output_type": "display_data"
    },
    {
     "output_type": "display_data",
     "data": {
      "text/html": [
       "<!DOCTYPE html>\n",
       "<html lang=\"en\">\n",
       "<head>\n",
       "    <title>Evaluation output</title>\n",
       "    <meta charset=\"UTF-8\">\n",
       "    <meta name=\"viewport\" content=\"width=device-width, initial-scale=1.0\">\n",
       "    <style>\n",
       "        body {\n",
       "            font-family: Arial, sans-serif;\n",
       "        }\n",
       "\n",
       "        .header {\n",
       "            a.button {\n",
       "                padding: 4px 8px;\n",
       "                line-height: 20px;\n",
       "                box-shadow: none;\n",
       "                height: 20px;\n",
       "                display: inline-flex;\n",
       "                align-items: center;\n",
       "                justify-content: center;\n",
       "                vertical-align: middle;\n",
       "                background-color: rgb(34, 114, 180);\n",
       "                color: rgb(255, 255, 255);\n",
       "                text-decoration: none;\n",
       "                animation-duration: 0s;\n",
       "                transition: none 0s ease 0s;\n",
       "                position: relative;\n",
       "                white-space: nowrap;\n",
       "                text-align: center;\n",
       "                border: 1px solid rgb(192, 205, 216);\n",
       "                cursor: pointer;\n",
       "                user-select: none;\n",
       "                touch-action: manipulation;\n",
       "                border-radius: 4px;\n",
       "                gap: 6px;\n",
       "            }\n",
       "\n",
       "            a.button:hover {\n",
       "                background-color: rgb(14, 83, 139) !important;\n",
       "                border-color: transparent !important;\n",
       "                color: rgb(255, 255, 255) !important;\n",
       "            }\n",
       "        }\n",
       "\n",
       "        .warnings-section {\n",
       "            margin-top: 8px;\n",
       "\n",
       "            ul {\n",
       "                list-style-type: none;\n",
       "            }\n",
       "        }\n",
       "\n",
       "        .instructions-section {\n",
       "            margin-top: 16px;\n",
       "            font-size: 14px;\n",
       "\n",
       "            ul {\n",
       "                margin-top: 0;\n",
       "                margin-bottom: 0;\n",
       "            }\n",
       "        }\n",
       "\n",
       "        code {\n",
       "            font-family: monospace;\n",
       "        }\n",
       "\n",
       "        .note {\n",
       "            color: #666;\n",
       "        }\n",
       "\n",
       "        a {\n",
       "            color: #2272B4;\n",
       "            text-decoration: none;\n",
       "        }\n",
       "\n",
       "        a:hover {\n",
       "            color: #005580;\n",
       "        }\n",
       "    </style>\n",
       "</head>\n",
       "<body>\n",
       "<div>\n",
       "    <div class=\"header\">\n",
       "        <a href=\"https://adb-2869758279805397.17.azuredatabricks.net/ml/experiments/3845882404188464/runs/6adeb1bdac224982b3b8aa18cbe1aaa8/evaluations/\" class=\"button\">\n",
       "            View evaluation results: 2/4 pass\n",
       "            <svg xmlns=\"http://www.w3.org/2000/svg\" width=\"1em\" height=\"1em\" fill=\"none\" viewBox=\"0 0 16 16\" aria-hidden=\"true\" focusable=\"false\" class=\"\">\n",
       "                <path fill=\"currentColor\" d=\"M10 1h5v5h-1.5V3.56L8.53 8.53 7.47 7.47l4.97-4.97H10z\"></path>\n",
       "                <path fill=\"currentColor\" d=\"M1 2.75A.75.75 0 0 1 1.75 2H8v1.5H2.5v10h10V8H14v6.25a.75.75 0 0 1-.75.75H1.75a.75.75 0 0 1-.75-.75z\"></path>\n",
       "            </svg>\n",
       "        </a>\n",
       "    </div>\n",
       "</div>\n",
       "</body>\n",
       "</html>"
      ]
     },
     "metadata": {},
     "output_type": "display_data"
    },
    {
     "output_type": "display_data",
     "data": {
      "text/html": [
       "<style scoped>\n",
       "  .table-result-container {\n",
       "    max-height: 300px;\n",
       "    overflow: auto;\n",
       "  }\n",
       "  table, th, td {\n",
       "    border: 1px solid black;\n",
       "    border-collapse: collapse;\n",
       "  }\n",
       "  th, td {\n",
       "    padding: 5px;\n",
       "  }\n",
       "  th {\n",
       "    text-align: left;\n",
       "  }\n",
       "</style><div class='table-result-container'><table class='table-result'><thead style='background-color: white'><tr><th>request_id</th><th>request</th><th>response</th><th>retrieved_context</th><th>trace</th><th>tool_calls</th><th>response/overall_assessment/rating</th><th>response/overall_assessment/rationale</th><th>response/llm_judged/safety/rating</th><th>response/llm_judged/safety/rationale</th><th>response/llm_judged/relevance_to_query/rating</th><th>response/llm_judged/relevance_to_query/rationale</th><th>retrieval/llm_judged/chunk_relevance/ratings</th><th>retrieval/llm_judged/chunk_relevance/rationales</th><th>response/llm_judged/groundedness/rating</th><th>response/llm_judged/groundedness/rationale</th><th>agent/latency_seconds</th><th>retrieval/llm_judged/chunk_relevance/precision</th></tr></thead><tbody></tbody></table>Showing the first 0 rows.</div>"
      ]
     },
     "metadata": {
      "application/vnd.databricks.v1+output": {
       "addedWidgets": {},
       "aggData": [],
       "aggError": "",
       "aggOverflow": false,
       "aggSchema": [],
       "aggSeriesLimitReached": false,
       "aggType": "",
       "arguments": {},
       "columnCustomDisplayInfos": {},
       "data": [],
       "datasetInfos": [],
       "dbfsResultPath": null,
       "isJsonSchema": true,
       "metadata": {},
       "overflow": true,
       "plotOptions": {
        "customPlotOptions": {},
        "displayType": "table",
        "pivotAggregation": null,
        "pivotColumns": null,
        "xColumns": null,
        "yColumns": null
       },
       "removedWidgets": [],
       "schema": [
        {
         "metadata": "{}",
         "name": "request_id",
         "type": "\"string\""
        },
        {
         "metadata": "{}",
         "name": "request",
         "type": "{\"fields\":[{\"metadata\":{},\"name\":\"messages\",\"nullable\":true,\"type\":{\"containsNull\":true,\"elementType\":{\"fields\":[{\"metadata\":{},\"name\":\"content\",\"nullable\":true,\"type\":\"string\"},{\"metadata\":{},\"name\":\"role\",\"nullable\":true,\"type\":\"string\"}],\"type\":\"struct\"},\"type\":\"array\"}}],\"type\":\"struct\"}"
        },
        {
         "metadata": "{}",
         "name": "response",
         "type": "{\"fields\":[{\"metadata\":{},\"name\":\"databricks_output\",\"nullable\":true,\"type\":{\"fields\":[{\"metadata\":{},\"name\":\"databricks_request_id\",\"nullable\":true,\"type\":\"string\"},{\"metadata\":{},\"name\":\"trace\",\"nullable\":true,\"type\":{\"fields\":[{\"metadata\":{},\"name\":\"data\",\"nullable\":true,\"type\":{\"fields\":[{\"metadata\":{},\"name\":\"request\",\"nullable\":true,\"type\":\"string\"},{\"metadata\":{},\"name\":\"response\",\"nullable\":true,\"type\":\"string\"},{\"metadata\":{},\"name\":\"spans\",\"nullable\":true,\"type\":{\"containsNull\":true,\"elementType\":{\"fields\":[{\"metadata\":{},\"name\":\"attributes\",\"nullable\":true,\"type\":{\"fields\":[{\"metadata\":{},\"name\":\"batch_size\",\"nullable\":true,\"type\":\"string\"},{\"metadata\":{},\"name\":\"color\",\"nullable\":true,\"type\":\"string\"},{\"metadata\":{},\"name\":\"invocation_params\",\"nullable\":true,\"type\":\"string\"},{\"metadata\":{},\"name\":\"metadata\",\"nullable\":true,\"type\":\"string\"},{\"metadata\":{},\"name\":\"mlflow.chat.messages\",\"nullable\":true,\"type\":\"string\"},{\"metadata\":{},\"name\":\"mlflow.chat.tools\",\"nullable\":true,\"type\":\"string\"},{\"metadata\":{},\"name\":\"mlflow.spanFunctionName\",\"nullable\":true,\"type\":\"string\"},{\"metadata\":{},\"name\":\"mlflow.spanInputs\",\"nullable\":true,\"type\":\"string\"},{\"metadata\":{},\"name\":\"mlflow.spanOutputs\",\"nullable\":true,\"type\":\"string\"},{\"metadata\":{},\"name\":\"mlflow.spanType\",\"nullable\":true,\"type\":\"string\"},{\"metadata\":{},\"name\":\"mlflow.traceRequestId\",\"nullable\":true,\"type\":\"string\"},{\"metadata\":{},\"name\":\"options\",\"nullable\":true,\"type\":\"string\"}],\"type\":\"struct\"}},{\"metadata\":{},\"name\":\"context\",\"nullable\":true,\"type\":{\"fields\":[{\"metadata\":{},\"name\":\"span_id\",\"nullable\":true,\"type\":\"string\"},{\"metadata\":{},\"name\":\"trace_id\",\"nullable\":true,\"type\":\"string\"}],\"type\":\"struct\"}},{\"metadata\":{},\"name\":\"end_time\",\"nullable\":true,\"type\":\"long\"},{\"metadata\":{},\"name\":\"events\",\"nullable\":true,\"type\":{\"containsNull\":true,\"elementType\":\"void\",\"type\":\"array\"}},{\"metadata\":{},\"name\":\"name\",\"nullable\":true,\"type\":\"string\"},{\"metadata\":{},\"name\":\"parent_id\",\"nullable\":true,\"type\":\"string\"},{\"metadata\":{},\"name\":\"start_time\",\"nullable\":true,\"type\":\"long\"},{\"metadata\":{},\"name\":\"status_code\",\"nullable\":true,\"type\":\"string\"},{\"metadata\":{},\"name\":\"status_message\",\"nullable\":true,\"type\":\"string\"}],\"type\":\"struct\"},\"type\":\"array\"}}],\"type\":\"struct\"}},{\"metadata\":{},\"name\":\"info\",\"nullable\":true,\"type\":{\"fields\":[{\"metadata\":{},\"name\":\"assessments\",\"nullable\":true,\"type\":{\"containsNull\":true,\"elementType\":\"void\",\"type\":\"array\"}},{\"metadata\":{},\"name\":\"execution_time_ms\",\"nullable\":true,\"type\":\"long\"},{\"metadata\":{},\"name\":\"experiment_id\",\"nullable\":true,\"type\":\"void\"},{\"metadata\":{},\"name\":\"request_id\",\"nullable\":true,\"type\":\"string\"},{\"metadata\":{},\"name\":\"request_metadata\",\"nullable\":true,\"type\":{\"fields\":[{\"metadata\":{},\"name\":\"app_version_id\",\"nullable\":true,\"type\":\"string\"},{\"metadata\":{},\"name\":\"is_truncated\",\"nullable\":true,\"type\":\"boolean\"},{\"metadata\":{},\"name\":\"mlflow.trace_schema.version\",\"nullable\":true,\"type\":\"string\"}],\"type\":\"struct\"}},{\"metadata\":{},\"name\":\"status\",\"nullable\":true,\"type\":\"string\"},{\"metadata\":{},\"name\":\"tags\",\"nullable\":true,\"type\":{\"fields\":[],\"type\":\"struct\"}},{\"metadata\":{},\"name\":\"timestamp_ms\",\"nullable\":true,\"type\":\"long\"}],\"type\":\"struct\"}}],\"type\":\"struct\"}}],\"type\":\"struct\"}},{\"metadata\":{},\"name\":\"id\",\"nullable\":true,\"type\":\"string\"},{\"metadata\":{},\"name\":\"messages\",\"nullable\":true,\"type\":{\"containsNull\":true,\"elementType\":{\"fields\":[{\"metadata\":{},\"name\":\"content\",\"nullable\":true,\"type\":\"string\"},{\"metadata\":{},\"name\":\"id\",\"nullable\":true,\"type\":\"string\"},{\"metadata\":{},\"name\":\"name\",\"nullable\":true,\"type\":\"string\"},{\"metadata\":{},\"name\":\"role\",\"nullable\":true,\"type\":\"string\"}],\"type\":\"struct\"},\"type\":\"array\"}}],\"type\":\"struct\"}"
        },
        {
         "metadata": "{}",
         "name": "retrieved_context",
         "type": "{\"containsNull\":true,\"elementType\":{\"fields\":[{\"metadata\":{},\"name\":\"content\",\"nullable\":true,\"type\":\"string\"},{\"metadata\":{},\"name\":\"doc_uri\",\"nullable\":true,\"type\":\"void\"}],\"type\":\"struct\"},\"type\":\"array\"}"
        },
        {
         "metadata": "{}",
         "name": "trace",
         "type": "\"string\""
        },
        {
         "metadata": "{}",
         "name": "tool_calls",
         "type": "{\"containsNull\":true,\"elementType\":{\"fields\":[{\"metadata\":{},\"name\":\"available_tools\",\"nullable\":true,\"type\":{\"containsNull\":true,\"elementType\":{\"fields\":[{\"metadata\":{},\"name\":\"function\",\"nullable\":true,\"type\":{\"fields\":[{\"metadata\":{},\"name\":\"description\",\"nullable\":true,\"type\":\"string\"},{\"metadata\":{},\"name\":\"name\",\"nullable\":true,\"type\":\"string\"},{\"metadata\":{},\"name\":\"parameters\",\"nullable\":true,\"type\":{\"fields\":[{\"metadata\":{},\"name\":\"properties\",\"nullable\":true,\"type\":{\"fields\":[{\"metadata\":{},\"name\":\"next_node\",\"nullable\":true,\"type\":{\"fields\":[{\"metadata\":{},\"name\":\"enum\",\"nullable\":true,\"type\":{\"containsNull\":true,\"elementType\":\"string\",\"type\":\"array\"}},{\"metadata\":{},\"name\":\"type\",\"nullable\":true,\"type\":\"string\"}],\"type\":\"struct\"}},{\"metadata\":{},\"name\":\"query\",\"nullable\":true,\"type\":{\"fields\":[{\"metadata\":{},\"name\":\"description\",\"nullable\":true,\"type\":\"string\"},{\"metadata\":{},\"name\":\"type\",\"nullable\":true,\"type\":\"string\"}],\"type\":\"struct\"}}],\"type\":\"struct\"}},{\"metadata\":{},\"name\":\"required\",\"nullable\":true,\"type\":{\"containsNull\":true,\"elementType\":\"string\",\"type\":\"array\"}},{\"metadata\":{},\"name\":\"type\",\"nullable\":true,\"type\":\"string\"}],\"type\":\"struct\"}}],\"type\":\"struct\"}},{\"metadata\":{},\"name\":\"type\",\"nullable\":true,\"type\":\"string\"}],\"type\":\"struct\"},\"type\":\"array\"}},{\"metadata\":{},\"name\":\"raw_span\",\"nullable\":true,\"type\":{\"fields\":[{\"metadata\":{},\"name\":\"attributes\",\"nullable\":true,\"type\":{\"fields\":[{\"metadata\":{},\"name\":\"batch_size\",\"nullable\":true,\"type\":\"long\"},{\"metadata\":{},\"name\":\"invocation_params\",\"nullable\":true,\"type\":{\"fields\":[{\"metadata\":{},\"name\":\"_type\",\"nullable\":true,\"type\":\"string\"},{\"metadata\":{},\"name\":\"extra_params\",\"nullable\":true,\"type\":{\"fields\":[],\"type\":\"struct\"}},{\"metadata\":{},\"name\":\"model\",\"nullable\":true,\"type\":\"string\"},{\"metadata\":{},\"name\":\"n\",\"nullable\":true,\"type\":\"long\"},{\"metadata\":{},\"name\":\"stop\",\"nullable\":true,\"type\":\"void\"},{\"metadata\":{},\"name\":\"target_uri\",\"nullable\":true,\"type\":\"string\"},{\"metadata\":{},\"name\":\"temperature\",\"nullable\":true,\"type\":\"double\"},{\"metadata\":{},\"name\":\"tool_choice\",\"nullable\":true,\"type\":{\"fields\":[{\"metadata\":{},\"name\":\"function\",\"nullable\":true,\"type\":{\"fields\":[{\"metadata\":{},\"name\":\"name\",\"nullable\":true,\"type\":\"string\"}],\"type\":\"struct\"}},{\"metadata\":{},\"name\":\"type\",\"nullable\":true,\"type\":\"string\"}],\"type\":\"struct\"}},{\"metadata\":{},\"name\":\"tools\",\"nullable\":true,\"type\":{\"containsNull\":true,\"elementType\":{\"fields\":[{\"metadata\":{},\"name\":\"function\",\"nullable\":true,\"type\":{\"fields\":[{\"metadata\":{},\"name\":\"description\",\"nullable\":true,\"type\":\"string\"},{\"metadata\":{},\"name\":\"name\",\"nullable\":true,\"type\":\"string\"},{\"metadata\":{},\"name\":\"parameters\",\"nullable\":true,\"type\":{\"fields\":[{\"metadata\":{},\"name\":\"properties\",\"nullable\":true,\"type\":{\"fields\":[{\"metadata\":{},\"name\":\"next_node\",\"nullable\":true,\"type\":{\"fields\":[{\"metadata\":{},\"name\":\"enum\",\"nullable\":true,\"type\":{\"containsNull\":true,\"elementType\":\"string\",\"type\":\"array\"}},{\"metadata\":{},\"name\":\"type\",\"nullable\":true,\"type\":\"string\"}],\"type\":\"struct\"}},{\"metadata\":{},\"name\":\"query\",\"nullable\":true,\"type\":{\"fields\":[{\"metadata\":{},\"name\":\"description\",\"nullable\":true,\"type\":\"string\"},{\"metadata\":{},\"name\":\"type\",\"nullable\":true,\"type\":\"string\"}],\"type\":\"struct\"}}],\"type\":\"struct\"}},{\"metadata\":{},\"name\":\"required\",\"nullable\":true,\"type\":{\"containsNull\":true,\"elementType\":\"string\",\"type\":\"array\"}},{\"metadata\":{},\"name\":\"type\",\"nullable\":true,\"type\":\"string\"}],\"type\":\"struct\"}}],\"type\":\"struct\"}},{\"metadata\":{},\"name\":\"type\",\"nullable\":true,\"type\":\"string\"}],\"type\":\"struct\"},\"type\":\"array\"}}],\"type\":\"struct\"}},{\"metadata\":{},\"name\":\"metadata\",\"nullable\":true,\"type\":{\"fields\":[{\"metadata\":{},\"name\":\"checkpoint_ns\",\"nullable\":true,\"type\":\"string\"},{\"metadata\":{},\"name\":\"langgraph_checkpoint_ns\",\"nullable\":true,\"type\":\"string\"},{\"metadata\":{},\"name\":\"langgraph_node\",\"nullable\":true,\"type\":\"string\"},{\"metadata\":{},\"name\":\"langgraph_path\",\"nullable\":true,\"type\":{\"containsNull\":true,\"elementType\":\"string\",\"type\":\"array\"}},{\"metadata\":{},\"name\":\"langgraph_step\",\"nullable\":true,\"type\":\"long\"},{\"metadata\":{},\"name\":\"langgraph_triggers\",\"nullable\":true,\"type\":{\"containsNull\":true,\"elementType\":\"string\",\"type\":\"array\"}},{\"metadata\":{},\"name\":\"ls_model_name\",\"nullable\":true,\"type\":\"string\"},{\"metadata\":{},\"name\":\"ls_model_type\",\"nullable\":true,\"type\":\"string\"},{\"metadata\":{},\"name\":\"ls_provider\",\"nullable\":true,\"type\":\"string\"},{\"metadata\":{},\"name\":\"ls_temperature\",\"nullable\":true,\"type\":\"double\"}],\"type\":\"struct\"}},{\"metadata\":{},\"name\":\"mlflow.chat.messages\",\"nullable\":true,\"type\":{\"containsNull\":true,\"elementType\":{\"fields\":[{\"metadata\":{},\"name\":\"content\",\"nullable\":true,\"type\":\"string\"},{\"metadata\":{},\"name\":\"role\",\"nullable\":true,\"type\":\"string\"},{\"metadata\":{},\"name\":\"tool_call_id\",\"nullable\":true,\"type\":\"string\"},{\"metadata\":{},\"name\":\"tool_calls\",\"nullable\":true,\"type\":{\"containsNull\":true,\"elementType\":{\"fields\":[{\"metadata\":{},\"name\":\"function\",\"nullable\":true,\"type\":{\"fields\":[{\"metadata\":{},\"name\":\"arguments\",\"nullable\":true,\"type\":\"string\"},{\"metadata\":{},\"name\":\"name\",\"nullable\":true,\"type\":\"string\"}],\"type\":\"struct\"}},{\"metadata\":{},\"name\":\"id\",\"nullable\":true,\"type\":\"string\"},{\"metadata\":{},\"name\":\"type\",\"nullable\":true,\"type\":\"string\"}],\"type\":\"struct\"},\"type\":\"array\"}}],\"type\":\"struct\"},\"type\":\"array\"}},{\"metadata\":{},\"name\":\"mlflow.chat.tools\",\"nullable\":true,\"type\":{\"containsNull\":true,\"elementType\":{\"fields\":[{\"metadata\":{},\"name\":\"function\",\"nullable\":true,\"type\":{\"fields\":[{\"metadata\":{},\"name\":\"description\",\"nullable\":true,\"type\":\"string\"},{\"metadata\":{},\"name\":\"name\",\"nullable\":true,\"type\":\"string\"},{\"metadata\":{},\"name\":\"parameters\",\"nullable\":true,\"type\":{\"fields\":[{\"metadata\":{},\"name\":\"properties\",\"nullable\":true,\"type\":{\"fields\":[{\"metadata\":{},\"name\":\"next_node\",\"nullable\":true,\"type\":{\"fields\":[{\"metadata\":{},\"name\":\"enum\",\"nullable\":true,\"type\":{\"containsNull\":true,\"elementType\":\"string\",\"type\":\"array\"}},{\"metadata\":{},\"name\":\"type\",\"nullable\":true,\"type\":\"string\"}],\"type\":\"struct\"}},{\"metadata\":{},\"name\":\"query\",\"nullable\":true,\"type\":{\"fields\":[{\"metadata\":{},\"name\":\"description\",\"nullable\":true,\"type\":\"string\"},{\"metadata\":{},\"name\":\"type\",\"nullable\":true,\"type\":\"string\"}],\"type\":\"struct\"}}],\"type\":\"struct\"}},{\"metadata\":{},\"name\":\"required\",\"nullable\":true,\"type\":{\"containsNull\":true,\"elementType\":\"string\",\"type\":\"array\"}},{\"metadata\":{},\"name\":\"type\",\"nullable\":true,\"type\":\"string\"}],\"type\":\"struct\"}}],\"type\":\"struct\"}},{\"metadata\":{},\"name\":\"type\",\"nullable\":true,\"type\":\"string\"}],\"type\":\"struct\"},\"type\":\"array\"}},{\"metadata\":{},\"name\":\"mlflow.spanInputs\",\"nullable\":true,\"type\":{\"containsNull\":true,\"elementType\":{\"containsNull\":true,\"elementType\":{\"fields\":[{\"metadata\":{},\"name\":\"additional_kwargs\",\"nullable\":true,\"type\":{\"fields\":[{\"metadata\":{},\"name\":\"tool_calls\",\"nullable\":true,\"type\":{\"containsNull\":true,\"elementType\":{\"fields\":[{\"metadata\":{},\"name\":\"function\",\"nullable\":true,\"type\":{\"fields\":[{\"metadata\":{},\"name\":\"arguments\",\"nullable\":true,\"type\":\"string\"},{\"metadata\":{},\"name\":\"name\",\"nullable\":true,\"type\":\"string\"}],\"type\":\"struct\"}},{\"metadata\":{},\"name\":\"id\",\"nullable\":true,\"type\":\"string\"},{\"metadata\":{},\"name\":\"type\",\"nullable\":true,\"type\":\"string\"}],\"type\":\"struct\"},\"type\":\"array\"}}],\"type\":\"struct\"}},{\"metadata\":{},\"name\":\"artifact\",\"nullable\":true,\"type\":\"void\"},{\"metadata\":{},\"name\":\"content\",\"nullable\":true,\"type\":\"string\"},{\"metadata\":{},\"name\":\"example\",\"nullable\":true,\"type\":\"boolean\"},{\"metadata\":{},\"name\":\"id\",\"nullable\":true,\"type\":\"string\"},{\"metadata\":{},\"name\":\"invalid_tool_calls\",\"nullable\":true,\"type\":{\"containsNull\":true,\"elementType\":\"void\",\"type\":\"array\"}},{\"metadata\":{},\"name\":\"name\",\"nullable\":true,\"type\":\"string\"},{\"metadata\":{},\"name\":\"response_metadata\",\"nullable\":true,\"type\":{\"fields\":[{\"metadata\":{},\"name\":\"created\",\"nullable\":true,\"type\":\"long\"},{\"metadata\":{},\"name\":\"id\",\"nullable\":true,\"type\":\"string\"},{\"metadata\":{},\"name\":\"model\",\"nullable\":true,\"type\":\"string\"},{\"metadata\":{},\"name\":\"model_name\",\"nullable\":true,\"type\":\"string\"},{\"metadata\":{},\"name\":\"object\",\"nullable\":true,\"type\":\"string\"},{\"metadata\":{},\"name\":\"usage\",\"nullable\":true,\"type\":{\"fields\":[{\"metadata\":{},\"name\":\"completion_tokens\",\"nullable\":true,\"type\":\"long\"},{\"metadata\":{},\"name\":\"prompt_tokens\",\"nullable\":true,\"type\":\"long\"},{\"metadata\":{},\"name\":\"total_tokens\",\"nullable\":true,\"type\":\"long\"}],\"type\":\"struct\"}}],\"type\":\"struct\"}},{\"metadata\":{},\"name\":\"status\",\"nullable\":true,\"type\":\"string\"},{\"metadata\":{},\"name\":\"tool_call_id\",\"nullable\":true,\"type\":\"string\"},{\"metadata\":{},\"name\":\"tool_calls\",\"nullable\":true,\"type\":{\"containsNull\":true,\"elementType\":{\"fields\":[{\"metadata\":{},\"name\":\"args\",\"nullable\":true,\"type\":{\"fields\":[{\"metadata\":{},\"name\":\"query\",\"nullable\":true,\"type\":\"string\"}],\"type\":\"struct\"}},{\"metadata\":{},\"name\":\"id\",\"nullable\":true,\"type\":\"string\"},{\"metadata\":{},\"name\":\"name\",\"nullable\":true,\"type\":\"string\"},{\"metadata\":{},\"name\":\"type\",\"nullable\":true,\"type\":\"string\"}],\"type\":\"struct\"},\"type\":\"array\"}},{\"metadata\":{},\"name\":\"type\",\"nullable\":true,\"type\":\"string\"},{\"metadata\":{},\"name\":\"usage_metadata\",\"nullable\":true,\"type\":\"void\"}],\"type\":\"struct\"},\"type\":\"array\"},\"type\":\"array\"}},{\"metadata\":{},\"name\":\"mlflow.spanOutputs\",\"nullable\":true,\"type\":{\"fields\":[{\"metadata\":{},\"name\":\"generations\",\"nullable\":true,\"type\":{\"containsNull\":true,\"elementType\":{\"containsNull\":true,\"elementType\":{\"fields\":[{\"metadata\":{},\"name\":\"generation_info\",\"nullable\":true,\"type\":{\"fields\":[],\"type\":\"struct\"}},{\"metadata\":{},\"name\":\"message\",\"nullable\":true,\"type\":{\"fields\":[{\"metadata\":{},\"name\":\"additional_kwargs\",\"nullable\":true,\"type\":{\"fields\":[{\"metadata\":{},\"name\":\"tool_calls\",\"nullable\":true,\"type\":{\"containsNull\":true,\"elementType\":{\"fields\":[{\"metadata\":{},\"name\":\"function\",\"nullable\":true,\"type\":{\"fields\":[{\"metadata\":{},\"name\":\"arguments\",\"nullable\":true,\"type\":\"string\"},{\"metadata\":{},\"name\":\"name\",\"nullable\":true,\"type\":\"string\"}],\"type\":\"struct\"}},{\"metadata\":{},\"name\":\"id\",\"nullable\":true,\"type\":\"string\"},{\"metadata\":{},\"name\":\"type\",\"nullable\":true,\"type\":\"string\"}],\"type\":\"struct\"},\"type\":\"array\"}}],\"type\":\"struct\"}},{\"metadata\":{},\"name\":\"content\",\"nullable\":true,\"type\":\"string\"},{\"metadata\":{},\"name\":\"id\",\"nullable\":true,\"type\":\"string\"},{\"metadata\":{},\"name\":\"name\",\"nullable\":true,\"type\":\"void\"},{\"metadata\":{},\"name\":\"response_metadata\",\"nullable\":true,\"type\":{\"fields\":[{\"metadata\":{},\"name\":\"created\",\"nullable\":true,\"type\":\"long\"},{\"metadata\":{},\"name\":\"id\",\"nullable\":true,\"type\":\"string\"},{\"metadata\":{},\"name\":\"model\",\"nullable\":true,\"type\":\"string\"},{\"metadata\":{},\"name\":\"model_name\",\"nullable\":true,\"type\":\"string\"},{\"metadata\":{},\"name\":\"object\",\"nullable\":true,\"type\":\"string\"},{\"metadata\":{},\"name\":\"usage\",\"nullable\":true,\"type\":{\"fields\":[{\"metadata\":{},\"name\":\"completion_tokens\",\"nullable\":true,\"type\":\"long\"},{\"metadata\":{},\"name\":\"prompt_tokens\",\"nullable\":true,\"type\":\"long\"},{\"metadata\":{},\"name\":\"total_tokens\",\"nullable\":true,\"type\":\"long\"}],\"type\":\"struct\"}}],\"type\":\"struct\"}},{\"metadata\":{},\"name\":\"type\",\"nullable\":true,\"type\":\"string\"}],\"type\":\"struct\"}},{\"metadata\":{},\"name\":\"text\",\"nullable\":true,\"type\":\"string\"},{\"metadata\":{},\"name\":\"type\",\"nullable\":true,\"type\":\"string\"}],\"type\":\"struct\"},\"type\":\"array\"},\"type\":\"array\"}},{\"metadata\":{},\"name\":\"llm_output\",\"nullable\":true,\"type\":{\"fields\":[{\"metadata\":{},\"name\":\"created\",\"nullable\":true,\"type\":\"long\"},{\"metadata\":{},\"name\":\"id\",\"nullable\":true,\"type\":\"string\"},{\"metadata\":{},\"name\":\"model\",\"nullable\":true,\"type\":\"string\"},{\"metadata\":{},\"name\":\"model_name\",\"nullable\":true,\"type\":\"string\"},{\"metadata\":{},\"name\":\"object\",\"nullable\":true,\"type\":\"string\"},{\"metadata\":{},\"name\":\"usage\",\"nullable\":true,\"type\":{\"fields\":[{\"metadata\":{},\"name\":\"completion_tokens\",\"nullable\":true,\"type\":\"long\"},{\"metadata\":{},\"name\":\"prompt_tokens\",\"nullable\":true,\"type\":\"long\"},{\"metadata\":{},\"name\":\"total_tokens\",\"nullable\":true,\"type\":\"long\"}],\"type\":\"struct\"}}],\"type\":\"struct\"}},{\"metadata\":{},\"name\":\"run\",\"nullable\":true,\"type\":\"void\"},{\"metadata\":{},\"name\":\"type\",\"nullable\":true,\"type\":\"string\"}],\"type\":\"struct\"}},{\"metadata\":{},\"name\":\"mlflow.spanType\",\"nullable\":true,\"type\":\"string\"},{\"metadata\":{},\"name\":\"mlflow.traceRequestId\",\"nullable\":true,\"type\":\"string\"},{\"metadata\":{},\"name\":\"options\",\"nullable\":true,\"type\":{\"fields\":[{\"metadata\":{},\"name\":\"stop\",\"nullable\":true,\"type\":\"void\"}],\"type\":\"struct\"}}],\"type\":\"struct\"}},{\"metadata\":{},\"name\":\"end_time_ns\",\"nullable\":true,\"type\":\"long\"},{\"metadata\":{},\"name\":\"events\",\"nullable\":true,\"type\":{\"containsNull\":true,\"elementType\":\"void\",\"type\":\"array\"}},{\"metadata\":{},\"name\":\"inputs\",\"nullable\":true,\"type\":{\"containsNull\":true,\"elementType\":{\"containsNull\":true,\"elementType\":{\"fields\":[{\"metadata\":{},\"name\":\"additional_kwargs\",\"nullable\":true,\"type\":{\"fields\":[{\"metadata\":{},\"name\":\"tool_calls\",\"nullable\":true,\"type\":{\"containsNull\":true,\"elementType\":{\"fields\":[{\"metadata\":{},\"name\":\"function\",\"nullable\":true,\"type\":{\"fields\":[{\"metadata\":{},\"name\":\"arguments\",\"nullable\":true,\"type\":\"string\"},{\"metadata\":{},\"name\":\"name\",\"nullable\":true,\"type\":\"string\"}],\"type\":\"struct\"}},{\"metadata\":{},\"name\":\"id\",\"nullable\":true,\"type\":\"string\"},{\"metadata\":{},\"name\":\"type\",\"nullable\":true,\"type\":\"string\"}],\"type\":\"struct\"},\"type\":\"array\"}}],\"type\":\"struct\"}},{\"metadata\":{},\"name\":\"artifact\",\"nullable\":true,\"type\":\"void\"},{\"metadata\":{},\"name\":\"content\",\"nullable\":true,\"type\":\"string\"},{\"metadata\":{},\"name\":\"example\",\"nullable\":true,\"type\":\"boolean\"},{\"metadata\":{},\"name\":\"id\",\"nullable\":true,\"type\":\"string\"},{\"metadata\":{},\"name\":\"invalid_tool_calls\",\"nullable\":true,\"type\":{\"containsNull\":true,\"elementType\":\"void\",\"type\":\"array\"}},{\"metadata\":{},\"name\":\"name\",\"nullable\":true,\"type\":\"string\"},{\"metadata\":{},\"name\":\"response_metadata\",\"nullable\":true,\"type\":{\"fields\":[{\"metadata\":{},\"name\":\"created\",\"nullable\":true,\"type\":\"long\"},{\"metadata\":{},\"name\":\"id\",\"nullable\":true,\"type\":\"string\"},{\"metadata\":{},\"name\":\"model\",\"nullable\":true,\"type\":\"string\"},{\"metadata\":{},\"name\":\"model_name\",\"nullable\":true,\"type\":\"string\"},{\"metadata\":{},\"name\":\"object\",\"nullable\":true,\"type\":\"string\"},{\"metadata\":{},\"name\":\"usage\",\"nullable\":true,\"type\":{\"fields\":[{\"metadata\":{},\"name\":\"completion_tokens\",\"nullable\":true,\"type\":\"long\"},{\"metadata\":{},\"name\":\"prompt_tokens\",\"nullable\":true,\"type\":\"long\"},{\"metadata\":{},\"name\":\"total_tokens\",\"nullable\":true,\"type\":\"long\"}],\"type\":\"struct\"}}],\"type\":\"struct\"}},{\"metadata\":{},\"name\":\"status\",\"nullable\":true,\"type\":\"string\"},{\"metadata\":{},\"name\":\"tool_call_id\",\"nullable\":true,\"type\":\"string\"},{\"metadata\":{},\"name\":\"tool_calls\",\"nullable\":true,\"type\":{\"containsNull\":true,\"elementType\":{\"fields\":[{\"metadata\":{},\"name\":\"args\",\"nullable\":true,\"type\":{\"fields\":[{\"metadata\":{},\"name\":\"query\",\"nullable\":true,\"type\":\"string\"}],\"type\":\"struct\"}},{\"metadata\":{},\"name\":\"id\",\"nullable\":true,\"type\":\"string\"},{\"metadata\":{},\"name\":\"name\",\"nullable\":true,\"type\":\"string\"},{\"metadata\":{},\"name\":\"type\",\"nullable\":true,\"type\":\"string\"}],\"type\":\"struct\"},\"type\":\"array\"}},{\"metadata\":{},\"name\":\"type\",\"nullable\":true,\"type\":\"string\"},{\"metadata\":{},\"name\":\"usage_metadata\",\"nullable\":true,\"type\":\"void\"}],\"type\":\"struct\"},\"type\":\"array\"},\"type\":\"array\"}},{\"metadata\":{},\"name\":\"name\",\"nullable\":true,\"type\":\"string\"},{\"metadata\":{},\"name\":\"outputs\",\"nullable\":true,\"type\":{\"fields\":[{\"metadata\":{},\"name\":\"generations\",\"nullable\":true,\"type\":{\"containsNull\":true,\"elementType\":{\"containsNull\":true,\"elementType\":{\"fields\":[{\"metadata\":{},\"name\":\"generation_info\",\"nullable\":true,\"type\":{\"fields\":[],\"type\":\"struct\"}},{\"metadata\":{},\"name\":\"message\",\"nullable\":true,\"type\":{\"fields\":[{\"metadata\":{},\"name\":\"additional_kwargs\",\"nullable\":true,\"type\":{\"fields\":[{\"metadata\":{},\"name\":\"tool_calls\",\"nullable\":true,\"type\":{\"containsNull\":true,\"elementType\":{\"fields\":[{\"metadata\":{},\"name\":\"function\",\"nullable\":true,\"type\":{\"fields\":[{\"metadata\":{},\"name\":\"arguments\",\"nullable\":true,\"type\":\"string\"},{\"metadata\":{},\"name\":\"name\",\"nullable\":true,\"type\":\"string\"}],\"type\":\"struct\"}},{\"metadata\":{},\"name\":\"id\",\"nullable\":true,\"type\":\"string\"},{\"metadata\":{},\"name\":\"type\",\"nullable\":true,\"type\":\"string\"}],\"type\":\"struct\"},\"type\":\"array\"}}],\"type\":\"struct\"}},{\"metadata\":{},\"name\":\"content\",\"nullable\":true,\"type\":\"string\"},{\"metadata\":{},\"name\":\"id\",\"nullable\":true,\"type\":\"string\"},{\"metadata\":{},\"name\":\"name\",\"nullable\":true,\"type\":\"void\"},{\"metadata\":{},\"name\":\"response_metadata\",\"nullable\":true,\"type\":{\"fields\":[{\"metadata\":{},\"name\":\"created\",\"nullable\":true,\"type\":\"long\"},{\"metadata\":{},\"name\":\"id\",\"nullable\":true,\"type\":\"string\"},{\"metadata\":{},\"name\":\"model\",\"nullable\":true,\"type\":\"string\"},{\"metadata\":{},\"name\":\"model_name\",\"nullable\":true,\"type\":\"string\"},{\"metadata\":{},\"name\":\"object\",\"nullable\":true,\"type\":\"string\"},{\"metadata\":{},\"name\":\"usage\",\"nullable\":true,\"type\":{\"fields\":[{\"metadata\":{},\"name\":\"completion_tokens\",\"nullable\":true,\"type\":\"long\"},{\"metadata\":{},\"name\":\"prompt_tokens\",\"nullable\":true,\"type\":\"long\"},{\"metadata\":{},\"name\":\"total_tokens\",\"nullable\":true,\"type\":\"long\"}],\"type\":\"struct\"}}],\"type\":\"struct\"}},{\"metadata\":{},\"name\":\"type\",\"nullable\":true,\"type\":\"string\"}],\"type\":\"struct\"}},{\"metadata\":{},\"name\":\"text\",\"nullable\":true,\"type\":\"string\"},{\"metadata\":{},\"name\":\"type\",\"nullable\":true,\"type\":\"string\"}],\"type\":\"struct\"},\"type\":\"array\"},\"type\":\"array\"}},{\"metadata\":{},\"name\":\"llm_output\",\"nullable\":true,\"type\":{\"fields\":[{\"metadata\":{},\"name\":\"created\",\"nullable\":true,\"type\":\"long\"},{\"metadata\":{},\"name\":\"id\",\"nullable\":true,\"type\":\"string\"},{\"metadata\":{},\"name\":\"model\",\"nullable\":true,\"type\":\"string\"},{\"metadata\":{},\"name\":\"model_name\",\"nullable\":true,\"type\":\"string\"},{\"metadata\":{},\"name\":\"object\",\"nullable\":true,\"type\":\"string\"},{\"metadata\":{},\"name\":\"usage\",\"nullable\":true,\"type\":{\"fields\":[{\"metadata\":{},\"name\":\"completion_tokens\",\"nullable\":true,\"type\":\"long\"},{\"metadata\":{},\"name\":\"prompt_tokens\",\"nullable\":true,\"type\":\"long\"},{\"metadata\":{},\"name\":\"total_tokens\",\"nullable\":true,\"type\":\"long\"}],\"type\":\"struct\"}}],\"type\":\"struct\"}},{\"metadata\":{},\"name\":\"run\",\"nullable\":true,\"type\":\"void\"},{\"metadata\":{},\"name\":\"type\",\"nullable\":true,\"type\":\"string\"}],\"type\":\"struct\"}},{\"metadata\":{},\"name\":\"parent_id\",\"nullable\":true,\"type\":\"string\"},{\"metadata\":{},\"name\":\"request_id\",\"nullable\":true,\"type\":\"string\"},{\"metadata\":{},\"name\":\"span_id\",\"nullable\":true,\"type\":\"string\"},{\"metadata\":{},\"name\":\"span_type\",\"nullable\":true,\"type\":\"string\"},{\"metadata\":{},\"name\":\"start_time_ns\",\"nullable\":true,\"type\":\"long\"},{\"metadata\":{},\"name\":\"status\",\"nullable\":true,\"type\":{\"fields\":[{\"metadata\":{},\"name\":\"description\",\"nullable\":true,\"type\":\"string\"},{\"metadata\":{},\"name\":\"status_code\",\"nullable\":true,\"type\":\"string\"}],\"type\":\"struct\"}}],\"type\":\"struct\"}},{\"metadata\":{},\"name\":\"tool_call_args\",\"nullable\":true,\"type\":{\"fields\":[{\"metadata\":{},\"name\":\"next_node\",\"nullable\":true,\"type\":\"string\"},{\"metadata\":{},\"name\":\"query\",\"nullable\":true,\"type\":\"string\"}],\"type\":\"struct\"}},{\"metadata\":{},\"name\":\"tool_call_id\",\"nullable\":true,\"type\":\"string\"},{\"metadata\":{},\"name\":\"tool_call_result\",\"nullable\":true,\"type\":{\"fields\":[{\"metadata\":{},\"name\":\"content\",\"nullable\":true,\"type\":\"string\"},{\"metadata\":{},\"name\":\"role\",\"nullable\":true,\"type\":\"string\"},{\"metadata\":{},\"name\":\"tool_call_id\",\"nullable\":true,\"type\":\"string\"}],\"type\":\"struct\"}},{\"metadata\":{},\"name\":\"tool_name\",\"nullable\":true,\"type\":\"string\"}],\"type\":\"struct\"},\"type\":\"array\"}"
        },
        {
         "metadata": "{}",
         "name": "response/overall_assessment/rating",
         "type": "\"string\""
        },
        {
         "metadata": "{}",
         "name": "response/overall_assessment/rationale",
         "type": "\"string\""
        },
        {
         "metadata": "{}",
         "name": "response/llm_judged/safety/rating",
         "type": "\"string\""
        },
        {
         "metadata": "{}",
         "name": "response/llm_judged/safety/rationale",
         "type": "\"string\""
        },
        {
         "metadata": "{}",
         "name": "response/llm_judged/relevance_to_query/rating",
         "type": "\"string\""
        },
        {
         "metadata": "{}",
         "name": "response/llm_judged/relevance_to_query/rationale",
         "type": "\"string\""
        },
        {
         "metadata": "{}",
         "name": "retrieval/llm_judged/chunk_relevance/ratings",
         "type": "{\"containsNull\":true,\"elementType\":\"string\",\"type\":\"array\"}"
        },
        {
         "metadata": "{}",
         "name": "retrieval/llm_judged/chunk_relevance/rationales",
         "type": "{\"containsNull\":true,\"elementType\":\"string\",\"type\":\"array\"}"
        },
        {
         "metadata": "{}",
         "name": "response/llm_judged/groundedness/rating",
         "type": "\"string\""
        },
        {
         "metadata": "{}",
         "name": "response/llm_judged/groundedness/rationale",
         "type": "\"string\""
        },
        {
         "metadata": "{}",
         "name": "agent/latency_seconds",
         "type": "\"double\""
        },
        {
         "metadata": "{}",
         "name": "retrieval/llm_judged/chunk_relevance/precision",
         "type": "\"double\""
        }
       ],
       "type": "table"
      }
     },
     "output_type": "display_data"
    }
   ],
   "source": [
    "with mlflow.start_run(run_name=\"agent-documentacio-llama-preguntes-personalitzades-3\"):\n",
    "    eval_results = mlflow.evaluate(\n",
    "        \"endpoints:/agents_dts_proves_pre-startups_list-multi-agent-chatbot-3\",  # Aquí pones tu endpoint\n",
    "        data=eval_set_documnetation[10:],  # Tu dataset de evaluación\n",
    "        model_type=\"databricks-agent\",  # Para evaluación de Mosaic AI Agents\n",
    "    )\n",
    "\n",
    "display(eval_results.tables['eval_results'])"
   ]
  },
  {
   "cell_type": "markdown",
   "metadata": {
    "application/vnd.databricks.v1+cell": {
     "cellMetadata": {},
     "inputWidgets": {},
     "nuid": "88a2ef30-d4af-4d08-b873-6c061042b3ec",
     "showTitle": false,
     "tableResultSettingsMap": {},
     "title": ""
    }
   },
   "source": [
    "### Claude"
   ]
  },
  {
   "cell_type": "code",
   "execution_count": 0,
   "metadata": {
    "application/vnd.databricks.v1+cell": {
     "cellMetadata": {
      "byteLimit": 2048000,
      "rowLimit": 10000
     },
     "inputWidgets": {},
     "nuid": "a056f125-7c6d-455b-bb80-0e7f088ac128",
     "showTitle": false,
     "tableResultSettingsMap": {},
     "title": ""
    }
   },
   "outputs": [
    {
     "output_type": "display_data",
     "data": {
      "application/vnd.jupyter.widget-view+json": {
       "model_id": "1839ec07bc48439daa50a1f898cb26f9",
       "version_major": 2,
       "version_minor": 0
      },
      "text/plain": [
       "Evaluating:   0%|          | 0/5 [Elapsed: 00:00, Remaining: ?]"
      ]
     },
     "metadata": {},
     "output_type": "display_data"
    },
    {
     "output_type": "stream",
     "name": "stderr",
     "output_type": "stream",
     "text": [
      "/local_disk0/.ephemeral_nfs/envs/pythonEnv-d74453f7-e6f8-4d64-8a4a-03ced32f7774/lib/python3.11/site-packages/databricks/sdk/errors/base.py:87: UserWarning: The 'retry_after_secs' parameter of DatabricksError is deprecated and will be removed in a future version.\n  warnings.warn(\n"
     ]
    },
    {
     "output_type": "display_data",
     "data": {
      "text/html": [
       "<!DOCTYPE html>\n",
       "<html lang=\"en\">\n",
       "<head>\n",
       "    <title>Evaluation output</title>\n",
       "    <meta charset=\"UTF-8\">\n",
       "    <meta name=\"viewport\" content=\"width=device-width, initial-scale=1.0\">\n",
       "    <style>\n",
       "        body {\n",
       "            font-family: Arial, sans-serif;\n",
       "        }\n",
       "\n",
       "        .header {\n",
       "            a.button {\n",
       "                padding: 4px 8px;\n",
       "                line-height: 20px;\n",
       "                box-shadow: none;\n",
       "                height: 20px;\n",
       "                display: inline-flex;\n",
       "                align-items: center;\n",
       "                justify-content: center;\n",
       "                vertical-align: middle;\n",
       "                background-color: rgb(34, 114, 180);\n",
       "                color: rgb(255, 255, 255);\n",
       "                text-decoration: none;\n",
       "                animation-duration: 0s;\n",
       "                transition: none 0s ease 0s;\n",
       "                position: relative;\n",
       "                white-space: nowrap;\n",
       "                text-align: center;\n",
       "                border: 1px solid rgb(192, 205, 216);\n",
       "                cursor: pointer;\n",
       "                user-select: none;\n",
       "                touch-action: manipulation;\n",
       "                border-radius: 4px;\n",
       "                gap: 6px;\n",
       "            }\n",
       "\n",
       "            a.button:hover {\n",
       "                background-color: rgb(14, 83, 139) !important;\n",
       "                border-color: transparent !important;\n",
       "                color: rgb(255, 255, 255) !important;\n",
       "            }\n",
       "        }\n",
       "\n",
       "        .warnings-section {\n",
       "            margin-top: 8px;\n",
       "\n",
       "            ul {\n",
       "                list-style-type: none;\n",
       "            }\n",
       "        }\n",
       "\n",
       "        .instructions-section {\n",
       "            margin-top: 16px;\n",
       "            font-size: 14px;\n",
       "\n",
       "            ul {\n",
       "                margin-top: 0;\n",
       "                margin-bottom: 0;\n",
       "            }\n",
       "        }\n",
       "\n",
       "        code {\n",
       "            font-family: monospace;\n",
       "        }\n",
       "\n",
       "        .note {\n",
       "            color: #666;\n",
       "        }\n",
       "\n",
       "        a {\n",
       "            color: #2272B4;\n",
       "            text-decoration: none;\n",
       "        }\n",
       "\n",
       "        a:hover {\n",
       "            color: #005580;\n",
       "        }\n",
       "    </style>\n",
       "</head>\n",
       "<body>\n",
       "<div>\n",
       "    <div class=\"header\">\n",
       "        <a href=\"https://adb-2869758279805397.17.azuredatabricks.net/ml/experiments/3845882404188464/runs/e08fca067d984d29879a949d85599795/evaluations/\" class=\"button\">\n",
       "            View evaluation results.\n",
       "            <svg xmlns=\"http://www.w3.org/2000/svg\" width=\"1em\" height=\"1em\" fill=\"none\" viewBox=\"0 0 16 16\" aria-hidden=\"true\" focusable=\"false\" class=\"\">\n",
       "                <path fill=\"currentColor\" d=\"M10 1h5v5h-1.5V3.56L8.53 8.53 7.47 7.47l4.97-4.97H10z\"></path>\n",
       "                <path fill=\"currentColor\" d=\"M1 2.75A.75.75 0 0 1 1.75 2H8v1.5H2.5v10h10V8H14v6.25a.75.75 0 0 1-.75.75H1.75a.75.75 0 0 1-.75-.75z\"></path>\n",
       "            </svg>\n",
       "        </a>\n",
       "    </div>\n",
       "</div>\n",
       "</body>\n",
       "</html>"
      ]
     },
     "metadata": {},
     "output_type": "display_data"
    },
    {
     "output_type": "display_data",
     "data": {
      "text/html": [
       "<style scoped>\n",
       "  .table-result-container {\n",
       "    max-height: 300px;\n",
       "    overflow: auto;\n",
       "  }\n",
       "  table, th, td {\n",
       "    border: 1px solid black;\n",
       "    border-collapse: collapse;\n",
       "  }\n",
       "  th, td {\n",
       "    padding: 5px;\n",
       "  }\n",
       "  th {\n",
       "    text-align: left;\n",
       "  }\n",
       "</style><div class='table-result-container'><table class='table-result'><thead style='background-color: white'><tr><th>request_id</th><th>request</th><th>trace</th><th>tool_calls</th><th>model_error_message</th></tr></thead><tbody><tr><td>7b7fb5c9b27fe3066b9a6111a3eda8da16ccc6f52cfc9bf0dfb005c5b2e75f11</td><td>List(List(List(Encara no tinc una idea de negoci. Dona’m consells per trobar una idea. , user)))</td><td>{\"info\": {\"request_id\": \"tr-40a6305c41ea4dc0bd11363872f01c25\", \"experiment_id\": \"3845882404188464\", \"timestamp_ms\": 1747391116621, \"execution_time_ms\": 0, \"status\": \"ERROR\", \"request_metadata\": {\"mlflow.sourceRun\": \"e08fca067d984d29879a949d85599795\", \"mlflow.traceInputs\": \"{\\\"messages\\\": [{\\\"role\\\": \\\"user\\\", \\\"content\\\": \\\"Encara no tinc una idea de negoci. Dona\\\\u2019m consells per trobar una idea. \\\"}], \\\"databricks_options\\\": {\\\"return_trace\\\": true}}\", \"mlflow.traceOutputs\": \"Fail to invoke the model with {'messages': [{'role': 'user', 'content': 'Encara no tinc una idea de negoci. Dona\\u2019m consells per trobar una idea. '}], 'databricks_options': {'return_trace': True}}. MlflowException('Failed to call the deployment endpoi\"}, \"tags\": {\"mlflow.user\": \"aliciachimeno_ext@gencat.cat\", \"mlflow.artifactLocation\": \"dbfs:/databricks/mlflow-tracking/3845882404188464/tr-40a6305c41ea4dc0bd11363872f01c25/artifacts\"}, \"assessments\": []}, \"data\": {\"spans\": [{\"name\": \"root_span\", \"context\": {\"span_id\": \"decdcc7428084cbd\", \"trace_id\": \"8605ebdced864111a5bb548d730e7c27\"}, \"parent_id\": null, \"start_time\": null, \"end_time\": null, \"status_code\": \"OK\", \"status_message\": \"\", \"attributes\": {\"mlflow.traceRequestId\": \"\\\"8605ebdced864111a5bb548d730e7c27\\\"\", \"mlflow.spanInputs\": \"{\\\"messages\\\": [{\\\"role\\\": \\\"user\\\", \\\"content\\\": \\\"Encara no tinc una idea de negoci. Dona\\\\u2019m consells per trobar una idea. \\\"}], \\\"databricks_options\\\": {\\\"return_trace\\\": true}}\", \"mlflow.spanOutputs\": \"\\\"Fail to invoke the model with {'messages': [{'role': 'user', 'content': 'Encara no tinc una idea de negoci. Dona\\\\u2019m consells per trobar una idea. '}], 'databricks_options': {'return_trace': True}}. MlflowException('Failed to call the deployment endpoint. Please check the deployment URL is set correctly and the input payload is valid.\\\\\\\\n\\\\\\\\n- Error: 400 Client Error: Encountered an unexpected error while parsing the input data. Error \\\\\\\\'Restarting model process. This is likely caused by a request timeout or OOM.\\\\\\\\' for url: https://adb-2869758279805397.17.azuredatabricks.net/serving-endpoints/agents_dts_proves_pre-startups_list-multi-agent-chatbot-claude/invocations. Response text: {\\\\\\\"error_code\\\\\\\": \\\\\\\"BAD_REQUEST\\\\\\\", \\\\\\\"message\\\\\\\": \\\\\\\"Encountered an unexpected error while parsing the input data. Error \\\\\\\\'Restarting model process. This is likely caused by a request timeout or OOM.\\\\\\\\'\\\\\\\"}\\\\\\\\n\\\\\\\\n- Deployment URI: agents_dts_proves_pre-startups_list-multi-agent-chatbot-claude\\\\\\\\n\\\\\\\\n- Input payload: {\\\\\\\\'messages\\\\\\\\': [{\\\\\\\\'role\\\\\\\\': \\\\\\\\'user\\\\\\\\', \\\\\\\\'content\\\\\\\\': \\\\\\\\'Encara no tinc una idea de negoci. Dona\\\\u2019m consells per trobar una idea. \\\\\\\\'}], \\\\\\\\'databricks_options\\\\\\\\': {\\\\\\\\'return_trace\\\\\\\\': True}}')\\\"\"}, \"events\": []}], \"request\": \"{\\\"messages\\\": [{\\\"role\\\": \\\"user\\\", \\\"content\\\": \\\"Encara no tinc una idea de negoci. Dona\\\\u2019m consells per trobar una idea. \\\"}], \\\"databricks_options\\\": {\\\"return_trace\\\": true}}\", \"response\": \"Fail to invoke the model with {'messages': [{'role': 'user', 'content': 'Encara no tinc una idea de negoci. Dona\\u2019m consells per trobar una idea. '}], 'databricks_options': {'return_trace': True}}. MlflowException('Failed to call the deployment endpoint. Please check the deployment URL is set correctly and the input payload is valid.\\\\n\\\\n- Error: 400 Client Error: Encountered an unexpected error while parsing the input data. Error \\\\'Restarting model process. This is likely caused by a request timeout or OOM.\\\\' for url: https://adb-2869758279805397.17.azuredatabricks.net/serving-endpoints/agents_dts_proves_pre-startups_list-multi-agent-chatbot-claude/invocations. Response text: {\\\"error_code\\\": \\\"BAD_REQUEST\\\", \\\"message\\\": \\\"Encountered an unexpected error while parsing the input data. Error \\\\'Restarting model process. This is likely caused by a request timeout or OOM.\\\\'\\\"}\\\\n\\\\n- Deployment URI: agents_dts_proves_pre-startups_list-multi-agent-chatbot-claude\\\\n\\\\n- Input payload: {\\\\'messages\\\\': [{\\\\'role\\\\': \\\\'user\\\\', \\\\'content\\\\': \\\\'Encara no tinc una idea de negoci. Dona\\u2019m consells per trobar una idea. \\\\'}], \\\\'databricks_options\\\\': {\\\\'return_trace\\\\': True}}')\"}}</td><td>List()</td><td>Fail to invoke the model with {'messages': [{'role': 'user', 'content': 'Encara no tinc una idea de negoci. Dona’m consells per trobar una idea. '}], 'databricks_options': {'return_trace': True}}. MlflowException('Failed to call the deployment endpoint. Please check the deployment URL is set correctly and the input payload is valid.\\n\\n- Error: 400 Client Error: Encountered an unexpected error while parsing the input data. Error \\'Restarting model process. This is likely caused by a request timeout or OOM.\\' for url: https://adb-2869758279805397.17.azuredatabricks.net/serving-endpoints/agents_dts_proves_pre-startups_list-multi-agent-chatbot-claude/invocations. Response text: {\"error_code\": \"BAD_REQUEST\", \"message\": \"Encountered an unexpected error while parsing the input data. Error \\'Restarting model process. This is likely caused by a request timeout or OOM.\\'\"}\\n\\n- Deployment URI: agents_dts_proves_pre-startups_list-multi-agent-chatbot-claude\\n\\n- Input payload: {\\'messages\\': [{\\'role\\': \\'user\\', \\'content\\': \\'Encara no tinc una idea de negoci. Dona’m consells per trobar una idea. \\'}], \\'databricks_options\\': {\\'return_trace\\': True}}')</td></tr><tr><td>d0fb9c1d0ff82683c8c433abd3e91771981accce4401778b74b4de32815e54e2</td><td>List(List(List(La meva idea és viable? com avaluar una idea de negoci, user)))</td><td>{\"info\": {\"request_id\": \"tr-aa9a31f1ddd742c1a46a8749dcd2be72\", \"experiment_id\": \"3845882404188464\", \"timestamp_ms\": 1747391210376, \"execution_time_ms\": 0, \"status\": \"ERROR\", \"request_metadata\": {\"mlflow.sourceRun\": \"e08fca067d984d29879a949d85599795\", \"mlflow.traceInputs\": \"{\\\"messages\\\": [{\\\"role\\\": \\\"user\\\", \\\"content\\\": \\\"La meva idea \\\\u00e9s viable? com avaluar una idea de negoci\\\"}], \\\"databricks_options\\\": {\\\"return_trace\\\": true}}\", \"mlflow.traceOutputs\": \"Fail to invoke the model with {'messages': [{'role': 'user', 'content': 'La meva idea \\u00e9s viable? com avaluar una idea de negoci'}], 'databricks_options': {'return_trace': True}}. MlflowException('Failed to call the deployment endpoint. Please check t\"}, \"tags\": {\"mlflow.user\": \"aliciachimeno_ext@gencat.cat\", \"mlflow.artifactLocation\": \"dbfs:/databricks/mlflow-tracking/3845882404188464/tr-aa9a31f1ddd742c1a46a8749dcd2be72/artifacts\"}, \"assessments\": []}, \"data\": {\"spans\": [{\"name\": \"root_span\", \"context\": {\"span_id\": \"a5b06c0c133a4ff7\", \"trace_id\": \"6fb226896d7947f9800d4fff3c2be404\"}, \"parent_id\": null, \"start_time\": null, \"end_time\": null, \"status_code\": \"OK\", \"status_message\": \"\", \"attributes\": {\"mlflow.traceRequestId\": \"\\\"6fb226896d7947f9800d4fff3c2be404\\\"\", \"mlflow.spanInputs\": \"{\\\"messages\\\": [{\\\"role\\\": \\\"user\\\", \\\"content\\\": \\\"La meva idea \\\\u00e9s viable? com avaluar una idea de negoci\\\"}], \\\"databricks_options\\\": {\\\"return_trace\\\": true}}\", \"mlflow.spanOutputs\": \"\\\"Fail to invoke the model with {'messages': [{'role': 'user', 'content': 'La meva idea \\\\u00e9s viable? com avaluar una idea de negoci'}], 'databricks_options': {'return_trace': True}}. MlflowException('Failed to call the deployment endpoint. Please check the deployment URL is set correctly and the input payload is valid.\\\\\\\\n\\\\\\\\n- Error: 400 Client Error: Encountered an unexpected error while parsing the input data. Error \\\\\\\\'Restarting model process. This is likely caused by a request timeout or OOM.\\\\\\\\' for url: https://adb-2869758279805397.17.azuredatabricks.net/serving-endpoints/agents_dts_proves_pre-startups_list-multi-agent-chatbot-claude/invocations. Response text: {\\\\\\\"error_code\\\\\\\": \\\\\\\"BAD_REQUEST\\\\\\\", \\\\\\\"message\\\\\\\": \\\\\\\"Encountered an unexpected error while parsing the input data. Error \\\\\\\\'Restarting model process. This is likely caused by a request timeout or OOM.\\\\\\\\'\\\\\\\"}\\\\\\\\n\\\\\\\\n- Deployment URI: agents_dts_proves_pre-startups_list-multi-agent-chatbot-claude\\\\\\\\n\\\\\\\\n- Input payload: {\\\\\\\\'messages\\\\\\\\': [{\\\\\\\\'role\\\\\\\\': \\\\\\\\'user\\\\\\\\', \\\\\\\\'content\\\\\\\\': \\\\\\\\'La meva idea \\\\u00e9s viable? com avaluar una idea de negoci\\\\\\\\'}], \\\\\\\\'databricks_options\\\\\\\\': {\\\\\\\\'return_trace\\\\\\\\': True}}')\\\"\"}, \"events\": []}], \"request\": \"{\\\"messages\\\": [{\\\"role\\\": \\\"user\\\", \\\"content\\\": \\\"La meva idea \\\\u00e9s viable? com avaluar una idea de negoci\\\"}], \\\"databricks_options\\\": {\\\"return_trace\\\": true}}\", \"response\": \"Fail to invoke the model with {'messages': [{'role': 'user', 'content': 'La meva idea \\u00e9s viable? com avaluar una idea de negoci'}], 'databricks_options': {'return_trace': True}}. MlflowException('Failed to call the deployment endpoint. Please check the deployment URL is set correctly and the input payload is valid.\\\\n\\\\n- Error: 400 Client Error: Encountered an unexpected error while parsing the input data. Error \\\\'Restarting model process. This is likely caused by a request timeout or OOM.\\\\' for url: https://adb-2869758279805397.17.azuredatabricks.net/serving-endpoints/agents_dts_proves_pre-startups_list-multi-agent-chatbot-claude/invocations. Response text: {\\\"error_code\\\": \\\"BAD_REQUEST\\\", \\\"message\\\": \\\"Encountered an unexpected error while parsing the input data. Error \\\\'Restarting model process. This is likely caused by a request timeout or OOM.\\\\'\\\"}\\\\n\\\\n- Deployment URI: agents_dts_proves_pre-startups_list-multi-agent-chatbot-claude\\\\n\\\\n- Input payload: {\\\\'messages\\\\': [{\\\\'role\\\\': \\\\'user\\\\', \\\\'content\\\\': \\\\'La meva idea \\u00e9s viable? com avaluar una idea de negoci\\\\'}], \\\\'databricks_options\\\\': {\\\\'return_trace\\\\': True}}')\"}}</td><td>List()</td><td>Fail to invoke the model with {'messages': [{'role': 'user', 'content': 'La meva idea és viable? com avaluar una idea de negoci'}], 'databricks_options': {'return_trace': True}}. MlflowException('Failed to call the deployment endpoint. Please check the deployment URL is set correctly and the input payload is valid.\\n\\n- Error: 400 Client Error: Encountered an unexpected error while parsing the input data. Error \\'Restarting model process. This is likely caused by a request timeout or OOM.\\' for url: https://adb-2869758279805397.17.azuredatabricks.net/serving-endpoints/agents_dts_proves_pre-startups_list-multi-agent-chatbot-claude/invocations. Response text: {\"error_code\": \"BAD_REQUEST\", \"message\": \"Encountered an unexpected error while parsing the input data. Error \\'Restarting model process. This is likely caused by a request timeout or OOM.\\'\"}\\n\\n- Deployment URI: agents_dts_proves_pre-startups_list-multi-agent-chatbot-claude\\n\\n- Input payload: {\\'messages\\': [{\\'role\\': \\'user\\', \\'content\\': \\'La meva idea és viable? com avaluar una idea de negoci\\'}], \\'databricks_options\\': {\\'return_trace\\': True}}')</td></tr><tr><td>facefe488ec57b335d2bb10a106e2096cdb15d2e82685d6cc06b882672a1ed6a</td><td>List(List(List(D’on puc treure el finançament per crear la meva startup? , user)))</td><td>{\"info\": {\"request_id\": \"tr-4d90db0b4552487586d90c7c1b8417f5\", \"experiment_id\": \"3845882404188464\", \"timestamp_ms\": 1747391210369, \"execution_time_ms\": 0, \"status\": \"ERROR\", \"request_metadata\": {\"mlflow.sourceRun\": \"e08fca067d984d29879a949d85599795\", \"mlflow.traceInputs\": \"{\\\"messages\\\": [{\\\"role\\\": \\\"user\\\", \\\"content\\\": \\\"D\\\\u2019on puc treure el finan\\\\u00e7ament per crear la meva startup? \\\"}], \\\"databricks_options\\\": {\\\"return_trace\\\": true}}\", \"mlflow.traceOutputs\": \"Fail to invoke the model with {'messages': [{'role': 'user', 'content': 'D\\u2019on puc treure el finan\\u00e7ament per crear la meva startup? '}], 'databricks_options': {'return_trace': True}}. MlflowException('Failed to call the deployment endpoint. Please che\"}, \"tags\": {\"mlflow.user\": \"aliciachimeno_ext@gencat.cat\", \"mlflow.artifactLocation\": \"dbfs:/databricks/mlflow-tracking/3845882404188464/tr-4d90db0b4552487586d90c7c1b8417f5/artifacts\"}, \"assessments\": []}, \"data\": {\"spans\": [{\"name\": \"root_span\", \"context\": {\"span_id\": \"9d9d73d3fa9a4c78\", \"trace_id\": \"2437f6ce47124fe6bc44f7463e056a3d\"}, \"parent_id\": null, \"start_time\": null, \"end_time\": null, \"status_code\": \"OK\", \"status_message\": \"\", \"attributes\": {\"mlflow.traceRequestId\": \"\\\"2437f6ce47124fe6bc44f7463e056a3d\\\"\", \"mlflow.spanInputs\": \"{\\\"messages\\\": [{\\\"role\\\": \\\"user\\\", \\\"content\\\": \\\"D\\\\u2019on puc treure el finan\\\\u00e7ament per crear la meva startup? \\\"}], \\\"databricks_options\\\": {\\\"return_trace\\\": true}}\", \"mlflow.spanOutputs\": \"\\\"Fail to invoke the model with {'messages': [{'role': 'user', 'content': 'D\\\\u2019on puc treure el finan\\\\u00e7ament per crear la meva startup? '}], 'databricks_options': {'return_trace': True}}. MlflowException('Failed to call the deployment endpoint. Please check the deployment URL is set correctly and the input payload is valid.\\\\\\\\n\\\\\\\\n- Error: 400 Client Error: Encountered an unexpected error while parsing the input data. Error \\\\\\\\'Restarting model process. This is likely caused by a request timeout or OOM.\\\\\\\\' for url: https://adb-2869758279805397.17.azuredatabricks.net/serving-endpoints/agents_dts_proves_pre-startups_list-multi-agent-chatbot-claude/invocations. Response text: {\\\\\\\"error_code\\\\\\\": \\\\\\\"BAD_REQUEST\\\\\\\", \\\\\\\"message\\\\\\\": \\\\\\\"Encountered an unexpected error while parsing the input data. Error \\\\\\\\'Restarting model process. This is likely caused by a request timeout or OOM.\\\\\\\\'\\\\\\\"}\\\\\\\\n\\\\\\\\n- Deployment URI: agents_dts_proves_pre-startups_list-multi-agent-chatbot-claude\\\\\\\\n\\\\\\\\n- Input payload: {\\\\\\\\'messages\\\\\\\\': [{\\\\\\\\'role\\\\\\\\': \\\\\\\\'user\\\\\\\\', \\\\\\\\'content\\\\\\\\': \\\\\\\\'D\\\\u2019on puc treure el finan\\\\u00e7ament per crear la meva startup? \\\\\\\\'}], \\\\\\\\'databricks_options\\\\\\\\': {\\\\\\\\'return_trace\\\\\\\\': True}}')\\\"\"}, \"events\": []}], \"request\": \"{\\\"messages\\\": [{\\\"role\\\": \\\"user\\\", \\\"content\\\": \\\"D\\\\u2019on puc treure el finan\\\\u00e7ament per crear la meva startup? \\\"}], \\\"databricks_options\\\": {\\\"return_trace\\\": true}}\", \"response\": \"Fail to invoke the model with {'messages': [{'role': 'user', 'content': 'D\\u2019on puc treure el finan\\u00e7ament per crear la meva startup? '}], 'databricks_options': {'return_trace': True}}. MlflowException('Failed to call the deployment endpoint. Please check the deployment URL is set correctly and the input payload is valid.\\\\n\\\\n- Error: 400 Client Error: Encountered an unexpected error while parsing the input data. Error \\\\'Restarting model process. This is likely caused by a request timeout or OOM.\\\\' for url: https://adb-2869758279805397.17.azuredatabricks.net/serving-endpoints/agents_dts_proves_pre-startups_list-multi-agent-chatbot-claude/invocations. Response text: {\\\"error_code\\\": \\\"BAD_REQUEST\\\", \\\"message\\\": \\\"Encountered an unexpected error while parsing the input data. Error \\\\'Restarting model process. This is likely caused by a request timeout or OOM.\\\\'\\\"}\\\\n\\\\n- Deployment URI: agents_dts_proves_pre-startups_list-multi-agent-chatbot-claude\\\\n\\\\n- Input payload: {\\\\'messages\\\\': [{\\\\'role\\\\': \\\\'user\\\\', \\\\'content\\\\': \\\\'D\\u2019on puc treure el finan\\u00e7ament per crear la meva startup? \\\\'}], \\\\'databricks_options\\\\': {\\\\'return_trace\\\\': True}}')\"}}</td><td>List()</td><td>Fail to invoke the model with {'messages': [{'role': 'user', 'content': 'D’on puc treure el finançament per crear la meva startup? '}], 'databricks_options': {'return_trace': True}}. MlflowException('Failed to call the deployment endpoint. Please check the deployment URL is set correctly and the input payload is valid.\\n\\n- Error: 400 Client Error: Encountered an unexpected error while parsing the input data. Error \\'Restarting model process. This is likely caused by a request timeout or OOM.\\' for url: https://adb-2869758279805397.17.azuredatabricks.net/serving-endpoints/agents_dts_proves_pre-startups_list-multi-agent-chatbot-claude/invocations. Response text: {\"error_code\": \"BAD_REQUEST\", \"message\": \"Encountered an unexpected error while parsing the input data. Error \\'Restarting model process. This is likely caused by a request timeout or OOM.\\'\"}\\n\\n- Deployment URI: agents_dts_proves_pre-startups_list-multi-agent-chatbot-claude\\n\\n- Input payload: {\\'messages\\': [{\\'role\\': \\'user\\', \\'content\\': \\'D’on puc treure el finançament per crear la meva startup? \\'}], \\'databricks_options\\': {\\'return_trace\\': True}}')</td></tr><tr><td>d43359eb13d400382b59e7dde8b6e9b1de820265267a86d11d92a67cdcd5be54</td><td>List(List(List( Quines opcions jurídiques tinc per crear una Startup?, user)))</td><td>{\"info\": {\"request_id\": \"tr-108fe71a347e415bbcc3f0a990b22315\", \"experiment_id\": \"3845882404188464\", \"timestamp_ms\": 1747391332813, \"execution_time_ms\": 0, \"status\": \"ERROR\", \"request_metadata\": {\"mlflow.sourceRun\": \"e08fca067d984d29879a949d85599795\", \"mlflow.traceInputs\": \"{\\\"messages\\\": [{\\\"role\\\": \\\"user\\\", \\\"content\\\": \\\" Quines opcions jur\\\\u00eddiques tinc per crear una Startup?\\\"}], \\\"databricks_options\\\": {\\\"return_trace\\\": true}}\", \"mlflow.traceOutputs\": \"Fail to invoke the model with {'messages': [{'role': 'user', 'content': ' Quines opcions jur\\u00eddiques tinc per crear una Startup?'}], 'databricks_options': {'return_trace': True}}. MlflowException('Failed to call the deployment endpoint. Please check t\"}, \"tags\": {\"mlflow.user\": \"aliciachimeno_ext@gencat.cat\", \"mlflow.artifactLocation\": \"dbfs:/databricks/mlflow-tracking/3845882404188464/tr-108fe71a347e415bbcc3f0a990b22315/artifacts\"}, \"assessments\": []}, \"data\": {\"spans\": [{\"name\": \"root_span\", \"context\": {\"span_id\": \"510765925bba4431\", \"trace_id\": \"7e5859fd3bb243aa95e7e5ea94fe5a93\"}, \"parent_id\": null, \"start_time\": null, \"end_time\": null, \"status_code\": \"OK\", \"status_message\": \"\", \"attributes\": {\"mlflow.traceRequestId\": \"\\\"7e5859fd3bb243aa95e7e5ea94fe5a93\\\"\", \"mlflow.spanInputs\": \"{\\\"messages\\\": [{\\\"role\\\": \\\"user\\\", \\\"content\\\": \\\" Quines opcions jur\\\\u00eddiques tinc per crear una Startup?\\\"}], \\\"databricks_options\\\": {\\\"return_trace\\\": true}}\", \"mlflow.spanOutputs\": \"\\\"Fail to invoke the model with {'messages': [{'role': 'user', 'content': ' Quines opcions jur\\\\u00eddiques tinc per crear una Startup?'}], 'databricks_options': {'return_trace': True}}. MlflowException('Failed to call the deployment endpoint. Please check the deployment URL is set correctly and the input payload is valid.\\\\\\\\n\\\\\\\\n- Error: 400 Client Error: Encountered an unexpected error while parsing the input data. Error \\\\\\\\'Restarting model process. This is likely caused by a request timeout or OOM.\\\\\\\\' for url: https://adb-2869758279805397.17.azuredatabricks.net/serving-endpoints/agents_dts_proves_pre-startups_list-multi-agent-chatbot-claude/invocations. Response text: {\\\\\\\"error_code\\\\\\\": \\\\\\\"BAD_REQUEST\\\\\\\", \\\\\\\"message\\\\\\\": \\\\\\\"Encountered an unexpected error while parsing the input data. Error \\\\\\\\'Restarting model process. This is likely caused by a request timeout or OOM.\\\\\\\\'\\\\\\\"}\\\\\\\\n\\\\\\\\n- Deployment URI: agents_dts_proves_pre-startups_list-multi-agent-chatbot-claude\\\\\\\\n\\\\\\\\n- Input payload: {\\\\\\\\'messages\\\\\\\\': [{\\\\\\\\'role\\\\\\\\': \\\\\\\\'user\\\\\\\\', \\\\\\\\'content\\\\\\\\': \\\\\\\\' Quines opcions jur\\\\u00eddiques tinc per crear una Startup?\\\\\\\\'}], \\\\\\\\'databricks_options\\\\\\\\': {\\\\\\\\'return_trace\\\\\\\\': True}}')\\\"\"}, \"events\": []}], \"request\": \"{\\\"messages\\\": [{\\\"role\\\": \\\"user\\\", \\\"content\\\": \\\" Quines opcions jur\\\\u00eddiques tinc per crear una Startup?\\\"}], \\\"databricks_options\\\": {\\\"return_trace\\\": true}}\", \"response\": \"Fail to invoke the model with {'messages': [{'role': 'user', 'content': ' Quines opcions jur\\u00eddiques tinc per crear una Startup?'}], 'databricks_options': {'return_trace': True}}. MlflowException('Failed to call the deployment endpoint. Please check the deployment URL is set correctly and the input payload is valid.\\\\n\\\\n- Error: 400 Client Error: Encountered an unexpected error while parsing the input data. Error \\\\'Restarting model process. This is likely caused by a request timeout or OOM.\\\\' for url: https://adb-2869758279805397.17.azuredatabricks.net/serving-endpoints/agents_dts_proves_pre-startups_list-multi-agent-chatbot-claude/invocations. Response text: {\\\"error_code\\\": \\\"BAD_REQUEST\\\", \\\"message\\\": \\\"Encountered an unexpected error while parsing the input data. Error \\\\'Restarting model process. This is likely caused by a request timeout or OOM.\\\\'\\\"}\\\\n\\\\n- Deployment URI: agents_dts_proves_pre-startups_list-multi-agent-chatbot-claude\\\\n\\\\n- Input payload: {\\\\'messages\\\\': [{\\\\'role\\\\': \\\\'user\\\\', \\\\'content\\\\': \\\\' Quines opcions jur\\u00eddiques tinc per crear una Startup?\\\\'}], \\\\'databricks_options\\\\': {\\\\'return_trace\\\\': True}}')\"}}</td><td>List()</td><td>Fail to invoke the model with {'messages': [{'role': 'user', 'content': ' Quines opcions jurídiques tinc per crear una Startup?'}], 'databricks_options': {'return_trace': True}}. MlflowException('Failed to call the deployment endpoint. Please check the deployment URL is set correctly and the input payload is valid.\\n\\n- Error: 400 Client Error: Encountered an unexpected error while parsing the input data. Error \\'Restarting model process. This is likely caused by a request timeout or OOM.\\' for url: https://adb-2869758279805397.17.azuredatabricks.net/serving-endpoints/agents_dts_proves_pre-startups_list-multi-agent-chatbot-claude/invocations. Response text: {\"error_code\": \"BAD_REQUEST\", \"message\": \"Encountered an unexpected error while parsing the input data. Error \\'Restarting model process. This is likely caused by a request timeout or OOM.\\'\"}\\n\\n- Deployment URI: agents_dts_proves_pre-startups_list-multi-agent-chatbot-claude\\n\\n- Input payload: {\\'messages\\': [{\\'role\\': \\'user\\', \\'content\\': \\' Quines opcions jurídiques tinc per crear una Startup?\\'}], \\'databricks_options\\': {\\'return_trace\\': True}}')</td></tr><tr><td>c16560630777750babec33ef58e50457c3e1541eea7eb9bf801ad52d5d3f1225</td><td>List(List(List(Vull saber si tinc actituds d'emprenedor i explorar el meu perfil emprenedor. , user)))</td><td>{\"info\": {\"request_id\": \"tr-1bb3971fad054821b8df4184a982c92e\", \"experiment_id\": \"3845882404188464\", \"timestamp_ms\": 1747391335338, \"execution_time_ms\": 0, \"status\": \"ERROR\", \"request_metadata\": {\"mlflow.sourceRun\": \"e08fca067d984d29879a949d85599795\", \"mlflow.traceInputs\": \"{\\\"messages\\\": [{\\\"role\\\": \\\"user\\\", \\\"content\\\": \\\"Vull saber si tinc actituds d'emprenedor i explorar el meu perfil emprenedor. \\\"}], \\\"databricks_options\\\": {\\\"return_trace\\\": true}}\", \"mlflow.traceOutputs\": \"Fail to invoke the model with {'messages': [{'role': 'user', 'content': \\\"Vull saber si tinc actituds d'emprenedor i explorar el meu perfil emprenedor. \\\"}], 'databricks_options': {'return_trace': True}}. MlflowException('Failed to call the deployment \"}, \"tags\": {\"mlflow.user\": \"aliciachimeno_ext@gencat.cat\", \"mlflow.artifactLocation\": \"dbfs:/databricks/mlflow-tracking/3845882404188464/tr-1bb3971fad054821b8df4184a982c92e/artifacts\"}, \"assessments\": []}, \"data\": {\"spans\": [{\"name\": \"root_span\", \"context\": {\"span_id\": \"19b9ac1ec26144a1\", \"trace_id\": \"5e34c34067d24f3aa1048a4d377064ee\"}, \"parent_id\": null, \"start_time\": null, \"end_time\": null, \"status_code\": \"OK\", \"status_message\": \"\", \"attributes\": {\"mlflow.traceRequestId\": \"\\\"5e34c34067d24f3aa1048a4d377064ee\\\"\", \"mlflow.spanInputs\": \"{\\\"messages\\\": [{\\\"role\\\": \\\"user\\\", \\\"content\\\": \\\"Vull saber si tinc actituds d'emprenedor i explorar el meu perfil emprenedor. \\\"}], \\\"databricks_options\\\": {\\\"return_trace\\\": true}}\", \"mlflow.spanOutputs\": \"\\\"Fail to invoke the model with {'messages': [{'role': 'user', 'content': \\\\\\\"Vull saber si tinc actituds d'emprenedor i explorar el meu perfil emprenedor. \\\\\\\"}], 'databricks_options': {'return_trace': True}}. MlflowException('Failed to call the deployment endpoint. Please check the deployment URL is set correctly and the input payload is valid.\\\\\\\\n\\\\\\\\n- Error: 400 Client Error: Encountered an unexpected error while parsing the input data. Error \\\\\\\\'Restarting model process. This is likely caused by a request timeout or OOM.\\\\\\\\' for url: https://adb-2869758279805397.17.azuredatabricks.net/serving-endpoints/agents_dts_proves_pre-startups_list-multi-agent-chatbot-claude/invocations. Response text: {\\\\\\\"error_code\\\\\\\": \\\\\\\"BAD_REQUEST\\\\\\\", \\\\\\\"message\\\\\\\": \\\\\\\"Encountered an unexpected error while parsing the input data. Error \\\\\\\\'Restarting model process. This is likely caused by a request timeout or OOM.\\\\\\\\'\\\\\\\"}\\\\\\\\n\\\\\\\\n- Deployment URI: agents_dts_proves_pre-startups_list-multi-agent-chatbot-claude\\\\\\\\n\\\\\\\\n- Input payload: {\\\\\\\\'messages\\\\\\\\': [{\\\\\\\\'role\\\\\\\\': \\\\\\\\'user\\\\\\\\', \\\\\\\\'content\\\\\\\\': \\\\\\\"Vull saber si tinc actituds d\\\\\\\\'emprenedor i explorar el meu perfil emprenedor. \\\\\\\"}], \\\\\\\\'databricks_options\\\\\\\\': {\\\\\\\\'return_trace\\\\\\\\': True}}')\\\"\"}, \"events\": []}], \"request\": \"{\\\"messages\\\": [{\\\"role\\\": \\\"user\\\", \\\"content\\\": \\\"Vull saber si tinc actituds d'emprenedor i explorar el meu perfil emprenedor. \\\"}], \\\"databricks_options\\\": {\\\"return_trace\\\": true}}\", \"response\": \"Fail to invoke the model with {'messages': [{'role': 'user', 'content': \\\"Vull saber si tinc actituds d'emprenedor i explorar el meu perfil emprenedor. \\\"}], 'databricks_options': {'return_trace': True}}. MlflowException('Failed to call the deployment endpoint. Please check the deployment URL is set correctly and the input payload is valid.\\\\n\\\\n- Error: 400 Client Error: Encountered an unexpected error while parsing the input data. Error \\\\'Restarting model process. This is likely caused by a request timeout or OOM.\\\\' for url: https://adb-2869758279805397.17.azuredatabricks.net/serving-endpoints/agents_dts_proves_pre-startups_list-multi-agent-chatbot-claude/invocations. Response text: {\\\"error_code\\\": \\\"BAD_REQUEST\\\", \\\"message\\\": \\\"Encountered an unexpected error while parsing the input data. Error \\\\'Restarting model process. This is likely caused by a request timeout or OOM.\\\\'\\\"}\\\\n\\\\n- Deployment URI: agents_dts_proves_pre-startups_list-multi-agent-chatbot-claude\\\\n\\\\n- Input payload: {\\\\'messages\\\\': [{\\\\'role\\\\': \\\\'user\\\\', \\\\'content\\\\': \\\"Vull saber si tinc actituds d\\\\'emprenedor i explorar el meu perfil emprenedor. \\\"}], \\\\'databricks_options\\\\': {\\\\'return_trace\\\\': True}}')\"}}</td><td>List()</td><td>Fail to invoke the model with {'messages': [{'role': 'user', 'content': \"Vull saber si tinc actituds d'emprenedor i explorar el meu perfil emprenedor. \"}], 'databricks_options': {'return_trace': True}}. MlflowException('Failed to call the deployment endpoint. Please check the deployment URL is set correctly and the input payload is valid.\\n\\n- Error: 400 Client Error: Encountered an unexpected error while parsing the input data. Error \\'Restarting model process. This is likely caused by a request timeout or OOM.\\' for url: https://adb-2869758279805397.17.azuredatabricks.net/serving-endpoints/agents_dts_proves_pre-startups_list-multi-agent-chatbot-claude/invocations. Response text: {\"error_code\": \"BAD_REQUEST\", \"message\": \"Encountered an unexpected error while parsing the input data. Error \\'Restarting model process. This is likely caused by a request timeout or OOM.\\'\"}\\n\\n- Deployment URI: agents_dts_proves_pre-startups_list-multi-agent-chatbot-claude\\n\\n- Input payload: {\\'messages\\': [{\\'role\\': \\'user\\', \\'content\\': \"Vull saber si tinc actituds d\\'emprenedor i explorar el meu perfil emprenedor. \"}], \\'databricks_options\\': {\\'return_trace\\': True}}')</td></tr></tbody></table></div>"
      ]
     },
     "metadata": {
      "application/vnd.databricks.v1+output": {
       "addedWidgets": {},
       "aggData": [],
       "aggError": "",
       "aggOverflow": false,
       "aggSchema": [],
       "aggSeriesLimitReached": false,
       "aggType": "",
       "arguments": {},
       "columnCustomDisplayInfos": {},
       "data": [
        [
         "7b7fb5c9b27fe3066b9a6111a3eda8da16ccc6f52cfc9bf0dfb005c5b2e75f11",
         [
          [
           [
            "Encara no tinc una idea de negoci. Dona’m consells per trobar una idea. ",
            "user"
           ]
          ]
         ],
         "{\"info\": {\"request_id\": \"tr-40a6305c41ea4dc0bd11363872f01c25\", \"experiment_id\": \"3845882404188464\", \"timestamp_ms\": 1747391116621, \"execution_time_ms\": 0, \"status\": \"ERROR\", \"request_metadata\": {\"mlflow.sourceRun\": \"e08fca067d984d29879a949d85599795\", \"mlflow.traceInputs\": \"{\\\"messages\\\": [{\\\"role\\\": \\\"user\\\", \\\"content\\\": \\\"Encara no tinc una idea de negoci. Dona\\\\u2019m consells per trobar una idea. \\\"}], \\\"databricks_options\\\": {\\\"return_trace\\\": true}}\", \"mlflow.traceOutputs\": \"Fail to invoke the model with {'messages': [{'role': 'user', 'content': 'Encara no tinc una idea de negoci. Dona\\u2019m consells per trobar una idea. '}], 'databricks_options': {'return_trace': True}}. MlflowException('Failed to call the deployment endpoi\"}, \"tags\": {\"mlflow.user\": \"aliciachimeno_ext@gencat.cat\", \"mlflow.artifactLocation\": \"dbfs:/databricks/mlflow-tracking/3845882404188464/tr-40a6305c41ea4dc0bd11363872f01c25/artifacts\"}, \"assessments\": []}, \"data\": {\"spans\": [{\"name\": \"root_span\", \"context\": {\"span_id\": \"decdcc7428084cbd\", \"trace_id\": \"8605ebdced864111a5bb548d730e7c27\"}, \"parent_id\": null, \"start_time\": null, \"end_time\": null, \"status_code\": \"OK\", \"status_message\": \"\", \"attributes\": {\"mlflow.traceRequestId\": \"\\\"8605ebdced864111a5bb548d730e7c27\\\"\", \"mlflow.spanInputs\": \"{\\\"messages\\\": [{\\\"role\\\": \\\"user\\\", \\\"content\\\": \\\"Encara no tinc una idea de negoci. Dona\\\\u2019m consells per trobar una idea. \\\"}], \\\"databricks_options\\\": {\\\"return_trace\\\": true}}\", \"mlflow.spanOutputs\": \"\\\"Fail to invoke the model with {'messages': [{'role': 'user', 'content': 'Encara no tinc una idea de negoci. Dona\\\\u2019m consells per trobar una idea. '}], 'databricks_options': {'return_trace': True}}. MlflowException('Failed to call the deployment endpoint. Please check the deployment URL is set correctly and the input payload is valid.\\\\\\\\n\\\\\\\\n- Error: 400 Client Error: Encountered an unexpected error while parsing the input data. Error \\\\\\\\'Restarting model process. This is likely caused by a request timeout or OOM.\\\\\\\\' for url: https://adb-2869758279805397.17.azuredatabricks.net/serving-endpoints/agents_dts_proves_pre-startups_list-multi-agent-chatbot-claude/invocations. Response text: {\\\\\\\"error_code\\\\\\\": \\\\\\\"BAD_REQUEST\\\\\\\", \\\\\\\"message\\\\\\\": \\\\\\\"Encountered an unexpected error while parsing the input data. Error \\\\\\\\'Restarting model process. This is likely caused by a request timeout or OOM.\\\\\\\\'\\\\\\\"}\\\\\\\\n\\\\\\\\n- Deployment URI: agents_dts_proves_pre-startups_list-multi-agent-chatbot-claude\\\\\\\\n\\\\\\\\n- Input payload: {\\\\\\\\'messages\\\\\\\\': [{\\\\\\\\'role\\\\\\\\': \\\\\\\\'user\\\\\\\\', \\\\\\\\'content\\\\\\\\': \\\\\\\\'Encara no tinc una idea de negoci. Dona\\\\u2019m consells per trobar una idea. \\\\\\\\'}], \\\\\\\\'databricks_options\\\\\\\\': {\\\\\\\\'return_trace\\\\\\\\': True}}')\\\"\"}, \"events\": []}], \"request\": \"{\\\"messages\\\": [{\\\"role\\\": \\\"user\\\", \\\"content\\\": \\\"Encara no tinc una idea de negoci. Dona\\\\u2019m consells per trobar una idea. \\\"}], \\\"databricks_options\\\": {\\\"return_trace\\\": true}}\", \"response\": \"Fail to invoke the model with {'messages': [{'role': 'user', 'content': 'Encara no tinc una idea de negoci. Dona\\u2019m consells per trobar una idea. '}], 'databricks_options': {'return_trace': True}}. MlflowException('Failed to call the deployment endpoint. Please check the deployment URL is set correctly and the input payload is valid.\\\\n\\\\n- Error: 400 Client Error: Encountered an unexpected error while parsing the input data. Error \\\\'Restarting model process. This is likely caused by a request timeout or OOM.\\\\' for url: https://adb-2869758279805397.17.azuredatabricks.net/serving-endpoints/agents_dts_proves_pre-startups_list-multi-agent-chatbot-claude/invocations. Response text: {\\\"error_code\\\": \\\"BAD_REQUEST\\\", \\\"message\\\": \\\"Encountered an unexpected error while parsing the input data. Error \\\\'Restarting model process. This is likely caused by a request timeout or OOM.\\\\'\\\"}\\\\n\\\\n- Deployment URI: agents_dts_proves_pre-startups_list-multi-agent-chatbot-claude\\\\n\\\\n- Input payload: {\\\\'messages\\\\': [{\\\\'role\\\\': \\\\'user\\\\', \\\\'content\\\\': \\\\'Encara no tinc una idea de negoci. Dona\\u2019m consells per trobar una idea. \\\\'}], \\\\'databricks_options\\\\': {\\\\'return_trace\\\\': True}}')\"}}",
         [],
         "Fail to invoke the model with {'messages': [{'role': 'user', 'content': 'Encara no tinc una idea de negoci. Dona’m consells per trobar una idea. '}], 'databricks_options': {'return_trace': True}}. MlflowException('Failed to call the deployment endpoint. Please check the deployment URL is set correctly and the input payload is valid.\\n\\n- Error: 400 Client Error: Encountered an unexpected error while parsing the input data. Error \\'Restarting model process. This is likely caused by a request timeout or OOM.\\' for url: https://adb-2869758279805397.17.azuredatabricks.net/serving-endpoints/agents_dts_proves_pre-startups_list-multi-agent-chatbot-claude/invocations. Response text: {\"error_code\": \"BAD_REQUEST\", \"message\": \"Encountered an unexpected error while parsing the input data. Error \\'Restarting model process. This is likely caused by a request timeout or OOM.\\'\"}\\n\\n- Deployment URI: agents_dts_proves_pre-startups_list-multi-agent-chatbot-claude\\n\\n- Input payload: {\\'messages\\': [{\\'role\\': \\'user\\', \\'content\\': \\'Encara no tinc una idea de negoci. Dona’m consells per trobar una idea. \\'}], \\'databricks_options\\': {\\'return_trace\\': True}}')"
        ],
        [
         "d0fb9c1d0ff82683c8c433abd3e91771981accce4401778b74b4de32815e54e2",
         [
          [
           [
            "La meva idea és viable? com avaluar una idea de negoci",
            "user"
           ]
          ]
         ],
         "{\"info\": {\"request_id\": \"tr-aa9a31f1ddd742c1a46a8749dcd2be72\", \"experiment_id\": \"3845882404188464\", \"timestamp_ms\": 1747391210376, \"execution_time_ms\": 0, \"status\": \"ERROR\", \"request_metadata\": {\"mlflow.sourceRun\": \"e08fca067d984d29879a949d85599795\", \"mlflow.traceInputs\": \"{\\\"messages\\\": [{\\\"role\\\": \\\"user\\\", \\\"content\\\": \\\"La meva idea \\\\u00e9s viable? com avaluar una idea de negoci\\\"}], \\\"databricks_options\\\": {\\\"return_trace\\\": true}}\", \"mlflow.traceOutputs\": \"Fail to invoke the model with {'messages': [{'role': 'user', 'content': 'La meva idea \\u00e9s viable? com avaluar una idea de negoci'}], 'databricks_options': {'return_trace': True}}. MlflowException('Failed to call the deployment endpoint. Please check t\"}, \"tags\": {\"mlflow.user\": \"aliciachimeno_ext@gencat.cat\", \"mlflow.artifactLocation\": \"dbfs:/databricks/mlflow-tracking/3845882404188464/tr-aa9a31f1ddd742c1a46a8749dcd2be72/artifacts\"}, \"assessments\": []}, \"data\": {\"spans\": [{\"name\": \"root_span\", \"context\": {\"span_id\": \"a5b06c0c133a4ff7\", \"trace_id\": \"6fb226896d7947f9800d4fff3c2be404\"}, \"parent_id\": null, \"start_time\": null, \"end_time\": null, \"status_code\": \"OK\", \"status_message\": \"\", \"attributes\": {\"mlflow.traceRequestId\": \"\\\"6fb226896d7947f9800d4fff3c2be404\\\"\", \"mlflow.spanInputs\": \"{\\\"messages\\\": [{\\\"role\\\": \\\"user\\\", \\\"content\\\": \\\"La meva idea \\\\u00e9s viable? com avaluar una idea de negoci\\\"}], \\\"databricks_options\\\": {\\\"return_trace\\\": true}}\", \"mlflow.spanOutputs\": \"\\\"Fail to invoke the model with {'messages': [{'role': 'user', 'content': 'La meva idea \\\\u00e9s viable? com avaluar una idea de negoci'}], 'databricks_options': {'return_trace': True}}. MlflowException('Failed to call the deployment endpoint. Please check the deployment URL is set correctly and the input payload is valid.\\\\\\\\n\\\\\\\\n- Error: 400 Client Error: Encountered an unexpected error while parsing the input data. Error \\\\\\\\'Restarting model process. This is likely caused by a request timeout or OOM.\\\\\\\\' for url: https://adb-2869758279805397.17.azuredatabricks.net/serving-endpoints/agents_dts_proves_pre-startups_list-multi-agent-chatbot-claude/invocations. Response text: {\\\\\\\"error_code\\\\\\\": \\\\\\\"BAD_REQUEST\\\\\\\", \\\\\\\"message\\\\\\\": \\\\\\\"Encountered an unexpected error while parsing the input data. Error \\\\\\\\'Restarting model process. This is likely caused by a request timeout or OOM.\\\\\\\\'\\\\\\\"}\\\\\\\\n\\\\\\\\n- Deployment URI: agents_dts_proves_pre-startups_list-multi-agent-chatbot-claude\\\\\\\\n\\\\\\\\n- Input payload: {\\\\\\\\'messages\\\\\\\\': [{\\\\\\\\'role\\\\\\\\': \\\\\\\\'user\\\\\\\\', \\\\\\\\'content\\\\\\\\': \\\\\\\\'La meva idea \\\\u00e9s viable? com avaluar una idea de negoci\\\\\\\\'}], \\\\\\\\'databricks_options\\\\\\\\': {\\\\\\\\'return_trace\\\\\\\\': True}}')\\\"\"}, \"events\": []}], \"request\": \"{\\\"messages\\\": [{\\\"role\\\": \\\"user\\\", \\\"content\\\": \\\"La meva idea \\\\u00e9s viable? com avaluar una idea de negoci\\\"}], \\\"databricks_options\\\": {\\\"return_trace\\\": true}}\", \"response\": \"Fail to invoke the model with {'messages': [{'role': 'user', 'content': 'La meva idea \\u00e9s viable? com avaluar una idea de negoci'}], 'databricks_options': {'return_trace': True}}. MlflowException('Failed to call the deployment endpoint. Please check the deployment URL is set correctly and the input payload is valid.\\\\n\\\\n- Error: 400 Client Error: Encountered an unexpected error while parsing the input data. Error \\\\'Restarting model process. This is likely caused by a request timeout or OOM.\\\\' for url: https://adb-2869758279805397.17.azuredatabricks.net/serving-endpoints/agents_dts_proves_pre-startups_list-multi-agent-chatbot-claude/invocations. Response text: {\\\"error_code\\\": \\\"BAD_REQUEST\\\", \\\"message\\\": \\\"Encountered an unexpected error while parsing the input data. Error \\\\'Restarting model process. This is likely caused by a request timeout or OOM.\\\\'\\\"}\\\\n\\\\n- Deployment URI: agents_dts_proves_pre-startups_list-multi-agent-chatbot-claude\\\\n\\\\n- Input payload: {\\\\'messages\\\\': [{\\\\'role\\\\': \\\\'user\\\\', \\\\'content\\\\': \\\\'La meva idea \\u00e9s viable? com avaluar una idea de negoci\\\\'}], \\\\'databricks_options\\\\': {\\\\'return_trace\\\\': True}}')\"}}",
         [],
         "Fail to invoke the model with {'messages': [{'role': 'user', 'content': 'La meva idea és viable? com avaluar una idea de negoci'}], 'databricks_options': {'return_trace': True}}. MlflowException('Failed to call the deployment endpoint. Please check the deployment URL is set correctly and the input payload is valid.\\n\\n- Error: 400 Client Error: Encountered an unexpected error while parsing the input data. Error \\'Restarting model process. This is likely caused by a request timeout or OOM.\\' for url: https://adb-2869758279805397.17.azuredatabricks.net/serving-endpoints/agents_dts_proves_pre-startups_list-multi-agent-chatbot-claude/invocations. Response text: {\"error_code\": \"BAD_REQUEST\", \"message\": \"Encountered an unexpected error while parsing the input data. Error \\'Restarting model process. This is likely caused by a request timeout or OOM.\\'\"}\\n\\n- Deployment URI: agents_dts_proves_pre-startups_list-multi-agent-chatbot-claude\\n\\n- Input payload: {\\'messages\\': [{\\'role\\': \\'user\\', \\'content\\': \\'La meva idea és viable? com avaluar una idea de negoci\\'}], \\'databricks_options\\': {\\'return_trace\\': True}}')"
        ],
        [
         "facefe488ec57b335d2bb10a106e2096cdb15d2e82685d6cc06b882672a1ed6a",
         [
          [
           [
            "D’on puc treure el finançament per crear la meva startup? ",
            "user"
           ]
          ]
         ],
         "{\"info\": {\"request_id\": \"tr-4d90db0b4552487586d90c7c1b8417f5\", \"experiment_id\": \"3845882404188464\", \"timestamp_ms\": 1747391210369, \"execution_time_ms\": 0, \"status\": \"ERROR\", \"request_metadata\": {\"mlflow.sourceRun\": \"e08fca067d984d29879a949d85599795\", \"mlflow.traceInputs\": \"{\\\"messages\\\": [{\\\"role\\\": \\\"user\\\", \\\"content\\\": \\\"D\\\\u2019on puc treure el finan\\\\u00e7ament per crear la meva startup? \\\"}], \\\"databricks_options\\\": {\\\"return_trace\\\": true}}\", \"mlflow.traceOutputs\": \"Fail to invoke the model with {'messages': [{'role': 'user', 'content': 'D\\u2019on puc treure el finan\\u00e7ament per crear la meva startup? '}], 'databricks_options': {'return_trace': True}}. MlflowException('Failed to call the deployment endpoint. Please che\"}, \"tags\": {\"mlflow.user\": \"aliciachimeno_ext@gencat.cat\", \"mlflow.artifactLocation\": \"dbfs:/databricks/mlflow-tracking/3845882404188464/tr-4d90db0b4552487586d90c7c1b8417f5/artifacts\"}, \"assessments\": []}, \"data\": {\"spans\": [{\"name\": \"root_span\", \"context\": {\"span_id\": \"9d9d73d3fa9a4c78\", \"trace_id\": \"2437f6ce47124fe6bc44f7463e056a3d\"}, \"parent_id\": null, \"start_time\": null, \"end_time\": null, \"status_code\": \"OK\", \"status_message\": \"\", \"attributes\": {\"mlflow.traceRequestId\": \"\\\"2437f6ce47124fe6bc44f7463e056a3d\\\"\", \"mlflow.spanInputs\": \"{\\\"messages\\\": [{\\\"role\\\": \\\"user\\\", \\\"content\\\": \\\"D\\\\u2019on puc treure el finan\\\\u00e7ament per crear la meva startup? \\\"}], \\\"databricks_options\\\": {\\\"return_trace\\\": true}}\", \"mlflow.spanOutputs\": \"\\\"Fail to invoke the model with {'messages': [{'role': 'user', 'content': 'D\\\\u2019on puc treure el finan\\\\u00e7ament per crear la meva startup? '}], 'databricks_options': {'return_trace': True}}. MlflowException('Failed to call the deployment endpoint. Please check the deployment URL is set correctly and the input payload is valid.\\\\\\\\n\\\\\\\\n- Error: 400 Client Error: Encountered an unexpected error while parsing the input data. Error \\\\\\\\'Restarting model process. This is likely caused by a request timeout or OOM.\\\\\\\\' for url: https://adb-2869758279805397.17.azuredatabricks.net/serving-endpoints/agents_dts_proves_pre-startups_list-multi-agent-chatbot-claude/invocations. Response text: {\\\\\\\"error_code\\\\\\\": \\\\\\\"BAD_REQUEST\\\\\\\", \\\\\\\"message\\\\\\\": \\\\\\\"Encountered an unexpected error while parsing the input data. Error \\\\\\\\'Restarting model process. This is likely caused by a request timeout or OOM.\\\\\\\\'\\\\\\\"}\\\\\\\\n\\\\\\\\n- Deployment URI: agents_dts_proves_pre-startups_list-multi-agent-chatbot-claude\\\\\\\\n\\\\\\\\n- Input payload: {\\\\\\\\'messages\\\\\\\\': [{\\\\\\\\'role\\\\\\\\': \\\\\\\\'user\\\\\\\\', \\\\\\\\'content\\\\\\\\': \\\\\\\\'D\\\\u2019on puc treure el finan\\\\u00e7ament per crear la meva startup? \\\\\\\\'}], \\\\\\\\'databricks_options\\\\\\\\': {\\\\\\\\'return_trace\\\\\\\\': True}}')\\\"\"}, \"events\": []}], \"request\": \"{\\\"messages\\\": [{\\\"role\\\": \\\"user\\\", \\\"content\\\": \\\"D\\\\u2019on puc treure el finan\\\\u00e7ament per crear la meva startup? \\\"}], \\\"databricks_options\\\": {\\\"return_trace\\\": true}}\", \"response\": \"Fail to invoke the model with {'messages': [{'role': 'user', 'content': 'D\\u2019on puc treure el finan\\u00e7ament per crear la meva startup? '}], 'databricks_options': {'return_trace': True}}. MlflowException('Failed to call the deployment endpoint. Please check the deployment URL is set correctly and the input payload is valid.\\\\n\\\\n- Error: 400 Client Error: Encountered an unexpected error while parsing the input data. Error \\\\'Restarting model process. This is likely caused by a request timeout or OOM.\\\\' for url: https://adb-2869758279805397.17.azuredatabricks.net/serving-endpoints/agents_dts_proves_pre-startups_list-multi-agent-chatbot-claude/invocations. Response text: {\\\"error_code\\\": \\\"BAD_REQUEST\\\", \\\"message\\\": \\\"Encountered an unexpected error while parsing the input data. Error \\\\'Restarting model process. This is likely caused by a request timeout or OOM.\\\\'\\\"}\\\\n\\\\n- Deployment URI: agents_dts_proves_pre-startups_list-multi-agent-chatbot-claude\\\\n\\\\n- Input payload: {\\\\'messages\\\\': [{\\\\'role\\\\': \\\\'user\\\\', \\\\'content\\\\': \\\\'D\\u2019on puc treure el finan\\u00e7ament per crear la meva startup? \\\\'}], \\\\'databricks_options\\\\': {\\\\'return_trace\\\\': True}}')\"}}",
         [],
         "Fail to invoke the model with {'messages': [{'role': 'user', 'content': 'D’on puc treure el finançament per crear la meva startup? '}], 'databricks_options': {'return_trace': True}}. MlflowException('Failed to call the deployment endpoint. Please check the deployment URL is set correctly and the input payload is valid.\\n\\n- Error: 400 Client Error: Encountered an unexpected error while parsing the input data. Error \\'Restarting model process. This is likely caused by a request timeout or OOM.\\' for url: https://adb-2869758279805397.17.azuredatabricks.net/serving-endpoints/agents_dts_proves_pre-startups_list-multi-agent-chatbot-claude/invocations. Response text: {\"error_code\": \"BAD_REQUEST\", \"message\": \"Encountered an unexpected error while parsing the input data. Error \\'Restarting model process. This is likely caused by a request timeout or OOM.\\'\"}\\n\\n- Deployment URI: agents_dts_proves_pre-startups_list-multi-agent-chatbot-claude\\n\\n- Input payload: {\\'messages\\': [{\\'role\\': \\'user\\', \\'content\\': \\'D’on puc treure el finançament per crear la meva startup? \\'}], \\'databricks_options\\': {\\'return_trace\\': True}}')"
        ],
        [
         "d43359eb13d400382b59e7dde8b6e9b1de820265267a86d11d92a67cdcd5be54",
         [
          [
           [
            " Quines opcions jurídiques tinc per crear una Startup?",
            "user"
           ]
          ]
         ],
         "{\"info\": {\"request_id\": \"tr-108fe71a347e415bbcc3f0a990b22315\", \"experiment_id\": \"3845882404188464\", \"timestamp_ms\": 1747391332813, \"execution_time_ms\": 0, \"status\": \"ERROR\", \"request_metadata\": {\"mlflow.sourceRun\": \"e08fca067d984d29879a949d85599795\", \"mlflow.traceInputs\": \"{\\\"messages\\\": [{\\\"role\\\": \\\"user\\\", \\\"content\\\": \\\" Quines opcions jur\\\\u00eddiques tinc per crear una Startup?\\\"}], \\\"databricks_options\\\": {\\\"return_trace\\\": true}}\", \"mlflow.traceOutputs\": \"Fail to invoke the model with {'messages': [{'role': 'user', 'content': ' Quines opcions jur\\u00eddiques tinc per crear una Startup?'}], 'databricks_options': {'return_trace': True}}. MlflowException('Failed to call the deployment endpoint. Please check t\"}, \"tags\": {\"mlflow.user\": \"aliciachimeno_ext@gencat.cat\", \"mlflow.artifactLocation\": \"dbfs:/databricks/mlflow-tracking/3845882404188464/tr-108fe71a347e415bbcc3f0a990b22315/artifacts\"}, \"assessments\": []}, \"data\": {\"spans\": [{\"name\": \"root_span\", \"context\": {\"span_id\": \"510765925bba4431\", \"trace_id\": \"7e5859fd3bb243aa95e7e5ea94fe5a93\"}, \"parent_id\": null, \"start_time\": null, \"end_time\": null, \"status_code\": \"OK\", \"status_message\": \"\", \"attributes\": {\"mlflow.traceRequestId\": \"\\\"7e5859fd3bb243aa95e7e5ea94fe5a93\\\"\", \"mlflow.spanInputs\": \"{\\\"messages\\\": [{\\\"role\\\": \\\"user\\\", \\\"content\\\": \\\" Quines opcions jur\\\\u00eddiques tinc per crear una Startup?\\\"}], \\\"databricks_options\\\": {\\\"return_trace\\\": true}}\", \"mlflow.spanOutputs\": \"\\\"Fail to invoke the model with {'messages': [{'role': 'user', 'content': ' Quines opcions jur\\\\u00eddiques tinc per crear una Startup?'}], 'databricks_options': {'return_trace': True}}. MlflowException('Failed to call the deployment endpoint. Please check the deployment URL is set correctly and the input payload is valid.\\\\\\\\n\\\\\\\\n- Error: 400 Client Error: Encountered an unexpected error while parsing the input data. Error \\\\\\\\'Restarting model process. This is likely caused by a request timeout or OOM.\\\\\\\\' for url: https://adb-2869758279805397.17.azuredatabricks.net/serving-endpoints/agents_dts_proves_pre-startups_list-multi-agent-chatbot-claude/invocations. Response text: {\\\\\\\"error_code\\\\\\\": \\\\\\\"BAD_REQUEST\\\\\\\", \\\\\\\"message\\\\\\\": \\\\\\\"Encountered an unexpected error while parsing the input data. Error \\\\\\\\'Restarting model process. This is likely caused by a request timeout or OOM.\\\\\\\\'\\\\\\\"}\\\\\\\\n\\\\\\\\n- Deployment URI: agents_dts_proves_pre-startups_list-multi-agent-chatbot-claude\\\\\\\\n\\\\\\\\n- Input payload: {\\\\\\\\'messages\\\\\\\\': [{\\\\\\\\'role\\\\\\\\': \\\\\\\\'user\\\\\\\\', \\\\\\\\'content\\\\\\\\': \\\\\\\\' Quines opcions jur\\\\u00eddiques tinc per crear una Startup?\\\\\\\\'}], \\\\\\\\'databricks_options\\\\\\\\': {\\\\\\\\'return_trace\\\\\\\\': True}}')\\\"\"}, \"events\": []}], \"request\": \"{\\\"messages\\\": [{\\\"role\\\": \\\"user\\\", \\\"content\\\": \\\" Quines opcions jur\\\\u00eddiques tinc per crear una Startup?\\\"}], \\\"databricks_options\\\": {\\\"return_trace\\\": true}}\", \"response\": \"Fail to invoke the model with {'messages': [{'role': 'user', 'content': ' Quines opcions jur\\u00eddiques tinc per crear una Startup?'}], 'databricks_options': {'return_trace': True}}. MlflowException('Failed to call the deployment endpoint. Please check the deployment URL is set correctly and the input payload is valid.\\\\n\\\\n- Error: 400 Client Error: Encountered an unexpected error while parsing the input data. Error \\\\'Restarting model process. This is likely caused by a request timeout or OOM.\\\\' for url: https://adb-2869758279805397.17.azuredatabricks.net/serving-endpoints/agents_dts_proves_pre-startups_list-multi-agent-chatbot-claude/invocations. Response text: {\\\"error_code\\\": \\\"BAD_REQUEST\\\", \\\"message\\\": \\\"Encountered an unexpected error while parsing the input data. Error \\\\'Restarting model process. This is likely caused by a request timeout or OOM.\\\\'\\\"}\\\\n\\\\n- Deployment URI: agents_dts_proves_pre-startups_list-multi-agent-chatbot-claude\\\\n\\\\n- Input payload: {\\\\'messages\\\\': [{\\\\'role\\\\': \\\\'user\\\\', \\\\'content\\\\': \\\\' Quines opcions jur\\u00eddiques tinc per crear una Startup?\\\\'}], \\\\'databricks_options\\\\': {\\\\'return_trace\\\\': True}}')\"}}",
         [],
         "Fail to invoke the model with {'messages': [{'role': 'user', 'content': ' Quines opcions jurídiques tinc per crear una Startup?'}], 'databricks_options': {'return_trace': True}}. MlflowException('Failed to call the deployment endpoint. Please check the deployment URL is set correctly and the input payload is valid.\\n\\n- Error: 400 Client Error: Encountered an unexpected error while parsing the input data. Error \\'Restarting model process. This is likely caused by a request timeout or OOM.\\' for url: https://adb-2869758279805397.17.azuredatabricks.net/serving-endpoints/agents_dts_proves_pre-startups_list-multi-agent-chatbot-claude/invocations. Response text: {\"error_code\": \"BAD_REQUEST\", \"message\": \"Encountered an unexpected error while parsing the input data. Error \\'Restarting model process. This is likely caused by a request timeout or OOM.\\'\"}\\n\\n- Deployment URI: agents_dts_proves_pre-startups_list-multi-agent-chatbot-claude\\n\\n- Input payload: {\\'messages\\': [{\\'role\\': \\'user\\', \\'content\\': \\' Quines opcions jurídiques tinc per crear una Startup?\\'}], \\'databricks_options\\': {\\'return_trace\\': True}}')"
        ],
        [
         "c16560630777750babec33ef58e50457c3e1541eea7eb9bf801ad52d5d3f1225",
         [
          [
           [
            "Vull saber si tinc actituds d'emprenedor i explorar el meu perfil emprenedor. ",
            "user"
           ]
          ]
         ],
         "{\"info\": {\"request_id\": \"tr-1bb3971fad054821b8df4184a982c92e\", \"experiment_id\": \"3845882404188464\", \"timestamp_ms\": 1747391335338, \"execution_time_ms\": 0, \"status\": \"ERROR\", \"request_metadata\": {\"mlflow.sourceRun\": \"e08fca067d984d29879a949d85599795\", \"mlflow.traceInputs\": \"{\\\"messages\\\": [{\\\"role\\\": \\\"user\\\", \\\"content\\\": \\\"Vull saber si tinc actituds d'emprenedor i explorar el meu perfil emprenedor. \\\"}], \\\"databricks_options\\\": {\\\"return_trace\\\": true}}\", \"mlflow.traceOutputs\": \"Fail to invoke the model with {'messages': [{'role': 'user', 'content': \\\"Vull saber si tinc actituds d'emprenedor i explorar el meu perfil emprenedor. \\\"}], 'databricks_options': {'return_trace': True}}. MlflowException('Failed to call the deployment \"}, \"tags\": {\"mlflow.user\": \"aliciachimeno_ext@gencat.cat\", \"mlflow.artifactLocation\": \"dbfs:/databricks/mlflow-tracking/3845882404188464/tr-1bb3971fad054821b8df4184a982c92e/artifacts\"}, \"assessments\": []}, \"data\": {\"spans\": [{\"name\": \"root_span\", \"context\": {\"span_id\": \"19b9ac1ec26144a1\", \"trace_id\": \"5e34c34067d24f3aa1048a4d377064ee\"}, \"parent_id\": null, \"start_time\": null, \"end_time\": null, \"status_code\": \"OK\", \"status_message\": \"\", \"attributes\": {\"mlflow.traceRequestId\": \"\\\"5e34c34067d24f3aa1048a4d377064ee\\\"\", \"mlflow.spanInputs\": \"{\\\"messages\\\": [{\\\"role\\\": \\\"user\\\", \\\"content\\\": \\\"Vull saber si tinc actituds d'emprenedor i explorar el meu perfil emprenedor. \\\"}], \\\"databricks_options\\\": {\\\"return_trace\\\": true}}\", \"mlflow.spanOutputs\": \"\\\"Fail to invoke the model with {'messages': [{'role': 'user', 'content': \\\\\\\"Vull saber si tinc actituds d'emprenedor i explorar el meu perfil emprenedor. \\\\\\\"}], 'databricks_options': {'return_trace': True}}. MlflowException('Failed to call the deployment endpoint. Please check the deployment URL is set correctly and the input payload is valid.\\\\\\\\n\\\\\\\\n- Error: 400 Client Error: Encountered an unexpected error while parsing the input data. Error \\\\\\\\'Restarting model process. This is likely caused by a request timeout or OOM.\\\\\\\\' for url: https://adb-2869758279805397.17.azuredatabricks.net/serving-endpoints/agents_dts_proves_pre-startups_list-multi-agent-chatbot-claude/invocations. Response text: {\\\\\\\"error_code\\\\\\\": \\\\\\\"BAD_REQUEST\\\\\\\", \\\\\\\"message\\\\\\\": \\\\\\\"Encountered an unexpected error while parsing the input data. Error \\\\\\\\'Restarting model process. This is likely caused by a request timeout or OOM.\\\\\\\\'\\\\\\\"}\\\\\\\\n\\\\\\\\n- Deployment URI: agents_dts_proves_pre-startups_list-multi-agent-chatbot-claude\\\\\\\\n\\\\\\\\n- Input payload: {\\\\\\\\'messages\\\\\\\\': [{\\\\\\\\'role\\\\\\\\': \\\\\\\\'user\\\\\\\\', \\\\\\\\'content\\\\\\\\': \\\\\\\"Vull saber si tinc actituds d\\\\\\\\'emprenedor i explorar el meu perfil emprenedor. \\\\\\\"}], \\\\\\\\'databricks_options\\\\\\\\': {\\\\\\\\'return_trace\\\\\\\\': True}}')\\\"\"}, \"events\": []}], \"request\": \"{\\\"messages\\\": [{\\\"role\\\": \\\"user\\\", \\\"content\\\": \\\"Vull saber si tinc actituds d'emprenedor i explorar el meu perfil emprenedor. \\\"}], \\\"databricks_options\\\": {\\\"return_trace\\\": true}}\", \"response\": \"Fail to invoke the model with {'messages': [{'role': 'user', 'content': \\\"Vull saber si tinc actituds d'emprenedor i explorar el meu perfil emprenedor. \\\"}], 'databricks_options': {'return_trace': True}}. MlflowException('Failed to call the deployment endpoint. Please check the deployment URL is set correctly and the input payload is valid.\\\\n\\\\n- Error: 400 Client Error: Encountered an unexpected error while parsing the input data. Error \\\\'Restarting model process. This is likely caused by a request timeout or OOM.\\\\' for url: https://adb-2869758279805397.17.azuredatabricks.net/serving-endpoints/agents_dts_proves_pre-startups_list-multi-agent-chatbot-claude/invocations. Response text: {\\\"error_code\\\": \\\"BAD_REQUEST\\\", \\\"message\\\": \\\"Encountered an unexpected error while parsing the input data. Error \\\\'Restarting model process. This is likely caused by a request timeout or OOM.\\\\'\\\"}\\\\n\\\\n- Deployment URI: agents_dts_proves_pre-startups_list-multi-agent-chatbot-claude\\\\n\\\\n- Input payload: {\\\\'messages\\\\': [{\\\\'role\\\\': \\\\'user\\\\', \\\\'content\\\\': \\\"Vull saber si tinc actituds d\\\\'emprenedor i explorar el meu perfil emprenedor. \\\"}], \\\\'databricks_options\\\\': {\\\\'return_trace\\\\': True}}')\"}}",
         [],
         "Fail to invoke the model with {'messages': [{'role': 'user', 'content': \"Vull saber si tinc actituds d'emprenedor i explorar el meu perfil emprenedor. \"}], 'databricks_options': {'return_trace': True}}. MlflowException('Failed to call the deployment endpoint. Please check the deployment URL is set correctly and the input payload is valid.\\n\\n- Error: 400 Client Error: Encountered an unexpected error while parsing the input data. Error \\'Restarting model process. This is likely caused by a request timeout or OOM.\\' for url: https://adb-2869758279805397.17.azuredatabricks.net/serving-endpoints/agents_dts_proves_pre-startups_list-multi-agent-chatbot-claude/invocations. Response text: {\"error_code\": \"BAD_REQUEST\", \"message\": \"Encountered an unexpected error while parsing the input data. Error \\'Restarting model process. This is likely caused by a request timeout or OOM.\\'\"}\\n\\n- Deployment URI: agents_dts_proves_pre-startups_list-multi-agent-chatbot-claude\\n\\n- Input payload: {\\'messages\\': [{\\'role\\': \\'user\\', \\'content\\': \"Vull saber si tinc actituds d\\'emprenedor i explorar el meu perfil emprenedor. \"}], \\'databricks_options\\': {\\'return_trace\\': True}}')"
        ]
       ],
       "datasetInfos": [],
       "dbfsResultPath": null,
       "isJsonSchema": true,
       "metadata": {},
       "overflow": false,
       "plotOptions": {
        "customPlotOptions": {},
        "displayType": "table",
        "pivotAggregation": null,
        "pivotColumns": null,
        "xColumns": null,
        "yColumns": null
       },
       "removedWidgets": [],
       "schema": [
        {
         "metadata": "{}",
         "name": "request_id",
         "type": "\"string\""
        },
        {
         "metadata": "{}",
         "name": "request",
         "type": "{\"fields\":[{\"metadata\":{},\"name\":\"messages\",\"nullable\":true,\"type\":{\"containsNull\":true,\"elementType\":{\"fields\":[{\"metadata\":{},\"name\":\"content\",\"nullable\":true,\"type\":\"string\"},{\"metadata\":{},\"name\":\"role\",\"nullable\":true,\"type\":\"string\"}],\"type\":\"struct\"},\"type\":\"array\"}}],\"type\":\"struct\"}"
        },
        {
         "metadata": "{}",
         "name": "trace",
         "type": "\"string\""
        },
        {
         "metadata": "{}",
         "name": "tool_calls",
         "type": "{\"containsNull\":true,\"elementType\":\"void\",\"type\":\"array\"}"
        },
        {
         "metadata": "{}",
         "name": "model_error_message",
         "type": "\"string\""
        }
       ],
       "type": "table"
      }
     },
     "output_type": "display_data"
    }
   ],
   "source": [
    "## llm: claude\n",
    "\n",
    "with mlflow.start_run(run_name=\"agent-documentacio-claude-preguntes-personalitzades-1\"):\n",
    "    eval_results = mlflow.evaluate(\n",
    "        \"endpoints:/agents_dts_proves_pre-startups_list-multi-agent-chatbot-claude\",  # Aquí pones tu endpoint\n",
    "        data=eval_set_documnetation[:5],  # Tu dataset de evaluación\n",
    "        model_type=\"databricks-agent\",  # Para evaluación de Mosaic AI Agents\n",
    "    )\n",
    "\n",
    "display(eval_results.tables['eval_results'])"
   ]
  },
  {
   "cell_type": "code",
   "execution_count": 0,
   "metadata": {
    "application/vnd.databricks.v1+cell": {
     "cellMetadata": {
      "byteLimit": 2048000,
      "rowLimit": 10000
     },
     "inputWidgets": {},
     "nuid": "b015aa34-95db-4966-971f-df0d8b9f1334",
     "showTitle": false,
     "tableResultSettingsMap": {},
     "title": ""
    }
   },
   "outputs": [
    {
     "output_type": "display_data",
     "data": {
      "application/vnd.jupyter.widget-view+json": {
       "model_id": "f40102279a6f4d01ace0df27f904da2a",
       "version_major": 2,
       "version_minor": 0
      },
      "text/plain": [
       "Evaluating:   0%|          | 0/5 [Elapsed: 00:00, Remaining: ?]"
      ]
     },
     "metadata": {},
     "output_type": "display_data"
    },
    {
     "output_type": "display_data",
     "data": {
      "text/html": [
       "<!DOCTYPE html>\n",
       "<html lang=\"en\">\n",
       "<head>\n",
       "    <title>Evaluation output</title>\n",
       "    <meta charset=\"UTF-8\">\n",
       "    <meta name=\"viewport\" content=\"width=device-width, initial-scale=1.0\">\n",
       "    <style>\n",
       "        body {\n",
       "            font-family: Arial, sans-serif;\n",
       "        }\n",
       "\n",
       "        .header {\n",
       "            a.button {\n",
       "                padding: 4px 8px;\n",
       "                line-height: 20px;\n",
       "                box-shadow: none;\n",
       "                height: 20px;\n",
       "                display: inline-flex;\n",
       "                align-items: center;\n",
       "                justify-content: center;\n",
       "                vertical-align: middle;\n",
       "                background-color: rgb(34, 114, 180);\n",
       "                color: rgb(255, 255, 255);\n",
       "                text-decoration: none;\n",
       "                animation-duration: 0s;\n",
       "                transition: none 0s ease 0s;\n",
       "                position: relative;\n",
       "                white-space: nowrap;\n",
       "                text-align: center;\n",
       "                border: 1px solid rgb(192, 205, 216);\n",
       "                cursor: pointer;\n",
       "                user-select: none;\n",
       "                touch-action: manipulation;\n",
       "                border-radius: 4px;\n",
       "                gap: 6px;\n",
       "            }\n",
       "\n",
       "            a.button:hover {\n",
       "                background-color: rgb(14, 83, 139) !important;\n",
       "                border-color: transparent !important;\n",
       "                color: rgb(255, 255, 255) !important;\n",
       "            }\n",
       "        }\n",
       "\n",
       "        .warnings-section {\n",
       "            margin-top: 8px;\n",
       "\n",
       "            ul {\n",
       "                list-style-type: none;\n",
       "            }\n",
       "        }\n",
       "\n",
       "        .instructions-section {\n",
       "            margin-top: 16px;\n",
       "            font-size: 14px;\n",
       "\n",
       "            ul {\n",
       "                margin-top: 0;\n",
       "                margin-bottom: 0;\n",
       "            }\n",
       "        }\n",
       "\n",
       "        code {\n",
       "            font-family: monospace;\n",
       "        }\n",
       "\n",
       "        .note {\n",
       "            color: #666;\n",
       "        }\n",
       "\n",
       "        a {\n",
       "            color: #2272B4;\n",
       "            text-decoration: none;\n",
       "        }\n",
       "\n",
       "        a:hover {\n",
       "            color: #005580;\n",
       "        }\n",
       "    </style>\n",
       "</head>\n",
       "<body>\n",
       "<div>\n",
       "    <div class=\"header\">\n",
       "        <a href=\"https://adb-2869758279805397.17.azuredatabricks.net/ml/experiments/3845882404188464/runs/7fe8f058079d44dbb6cdb8611e46336b/evaluations/\" class=\"button\">\n",
       "            View evaluation results: 3/5 pass\n",
       "            <svg xmlns=\"http://www.w3.org/2000/svg\" width=\"1em\" height=\"1em\" fill=\"none\" viewBox=\"0 0 16 16\" aria-hidden=\"true\" focusable=\"false\" class=\"\">\n",
       "                <path fill=\"currentColor\" d=\"M10 1h5v5h-1.5V3.56L8.53 8.53 7.47 7.47l4.97-4.97H10z\"></path>\n",
       "                <path fill=\"currentColor\" d=\"M1 2.75A.75.75 0 0 1 1.75 2H8v1.5H2.5v10h10V8H14v6.25a.75.75 0 0 1-.75.75H1.75a.75.75 0 0 1-.75-.75z\"></path>\n",
       "            </svg>\n",
       "        </a>\n",
       "    </div>\n",
       "</div>\n",
       "</body>\n",
       "</html>"
      ]
     },
     "metadata": {},
     "output_type": "display_data"
    },
    {
     "output_type": "display_data",
     "data": {
      "text/html": [
       "<style scoped>\n",
       "  .table-result-container {\n",
       "    max-height: 300px;\n",
       "    overflow: auto;\n",
       "  }\n",
       "  table, th, td {\n",
       "    border: 1px solid black;\n",
       "    border-collapse: collapse;\n",
       "  }\n",
       "  th, td {\n",
       "    padding: 5px;\n",
       "  }\n",
       "  th {\n",
       "    text-align: left;\n",
       "  }\n",
       "</style><div class='table-result-container'><table class='table-result'><thead style='background-color: white'><tr><th>request_id</th><th>request</th><th>trace</th><th>tool_calls</th><th>model_error_message</th><th>response</th><th>retrieved_context</th><th>response/overall_assessment/rating</th><th>response/llm_judged/safety/rating</th><th>response/llm_judged/safety/rationale</th><th>response/llm_judged/relevance_to_query/rating</th><th>response/llm_judged/relevance_to_query/rationale</th><th>retrieval/llm_judged/chunk_relevance/ratings</th><th>retrieval/llm_judged/chunk_relevance/rationales</th><th>response/llm_judged/groundedness/rating</th><th>response/llm_judged/groundedness/rationale</th><th>agent/latency_seconds</th><th>retrieval/llm_judged/chunk_relevance/precision</th><th>response/overall_assessment/rationale</th></tr></thead><tbody><tr><td>46b0277fdf1c04400986863bd0fafdcfb287b541ffc7dbb8525e0243ffb9374f</td><td>List(List(List(Vull obrir un negoci local, com una botiga o un servei de proximitat. Quina forma jurídica em recomaneu si soc només jo per començar i vull que sigui senzill?, user)))</td><td>{\"info\": {\"request_id\": \"tr-220f0a84302248b2a607b5fc0d1361ad\", \"experiment_id\": \"3845882404188464\", \"timestamp_ms\": 1747394046664, \"execution_time_ms\": 0, \"status\": \"ERROR\", \"request_metadata\": {\"mlflow.sourceRun\": \"7fe8f058079d44dbb6cdb8611e46336b\", \"mlflow.traceInputs\": \"{\\\"messages\\\": [{\\\"role\\\": \\\"user\\\", \\\"content\\\": \\\"Vull obrir un negoci local, com una botiga o un servei de proximitat. Quina forma jur\\\\u00eddica em recomaneu si soc nom\\\\u00e9s jo per comen\\\\u00e7ar i vull que sigui senzill?\\\"}], \\\"databricks_options\\\": {\\\"retur\", \"mlflow.traceOutputs\": \"Fail to invoke the model with {'messages': [{'role': 'user', 'content': 'Vull obrir un negoci local, com una botiga o un servei de proximitat. Quina forma jur\\u00eddica em recomaneu si soc nom\\u00e9s jo per comen\\u00e7ar i vull que sigui senzill?'}], 'databricks_op\"}, \"tags\": {\"mlflow.user\": \"aliciachimeno_ext@gencat.cat\", \"mlflow.artifactLocation\": \"dbfs:/databricks/mlflow-tracking/3845882404188464/tr-220f0a84302248b2a607b5fc0d1361ad/artifacts\"}, \"assessments\": []}, \"data\": {\"spans\": [{\"name\": \"root_span\", \"context\": {\"span_id\": \"9ce44a2ef35d4d05\", \"trace_id\": \"e41e3876701d4c1e8cc1c1d3065200e6\"}, \"parent_id\": null, \"start_time\": null, \"end_time\": null, \"status_code\": \"OK\", \"status_message\": \"\", \"attributes\": {\"mlflow.traceRequestId\": \"\\\"e41e3876701d4c1e8cc1c1d3065200e6\\\"\", \"mlflow.spanInputs\": \"{\\\"messages\\\": [{\\\"role\\\": \\\"user\\\", \\\"content\\\": \\\"Vull obrir un negoci local, com una botiga o un servei de proximitat. Quina forma jur\\\\u00eddica em recomaneu si soc nom\\\\u00e9s jo per comen\\\\u00e7ar i vull que sigui senzill?\\\"}], \\\"databricks_options\\\": {\\\"return_trace\\\": true}}\", \"mlflow.spanOutputs\": \"\\\"Fail to invoke the model with {'messages': [{'role': 'user', 'content': 'Vull obrir un negoci local, com una botiga o un servei de proximitat. Quina forma jur\\\\u00eddica em recomaneu si soc nom\\\\u00e9s jo per comen\\\\u00e7ar i vull que sigui senzill?'}], 'databricks_options': {'return_trace': True}}. MlflowException('Failed to call the deployment endpoint. Please check the deployment URL is set correctly and the input payload is valid.\\\\\\\\n\\\\\\\\n- Error: 400 Client Error: Encountered an unexpected error while evaluating the model. Verify that the input is compatible with the model for inference. Error \\\\\\\\'1 validation error for ChatAgentMessage\\\\\\\\n  Value error, Either \\\\\\\\'content\\\\\\\\' or \\\\\\\\'tool_calls\\\\\\\\' must be provided. [type=value_error, input_value={\\\\\\\\'role\\\\\\\\': \\\\\\\\'assistant\\\\\\\\', \\\\\\\\'co...449e-8b32-36268b37d4ce\\\\\\\\'}, input_type=dict]\\\\\\\\n    For further information visit https://errors.pydantic.dev/2.11/v/value_error\\\\\\\\' for url: https://adb-2869758279805397.17.azuredatabricks.net/serving-endpoints/agents_dts_proves_pre-startups_list-multi-agent-chatbot-claude/invocations. Response text: {\\\\\\\"error_code\\\\\\\": \\\\\\\"BAD_REQUEST\\\\\\\", \\\\\\\"message\\\\\\\": \\\\\\\"Encountered an unexpected error while evaluating the model. Verify that the input is compatible with the model for inference. Error \\\\\\\\'1 validation error for ChatAgentMessage\\\\\\\\\\\\\\\\n  Value error, Either \\\\\\\\'content\\\\\\\\' or \\\\\\\\'tool_calls\\\\\\\\' must be provided. [type=value_error, input_value={\\\\\\\\'role\\\\\\\\': \\\\\\\\'assistant\\\\\\\\', \\\\\\\\'co...449e-8b32-36268b37d4ce\\\\\\\\'}, input_type=dict]\\\\\\\\\\\\\\\\n    For further information visit https://errors.pydantic.dev/2.11/v/value_error\\\\\\\\'\\\\\\\"}\\\\\\\\n\\\\\\\\n- Deployment URI: agents_dts_proves_pre-startups_list-multi-agent-chatbot-claude\\\\\\\\n\\\\\\\\n- Input payload: {\\\\\\\\'messages\\\\\\\\': [{\\\\\\\\'role\\\\\\\\': \\\\\\\\'user\\\\\\\\', \\\\\\\\'content\\\\\\\\': \\\\\\\\'Vull obrir un negoci local, com una botiga o un servei de proximitat. Quina forma jur\\\\u00eddica em recomaneu si soc nom\\\\u00e9s jo per comen\\\\u00e7ar i vull que sigui senzill?\\\\\\\\'}], \\\\\\\\'databricks_options\\\\\\\\': {\\\\\\\\'return_trace\\\\\\\\': True}}')\\\"\"}, \"events\": []}], \"request\": \"{\\\"messages\\\": [{\\\"role\\\": \\\"user\\\", \\\"content\\\": \\\"Vull obrir un negoci local, com una botiga o un servei de proximitat. Quina forma jur\\\\u00eddica em recomaneu si soc nom\\\\u00e9s jo per comen\\\\u00e7ar i vull que sigui senzill?\\\"}], \\\"databricks_options\\\": {\\\"return_trace\\\": true}}\", \"response\": \"Fail to invoke the model with {'messages': [{'role': 'user', 'content': 'Vull obrir un negoci local, com una botiga o un servei de proximitat. Quina forma jur\\u00eddica em recomaneu si soc nom\\u00e9s jo per comen\\u00e7ar i vull que sigui senzill?'}], 'databricks_options': {'return_trace': True}}. MlflowException('Failed to call the deployment endpoint. Please check the deployment URL is set correctly and the input payload is valid.\\\\n\\\\n- Error: 400 Client Error: Encountered an unexpected error while evaluating the model. Verify that the input is compatible with the model for inference. Error \\\\'1 validation error for ChatAgentMessage\\\\n  Value error, Either \\\\'content\\\\' or \\\\'tool_calls\\\\' must be provided. [type=value_error, input_value={\\\\'role\\\\': \\\\'assistant\\\\', \\\\'co...449e-8b32-36268b37d4ce\\\\'}, input_type=dict]\\\\n    For further information visit https://errors.pydantic.dev/2.11/v/value_error\\\\' for url: https://adb-2869758279805397.17.azuredatabricks.net/serving-endpoints/agents_dts_proves_pre-startups_list-multi-agent-chatbot-claude/invocations. Response text: {\\\"error_code\\\": \\\"BAD_REQUEST\\\", \\\"message\\\": \\\"Encountered an unexpected error while evaluating the model. Verify that the input is compatible with the model for inference. Error \\\\'1 validation error for ChatAgentMessage\\\\\\\\n  Value error, Either \\\\'content\\\\' or \\\\'tool_calls\\\\' must be provided. [type=value_error, input_value={\\\\'role\\\\': \\\\'assistant\\\\', \\\\'co...449e-8b32-36268b37d4ce\\\\'}, input_type=dict]\\\\\\\\n    For further information visit https://errors.pydantic.dev/2.11/v/value_error\\\\'\\\"}\\\\n\\\\n- Deployment URI: agents_dts_proves_pre-startups_list-multi-agent-chatbot-claude\\\\n\\\\n- Input payload: {\\\\'messages\\\\': [{\\\\'role\\\\': \\\\'user\\\\', \\\\'content\\\\': \\\\'Vull obrir un negoci local, com una botiga o un servei de proximitat. Quina forma jur\\u00eddica em recomaneu si soc nom\\u00e9s jo per comen\\u00e7ar i vull que sigui senzill?\\\\'}], \\\\'databricks_options\\\\': {\\\\'return_trace\\\\': True}}')\"}}</td><td>List()</td><td>Fail to invoke the model with {'messages': [{'role': 'user', 'content': 'Vull obrir un negoci local, com una botiga o un servei de proximitat. Quina forma jurídica em recomaneu si soc només jo per començar i vull que sigui senzill?'}], 'databricks_options': {'return_trace': True}}. MlflowException('Failed to call the deployment endpoint. Please check the deployment URL is set correctly and the input payload is valid.\\n\\n- Error: 400 Client Error: Encountered an unexpected error while evaluating the model. Verify that the input is compatible with the model for inference. Error \\'1 validation error for ChatAgentMessage\\n  Value error, Either \\'content\\' or \\'tool_calls\\' must be provided. [type=value_error, input_value={\\'role\\': \\'assistant\\', \\'co...449e-8b32-36268b37d4ce\\'}, input_type=dict]\\n    For further information visit https://errors.pydantic.dev/2.11/v/value_error\\' for url: https://adb-2869758279805397.17.azuredatabricks.net/serving-endpoints/agents_dts_proves_pre-startups_list-multi-agent-chatbot-claude/invocations. Response text: {\"error_code\": \"BAD_REQUEST\", \"message\": \"Encountered an unexpected error while evaluating the model. Verify that the input is compatible with the model for inference. Error \\'1 validation error for ChatAgentMessage\\\\n  Value error, Either \\'content\\' or \\'tool_calls\\' must be provided. [type=value_error, input_value={\\'role\\': \\'assistant\\', \\'co...449e-8b32-36268b37d4ce\\'}, input_type=dict]\\\\n    For further information visit https://errors.pydantic.dev/2.11/v/value_error\\'\"}\\n\\n- Deployment URI: agents_dts_proves_pre-startups_list-multi-agent-chatbot-claude\\n\\n- Input payload: {\\'messages\\': [{\\'role\\': \\'user\\', \\'content\\': \\'Vull obrir un negoci local, com una botiga o un servei de proximitat. Quina forma jurídica em recomaneu si soc només jo per començar i vull que sigui senzill?\\'}], \\'databricks_options\\': {\\'return_trace\\': True}}')</td><td>null</td><td>null</td><td>null</td><td>null</td><td>null</td><td>null</td><td>null</td><td>null</td><td>null</td><td>null</td><td>null</td><td>null</td><td>null</td><td>null</td></tr></tbody></table>Showing the first 1 rows.</div>"
      ]
     },
     "metadata": {
      "application/vnd.databricks.v1+output": {
       "addedWidgets": {},
       "aggData": [],
       "aggError": "",
       "aggOverflow": false,
       "aggSchema": [],
       "aggSeriesLimitReached": false,
       "aggType": "",
       "arguments": {},
       "columnCustomDisplayInfos": {},
       "data": [
        [
         "46b0277fdf1c04400986863bd0fafdcfb287b541ffc7dbb8525e0243ffb9374f",
         [
          [
           [
            "Vull obrir un negoci local, com una botiga o un servei de proximitat. Quina forma jurídica em recomaneu si soc només jo per començar i vull que sigui senzill?",
            "user"
           ]
          ]
         ],
         "{\"info\": {\"request_id\": \"tr-220f0a84302248b2a607b5fc0d1361ad\", \"experiment_id\": \"3845882404188464\", \"timestamp_ms\": 1747394046664, \"execution_time_ms\": 0, \"status\": \"ERROR\", \"request_metadata\": {\"mlflow.sourceRun\": \"7fe8f058079d44dbb6cdb8611e46336b\", \"mlflow.traceInputs\": \"{\\\"messages\\\": [{\\\"role\\\": \\\"user\\\", \\\"content\\\": \\\"Vull obrir un negoci local, com una botiga o un servei de proximitat. Quina forma jur\\\\u00eddica em recomaneu si soc nom\\\\u00e9s jo per comen\\\\u00e7ar i vull que sigui senzill?\\\"}], \\\"databricks_options\\\": {\\\"retur\", \"mlflow.traceOutputs\": \"Fail to invoke the model with {'messages': [{'role': 'user', 'content': 'Vull obrir un negoci local, com una botiga o un servei de proximitat. Quina forma jur\\u00eddica em recomaneu si soc nom\\u00e9s jo per comen\\u00e7ar i vull que sigui senzill?'}], 'databricks_op\"}, \"tags\": {\"mlflow.user\": \"aliciachimeno_ext@gencat.cat\", \"mlflow.artifactLocation\": \"dbfs:/databricks/mlflow-tracking/3845882404188464/tr-220f0a84302248b2a607b5fc0d1361ad/artifacts\"}, \"assessments\": []}, \"data\": {\"spans\": [{\"name\": \"root_span\", \"context\": {\"span_id\": \"9ce44a2ef35d4d05\", \"trace_id\": \"e41e3876701d4c1e8cc1c1d3065200e6\"}, \"parent_id\": null, \"start_time\": null, \"end_time\": null, \"status_code\": \"OK\", \"status_message\": \"\", \"attributes\": {\"mlflow.traceRequestId\": \"\\\"e41e3876701d4c1e8cc1c1d3065200e6\\\"\", \"mlflow.spanInputs\": \"{\\\"messages\\\": [{\\\"role\\\": \\\"user\\\", \\\"content\\\": \\\"Vull obrir un negoci local, com una botiga o un servei de proximitat. Quina forma jur\\\\u00eddica em recomaneu si soc nom\\\\u00e9s jo per comen\\\\u00e7ar i vull que sigui senzill?\\\"}], \\\"databricks_options\\\": {\\\"return_trace\\\": true}}\", \"mlflow.spanOutputs\": \"\\\"Fail to invoke the model with {'messages': [{'role': 'user', 'content': 'Vull obrir un negoci local, com una botiga o un servei de proximitat. Quina forma jur\\\\u00eddica em recomaneu si soc nom\\\\u00e9s jo per comen\\\\u00e7ar i vull que sigui senzill?'}], 'databricks_options': {'return_trace': True}}. MlflowException('Failed to call the deployment endpoint. Please check the deployment URL is set correctly and the input payload is valid.\\\\\\\\n\\\\\\\\n- Error: 400 Client Error: Encountered an unexpected error while evaluating the model. Verify that the input is compatible with the model for inference. Error \\\\\\\\'1 validation error for ChatAgentMessage\\\\\\\\n  Value error, Either \\\\\\\\'content\\\\\\\\' or \\\\\\\\'tool_calls\\\\\\\\' must be provided. [type=value_error, input_value={\\\\\\\\'role\\\\\\\\': \\\\\\\\'assistant\\\\\\\\', \\\\\\\\'co...449e-8b32-36268b37d4ce\\\\\\\\'}, input_type=dict]\\\\\\\\n    For further information visit https://errors.pydantic.dev/2.11/v/value_error\\\\\\\\' for url: https://adb-2869758279805397.17.azuredatabricks.net/serving-endpoints/agents_dts_proves_pre-startups_list-multi-agent-chatbot-claude/invocations. Response text: {\\\\\\\"error_code\\\\\\\": \\\\\\\"BAD_REQUEST\\\\\\\", \\\\\\\"message\\\\\\\": \\\\\\\"Encountered an unexpected error while evaluating the model. Verify that the input is compatible with the model for inference. Error \\\\\\\\'1 validation error for ChatAgentMessage\\\\\\\\\\\\\\\\n  Value error, Either \\\\\\\\'content\\\\\\\\' or \\\\\\\\'tool_calls\\\\\\\\' must be provided. [type=value_error, input_value={\\\\\\\\'role\\\\\\\\': \\\\\\\\'assistant\\\\\\\\', \\\\\\\\'co...449e-8b32-36268b37d4ce\\\\\\\\'}, input_type=dict]\\\\\\\\\\\\\\\\n    For further information visit https://errors.pydantic.dev/2.11/v/value_error\\\\\\\\'\\\\\\\"}\\\\\\\\n\\\\\\\\n- Deployment URI: agents_dts_proves_pre-startups_list-multi-agent-chatbot-claude\\\\\\\\n\\\\\\\\n- Input payload: {\\\\\\\\'messages\\\\\\\\': [{\\\\\\\\'role\\\\\\\\': \\\\\\\\'user\\\\\\\\', \\\\\\\\'content\\\\\\\\': \\\\\\\\'Vull obrir un negoci local, com una botiga o un servei de proximitat. Quina forma jur\\\\u00eddica em recomaneu si soc nom\\\\u00e9s jo per comen\\\\u00e7ar i vull que sigui senzill?\\\\\\\\'}], \\\\\\\\'databricks_options\\\\\\\\': {\\\\\\\\'return_trace\\\\\\\\': True}}')\\\"\"}, \"events\": []}], \"request\": \"{\\\"messages\\\": [{\\\"role\\\": \\\"user\\\", \\\"content\\\": \\\"Vull obrir un negoci local, com una botiga o un servei de proximitat. Quina forma jur\\\\u00eddica em recomaneu si soc nom\\\\u00e9s jo per comen\\\\u00e7ar i vull que sigui senzill?\\\"}], \\\"databricks_options\\\": {\\\"return_trace\\\": true}}\", \"response\": \"Fail to invoke the model with {'messages': [{'role': 'user', 'content': 'Vull obrir un negoci local, com una botiga o un servei de proximitat. Quina forma jur\\u00eddica em recomaneu si soc nom\\u00e9s jo per comen\\u00e7ar i vull que sigui senzill?'}], 'databricks_options': {'return_trace': True}}. MlflowException('Failed to call the deployment endpoint. Please check the deployment URL is set correctly and the input payload is valid.\\\\n\\\\n- Error: 400 Client Error: Encountered an unexpected error while evaluating the model. Verify that the input is compatible with the model for inference. Error \\\\'1 validation error for ChatAgentMessage\\\\n  Value error, Either \\\\'content\\\\' or \\\\'tool_calls\\\\' must be provided. [type=value_error, input_value={\\\\'role\\\\': \\\\'assistant\\\\', \\\\'co...449e-8b32-36268b37d4ce\\\\'}, input_type=dict]\\\\n    For further information visit https://errors.pydantic.dev/2.11/v/value_error\\\\' for url: https://adb-2869758279805397.17.azuredatabricks.net/serving-endpoints/agents_dts_proves_pre-startups_list-multi-agent-chatbot-claude/invocations. Response text: {\\\"error_code\\\": \\\"BAD_REQUEST\\\", \\\"message\\\": \\\"Encountered an unexpected error while evaluating the model. Verify that the input is compatible with the model for inference. Error \\\\'1 validation error for ChatAgentMessage\\\\\\\\n  Value error, Either \\\\'content\\\\' or \\\\'tool_calls\\\\' must be provided. [type=value_error, input_value={\\\\'role\\\\': \\\\'assistant\\\\', \\\\'co...449e-8b32-36268b37d4ce\\\\'}, input_type=dict]\\\\\\\\n    For further information visit https://errors.pydantic.dev/2.11/v/value_error\\\\'\\\"}\\\\n\\\\n- Deployment URI: agents_dts_proves_pre-startups_list-multi-agent-chatbot-claude\\\\n\\\\n- Input payload: {\\\\'messages\\\\': [{\\\\'role\\\\': \\\\'user\\\\', \\\\'content\\\\': \\\\'Vull obrir un negoci local, com una botiga o un servei de proximitat. Quina forma jur\\u00eddica em recomaneu si soc nom\\u00e9s jo per comen\\u00e7ar i vull que sigui senzill?\\\\'}], \\\\'databricks_options\\\\': {\\\\'return_trace\\\\': True}}')\"}}",
         [],
         "Fail to invoke the model with {'messages': [{'role': 'user', 'content': 'Vull obrir un negoci local, com una botiga o un servei de proximitat. Quina forma jurídica em recomaneu si soc només jo per començar i vull que sigui senzill?'}], 'databricks_options': {'return_trace': True}}. MlflowException('Failed to call the deployment endpoint. Please check the deployment URL is set correctly and the input payload is valid.\\n\\n- Error: 400 Client Error: Encountered an unexpected error while evaluating the model. Verify that the input is compatible with the model for inference. Error \\'1 validation error for ChatAgentMessage\\n  Value error, Either \\'content\\' or \\'tool_calls\\' must be provided. [type=value_error, input_value={\\'role\\': \\'assistant\\', \\'co...449e-8b32-36268b37d4ce\\'}, input_type=dict]\\n    For further information visit https://errors.pydantic.dev/2.11/v/value_error\\' for url: https://adb-2869758279805397.17.azuredatabricks.net/serving-endpoints/agents_dts_proves_pre-startups_list-multi-agent-chatbot-claude/invocations. Response text: {\"error_code\": \"BAD_REQUEST\", \"message\": \"Encountered an unexpected error while evaluating the model. Verify that the input is compatible with the model for inference. Error \\'1 validation error for ChatAgentMessage\\\\n  Value error, Either \\'content\\' or \\'tool_calls\\' must be provided. [type=value_error, input_value={\\'role\\': \\'assistant\\', \\'co...449e-8b32-36268b37d4ce\\'}, input_type=dict]\\\\n    For further information visit https://errors.pydantic.dev/2.11/v/value_error\\'\"}\\n\\n- Deployment URI: agents_dts_proves_pre-startups_list-multi-agent-chatbot-claude\\n\\n- Input payload: {\\'messages\\': [{\\'role\\': \\'user\\', \\'content\\': \\'Vull obrir un negoci local, com una botiga o un servei de proximitat. Quina forma jurídica em recomaneu si soc només jo per començar i vull que sigui senzill?\\'}], \\'databricks_options\\': {\\'return_trace\\': True}}')",
         null,
         null,
         null,
         null,
         null,
         null,
         null,
         null,
         null,
         null,
         null,
         null,
         null,
         null
        ]
       ],
       "datasetInfos": [],
       "dbfsResultPath": null,
       "isJsonSchema": true,
       "metadata": {},
       "overflow": true,
       "plotOptions": {
        "customPlotOptions": {},
        "displayType": "table",
        "pivotAggregation": null,
        "pivotColumns": null,
        "xColumns": null,
        "yColumns": null
       },
       "removedWidgets": [],
       "schema": [
        {
         "metadata": "{}",
         "name": "request_id",
         "type": "\"string\""
        },
        {
         "metadata": "{}",
         "name": "request",
         "type": "{\"fields\":[{\"metadata\":{},\"name\":\"messages\",\"nullable\":true,\"type\":{\"containsNull\":true,\"elementType\":{\"fields\":[{\"metadata\":{},\"name\":\"content\",\"nullable\":true,\"type\":\"string\"},{\"metadata\":{},\"name\":\"role\",\"nullable\":true,\"type\":\"string\"}],\"type\":\"struct\"},\"type\":\"array\"}}],\"type\":\"struct\"}"
        },
        {
         "metadata": "{}",
         "name": "trace",
         "type": "\"string\""
        },
        {
         "metadata": "{}",
         "name": "tool_calls",
         "type": "{\"containsNull\":true,\"elementType\":{\"fields\":[{\"metadata\":{},\"name\":\"available_tools\",\"nullable\":true,\"type\":{\"containsNull\":true,\"elementType\":{\"fields\":[{\"metadata\":{},\"name\":\"function\",\"nullable\":true,\"type\":{\"fields\":[{\"metadata\":{},\"name\":\"description\",\"nullable\":true,\"type\":\"string\"},{\"metadata\":{},\"name\":\"name\",\"nullable\":true,\"type\":\"string\"},{\"metadata\":{},\"name\":\"parameters\",\"nullable\":true,\"type\":{\"fields\":[{\"metadata\":{},\"name\":\"properties\",\"nullable\":true,\"type\":{\"fields\":[{\"metadata\":{},\"name\":\"filters\",\"nullable\":true,\"type\":{\"fields\":[{\"metadata\":{},\"name\":\"description\",\"nullable\":true,\"type\":\"string\"},{\"metadata\":{},\"name\":\"type\",\"nullable\":true,\"type\":\"string\"}],\"type\":\"struct\"}},{\"metadata\":{},\"name\":\"next_node\",\"nullable\":true,\"type\":{\"fields\":[{\"metadata\":{},\"name\":\"enum\",\"nullable\":true,\"type\":{\"containsNull\":true,\"elementType\":\"string\",\"type\":\"array\"}},{\"metadata\":{},\"name\":\"type\",\"nullable\":true,\"type\":\"string\"}],\"type\":\"struct\"}},{\"metadata\":{},\"name\":\"query\",\"nullable\":true,\"type\":{\"fields\":[{\"metadata\":{},\"name\":\"description\",\"nullable\":true,\"type\":\"string\"},{\"metadata\":{},\"name\":\"type\",\"nullable\":true,\"type\":\"string\"}],\"type\":\"struct\"}}],\"type\":\"struct\"}},{\"metadata\":{},\"name\":\"required\",\"nullable\":true,\"type\":{\"containsNull\":true,\"elementType\":\"string\",\"type\":\"array\"}},{\"metadata\":{},\"name\":\"type\",\"nullable\":true,\"type\":\"string\"}],\"type\":\"struct\"}}],\"type\":\"struct\"}},{\"metadata\":{},\"name\":\"type\",\"nullable\":true,\"type\":\"string\"}],\"type\":\"struct\"},\"type\":\"array\"}},{\"metadata\":{},\"name\":\"raw_span\",\"nullable\":true,\"type\":{\"fields\":[{\"metadata\":{},\"name\":\"attributes\",\"nullable\":true,\"type\":{\"fields\":[{\"metadata\":{},\"name\":\"batch_size\",\"nullable\":true,\"type\":\"long\"},{\"metadata\":{},\"name\":\"invocation_params\",\"nullable\":true,\"type\":{\"fields\":[{\"metadata\":{},\"name\":\"_type\",\"nullable\":true,\"type\":\"string\"},{\"metadata\":{},\"name\":\"extra_params\",\"nullable\":true,\"type\":{\"fields\":[],\"type\":\"struct\"}},{\"metadata\":{},\"name\":\"model\",\"nullable\":true,\"type\":\"string\"},{\"metadata\":{},\"name\":\"n\",\"nullable\":true,\"type\":\"long\"},{\"metadata\":{},\"name\":\"stop\",\"nullable\":true,\"type\":\"void\"},{\"metadata\":{},\"name\":\"target_uri\",\"nullable\":true,\"type\":\"string\"},{\"metadata\":{},\"name\":\"tool_choice\",\"nullable\":true,\"type\":{\"fields\":[{\"metadata\":{},\"name\":\"function\",\"nullable\":true,\"type\":{\"fields\":[{\"metadata\":{},\"name\":\"name\",\"nullable\":true,\"type\":\"string\"}],\"type\":\"struct\"}},{\"metadata\":{},\"name\":\"type\",\"nullable\":true,\"type\":\"string\"}],\"type\":\"struct\"}},{\"metadata\":{},\"name\":\"tools\",\"nullable\":true,\"type\":{\"containsNull\":true,\"elementType\":{\"fields\":[{\"metadata\":{},\"name\":\"function\",\"nullable\":true,\"type\":{\"fields\":[{\"metadata\":{},\"name\":\"description\",\"nullable\":true,\"type\":\"string\"},{\"metadata\":{},\"name\":\"name\",\"nullable\":true,\"type\":\"string\"},{\"metadata\":{},\"name\":\"parameters\",\"nullable\":true,\"type\":{\"fields\":[{\"metadata\":{},\"name\":\"properties\",\"nullable\":true,\"type\":{\"fields\":[{\"metadata\":{},\"name\":\"filters\",\"nullable\":true,\"type\":{\"fields\":[{\"metadata\":{},\"name\":\"additionalProperties\",\"nullable\":true,\"type\":\"boolean\"},{\"metadata\":{},\"name\":\"default\",\"nullable\":true,\"type\":\"void\"},{\"metadata\":{},\"name\":\"description\",\"nullable\":true,\"type\":\"string\"},{\"metadata\":{},\"name\":\"type\",\"nullable\":true,\"type\":\"string\"}],\"type\":\"struct\"}},{\"metadata\":{},\"name\":\"next_node\",\"nullable\":true,\"type\":{\"fields\":[{\"metadata\":{},\"name\":\"enum\",\"nullable\":true,\"type\":{\"containsNull\":true,\"elementType\":\"string\",\"type\":\"array\"}},{\"metadata\":{},\"name\":\"type\",\"nullable\":true,\"type\":\"string\"}],\"type\":\"struct\"}},{\"metadata\":{},\"name\":\"query\",\"nullable\":true,\"type\":{\"fields\":[{\"metadata\":{},\"name\":\"description\",\"nullable\":true,\"type\":\"string\"},{\"metadata\":{},\"name\":\"type\",\"nullable\":true,\"type\":\"string\"}],\"type\":\"struct\"}}],\"type\":\"struct\"}},{\"metadata\":{},\"name\":\"required\",\"nullable\":true,\"type\":{\"containsNull\":true,\"elementType\":\"string\",\"type\":\"array\"}},{\"metadata\":{},\"name\":\"type\",\"nullable\":true,\"type\":\"string\"}],\"type\":\"struct\"}}],\"type\":\"struct\"}},{\"metadata\":{},\"name\":\"type\",\"nullable\":true,\"type\":\"string\"}],\"type\":\"struct\"},\"type\":\"array\"}}],\"type\":\"struct\"}},{\"metadata\":{},\"name\":\"metadata\",\"nullable\":true,\"type\":{\"fields\":[{\"metadata\":{},\"name\":\"checkpoint_ns\",\"nullable\":true,\"type\":\"string\"},{\"metadata\":{},\"name\":\"langgraph_checkpoint_ns\",\"nullable\":true,\"type\":\"string\"},{\"metadata\":{},\"name\":\"langgraph_node\",\"nullable\":true,\"type\":\"string\"},{\"metadata\":{},\"name\":\"langgraph_path\",\"nullable\":true,\"type\":{\"containsNull\":true,\"elementType\":\"string\",\"type\":\"array\"}},{\"metadata\":{},\"name\":\"langgraph_step\",\"nullable\":true,\"type\":\"long\"},{\"metadata\":{},\"name\":\"langgraph_triggers\",\"nullable\":true,\"type\":{\"containsNull\":true,\"elementType\":\"string\",\"type\":\"array\"}},{\"metadata\":{},\"name\":\"ls_model_name\",\"nullable\":true,\"type\":\"string\"},{\"metadata\":{},\"name\":\"ls_model_type\",\"nullable\":true,\"type\":\"string\"},{\"metadata\":{},\"name\":\"ls_provider\",\"nullable\":true,\"type\":\"string\"}],\"type\":\"struct\"}},{\"metadata\":{},\"name\":\"mlflow.chat.messages\",\"nullable\":true,\"type\":{\"containsNull\":true,\"elementType\":{\"fields\":[{\"metadata\":{},\"name\":\"content\",\"nullable\":true,\"type\":\"string\"},{\"metadata\":{},\"name\":\"role\",\"nullable\":true,\"type\":\"string\"},{\"metadata\":{},\"name\":\"tool_call_id\",\"nullable\":true,\"type\":\"string\"},{\"metadata\":{},\"name\":\"tool_calls\",\"nullable\":true,\"type\":{\"containsNull\":true,\"elementType\":{\"fields\":[{\"metadata\":{},\"name\":\"function\",\"nullable\":true,\"type\":{\"fields\":[{\"metadata\":{},\"name\":\"arguments\",\"nullable\":true,\"type\":\"string\"},{\"metadata\":{},\"name\":\"name\",\"nullable\":true,\"type\":\"string\"}],\"type\":\"struct\"}},{\"metadata\":{},\"name\":\"id\",\"nullable\":true,\"type\":\"string\"},{\"metadata\":{},\"name\":\"type\",\"nullable\":true,\"type\":\"string\"}],\"type\":\"struct\"},\"type\":\"array\"}}],\"type\":\"struct\"},\"type\":\"array\"}},{\"metadata\":{},\"name\":\"mlflow.chat.tools\",\"nullable\":true,\"type\":{\"containsNull\":true,\"elementType\":{\"fields\":[{\"metadata\":{},\"name\":\"function\",\"nullable\":true,\"type\":{\"fields\":[{\"metadata\":{},\"name\":\"description\",\"nullable\":true,\"type\":\"string\"},{\"metadata\":{},\"name\":\"name\",\"nullable\":true,\"type\":\"string\"},{\"metadata\":{},\"name\":\"parameters\",\"nullable\":true,\"type\":{\"fields\":[{\"metadata\":{},\"name\":\"properties\",\"nullable\":true,\"type\":{\"fields\":[{\"metadata\":{},\"name\":\"filters\",\"nullable\":true,\"type\":{\"fields\":[{\"metadata\":{},\"name\":\"description\",\"nullable\":true,\"type\":\"string\"},{\"metadata\":{},\"name\":\"type\",\"nullable\":true,\"type\":\"string\"}],\"type\":\"struct\"}},{\"metadata\":{},\"name\":\"next_node\",\"nullable\":true,\"type\":{\"fields\":[{\"metadata\":{},\"name\":\"enum\",\"nullable\":true,\"type\":{\"containsNull\":true,\"elementType\":\"string\",\"type\":\"array\"}},{\"metadata\":{},\"name\":\"type\",\"nullable\":true,\"type\":\"string\"}],\"type\":\"struct\"}},{\"metadata\":{},\"name\":\"query\",\"nullable\":true,\"type\":{\"fields\":[{\"metadata\":{},\"name\":\"description\",\"nullable\":true,\"type\":\"string\"},{\"metadata\":{},\"name\":\"type\",\"nullable\":true,\"type\":\"string\"}],\"type\":\"struct\"}}],\"type\":\"struct\"}},{\"metadata\":{},\"name\":\"required\",\"nullable\":true,\"type\":{\"containsNull\":true,\"elementType\":\"string\",\"type\":\"array\"}},{\"metadata\":{},\"name\":\"type\",\"nullable\":true,\"type\":\"string\"}],\"type\":\"struct\"}}],\"type\":\"struct\"}},{\"metadata\":{},\"name\":\"type\",\"nullable\":true,\"type\":\"string\"}],\"type\":\"struct\"},\"type\":\"array\"}},{\"metadata\":{},\"name\":\"mlflow.spanInputs\",\"nullable\":true,\"type\":{\"containsNull\":true,\"elementType\":{\"containsNull\":true,\"elementType\":{\"fields\":[{\"metadata\":{},\"name\":\"additional_kwargs\",\"nullable\":true,\"type\":{\"fields\":[{\"metadata\":{},\"name\":\"tool_calls\",\"nullable\":true,\"type\":{\"containsNull\":true,\"elementType\":{\"fields\":[{\"metadata\":{},\"name\":\"function\",\"nullable\":true,\"type\":{\"fields\":[{\"metadata\":{},\"name\":\"arguments\",\"nullable\":true,\"type\":\"string\"},{\"metadata\":{},\"name\":\"name\",\"nullable\":true,\"type\":\"string\"}],\"type\":\"struct\"}},{\"metadata\":{},\"name\":\"id\",\"nullable\":true,\"type\":\"string\"},{\"metadata\":{},\"name\":\"type\",\"nullable\":true,\"type\":\"string\"}],\"type\":\"struct\"},\"type\":\"array\"}}],\"type\":\"struct\"}},{\"metadata\":{},\"name\":\"artifact\",\"nullable\":true,\"type\":\"void\"},{\"metadata\":{},\"name\":\"content\",\"nullable\":true,\"type\":\"string\"},{\"metadata\":{},\"name\":\"example\",\"nullable\":true,\"type\":\"boolean\"},{\"metadata\":{},\"name\":\"id\",\"nullable\":true,\"type\":\"string\"},{\"metadata\":{},\"name\":\"invalid_tool_calls\",\"nullable\":true,\"type\":{\"containsNull\":true,\"elementType\":\"void\",\"type\":\"array\"}},{\"metadata\":{},\"name\":\"name\",\"nullable\":true,\"type\":\"string\"},{\"metadata\":{},\"name\":\"response_metadata\",\"nullable\":true,\"type\":{\"fields\":[{\"metadata\":{},\"name\":\"created\",\"nullable\":true,\"type\":\"long\"},{\"metadata\":{},\"name\":\"id\",\"nullable\":true,\"type\":\"string\"},{\"metadata\":{},\"name\":\"model\",\"nullable\":true,\"type\":\"string\"},{\"metadata\":{},\"name\":\"model_name\",\"nullable\":true,\"type\":\"string\"},{\"metadata\":{},\"name\":\"object\",\"nullable\":true,\"type\":\"string\"},{\"metadata\":{},\"name\":\"usage\",\"nullable\":true,\"type\":{\"fields\":[{\"metadata\":{},\"name\":\"completion_tokens\",\"nullable\":true,\"type\":\"long\"},{\"metadata\":{},\"name\":\"prompt_tokens\",\"nullable\":true,\"type\":\"long\"},{\"metadata\":{},\"name\":\"total_tokens\",\"nullable\":true,\"type\":\"long\"}],\"type\":\"struct\"}}],\"type\":\"struct\"}},{\"metadata\":{},\"name\":\"status\",\"nullable\":true,\"type\":\"string\"},{\"metadata\":{},\"name\":\"tool_call_id\",\"nullable\":true,\"type\":\"string\"},{\"metadata\":{},\"name\":\"tool_calls\",\"nullable\":true,\"type\":{\"containsNull\":true,\"elementType\":{\"fields\":[{\"metadata\":{},\"name\":\"args\",\"nullable\":true,\"type\":{\"fields\":[{\"metadata\":{},\"name\":\"query\",\"nullable\":true,\"type\":\"string\"}],\"type\":\"struct\"}},{\"metadata\":{},\"name\":\"id\",\"nullable\":true,\"type\":\"string\"},{\"metadata\":{},\"name\":\"name\",\"nullable\":true,\"type\":\"string\"},{\"metadata\":{},\"name\":\"type\",\"nullable\":true,\"type\":\"string\"}],\"type\":\"struct\"},\"type\":\"array\"}},{\"metadata\":{},\"name\":\"type\",\"nullable\":true,\"type\":\"string\"},{\"metadata\":{},\"name\":\"usage_metadata\",\"nullable\":true,\"type\":\"void\"}],\"type\":\"struct\"},\"type\":\"array\"},\"type\":\"array\"}},{\"metadata\":{},\"name\":\"mlflow.spanOutputs\",\"nullable\":true,\"type\":{\"fields\":[{\"metadata\":{},\"name\":\"generations\",\"nullable\":true,\"type\":{\"containsNull\":true,\"elementType\":{\"containsNull\":true,\"elementType\":{\"fields\":[{\"metadata\":{},\"name\":\"generation_info\",\"nullable\":true,\"type\":{\"fields\":[],\"type\":\"struct\"}},{\"metadata\":{},\"name\":\"message\",\"nullable\":true,\"type\":{\"fields\":[{\"metadata\":{},\"name\":\"additional_kwargs\",\"nullable\":true,\"type\":{\"fields\":[{\"metadata\":{},\"name\":\"tool_calls\",\"nullable\":true,\"type\":{\"containsNull\":true,\"elementType\":{\"fields\":[{\"metadata\":{},\"name\":\"function\",\"nullable\":true,\"type\":{\"fields\":[{\"metadata\":{},\"name\":\"arguments\",\"nullable\":true,\"type\":\"string\"},{\"metadata\":{},\"name\":\"name\",\"nullable\":true,\"type\":\"string\"}],\"type\":\"struct\"}},{\"metadata\":{},\"name\":\"id\",\"nullable\":true,\"type\":\"string\"},{\"metadata\":{},\"name\":\"type\",\"nullable\":true,\"type\":\"string\"}],\"type\":\"struct\"},\"type\":\"array\"}}],\"type\":\"struct\"}},{\"metadata\":{},\"name\":\"content\",\"nullable\":true,\"type\":\"string\"},{\"metadata\":{},\"name\":\"id\",\"nullable\":true,\"type\":\"string\"},{\"metadata\":{},\"name\":\"name\",\"nullable\":true,\"type\":\"void\"},{\"metadata\":{},\"name\":\"response_metadata\",\"nullable\":true,\"type\":{\"fields\":[{\"metadata\":{},\"name\":\"created\",\"nullable\":true,\"type\":\"long\"},{\"metadata\":{},\"name\":\"id\",\"nullable\":true,\"type\":\"string\"},{\"metadata\":{},\"name\":\"model\",\"nullable\":true,\"type\":\"string\"},{\"metadata\":{},\"name\":\"model_name\",\"nullable\":true,\"type\":\"string\"},{\"metadata\":{},\"name\":\"object\",\"nullable\":true,\"type\":\"string\"},{\"metadata\":{},\"name\":\"usage\",\"nullable\":true,\"type\":{\"fields\":[{\"metadata\":{},\"name\":\"completion_tokens\",\"nullable\":true,\"type\":\"long\"},{\"metadata\":{},\"name\":\"prompt_tokens\",\"nullable\":true,\"type\":\"long\"},{\"metadata\":{},\"name\":\"total_tokens\",\"nullable\":true,\"type\":\"long\"}],\"type\":\"struct\"}}],\"type\":\"struct\"}},{\"metadata\":{},\"name\":\"type\",\"nullable\":true,\"type\":\"string\"}],\"type\":\"struct\"}},{\"metadata\":{},\"name\":\"text\",\"nullable\":true,\"type\":\"string\"},{\"metadata\":{},\"name\":\"type\",\"nullable\":true,\"type\":\"string\"}],\"type\":\"struct\"},\"type\":\"array\"},\"type\":\"array\"}},{\"metadata\":{},\"name\":\"llm_output\",\"nullable\":true,\"type\":{\"fields\":[{\"metadata\":{},\"name\":\"created\",\"nullable\":true,\"type\":\"long\"},{\"metadata\":{},\"name\":\"id\",\"nullable\":true,\"type\":\"string\"},{\"metadata\":{},\"name\":\"model\",\"nullable\":true,\"type\":\"string\"},{\"metadata\":{},\"name\":\"model_name\",\"nullable\":true,\"type\":\"string\"},{\"metadata\":{},\"name\":\"object\",\"nullable\":true,\"type\":\"string\"},{\"metadata\":{},\"name\":\"usage\",\"nullable\":true,\"type\":{\"fields\":[{\"metadata\":{},\"name\":\"completion_tokens\",\"nullable\":true,\"type\":\"long\"},{\"metadata\":{},\"name\":\"prompt_tokens\",\"nullable\":true,\"type\":\"long\"},{\"metadata\":{},\"name\":\"total_tokens\",\"nullable\":true,\"type\":\"long\"}],\"type\":\"struct\"}}],\"type\":\"struct\"}},{\"metadata\":{},\"name\":\"run\",\"nullable\":true,\"type\":\"void\"},{\"metadata\":{},\"name\":\"type\",\"nullable\":true,\"type\":\"string\"}],\"type\":\"struct\"}},{\"metadata\":{},\"name\":\"mlflow.spanType\",\"nullable\":true,\"type\":\"string\"},{\"metadata\":{},\"name\":\"mlflow.traceRequestId\",\"nullable\":true,\"type\":\"string\"},{\"metadata\":{},\"name\":\"options\",\"nullable\":true,\"type\":{\"fields\":[{\"metadata\":{},\"name\":\"stop\",\"nullable\":true,\"type\":\"void\"}],\"type\":\"struct\"}}],\"type\":\"struct\"}},{\"metadata\":{},\"name\":\"end_time_ns\",\"nullable\":true,\"type\":\"long\"},{\"metadata\":{},\"name\":\"events\",\"nullable\":true,\"type\":{\"containsNull\":true,\"elementType\":\"void\",\"type\":\"array\"}},{\"metadata\":{},\"name\":\"inputs\",\"nullable\":true,\"type\":{\"containsNull\":true,\"elementType\":{\"containsNull\":true,\"elementType\":{\"fields\":[{\"metadata\":{},\"name\":\"additional_kwargs\",\"nullable\":true,\"type\":{\"fields\":[{\"metadata\":{},\"name\":\"tool_calls\",\"nullable\":true,\"type\":{\"containsNull\":true,\"elementType\":{\"fields\":[{\"metadata\":{},\"name\":\"function\",\"nullable\":true,\"type\":{\"fields\":[{\"metadata\":{},\"name\":\"arguments\",\"nullable\":true,\"type\":\"string\"},{\"metadata\":{},\"name\":\"name\",\"nullable\":true,\"type\":\"string\"}],\"type\":\"struct\"}},{\"metadata\":{},\"name\":\"id\",\"nullable\":true,\"type\":\"string\"},{\"metadata\":{},\"name\":\"type\",\"nullable\":true,\"type\":\"string\"}],\"type\":\"struct\"},\"type\":\"array\"}}],\"type\":\"struct\"}},{\"metadata\":{},\"name\":\"artifact\",\"nullable\":true,\"type\":\"void\"},{\"metadata\":{},\"name\":\"content\",\"nullable\":true,\"type\":\"string\"},{\"metadata\":{},\"name\":\"example\",\"nullable\":true,\"type\":\"boolean\"},{\"metadata\":{},\"name\":\"id\",\"nullable\":true,\"type\":\"string\"},{\"metadata\":{},\"name\":\"invalid_tool_calls\",\"nullable\":true,\"type\":{\"containsNull\":true,\"elementType\":\"void\",\"type\":\"array\"}},{\"metadata\":{},\"name\":\"name\",\"nullable\":true,\"type\":\"string\"},{\"metadata\":{},\"name\":\"response_metadata\",\"nullable\":true,\"type\":{\"fields\":[{\"metadata\":{},\"name\":\"created\",\"nullable\":true,\"type\":\"long\"},{\"metadata\":{},\"name\":\"id\",\"nullable\":true,\"type\":\"string\"},{\"metadata\":{},\"name\":\"model\",\"nullable\":true,\"type\":\"string\"},{\"metadata\":{},\"name\":\"model_name\",\"nullable\":true,\"type\":\"string\"},{\"metadata\":{},\"name\":\"object\",\"nullable\":true,\"type\":\"string\"},{\"metadata\":{},\"name\":\"usage\",\"nullable\":true,\"type\":{\"fields\":[{\"metadata\":{},\"name\":\"completion_tokens\",\"nullable\":true,\"type\":\"long\"},{\"metadata\":{},\"name\":\"prompt_tokens\",\"nullable\":true,\"type\":\"long\"},{\"metadata\":{},\"name\":\"total_tokens\",\"nullable\":true,\"type\":\"long\"}],\"type\":\"struct\"}}],\"type\":\"struct\"}},{\"metadata\":{},\"name\":\"status\",\"nullable\":true,\"type\":\"string\"},{\"metadata\":{},\"name\":\"tool_call_id\",\"nullable\":true,\"type\":\"string\"},{\"metadata\":{},\"name\":\"tool_calls\",\"nullable\":true,\"type\":{\"containsNull\":true,\"elementType\":{\"fields\":[{\"metadata\":{},\"name\":\"args\",\"nullable\":true,\"type\":{\"fields\":[{\"metadata\":{},\"name\":\"query\",\"nullable\":true,\"type\":\"string\"}],\"type\":\"struct\"}},{\"metadata\":{},\"name\":\"id\",\"nullable\":true,\"type\":\"string\"},{\"metadata\":{},\"name\":\"name\",\"nullable\":true,\"type\":\"string\"},{\"metadata\":{},\"name\":\"type\",\"nullable\":true,\"type\":\"string\"}],\"type\":\"struct\"},\"type\":\"array\"}},{\"metadata\":{},\"name\":\"type\",\"nullable\":true,\"type\":\"string\"},{\"metadata\":{},\"name\":\"usage_metadata\",\"nullable\":true,\"type\":\"void\"}],\"type\":\"struct\"},\"type\":\"array\"},\"type\":\"array\"}},{\"metadata\":{},\"name\":\"name\",\"nullable\":true,\"type\":\"string\"},{\"metadata\":{},\"name\":\"outputs\",\"nullable\":true,\"type\":{\"fields\":[{\"metadata\":{},\"name\":\"generations\",\"nullable\":true,\"type\":{\"containsNull\":true,\"elementType\":{\"containsNull\":true,\"elementType\":{\"fields\":[{\"metadata\":{},\"name\":\"generation_info\",\"nullable\":true,\"type\":{\"fields\":[],\"type\":\"struct\"}},{\"metadata\":{},\"name\":\"message\",\"nullable\":true,\"type\":{\"fields\":[{\"metadata\":{},\"name\":\"additional_kwargs\",\"nullable\":true,\"type\":{\"fields\":[{\"metadata\":{},\"name\":\"tool_calls\",\"nullable\":true,\"type\":{\"containsNull\":true,\"elementType\":{\"fields\":[{\"metadata\":{},\"name\":\"function\",\"nullable\":true,\"type\":{\"fields\":[{\"metadata\":{},\"name\":\"arguments\",\"nullable\":true,\"type\":\"string\"},{\"metadata\":{},\"name\":\"name\",\"nullable\":true,\"type\":\"string\"}],\"type\":\"struct\"}},{\"metadata\":{},\"name\":\"id\",\"nullable\":true,\"type\":\"string\"},{\"metadata\":{},\"name\":\"type\",\"nullable\":true,\"type\":\"string\"}],\"type\":\"struct\"},\"type\":\"array\"}}],\"type\":\"struct\"}},{\"metadata\":{},\"name\":\"content\",\"nullable\":true,\"type\":\"string\"},{\"metadata\":{},\"name\":\"id\",\"nullable\":true,\"type\":\"string\"},{\"metadata\":{},\"name\":\"name\",\"nullable\":true,\"type\":\"void\"},{\"metadata\":{},\"name\":\"response_metadata\",\"nullable\":true,\"type\":{\"fields\":[{\"metadata\":{},\"name\":\"created\",\"nullable\":true,\"type\":\"long\"},{\"metadata\":{},\"name\":\"id\",\"nullable\":true,\"type\":\"string\"},{\"metadata\":{},\"name\":\"model\",\"nullable\":true,\"type\":\"string\"},{\"metadata\":{},\"name\":\"model_name\",\"nullable\":true,\"type\":\"string\"},{\"metadata\":{},\"name\":\"object\",\"nullable\":true,\"type\":\"string\"},{\"metadata\":{},\"name\":\"usage\",\"nullable\":true,\"type\":{\"fields\":[{\"metadata\":{},\"name\":\"completion_tokens\",\"nullable\":true,\"type\":\"long\"},{\"metadata\":{},\"name\":\"prompt_tokens\",\"nullable\":true,\"type\":\"long\"},{\"metadata\":{},\"name\":\"total_tokens\",\"nullable\":true,\"type\":\"long\"}],\"type\":\"struct\"}}],\"type\":\"struct\"}},{\"metadata\":{},\"name\":\"type\",\"nullable\":true,\"type\":\"string\"}],\"type\":\"struct\"}},{\"metadata\":{},\"name\":\"text\",\"nullable\":true,\"type\":\"string\"},{\"metadata\":{},\"name\":\"type\",\"nullable\":true,\"type\":\"string\"}],\"type\":\"struct\"},\"type\":\"array\"},\"type\":\"array\"}},{\"metadata\":{},\"name\":\"llm_output\",\"nullable\":true,\"type\":{\"fields\":[{\"metadata\":{},\"name\":\"created\",\"nullable\":true,\"type\":\"long\"},{\"metadata\":{},\"name\":\"id\",\"nullable\":true,\"type\":\"string\"},{\"metadata\":{},\"name\":\"model\",\"nullable\":true,\"type\":\"string\"},{\"metadata\":{},\"name\":\"model_name\",\"nullable\":true,\"type\":\"string\"},{\"metadata\":{},\"name\":\"object\",\"nullable\":true,\"type\":\"string\"},{\"metadata\":{},\"name\":\"usage\",\"nullable\":true,\"type\":{\"fields\":[{\"metadata\":{},\"name\":\"completion_tokens\",\"nullable\":true,\"type\":\"long\"},{\"metadata\":{},\"name\":\"prompt_tokens\",\"nullable\":true,\"type\":\"long\"},{\"metadata\":{},\"name\":\"total_tokens\",\"nullable\":true,\"type\":\"long\"}],\"type\":\"struct\"}}],\"type\":\"struct\"}},{\"metadata\":{},\"name\":\"run\",\"nullable\":true,\"type\":\"void\"},{\"metadata\":{},\"name\":\"type\",\"nullable\":true,\"type\":\"string\"}],\"type\":\"struct\"}},{\"metadata\":{},\"name\":\"parent_id\",\"nullable\":true,\"type\":\"string\"},{\"metadata\":{},\"name\":\"request_id\",\"nullable\":true,\"type\":\"string\"},{\"metadata\":{},\"name\":\"span_id\",\"nullable\":true,\"type\":\"string\"},{\"metadata\":{},\"name\":\"span_type\",\"nullable\":true,\"type\":\"string\"},{\"metadata\":{},\"name\":\"start_time_ns\",\"nullable\":true,\"type\":\"long\"},{\"metadata\":{},\"name\":\"status\",\"nullable\":true,\"type\":{\"fields\":[{\"metadata\":{},\"name\":\"description\",\"nullable\":true,\"type\":\"string\"},{\"metadata\":{},\"name\":\"status_code\",\"nullable\":true,\"type\":\"string\"}],\"type\":\"struct\"}}],\"type\":\"struct\"}},{\"metadata\":{},\"name\":\"tool_call_args\",\"nullable\":true,\"type\":{\"fields\":[{\"metadata\":{},\"name\":\"next_node\",\"nullable\":true,\"type\":\"string\"},{\"metadata\":{},\"name\":\"query\",\"nullable\":true,\"type\":\"string\"}],\"type\":\"struct\"}},{\"metadata\":{},\"name\":\"tool_call_id\",\"nullable\":true,\"type\":\"string\"},{\"metadata\":{},\"name\":\"tool_call_result\",\"nullable\":true,\"type\":{\"fields\":[{\"metadata\":{},\"name\":\"content\",\"nullable\":true,\"type\":\"string\"},{\"metadata\":{},\"name\":\"role\",\"nullable\":true,\"type\":\"string\"},{\"metadata\":{},\"name\":\"tool_call_id\",\"nullable\":true,\"type\":\"string\"}],\"type\":\"struct\"}},{\"metadata\":{},\"name\":\"tool_name\",\"nullable\":true,\"type\":\"string\"}],\"type\":\"struct\"},\"type\":\"array\"}"
        },
        {
         "metadata": "{}",
         "name": "model_error_message",
         "type": "\"string\""
        },
        {
         "metadata": "{}",
         "name": "response",
         "type": "{\"fields\":[{\"metadata\":{},\"name\":\"databricks_output\",\"nullable\":true,\"type\":{\"fields\":[{\"metadata\":{},\"name\":\"databricks_request_id\",\"nullable\":true,\"type\":\"string\"},{\"metadata\":{},\"name\":\"trace\",\"nullable\":true,\"type\":{\"fields\":[{\"metadata\":{},\"name\":\"data\",\"nullable\":true,\"type\":{\"fields\":[{\"metadata\":{},\"name\":\"request\",\"nullable\":true,\"type\":\"string\"},{\"metadata\":{},\"name\":\"response\",\"nullable\":true,\"type\":\"string\"},{\"metadata\":{},\"name\":\"spans\",\"nullable\":true,\"type\":{\"containsNull\":true,\"elementType\":{\"fields\":[{\"metadata\":{},\"name\":\"attributes\",\"nullable\":true,\"type\":{\"fields\":[{\"metadata\":{},\"name\":\"batch_size\",\"nullable\":true,\"type\":\"string\"},{\"metadata\":{},\"name\":\"color\",\"nullable\":true,\"type\":\"string\"},{\"metadata\":{},\"name\":\"invocation_params\",\"nullable\":true,\"type\":\"string\"},{\"metadata\":{},\"name\":\"metadata\",\"nullable\":true,\"type\":\"string\"},{\"metadata\":{},\"name\":\"mlflow.chat.messages\",\"nullable\":true,\"type\":\"string\"},{\"metadata\":{},\"name\":\"mlflow.chat.tools\",\"nullable\":true,\"type\":\"string\"},{\"metadata\":{},\"name\":\"mlflow.spanFunctionName\",\"nullable\":true,\"type\":\"string\"},{\"metadata\":{},\"name\":\"mlflow.spanInputs\",\"nullable\":true,\"type\":\"string\"},{\"metadata\":{},\"name\":\"mlflow.spanOutputs\",\"nullable\":true,\"type\":\"string\"},{\"metadata\":{},\"name\":\"mlflow.spanType\",\"nullable\":true,\"type\":\"string\"},{\"metadata\":{},\"name\":\"mlflow.traceRequestId\",\"nullable\":true,\"type\":\"string\"},{\"metadata\":{},\"name\":\"options\",\"nullable\":true,\"type\":\"string\"}],\"type\":\"struct\"}},{\"metadata\":{},\"name\":\"context\",\"nullable\":true,\"type\":{\"fields\":[{\"metadata\":{},\"name\":\"span_id\",\"nullable\":true,\"type\":\"string\"},{\"metadata\":{},\"name\":\"trace_id\",\"nullable\":true,\"type\":\"string\"}],\"type\":\"struct\"}},{\"metadata\":{},\"name\":\"end_time\",\"nullable\":true,\"type\":\"long\"},{\"metadata\":{},\"name\":\"events\",\"nullable\":true,\"type\":{\"containsNull\":true,\"elementType\":\"void\",\"type\":\"array\"}},{\"metadata\":{},\"name\":\"name\",\"nullable\":true,\"type\":\"string\"},{\"metadata\":{},\"name\":\"parent_id\",\"nullable\":true,\"type\":\"string\"},{\"metadata\":{},\"name\":\"start_time\",\"nullable\":true,\"type\":\"long\"},{\"metadata\":{},\"name\":\"status_code\",\"nullable\":true,\"type\":\"string\"},{\"metadata\":{},\"name\":\"status_message\",\"nullable\":true,\"type\":\"string\"}],\"type\":\"struct\"},\"type\":\"array\"}}],\"type\":\"struct\"}},{\"metadata\":{},\"name\":\"info\",\"nullable\":true,\"type\":{\"fields\":[{\"metadata\":{},\"name\":\"assessments\",\"nullable\":true,\"type\":{\"containsNull\":true,\"elementType\":\"void\",\"type\":\"array\"}},{\"metadata\":{},\"name\":\"execution_time_ms\",\"nullable\":true,\"type\":\"long\"},{\"metadata\":{},\"name\":\"experiment_id\",\"nullable\":true,\"type\":\"void\"},{\"metadata\":{},\"name\":\"request_id\",\"nullable\":true,\"type\":\"string\"},{\"metadata\":{},\"name\":\"request_metadata\",\"nullable\":true,\"type\":{\"fields\":[{\"metadata\":{},\"name\":\"app_version_id\",\"nullable\":true,\"type\":\"string\"},{\"metadata\":{},\"name\":\"is_truncated\",\"nullable\":true,\"type\":\"boolean\"},{\"metadata\":{},\"name\":\"mlflow.trace_schema.version\",\"nullable\":true,\"type\":\"string\"}],\"type\":\"struct\"}},{\"metadata\":{},\"name\":\"status\",\"nullable\":true,\"type\":\"string\"},{\"metadata\":{},\"name\":\"tags\",\"nullable\":true,\"type\":{\"fields\":[],\"type\":\"struct\"}},{\"metadata\":{},\"name\":\"timestamp_ms\",\"nullable\":true,\"type\":\"long\"}],\"type\":\"struct\"}}],\"type\":\"struct\"}}],\"type\":\"struct\"}},{\"metadata\":{},\"name\":\"id\",\"nullable\":true,\"type\":\"string\"},{\"metadata\":{},\"name\":\"messages\",\"nullable\":true,\"type\":{\"containsNull\":true,\"elementType\":{\"fields\":[{\"metadata\":{},\"name\":\"content\",\"nullable\":true,\"type\":\"string\"},{\"metadata\":{},\"name\":\"id\",\"nullable\":true,\"type\":\"string\"},{\"metadata\":{},\"name\":\"name\",\"nullable\":true,\"type\":\"string\"},{\"metadata\":{},\"name\":\"role\",\"nullable\":true,\"type\":\"string\"}],\"type\":\"struct\"},\"type\":\"array\"}}],\"type\":\"struct\"}"
        },
        {
         "metadata": "{}",
         "name": "retrieved_context",
         "type": "{\"containsNull\":true,\"elementType\":{\"fields\":[{\"metadata\":{},\"name\":\"content\",\"nullable\":true,\"type\":\"string\"},{\"metadata\":{},\"name\":\"doc_uri\",\"nullable\":true,\"type\":\"void\"}],\"type\":\"struct\"},\"type\":\"array\"}"
        },
        {
         "metadata": "{}",
         "name": "response/overall_assessment/rating",
         "type": "\"string\""
        },
        {
         "metadata": "{}",
         "name": "response/llm_judged/safety/rating",
         "type": "\"string\""
        },
        {
         "metadata": "{}",
         "name": "response/llm_judged/safety/rationale",
         "type": "\"string\""
        },
        {
         "metadata": "{}",
         "name": "response/llm_judged/relevance_to_query/rating",
         "type": "\"string\""
        },
        {
         "metadata": "{}",
         "name": "response/llm_judged/relevance_to_query/rationale",
         "type": "\"string\""
        },
        {
         "metadata": "{}",
         "name": "retrieval/llm_judged/chunk_relevance/ratings",
         "type": "{\"containsNull\":true,\"elementType\":\"string\",\"type\":\"array\"}"
        },
        {
         "metadata": "{}",
         "name": "retrieval/llm_judged/chunk_relevance/rationales",
         "type": "{\"containsNull\":true,\"elementType\":\"string\",\"type\":\"array\"}"
        },
        {
         "metadata": "{}",
         "name": "response/llm_judged/groundedness/rating",
         "type": "\"string\""
        },
        {
         "metadata": "{}",
         "name": "response/llm_judged/groundedness/rationale",
         "type": "\"string\""
        },
        {
         "metadata": "{}",
         "name": "agent/latency_seconds",
         "type": "\"double\""
        },
        {
         "metadata": "{}",
         "name": "retrieval/llm_judged/chunk_relevance/precision",
         "type": "\"double\""
        },
        {
         "metadata": "{}",
         "name": "response/overall_assessment/rationale",
         "type": "\"string\""
        }
       ],
       "type": "table"
      }
     },
     "output_type": "display_data"
    }
   ],
   "source": [
    "## llm: claude\n",
    "\n",
    "with mlflow.start_run(run_name=\"agent-documentacio-claude-preguntes-personalitzades-2\"):\n",
    "    eval_results = mlflow.evaluate(\n",
    "        \"endpoints:/agents_dts_proves_pre-startups_list-multi-agent-chatbot-claude\",  # Aquí pones tu endpoint\n",
    "        data=eval_set_documnetation[5:10],  # Tu dataset de evaluación\n",
    "        model_type=\"databricks-agent\",  # Para evaluación de Mosaic AI Agents\n",
    "    )\n",
    "\n",
    "display(eval_results.tables['eval_results'])"
   ]
  },
  {
   "cell_type": "code",
   "execution_count": 0,
   "metadata": {
    "application/vnd.databricks.v1+cell": {
     "cellMetadata": {
      "byteLimit": 2048000,
      "rowLimit": 10000
     },
     "inputWidgets": {},
     "nuid": "06630d08-2568-492d-8052-df490bce3e52",
     "showTitle": false,
     "tableResultSettingsMap": {},
     "title": ""
    }
   },
   "outputs": [
    {
     "output_type": "display_data",
     "data": {
      "application/vnd.jupyter.widget-view+json": {
       "model_id": "6f7282d6818d455f82f159a17ab17a0c",
       "version_major": 2,
       "version_minor": 0
      },
      "text/plain": [
       "Evaluating:   0%|          | 0/4 [Elapsed: 00:00, Remaining: ?]"
      ]
     },
     "metadata": {},
     "output_type": "display_data"
    },
    {
     "output_type": "display_data",
     "data": {
      "text/html": [
       "<!DOCTYPE html>\n",
       "<html lang=\"en\">\n",
       "<head>\n",
       "    <title>Evaluation output</title>\n",
       "    <meta charset=\"UTF-8\">\n",
       "    <meta name=\"viewport\" content=\"width=device-width, initial-scale=1.0\">\n",
       "    <style>\n",
       "        body {\n",
       "            font-family: Arial, sans-serif;\n",
       "        }\n",
       "\n",
       "        .header {\n",
       "            a.button {\n",
       "                padding: 4px 8px;\n",
       "                line-height: 20px;\n",
       "                box-shadow: none;\n",
       "                height: 20px;\n",
       "                display: inline-flex;\n",
       "                align-items: center;\n",
       "                justify-content: center;\n",
       "                vertical-align: middle;\n",
       "                background-color: rgb(34, 114, 180);\n",
       "                color: rgb(255, 255, 255);\n",
       "                text-decoration: none;\n",
       "                animation-duration: 0s;\n",
       "                transition: none 0s ease 0s;\n",
       "                position: relative;\n",
       "                white-space: nowrap;\n",
       "                text-align: center;\n",
       "                border: 1px solid rgb(192, 205, 216);\n",
       "                cursor: pointer;\n",
       "                user-select: none;\n",
       "                touch-action: manipulation;\n",
       "                border-radius: 4px;\n",
       "                gap: 6px;\n",
       "            }\n",
       "\n",
       "            a.button:hover {\n",
       "                background-color: rgb(14, 83, 139) !important;\n",
       "                border-color: transparent !important;\n",
       "                color: rgb(255, 255, 255) !important;\n",
       "            }\n",
       "        }\n",
       "\n",
       "        .warnings-section {\n",
       "            margin-top: 8px;\n",
       "\n",
       "            ul {\n",
       "                list-style-type: none;\n",
       "            }\n",
       "        }\n",
       "\n",
       "        .instructions-section {\n",
       "            margin-top: 16px;\n",
       "            font-size: 14px;\n",
       "\n",
       "            ul {\n",
       "                margin-top: 0;\n",
       "                margin-bottom: 0;\n",
       "            }\n",
       "        }\n",
       "\n",
       "        code {\n",
       "            font-family: monospace;\n",
       "        }\n",
       "\n",
       "        .note {\n",
       "            color: #666;\n",
       "        }\n",
       "\n",
       "        a {\n",
       "            color: #2272B4;\n",
       "            text-decoration: none;\n",
       "        }\n",
       "\n",
       "        a:hover {\n",
       "            color: #005580;\n",
       "        }\n",
       "    </style>\n",
       "</head>\n",
       "<body>\n",
       "<div>\n",
       "    <div class=\"header\">\n",
       "        <a href=\"https://adb-2869758279805397.17.azuredatabricks.net/ml/experiments/3845882404188464/runs/eb719b82ab6d40299dcf15059a71a330/evaluations/\" class=\"button\">\n",
       "            View evaluation results: 4/4 pass\n",
       "            <svg xmlns=\"http://www.w3.org/2000/svg\" width=\"1em\" height=\"1em\" fill=\"none\" viewBox=\"0 0 16 16\" aria-hidden=\"true\" focusable=\"false\" class=\"\">\n",
       "                <path fill=\"currentColor\" d=\"M10 1h5v5h-1.5V3.56L8.53 8.53 7.47 7.47l4.97-4.97H10z\"></path>\n",
       "                <path fill=\"currentColor\" d=\"M1 2.75A.75.75 0 0 1 1.75 2H8v1.5H2.5v10h10V8H14v6.25a.75.75 0 0 1-.75.75H1.75a.75.75 0 0 1-.75-.75z\"></path>\n",
       "            </svg>\n",
       "        </a>\n",
       "    </div>\n",
       "</div>\n",
       "</body>\n",
       "</html>"
      ]
     },
     "metadata": {},
     "output_type": "display_data"
    },
    {
     "output_type": "display_data",
     "data": {
      "text/html": [
       "<style scoped>\n",
       "  .table-result-container {\n",
       "    max-height: 300px;\n",
       "    overflow: auto;\n",
       "  }\n",
       "  table, th, td {\n",
       "    border: 1px solid black;\n",
       "    border-collapse: collapse;\n",
       "  }\n",
       "  th, td {\n",
       "    padding: 5px;\n",
       "  }\n",
       "  th {\n",
       "    text-align: left;\n",
       "  }\n",
       "</style><div class='table-result-container'><table class='table-result'><thead style='background-color: white'><tr><th>request_id</th><th>request</th><th>response</th><th>retrieved_context</th><th>trace</th><th>tool_calls</th><th>response/overall_assessment/rating</th><th>response/llm_judged/safety/rating</th><th>response/llm_judged/safety/rationale</th><th>retrieval/llm_judged/chunk_relevance/ratings</th><th>retrieval/llm_judged/chunk_relevance/rationales</th><th>response/llm_judged/relevance_to_query/rating</th><th>response/llm_judged/relevance_to_query/rationale</th><th>response/llm_judged/groundedness/rating</th><th>response/llm_judged/groundedness/rationale</th><th>agent/latency_seconds</th><th>retrieval/llm_judged/chunk_relevance/precision</th></tr></thead><tbody></tbody></table>Showing the first 0 rows.</div>"
      ]
     },
     "metadata": {
      "application/vnd.databricks.v1+output": {
       "addedWidgets": {},
       "aggData": [],
       "aggError": "",
       "aggOverflow": false,
       "aggSchema": [],
       "aggSeriesLimitReached": false,
       "aggType": "",
       "arguments": {},
       "columnCustomDisplayInfos": {},
       "data": [],
       "datasetInfos": [],
       "dbfsResultPath": null,
       "isJsonSchema": true,
       "metadata": {},
       "overflow": true,
       "plotOptions": {
        "customPlotOptions": {},
        "displayType": "table",
        "pivotAggregation": null,
        "pivotColumns": null,
        "xColumns": null,
        "yColumns": null
       },
       "removedWidgets": [],
       "schema": [
        {
         "metadata": "{}",
         "name": "request_id",
         "type": "\"string\""
        },
        {
         "metadata": "{}",
         "name": "request",
         "type": "{\"fields\":[{\"metadata\":{},\"name\":\"messages\",\"nullable\":true,\"type\":{\"containsNull\":true,\"elementType\":{\"fields\":[{\"metadata\":{},\"name\":\"content\",\"nullable\":true,\"type\":\"string\"},{\"metadata\":{},\"name\":\"role\",\"nullable\":true,\"type\":\"string\"}],\"type\":\"struct\"},\"type\":\"array\"}}],\"type\":\"struct\"}"
        },
        {
         "metadata": "{}",
         "name": "response",
         "type": "{\"fields\":[{\"metadata\":{},\"name\":\"databricks_output\",\"nullable\":true,\"type\":{\"fields\":[{\"metadata\":{},\"name\":\"databricks_request_id\",\"nullable\":true,\"type\":\"string\"},{\"metadata\":{},\"name\":\"trace\",\"nullable\":true,\"type\":{\"fields\":[{\"metadata\":{},\"name\":\"data\",\"nullable\":true,\"type\":{\"fields\":[{\"metadata\":{},\"name\":\"request\",\"nullable\":true,\"type\":\"string\"},{\"metadata\":{},\"name\":\"response\",\"nullable\":true,\"type\":\"string\"},{\"metadata\":{},\"name\":\"spans\",\"nullable\":true,\"type\":{\"containsNull\":true,\"elementType\":{\"fields\":[{\"metadata\":{},\"name\":\"attributes\",\"nullable\":true,\"type\":{\"fields\":[{\"metadata\":{},\"name\":\"batch_size\",\"nullable\":true,\"type\":\"string\"},{\"metadata\":{},\"name\":\"color\",\"nullable\":true,\"type\":\"string\"},{\"metadata\":{},\"name\":\"invocation_params\",\"nullable\":true,\"type\":\"string\"},{\"metadata\":{},\"name\":\"metadata\",\"nullable\":true,\"type\":\"string\"},{\"metadata\":{},\"name\":\"mlflow.chat.messages\",\"nullable\":true,\"type\":\"string\"},{\"metadata\":{},\"name\":\"mlflow.chat.tools\",\"nullable\":true,\"type\":\"string\"},{\"metadata\":{},\"name\":\"mlflow.spanFunctionName\",\"nullable\":true,\"type\":\"string\"},{\"metadata\":{},\"name\":\"mlflow.spanInputs\",\"nullable\":true,\"type\":\"string\"},{\"metadata\":{},\"name\":\"mlflow.spanOutputs\",\"nullable\":true,\"type\":\"string\"},{\"metadata\":{},\"name\":\"mlflow.spanType\",\"nullable\":true,\"type\":\"string\"},{\"metadata\":{},\"name\":\"mlflow.traceRequestId\",\"nullable\":true,\"type\":\"string\"},{\"metadata\":{},\"name\":\"options\",\"nullable\":true,\"type\":\"string\"}],\"type\":\"struct\"}},{\"metadata\":{},\"name\":\"context\",\"nullable\":true,\"type\":{\"fields\":[{\"metadata\":{},\"name\":\"span_id\",\"nullable\":true,\"type\":\"string\"},{\"metadata\":{},\"name\":\"trace_id\",\"nullable\":true,\"type\":\"string\"}],\"type\":\"struct\"}},{\"metadata\":{},\"name\":\"end_time\",\"nullable\":true,\"type\":\"long\"},{\"metadata\":{},\"name\":\"events\",\"nullable\":true,\"type\":{\"containsNull\":true,\"elementType\":\"void\",\"type\":\"array\"}},{\"metadata\":{},\"name\":\"name\",\"nullable\":true,\"type\":\"string\"},{\"metadata\":{},\"name\":\"parent_id\",\"nullable\":true,\"type\":\"string\"},{\"metadata\":{},\"name\":\"start_time\",\"nullable\":true,\"type\":\"long\"},{\"metadata\":{},\"name\":\"status_code\",\"nullable\":true,\"type\":\"string\"},{\"metadata\":{},\"name\":\"status_message\",\"nullable\":true,\"type\":\"string\"}],\"type\":\"struct\"},\"type\":\"array\"}}],\"type\":\"struct\"}},{\"metadata\":{},\"name\":\"info\",\"nullable\":true,\"type\":{\"fields\":[{\"metadata\":{},\"name\":\"assessments\",\"nullable\":true,\"type\":{\"containsNull\":true,\"elementType\":\"void\",\"type\":\"array\"}},{\"metadata\":{},\"name\":\"execution_time_ms\",\"nullable\":true,\"type\":\"long\"},{\"metadata\":{},\"name\":\"experiment_id\",\"nullable\":true,\"type\":\"void\"},{\"metadata\":{},\"name\":\"request_id\",\"nullable\":true,\"type\":\"string\"},{\"metadata\":{},\"name\":\"request_metadata\",\"nullable\":true,\"type\":{\"fields\":[{\"metadata\":{},\"name\":\"app_version_id\",\"nullable\":true,\"type\":\"string\"},{\"metadata\":{},\"name\":\"is_truncated\",\"nullable\":true,\"type\":\"boolean\"},{\"metadata\":{},\"name\":\"mlflow.trace_schema.version\",\"nullable\":true,\"type\":\"string\"}],\"type\":\"struct\"}},{\"metadata\":{},\"name\":\"status\",\"nullable\":true,\"type\":\"string\"},{\"metadata\":{},\"name\":\"tags\",\"nullable\":true,\"type\":{\"fields\":[],\"type\":\"struct\"}},{\"metadata\":{},\"name\":\"timestamp_ms\",\"nullable\":true,\"type\":\"long\"}],\"type\":\"struct\"}}],\"type\":\"struct\"}}],\"type\":\"struct\"}},{\"metadata\":{},\"name\":\"id\",\"nullable\":true,\"type\":\"string\"},{\"metadata\":{},\"name\":\"messages\",\"nullable\":true,\"type\":{\"containsNull\":true,\"elementType\":{\"fields\":[{\"metadata\":{},\"name\":\"content\",\"nullable\":true,\"type\":\"string\"},{\"metadata\":{},\"name\":\"id\",\"nullable\":true,\"type\":\"string\"},{\"metadata\":{},\"name\":\"name\",\"nullable\":true,\"type\":\"string\"},{\"metadata\":{},\"name\":\"role\",\"nullable\":true,\"type\":\"string\"}],\"type\":\"struct\"},\"type\":\"array\"}}],\"type\":\"struct\"}"
        },
        {
         "metadata": "{}",
         "name": "retrieved_context",
         "type": "{\"containsNull\":true,\"elementType\":{\"fields\":[{\"metadata\":{},\"name\":\"content\",\"nullable\":true,\"type\":\"string\"},{\"metadata\":{},\"name\":\"doc_uri\",\"nullable\":true,\"type\":\"void\"}],\"type\":\"struct\"},\"type\":\"array\"}"
        },
        {
         "metadata": "{}",
         "name": "trace",
         "type": "\"string\""
        },
        {
         "metadata": "{}",
         "name": "tool_calls",
         "type": "{\"containsNull\":true,\"elementType\":{\"fields\":[{\"metadata\":{},\"name\":\"available_tools\",\"nullable\":true,\"type\":{\"containsNull\":true,\"elementType\":{\"fields\":[{\"metadata\":{},\"name\":\"function\",\"nullable\":true,\"type\":{\"fields\":[{\"metadata\":{},\"name\":\"description\",\"nullable\":true,\"type\":\"string\"},{\"metadata\":{},\"name\":\"name\",\"nullable\":true,\"type\":\"string\"},{\"metadata\":{},\"name\":\"parameters\",\"nullable\":true,\"type\":{\"fields\":[{\"metadata\":{},\"name\":\"properties\",\"nullable\":true,\"type\":{\"fields\":[{\"metadata\":{},\"name\":\"filters\",\"nullable\":true,\"type\":{\"fields\":[{\"metadata\":{},\"name\":\"description\",\"nullable\":true,\"type\":\"string\"},{\"metadata\":{},\"name\":\"type\",\"nullable\":true,\"type\":\"string\"}],\"type\":\"struct\"}},{\"metadata\":{},\"name\":\"next_node\",\"nullable\":true,\"type\":{\"fields\":[{\"metadata\":{},\"name\":\"enum\",\"nullable\":true,\"type\":{\"containsNull\":true,\"elementType\":\"string\",\"type\":\"array\"}},{\"metadata\":{},\"name\":\"type\",\"nullable\":true,\"type\":\"string\"}],\"type\":\"struct\"}},{\"metadata\":{},\"name\":\"query\",\"nullable\":true,\"type\":{\"fields\":[{\"metadata\":{},\"name\":\"description\",\"nullable\":true,\"type\":\"string\"},{\"metadata\":{},\"name\":\"type\",\"nullable\":true,\"type\":\"string\"}],\"type\":\"struct\"}}],\"type\":\"struct\"}},{\"metadata\":{},\"name\":\"required\",\"nullable\":true,\"type\":{\"containsNull\":true,\"elementType\":\"string\",\"type\":\"array\"}},{\"metadata\":{},\"name\":\"type\",\"nullable\":true,\"type\":\"string\"}],\"type\":\"struct\"}}],\"type\":\"struct\"}},{\"metadata\":{},\"name\":\"type\",\"nullable\":true,\"type\":\"string\"}],\"type\":\"struct\"},\"type\":\"array\"}},{\"metadata\":{},\"name\":\"raw_span\",\"nullable\":true,\"type\":{\"fields\":[{\"metadata\":{},\"name\":\"attributes\",\"nullable\":true,\"type\":{\"fields\":[{\"metadata\":{},\"name\":\"batch_size\",\"nullable\":true,\"type\":\"long\"},{\"metadata\":{},\"name\":\"invocation_params\",\"nullable\":true,\"type\":{\"fields\":[{\"metadata\":{},\"name\":\"_type\",\"nullable\":true,\"type\":\"string\"},{\"metadata\":{},\"name\":\"extra_params\",\"nullable\":true,\"type\":{\"fields\":[],\"type\":\"struct\"}},{\"metadata\":{},\"name\":\"model\",\"nullable\":true,\"type\":\"string\"},{\"metadata\":{},\"name\":\"n\",\"nullable\":true,\"type\":\"long\"},{\"metadata\":{},\"name\":\"stop\",\"nullable\":true,\"type\":\"void\"},{\"metadata\":{},\"name\":\"target_uri\",\"nullable\":true,\"type\":\"string\"},{\"metadata\":{},\"name\":\"tool_choice\",\"nullable\":true,\"type\":{\"fields\":[{\"metadata\":{},\"name\":\"function\",\"nullable\":true,\"type\":{\"fields\":[{\"metadata\":{},\"name\":\"name\",\"nullable\":true,\"type\":\"string\"}],\"type\":\"struct\"}},{\"metadata\":{},\"name\":\"type\",\"nullable\":true,\"type\":\"string\"}],\"type\":\"struct\"}},{\"metadata\":{},\"name\":\"tools\",\"nullable\":true,\"type\":{\"containsNull\":true,\"elementType\":{\"fields\":[{\"metadata\":{},\"name\":\"function\",\"nullable\":true,\"type\":{\"fields\":[{\"metadata\":{},\"name\":\"description\",\"nullable\":true,\"type\":\"string\"},{\"metadata\":{},\"name\":\"name\",\"nullable\":true,\"type\":\"string\"},{\"metadata\":{},\"name\":\"parameters\",\"nullable\":true,\"type\":{\"fields\":[{\"metadata\":{},\"name\":\"properties\",\"nullable\":true,\"type\":{\"fields\":[{\"metadata\":{},\"name\":\"filters\",\"nullable\":true,\"type\":{\"fields\":[{\"metadata\":{},\"name\":\"additionalProperties\",\"nullable\":true,\"type\":\"boolean\"},{\"metadata\":{},\"name\":\"default\",\"nullable\":true,\"type\":\"void\"},{\"metadata\":{},\"name\":\"description\",\"nullable\":true,\"type\":\"string\"},{\"metadata\":{},\"name\":\"type\",\"nullable\":true,\"type\":\"string\"}],\"type\":\"struct\"}},{\"metadata\":{},\"name\":\"next_node\",\"nullable\":true,\"type\":{\"fields\":[{\"metadata\":{},\"name\":\"enum\",\"nullable\":true,\"type\":{\"containsNull\":true,\"elementType\":\"string\",\"type\":\"array\"}},{\"metadata\":{},\"name\":\"type\",\"nullable\":true,\"type\":\"string\"}],\"type\":\"struct\"}},{\"metadata\":{},\"name\":\"query\",\"nullable\":true,\"type\":{\"fields\":[{\"metadata\":{},\"name\":\"description\",\"nullable\":true,\"type\":\"string\"},{\"metadata\":{},\"name\":\"type\",\"nullable\":true,\"type\":\"string\"}],\"type\":\"struct\"}}],\"type\":\"struct\"}},{\"metadata\":{},\"name\":\"required\",\"nullable\":true,\"type\":{\"containsNull\":true,\"elementType\":\"string\",\"type\":\"array\"}},{\"metadata\":{},\"name\":\"type\",\"nullable\":true,\"type\":\"string\"}],\"type\":\"struct\"}}],\"type\":\"struct\"}},{\"metadata\":{},\"name\":\"type\",\"nullable\":true,\"type\":\"string\"}],\"type\":\"struct\"},\"type\":\"array\"}}],\"type\":\"struct\"}},{\"metadata\":{},\"name\":\"metadata\",\"nullable\":true,\"type\":{\"fields\":[{\"metadata\":{},\"name\":\"checkpoint_ns\",\"nullable\":true,\"type\":\"string\"},{\"metadata\":{},\"name\":\"langgraph_checkpoint_ns\",\"nullable\":true,\"type\":\"string\"},{\"metadata\":{},\"name\":\"langgraph_node\",\"nullable\":true,\"type\":\"string\"},{\"metadata\":{},\"name\":\"langgraph_path\",\"nullable\":true,\"type\":{\"containsNull\":true,\"elementType\":\"string\",\"type\":\"array\"}},{\"metadata\":{},\"name\":\"langgraph_step\",\"nullable\":true,\"type\":\"long\"},{\"metadata\":{},\"name\":\"langgraph_triggers\",\"nullable\":true,\"type\":{\"containsNull\":true,\"elementType\":\"string\",\"type\":\"array\"}},{\"metadata\":{},\"name\":\"ls_model_name\",\"nullable\":true,\"type\":\"string\"},{\"metadata\":{},\"name\":\"ls_model_type\",\"nullable\":true,\"type\":\"string\"},{\"metadata\":{},\"name\":\"ls_provider\",\"nullable\":true,\"type\":\"string\"}],\"type\":\"struct\"}},{\"metadata\":{},\"name\":\"mlflow.chat.messages\",\"nullable\":true,\"type\":{\"containsNull\":true,\"elementType\":{\"fields\":[{\"metadata\":{},\"name\":\"content\",\"nullable\":true,\"type\":\"string\"},{\"metadata\":{},\"name\":\"role\",\"nullable\":true,\"type\":\"string\"},{\"metadata\":{},\"name\":\"tool_call_id\",\"nullable\":true,\"type\":\"string\"},{\"metadata\":{},\"name\":\"tool_calls\",\"nullable\":true,\"type\":{\"containsNull\":true,\"elementType\":{\"fields\":[{\"metadata\":{},\"name\":\"function\",\"nullable\":true,\"type\":{\"fields\":[{\"metadata\":{},\"name\":\"arguments\",\"nullable\":true,\"type\":\"string\"},{\"metadata\":{},\"name\":\"name\",\"nullable\":true,\"type\":\"string\"}],\"type\":\"struct\"}},{\"metadata\":{},\"name\":\"id\",\"nullable\":true,\"type\":\"string\"},{\"metadata\":{},\"name\":\"type\",\"nullable\":true,\"type\":\"string\"}],\"type\":\"struct\"},\"type\":\"array\"}}],\"type\":\"struct\"},\"type\":\"array\"}},{\"metadata\":{},\"name\":\"mlflow.chat.tools\",\"nullable\":true,\"type\":{\"containsNull\":true,\"elementType\":{\"fields\":[{\"metadata\":{},\"name\":\"function\",\"nullable\":true,\"type\":{\"fields\":[{\"metadata\":{},\"name\":\"description\",\"nullable\":true,\"type\":\"string\"},{\"metadata\":{},\"name\":\"name\",\"nullable\":true,\"type\":\"string\"},{\"metadata\":{},\"name\":\"parameters\",\"nullable\":true,\"type\":{\"fields\":[{\"metadata\":{},\"name\":\"properties\",\"nullable\":true,\"type\":{\"fields\":[{\"metadata\":{},\"name\":\"filters\",\"nullable\":true,\"type\":{\"fields\":[{\"metadata\":{},\"name\":\"description\",\"nullable\":true,\"type\":\"string\"},{\"metadata\":{},\"name\":\"type\",\"nullable\":true,\"type\":\"string\"}],\"type\":\"struct\"}},{\"metadata\":{},\"name\":\"next_node\",\"nullable\":true,\"type\":{\"fields\":[{\"metadata\":{},\"name\":\"enum\",\"nullable\":true,\"type\":{\"containsNull\":true,\"elementType\":\"string\",\"type\":\"array\"}},{\"metadata\":{},\"name\":\"type\",\"nullable\":true,\"type\":\"string\"}],\"type\":\"struct\"}},{\"metadata\":{},\"name\":\"query\",\"nullable\":true,\"type\":{\"fields\":[{\"metadata\":{},\"name\":\"description\",\"nullable\":true,\"type\":\"string\"},{\"metadata\":{},\"name\":\"type\",\"nullable\":true,\"type\":\"string\"}],\"type\":\"struct\"}}],\"type\":\"struct\"}},{\"metadata\":{},\"name\":\"required\",\"nullable\":true,\"type\":{\"containsNull\":true,\"elementType\":\"string\",\"type\":\"array\"}},{\"metadata\":{},\"name\":\"type\",\"nullable\":true,\"type\":\"string\"}],\"type\":\"struct\"}}],\"type\":\"struct\"}},{\"metadata\":{},\"name\":\"type\",\"nullable\":true,\"type\":\"string\"}],\"type\":\"struct\"},\"type\":\"array\"}},{\"metadata\":{},\"name\":\"mlflow.spanInputs\",\"nullable\":true,\"type\":{\"containsNull\":true,\"elementType\":{\"containsNull\":true,\"elementType\":{\"fields\":[{\"metadata\":{},\"name\":\"additional_kwargs\",\"nullable\":true,\"type\":{\"fields\":[{\"metadata\":{},\"name\":\"tool_calls\",\"nullable\":true,\"type\":{\"containsNull\":true,\"elementType\":{\"fields\":[{\"metadata\":{},\"name\":\"function\",\"nullable\":true,\"type\":{\"fields\":[{\"metadata\":{},\"name\":\"arguments\",\"nullable\":true,\"type\":\"string\"},{\"metadata\":{},\"name\":\"name\",\"nullable\":true,\"type\":\"string\"}],\"type\":\"struct\"}},{\"metadata\":{},\"name\":\"id\",\"nullable\":true,\"type\":\"string\"},{\"metadata\":{},\"name\":\"type\",\"nullable\":true,\"type\":\"string\"}],\"type\":\"struct\"},\"type\":\"array\"}}],\"type\":\"struct\"}},{\"metadata\":{},\"name\":\"artifact\",\"nullable\":true,\"type\":\"void\"},{\"metadata\":{},\"name\":\"content\",\"nullable\":true,\"type\":\"string\"},{\"metadata\":{},\"name\":\"example\",\"nullable\":true,\"type\":\"boolean\"},{\"metadata\":{},\"name\":\"id\",\"nullable\":true,\"type\":\"string\"},{\"metadata\":{},\"name\":\"invalid_tool_calls\",\"nullable\":true,\"type\":{\"containsNull\":true,\"elementType\":\"void\",\"type\":\"array\"}},{\"metadata\":{},\"name\":\"name\",\"nullable\":true,\"type\":\"string\"},{\"metadata\":{},\"name\":\"response_metadata\",\"nullable\":true,\"type\":{\"fields\":[{\"metadata\":{},\"name\":\"created\",\"nullable\":true,\"type\":\"long\"},{\"metadata\":{},\"name\":\"id\",\"nullable\":true,\"type\":\"string\"},{\"metadata\":{},\"name\":\"model\",\"nullable\":true,\"type\":\"string\"},{\"metadata\":{},\"name\":\"model_name\",\"nullable\":true,\"type\":\"string\"},{\"metadata\":{},\"name\":\"object\",\"nullable\":true,\"type\":\"string\"},{\"metadata\":{},\"name\":\"usage\",\"nullable\":true,\"type\":{\"fields\":[{\"metadata\":{},\"name\":\"completion_tokens\",\"nullable\":true,\"type\":\"long\"},{\"metadata\":{},\"name\":\"prompt_tokens\",\"nullable\":true,\"type\":\"long\"},{\"metadata\":{},\"name\":\"total_tokens\",\"nullable\":true,\"type\":\"long\"}],\"type\":\"struct\"}}],\"type\":\"struct\"}},{\"metadata\":{},\"name\":\"status\",\"nullable\":true,\"type\":\"string\"},{\"metadata\":{},\"name\":\"tool_call_id\",\"nullable\":true,\"type\":\"string\"},{\"metadata\":{},\"name\":\"tool_calls\",\"nullable\":true,\"type\":{\"containsNull\":true,\"elementType\":{\"fields\":[{\"metadata\":{},\"name\":\"args\",\"nullable\":true,\"type\":{\"fields\":[{\"metadata\":{},\"name\":\"query\",\"nullable\":true,\"type\":\"string\"}],\"type\":\"struct\"}},{\"metadata\":{},\"name\":\"id\",\"nullable\":true,\"type\":\"string\"},{\"metadata\":{},\"name\":\"name\",\"nullable\":true,\"type\":\"string\"},{\"metadata\":{},\"name\":\"type\",\"nullable\":true,\"type\":\"string\"}],\"type\":\"struct\"},\"type\":\"array\"}},{\"metadata\":{},\"name\":\"type\",\"nullable\":true,\"type\":\"string\"},{\"metadata\":{},\"name\":\"usage_metadata\",\"nullable\":true,\"type\":\"void\"}],\"type\":\"struct\"},\"type\":\"array\"},\"type\":\"array\"}},{\"metadata\":{},\"name\":\"mlflow.spanOutputs\",\"nullable\":true,\"type\":{\"fields\":[{\"metadata\":{},\"name\":\"generations\",\"nullable\":true,\"type\":{\"containsNull\":true,\"elementType\":{\"containsNull\":true,\"elementType\":{\"fields\":[{\"metadata\":{},\"name\":\"generation_info\",\"nullable\":true,\"type\":{\"fields\":[],\"type\":\"struct\"}},{\"metadata\":{},\"name\":\"message\",\"nullable\":true,\"type\":{\"fields\":[{\"metadata\":{},\"name\":\"additional_kwargs\",\"nullable\":true,\"type\":{\"fields\":[{\"metadata\":{},\"name\":\"tool_calls\",\"nullable\":true,\"type\":{\"containsNull\":true,\"elementType\":{\"fields\":[{\"metadata\":{},\"name\":\"function\",\"nullable\":true,\"type\":{\"fields\":[{\"metadata\":{},\"name\":\"arguments\",\"nullable\":true,\"type\":\"string\"},{\"metadata\":{},\"name\":\"name\",\"nullable\":true,\"type\":\"string\"}],\"type\":\"struct\"}},{\"metadata\":{},\"name\":\"id\",\"nullable\":true,\"type\":\"string\"},{\"metadata\":{},\"name\":\"type\",\"nullable\":true,\"type\":\"string\"}],\"type\":\"struct\"},\"type\":\"array\"}}],\"type\":\"struct\"}},{\"metadata\":{},\"name\":\"content\",\"nullable\":true,\"type\":\"string\"},{\"metadata\":{},\"name\":\"id\",\"nullable\":true,\"type\":\"string\"},{\"metadata\":{},\"name\":\"name\",\"nullable\":true,\"type\":\"void\"},{\"metadata\":{},\"name\":\"response_metadata\",\"nullable\":true,\"type\":{\"fields\":[{\"metadata\":{},\"name\":\"created\",\"nullable\":true,\"type\":\"long\"},{\"metadata\":{},\"name\":\"id\",\"nullable\":true,\"type\":\"string\"},{\"metadata\":{},\"name\":\"model\",\"nullable\":true,\"type\":\"string\"},{\"metadata\":{},\"name\":\"model_name\",\"nullable\":true,\"type\":\"string\"},{\"metadata\":{},\"name\":\"object\",\"nullable\":true,\"type\":\"string\"},{\"metadata\":{},\"name\":\"usage\",\"nullable\":true,\"type\":{\"fields\":[{\"metadata\":{},\"name\":\"completion_tokens\",\"nullable\":true,\"type\":\"long\"},{\"metadata\":{},\"name\":\"prompt_tokens\",\"nullable\":true,\"type\":\"long\"},{\"metadata\":{},\"name\":\"total_tokens\",\"nullable\":true,\"type\":\"long\"}],\"type\":\"struct\"}}],\"type\":\"struct\"}},{\"metadata\":{},\"name\":\"type\",\"nullable\":true,\"type\":\"string\"}],\"type\":\"struct\"}},{\"metadata\":{},\"name\":\"text\",\"nullable\":true,\"type\":\"string\"},{\"metadata\":{},\"name\":\"type\",\"nullable\":true,\"type\":\"string\"}],\"type\":\"struct\"},\"type\":\"array\"},\"type\":\"array\"}},{\"metadata\":{},\"name\":\"llm_output\",\"nullable\":true,\"type\":{\"fields\":[{\"metadata\":{},\"name\":\"created\",\"nullable\":true,\"type\":\"long\"},{\"metadata\":{},\"name\":\"id\",\"nullable\":true,\"type\":\"string\"},{\"metadata\":{},\"name\":\"model\",\"nullable\":true,\"type\":\"string\"},{\"metadata\":{},\"name\":\"model_name\",\"nullable\":true,\"type\":\"string\"},{\"metadata\":{},\"name\":\"object\",\"nullable\":true,\"type\":\"string\"},{\"metadata\":{},\"name\":\"usage\",\"nullable\":true,\"type\":{\"fields\":[{\"metadata\":{},\"name\":\"completion_tokens\",\"nullable\":true,\"type\":\"long\"},{\"metadata\":{},\"name\":\"prompt_tokens\",\"nullable\":true,\"type\":\"long\"},{\"metadata\":{},\"name\":\"total_tokens\",\"nullable\":true,\"type\":\"long\"}],\"type\":\"struct\"}}],\"type\":\"struct\"}},{\"metadata\":{},\"name\":\"run\",\"nullable\":true,\"type\":\"void\"},{\"metadata\":{},\"name\":\"type\",\"nullable\":true,\"type\":\"string\"}],\"type\":\"struct\"}},{\"metadata\":{},\"name\":\"mlflow.spanType\",\"nullable\":true,\"type\":\"string\"},{\"metadata\":{},\"name\":\"mlflow.traceRequestId\",\"nullable\":true,\"type\":\"string\"},{\"metadata\":{},\"name\":\"options\",\"nullable\":true,\"type\":{\"fields\":[{\"metadata\":{},\"name\":\"stop\",\"nullable\":true,\"type\":\"void\"}],\"type\":\"struct\"}}],\"type\":\"struct\"}},{\"metadata\":{},\"name\":\"end_time_ns\",\"nullable\":true,\"type\":\"long\"},{\"metadata\":{},\"name\":\"events\",\"nullable\":true,\"type\":{\"containsNull\":true,\"elementType\":\"void\",\"type\":\"array\"}},{\"metadata\":{},\"name\":\"inputs\",\"nullable\":true,\"type\":{\"containsNull\":true,\"elementType\":{\"containsNull\":true,\"elementType\":{\"fields\":[{\"metadata\":{},\"name\":\"additional_kwargs\",\"nullable\":true,\"type\":{\"fields\":[{\"metadata\":{},\"name\":\"tool_calls\",\"nullable\":true,\"type\":{\"containsNull\":true,\"elementType\":{\"fields\":[{\"metadata\":{},\"name\":\"function\",\"nullable\":true,\"type\":{\"fields\":[{\"metadata\":{},\"name\":\"arguments\",\"nullable\":true,\"type\":\"string\"},{\"metadata\":{},\"name\":\"name\",\"nullable\":true,\"type\":\"string\"}],\"type\":\"struct\"}},{\"metadata\":{},\"name\":\"id\",\"nullable\":true,\"type\":\"string\"},{\"metadata\":{},\"name\":\"type\",\"nullable\":true,\"type\":\"string\"}],\"type\":\"struct\"},\"type\":\"array\"}}],\"type\":\"struct\"}},{\"metadata\":{},\"name\":\"artifact\",\"nullable\":true,\"type\":\"void\"},{\"metadata\":{},\"name\":\"content\",\"nullable\":true,\"type\":\"string\"},{\"metadata\":{},\"name\":\"example\",\"nullable\":true,\"type\":\"boolean\"},{\"metadata\":{},\"name\":\"id\",\"nullable\":true,\"type\":\"string\"},{\"metadata\":{},\"name\":\"invalid_tool_calls\",\"nullable\":true,\"type\":{\"containsNull\":true,\"elementType\":\"void\",\"type\":\"array\"}},{\"metadata\":{},\"name\":\"name\",\"nullable\":true,\"type\":\"string\"},{\"metadata\":{},\"name\":\"response_metadata\",\"nullable\":true,\"type\":{\"fields\":[{\"metadata\":{},\"name\":\"created\",\"nullable\":true,\"type\":\"long\"},{\"metadata\":{},\"name\":\"id\",\"nullable\":true,\"type\":\"string\"},{\"metadata\":{},\"name\":\"model\",\"nullable\":true,\"type\":\"string\"},{\"metadata\":{},\"name\":\"model_name\",\"nullable\":true,\"type\":\"string\"},{\"metadata\":{},\"name\":\"object\",\"nullable\":true,\"type\":\"string\"},{\"metadata\":{},\"name\":\"usage\",\"nullable\":true,\"type\":{\"fields\":[{\"metadata\":{},\"name\":\"completion_tokens\",\"nullable\":true,\"type\":\"long\"},{\"metadata\":{},\"name\":\"prompt_tokens\",\"nullable\":true,\"type\":\"long\"},{\"metadata\":{},\"name\":\"total_tokens\",\"nullable\":true,\"type\":\"long\"}],\"type\":\"struct\"}}],\"type\":\"struct\"}},{\"metadata\":{},\"name\":\"status\",\"nullable\":true,\"type\":\"string\"},{\"metadata\":{},\"name\":\"tool_call_id\",\"nullable\":true,\"type\":\"string\"},{\"metadata\":{},\"name\":\"tool_calls\",\"nullable\":true,\"type\":{\"containsNull\":true,\"elementType\":{\"fields\":[{\"metadata\":{},\"name\":\"args\",\"nullable\":true,\"type\":{\"fields\":[{\"metadata\":{},\"name\":\"query\",\"nullable\":true,\"type\":\"string\"}],\"type\":\"struct\"}},{\"metadata\":{},\"name\":\"id\",\"nullable\":true,\"type\":\"string\"},{\"metadata\":{},\"name\":\"name\",\"nullable\":true,\"type\":\"string\"},{\"metadata\":{},\"name\":\"type\",\"nullable\":true,\"type\":\"string\"}],\"type\":\"struct\"},\"type\":\"array\"}},{\"metadata\":{},\"name\":\"type\",\"nullable\":true,\"type\":\"string\"},{\"metadata\":{},\"name\":\"usage_metadata\",\"nullable\":true,\"type\":\"void\"}],\"type\":\"struct\"},\"type\":\"array\"},\"type\":\"array\"}},{\"metadata\":{},\"name\":\"name\",\"nullable\":true,\"type\":\"string\"},{\"metadata\":{},\"name\":\"outputs\",\"nullable\":true,\"type\":{\"fields\":[{\"metadata\":{},\"name\":\"generations\",\"nullable\":true,\"type\":{\"containsNull\":true,\"elementType\":{\"containsNull\":true,\"elementType\":{\"fields\":[{\"metadata\":{},\"name\":\"generation_info\",\"nullable\":true,\"type\":{\"fields\":[],\"type\":\"struct\"}},{\"metadata\":{},\"name\":\"message\",\"nullable\":true,\"type\":{\"fields\":[{\"metadata\":{},\"name\":\"additional_kwargs\",\"nullable\":true,\"type\":{\"fields\":[{\"metadata\":{},\"name\":\"tool_calls\",\"nullable\":true,\"type\":{\"containsNull\":true,\"elementType\":{\"fields\":[{\"metadata\":{},\"name\":\"function\",\"nullable\":true,\"type\":{\"fields\":[{\"metadata\":{},\"name\":\"arguments\",\"nullable\":true,\"type\":\"string\"},{\"metadata\":{},\"name\":\"name\",\"nullable\":true,\"type\":\"string\"}],\"type\":\"struct\"}},{\"metadata\":{},\"name\":\"id\",\"nullable\":true,\"type\":\"string\"},{\"metadata\":{},\"name\":\"type\",\"nullable\":true,\"type\":\"string\"}],\"type\":\"struct\"},\"type\":\"array\"}}],\"type\":\"struct\"}},{\"metadata\":{},\"name\":\"content\",\"nullable\":true,\"type\":\"string\"},{\"metadata\":{},\"name\":\"id\",\"nullable\":true,\"type\":\"string\"},{\"metadata\":{},\"name\":\"name\",\"nullable\":true,\"type\":\"void\"},{\"metadata\":{},\"name\":\"response_metadata\",\"nullable\":true,\"type\":{\"fields\":[{\"metadata\":{},\"name\":\"created\",\"nullable\":true,\"type\":\"long\"},{\"metadata\":{},\"name\":\"id\",\"nullable\":true,\"type\":\"string\"},{\"metadata\":{},\"name\":\"model\",\"nullable\":true,\"type\":\"string\"},{\"metadata\":{},\"name\":\"model_name\",\"nullable\":true,\"type\":\"string\"},{\"metadata\":{},\"name\":\"object\",\"nullable\":true,\"type\":\"string\"},{\"metadata\":{},\"name\":\"usage\",\"nullable\":true,\"type\":{\"fields\":[{\"metadata\":{},\"name\":\"completion_tokens\",\"nullable\":true,\"type\":\"long\"},{\"metadata\":{},\"name\":\"prompt_tokens\",\"nullable\":true,\"type\":\"long\"},{\"metadata\":{},\"name\":\"total_tokens\",\"nullable\":true,\"type\":\"long\"}],\"type\":\"struct\"}}],\"type\":\"struct\"}},{\"metadata\":{},\"name\":\"type\",\"nullable\":true,\"type\":\"string\"}],\"type\":\"struct\"}},{\"metadata\":{},\"name\":\"text\",\"nullable\":true,\"type\":\"string\"},{\"metadata\":{},\"name\":\"type\",\"nullable\":true,\"type\":\"string\"}],\"type\":\"struct\"},\"type\":\"array\"},\"type\":\"array\"}},{\"metadata\":{},\"name\":\"llm_output\",\"nullable\":true,\"type\":{\"fields\":[{\"metadata\":{},\"name\":\"created\",\"nullable\":true,\"type\":\"long\"},{\"metadata\":{},\"name\":\"id\",\"nullable\":true,\"type\":\"string\"},{\"metadata\":{},\"name\":\"model\",\"nullable\":true,\"type\":\"string\"},{\"metadata\":{},\"name\":\"model_name\",\"nullable\":true,\"type\":\"string\"},{\"metadata\":{},\"name\":\"object\",\"nullable\":true,\"type\":\"string\"},{\"metadata\":{},\"name\":\"usage\",\"nullable\":true,\"type\":{\"fields\":[{\"metadata\":{},\"name\":\"completion_tokens\",\"nullable\":true,\"type\":\"long\"},{\"metadata\":{},\"name\":\"prompt_tokens\",\"nullable\":true,\"type\":\"long\"},{\"metadata\":{},\"name\":\"total_tokens\",\"nullable\":true,\"type\":\"long\"}],\"type\":\"struct\"}}],\"type\":\"struct\"}},{\"metadata\":{},\"name\":\"run\",\"nullable\":true,\"type\":\"void\"},{\"metadata\":{},\"name\":\"type\",\"nullable\":true,\"type\":\"string\"}],\"type\":\"struct\"}},{\"metadata\":{},\"name\":\"parent_id\",\"nullable\":true,\"type\":\"string\"},{\"metadata\":{},\"name\":\"request_id\",\"nullable\":true,\"type\":\"string\"},{\"metadata\":{},\"name\":\"span_id\",\"nullable\":true,\"type\":\"string\"},{\"metadata\":{},\"name\":\"span_type\",\"nullable\":true,\"type\":\"string\"},{\"metadata\":{},\"name\":\"start_time_ns\",\"nullable\":true,\"type\":\"long\"},{\"metadata\":{},\"name\":\"status\",\"nullable\":true,\"type\":{\"fields\":[{\"metadata\":{},\"name\":\"description\",\"nullable\":true,\"type\":\"string\"},{\"metadata\":{},\"name\":\"status_code\",\"nullable\":true,\"type\":\"string\"}],\"type\":\"struct\"}}],\"type\":\"struct\"}},{\"metadata\":{},\"name\":\"tool_call_args\",\"nullable\":true,\"type\":{\"fields\":[{\"metadata\":{},\"name\":\"next_node\",\"nullable\":true,\"type\":\"string\"},{\"metadata\":{},\"name\":\"query\",\"nullable\":true,\"type\":\"string\"}],\"type\":\"struct\"}},{\"metadata\":{},\"name\":\"tool_call_id\",\"nullable\":true,\"type\":\"string\"},{\"metadata\":{},\"name\":\"tool_call_result\",\"nullable\":true,\"type\":{\"fields\":[{\"metadata\":{},\"name\":\"content\",\"nullable\":true,\"type\":\"string\"},{\"metadata\":{},\"name\":\"role\",\"nullable\":true,\"type\":\"string\"},{\"metadata\":{},\"name\":\"tool_call_id\",\"nullable\":true,\"type\":\"string\"}],\"type\":\"struct\"}},{\"metadata\":{},\"name\":\"tool_name\",\"nullable\":true,\"type\":\"string\"}],\"type\":\"struct\"},\"type\":\"array\"}"
        },
        {
         "metadata": "{}",
         "name": "response/overall_assessment/rating",
         "type": "\"string\""
        },
        {
         "metadata": "{}",
         "name": "response/llm_judged/safety/rating",
         "type": "\"string\""
        },
        {
         "metadata": "{}",
         "name": "response/llm_judged/safety/rationale",
         "type": "\"string\""
        },
        {
         "metadata": "{}",
         "name": "retrieval/llm_judged/chunk_relevance/ratings",
         "type": "{\"containsNull\":true,\"elementType\":\"string\",\"type\":\"array\"}"
        },
        {
         "metadata": "{}",
         "name": "retrieval/llm_judged/chunk_relevance/rationales",
         "type": "{\"containsNull\":true,\"elementType\":\"string\",\"type\":\"array\"}"
        },
        {
         "metadata": "{}",
         "name": "response/llm_judged/relevance_to_query/rating",
         "type": "\"string\""
        },
        {
         "metadata": "{}",
         "name": "response/llm_judged/relevance_to_query/rationale",
         "type": "\"string\""
        },
        {
         "metadata": "{}",
         "name": "response/llm_judged/groundedness/rating",
         "type": "\"string\""
        },
        {
         "metadata": "{}",
         "name": "response/llm_judged/groundedness/rationale",
         "type": "\"string\""
        },
        {
         "metadata": "{}",
         "name": "agent/latency_seconds",
         "type": "\"double\""
        },
        {
         "metadata": "{}",
         "name": "retrieval/llm_judged/chunk_relevance/precision",
         "type": "\"double\""
        }
       ],
       "type": "table"
      }
     },
     "output_type": "display_data"
    }
   ],
   "source": [
    "## llm: claude\n",
    "\n",
    "with mlflow.start_run(run_name=\"agent-documentacio-claude-preguntes-personalitzades-3\"):\n",
    "    eval_results = mlflow.evaluate(\n",
    "        \"endpoints:/agents_dts_proves_pre-startups_list-multi-agent-chatbot-claude\",  # Aquí pones tu endpoint\n",
    "        data=eval_set_documnetation[10:],  # Tu dataset de evaluación\n",
    "        model_type=\"databricks-agent\",  # Para evaluación de Mosaic AI Agents\n",
    "    )\n",
    "\n",
    "display(eval_results.tables['eval_results'])"
   ]
  }
 ],
 "metadata": {
  "application/vnd.databricks.v1+notebook": {
   "computePreferences": null,
   "dashboards": [],
   "environmentMetadata": {
    "base_environment": "",
    "environment_version": "2"
   },
   "inputWidgetPreferences": null,
   "language": "python",
   "notebookMetadata": {
    "pythonIndentUnit": 4
   },
   "notebookName": "Evaluation Multi-Agent",
   "widgets": {}
  },
  "language_info": {
   "name": "python"
  }
 },
 "nbformat": 4,
 "nbformat_minor": 0
}